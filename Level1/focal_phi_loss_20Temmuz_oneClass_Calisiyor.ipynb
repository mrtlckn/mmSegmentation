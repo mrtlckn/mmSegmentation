{
  "nbformat": 4,
  "nbformat_minor": 0,
  "metadata": {
    "colab": {
      "name": "focal_phi_loss_20Temmuz_oneClass_Calisiyor.ipynb",
      "provenance": []
    },
    "kernelspec": {
      "name": "python3",
      "display_name": "Python 3"
    },
    "language_info": {
      "name": "python"
    },
    "accelerator": "GPU",
    "gpuClass": "standard"
  },
  "cells": [
    {
      "cell_type": "code",
      "execution_count": 11,
      "metadata": {
        "colab": {
          "base_uri": "https://localhost:8080/"
        },
        "id": "-58iePtmZUIg",
        "outputId": "c1db8c09-7356-4b70-c528-75c39f2fbe14"
      },
      "outputs": [
        {
          "output_type": "stream",
          "name": "stdout",
          "text": [
            "nvcc: NVIDIA (R) Cuda compiler driver\n",
            "Copyright (c) 2005-2020 NVIDIA Corporation\n",
            "Built on Mon_Oct_12_20:09:46_PDT_2020\n",
            "Cuda compilation tools, release 11.1, V11.1.105\n",
            "Build cuda_11.1.TC455_06.29190527_0\n",
            "Looking in indexes: https://pypi.org/simple, https://us-python.pkg.dev/colab-wheels/public/simple/\n",
            "Looking in links: https://download.pytorch.org/whl/torch_stable.html\n",
            "Requirement already satisfied: torch==1.7.0+cu101 in /usr/local/lib/python3.7/dist-packages (1.7.0+cu101)\n",
            "Requirement already satisfied: torchvision==0.8.1+cu101 in /usr/local/lib/python3.7/dist-packages (0.8.1+cu101)\n",
            "Requirement already satisfied: torchaudio==0.7.0 in /usr/local/lib/python3.7/dist-packages (0.7.0)\n",
            "Requirement already satisfied: future in /usr/local/lib/python3.7/dist-packages (from torch==1.7.0+cu101) (0.16.0)\n",
            "Requirement already satisfied: dataclasses in /usr/local/lib/python3.7/dist-packages (from torch==1.7.0+cu101) (0.6)\n",
            "Requirement already satisfied: typing-extensions in /usr/local/lib/python3.7/dist-packages (from torch==1.7.0+cu101) (4.1.1)\n",
            "Requirement already satisfied: numpy in /usr/local/lib/python3.7/dist-packages (from torch==1.7.0+cu101) (1.21.6)\n",
            "Requirement already satisfied: pillow>=4.1.1 in /usr/local/lib/python3.7/dist-packages (from torchvision==0.8.1+cu101) (7.1.2)\n",
            "Looking in indexes: https://pypi.org/simple, https://us-python.pkg.dev/colab-wheels/public/simple/\n",
            "Collecting mmcv-full==1.1.4\n",
            "  Using cached mmcv-full-1.1.4.tar.gz (239 kB)\n",
            "Collecting addict\n",
            "  Using cached addict-2.4.0-py3-none-any.whl (3.8 kB)\n",
            "Requirement already satisfied: numpy in /usr/local/lib/python3.7/dist-packages (from mmcv-full==1.1.4) (1.21.6)\n",
            "Requirement already satisfied: pyyaml in /usr/local/lib/python3.7/dist-packages (from mmcv-full==1.1.4) (3.13)\n",
            "Requirement already satisfied: yapf in /usr/local/lib/python3.7/dist-packages (from mmcv-full==1.1.4) (0.32.0)\n",
            "Requirement already satisfied: opencv-python>=3 in /usr/local/lib/python3.7/dist-packages (from mmcv-full==1.1.4) (4.1.2.30)\n",
            "Building wheels for collected packages: mmcv-full\n",
            "  Building wheel for mmcv-full (setup.py) ... \u001b[?25l\u001b[?25hdone\n",
            "  Created wheel for mmcv-full: filename=mmcv_full-1.1.4-cp37-cp37m-linux_x86_64.whl size=17265597 sha256=2650376d3d1897fcade5b100a782e458b170005b305918d88d54dcbebd826e71\n",
            "  Stored in directory: /root/.cache/pip/wheels/03/ee/14/19a07c6fea423e998f2159c4deac1b7a440c7d7f00bdcc48d4\n",
            "Successfully built mmcv-full\n",
            "Installing collected packages: addict, mmcv-full\n",
            "Successfully installed addict-2.4.0 mmcv-full-1.1.4\n",
            "Cloning into 'focal_phi_loss_mmsegmentation'...\n",
            "remote: Enumerating objects: 2112, done.\u001b[K\n",
            "remote: Counting objects: 100% (37/37), done.\u001b[K\n",
            "remote: Compressing objects: 100% (37/37), done.\u001b[K\n",
            "remote: Total 2112 (delta 19), reused 0 (delta 0), pack-reused 2075\u001b[K\n",
            "Receiving objects: 100% (2112/2112), 37.44 MiB | 17.52 MiB/s, done.\n",
            "Resolving deltas: 100% (1489/1489), done.\n",
            "/content/focal_phi_loss_mmsegmentation\n",
            "running develop\n",
            "running egg_info\n",
            "writing mmsegmentation.egg-info/PKG-INFO\n",
            "writing dependency_links to mmsegmentation.egg-info/dependency_links.txt\n",
            "writing requirements to mmsegmentation.egg-info/requires.txt\n",
            "writing top-level names to mmsegmentation.egg-info/top_level.txt\n",
            "adding license file 'LICENSE'\n",
            "writing manifest file 'mmsegmentation.egg-info/SOURCES.txt'\n",
            "running build_ext\n",
            "Creating /usr/local/lib/python3.7/dist-packages/mmsegmentation.egg-link (link to .)\n",
            "mmsegmentation 0.8.0 is already the active version in easy-install.pth\n",
            "\n",
            "Installed /content/focal_phi_loss_mmsegmentation\n",
            "Processing dependencies for mmsegmentation==0.8.0\n",
            "Searching for numpy==1.21.6\n",
            "Best match: numpy 1.21.6\n",
            "Adding numpy 1.21.6 to easy-install.pth file\n",
            "Installing f2py script to /usr/local/bin\n",
            "Installing f2py3 script to /usr/local/bin\n",
            "Installing f2py3.7 script to /usr/local/bin\n",
            "\n",
            "Using /usr/local/lib/python3.7/dist-packages\n",
            "Searching for matplotlib==3.2.2\n",
            "Best match: matplotlib 3.2.2\n",
            "Adding matplotlib 3.2.2 to easy-install.pth file\n",
            "\n",
            "Using /usr/local/lib/python3.7/dist-packages\n",
            "Searching for python-dateutil==2.8.2\n",
            "Best match: python-dateutil 2.8.2\n",
            "Adding python-dateutil 2.8.2 to easy-install.pth file\n",
            "\n",
            "Using /usr/local/lib/python3.7/dist-packages\n",
            "Searching for pyparsing==3.0.9\n",
            "Best match: pyparsing 3.0.9\n",
            "Adding pyparsing 3.0.9 to easy-install.pth file\n",
            "\n",
            "Using /usr/local/lib/python3.7/dist-packages\n",
            "Searching for cycler==0.11.0\n",
            "Best match: cycler 0.11.0\n",
            "Adding cycler 0.11.0 to easy-install.pth file\n",
            "\n",
            "Using /usr/local/lib/python3.7/dist-packages\n",
            "Searching for kiwisolver==1.4.3\n",
            "Best match: kiwisolver 1.4.3\n",
            "Adding kiwisolver 1.4.3 to easy-install.pth file\n",
            "\n",
            "Using /usr/local/lib/python3.7/dist-packages\n",
            "Searching for six==1.15.0\n",
            "Best match: six 1.15.0\n",
            "Adding six 1.15.0 to easy-install.pth file\n",
            "\n",
            "Using /usr/local/lib/python3.7/dist-packages\n",
            "Searching for typing-extensions==4.1.1\n",
            "Best match: typing-extensions 4.1.1\n",
            "Adding typing-extensions 4.1.1 to easy-install.pth file\n",
            "\n",
            "Using /usr/local/lib/python3.7/dist-packages\n",
            "Finished processing dependencies for mmsegmentation==0.8.0\n"
          ]
        }
      ],
      "source": [
        "#check cuda version \n",
        "!nvcc --version \n",
        "# install pytorch according to the cuda version from the pytorch website\n",
        "!pip install torch==1.7.0+cu101 torchvision==0.8.1+cu101 torchaudio==0.7.0 -f https://download.pytorch.org/whl/torch_stable.html\n",
        "# install mmcv\n",
        "!pip install mmcv-full==1.1.4\n",
        "#clone github repository\n",
        "!git clone https://github.com/rubeea/focal_phi_loss_mmsegmentation.git \n",
        "#install all requirements\n",
        "!pip install -qr focal_phi_loss_mmsegmentation/requirements.txt \n",
        "%cd /content/focal_phi_loss_mmsegmentation\n",
        "#install mmsegmentation in develop mode\n",
        "!python setup.py develop "
      ]
    },
    {
      "cell_type": "markdown",
      "source": [
        "# Make data directories and upload the data in them"
      ],
      "metadata": {
        "id": "ewZ8O9WTbWVq"
      }
    },
    {
      "cell_type": "code",
      "source": [
        "#declare global variables\n",
        "root_dir= '/content/focal_phi_loss_mmsegmentation/data/'\n",
        "data_root= \"/content/drive/MyDrive/Colab_Dataset/\"\n",
        "dataset= \"ground_truth4_renkli_oneClass\"\n",
        "#dataset= \"mendeley\""
      ],
      "metadata": {
        "id": "5KUZvormbW7i"
      },
      "execution_count": 12,
      "outputs": []
    },
    {
      "cell_type": "code",
      "source": [
        "import os\n",
        "\n",
        "#script to extract data from zip files and create the directory structure for mendeley\n",
        "#!python /content/focal_phi_loss_mmsegmentation/tools/convert_datasets/mendeley.py /content/focal_phi_loss_mmsegmentation/dataset_files/mendeley/train_imgs.zip /content/focal_phi_loss_mmsegmentation/dataset_files/mendeley/train_gt.zip /content/focal_phi_loss_mmsegmentation/dataset_files/mendeley/val_imgs.zip /content/focal_phi_loss_mmsegmentation/dataset_files/mendeley/val_gt.zip \n",
        "\n",
        "#check file counts\n",
        "train_imgs= data_root + dataset+'/img_dir/train'\n",
        "val_imgs= data_root + dataset +'/img_dir/val'\n",
        "train_gt= data_root + dataset+'/ann_dir/train'\n",
        "val_gt= data_root + dataset+'/ann_dir/val'\n",
        "\n",
        "#print the file count\n",
        "print(len(os.listdir(train_imgs)))\n",
        "print(len(os.listdir(val_imgs)))\n",
        "print(len(os.listdir(train_gt)))\n",
        "print(len(os.listdir(val_gt)))"
      ],
      "metadata": {
        "colab": {
          "base_uri": "https://localhost:8080/"
        },
        "id": "viS6CnVSbZdC",
        "outputId": "14ded12c-d726-47d7-f321-4f594c489bcb"
      },
      "execution_count": 13,
      "outputs": [
        {
          "output_type": "stream",
          "name": "stdout",
          "text": [
            "7\n",
            "3\n",
            "7\n",
            "3\n"
          ]
        }
      ]
    },
    {
      "cell_type": "markdown",
      "source": [
        "#Visualize training and mask images\n"
      ],
      "metadata": {
        "id": "HHoqNiiZbij5"
      }
    },
    {
      "cell_type": "code",
      "source": [
        "import mmcv\n",
        "import matplotlib.pyplot as plt\n",
        "from google.colab.patches import cv2_imshow\n",
        "import numpy as np\n",
        "import os\n",
        "import glob\n",
        "\n",
        "\n",
        "PATH_TO_TRAIN_IMAGES_DIR= data_root+dataset+\"/img_dir/train\"\n",
        "PATH_TO_LABEL_IMAGES_DIR= data_root+dataset+\"/ann_dir/train\"\n",
        "TRAIN_IMAGE_PATHS = glob.glob(os.path.join(PATH_TO_TRAIN_IMAGES_DIR, \"*.jpg\"))\n",
        "LABEL_PATHS= glob.glob(os.path.join(PATH_TO_LABEL_IMAGES_DIR, \"*.png\"))\n",
        "\n",
        "TRAIN_IMAGE_PATHS.sort()\n",
        "LABEL_PATHS.sort()\n",
        "\n",
        "palette = [[120, 120, 120], [6, 230, 230]] #dataset palette\n",
        "\n",
        "display_num = 5\n",
        "r_choices = np.random.choice(len(TRAIN_IMAGE_PATHS), display_num)\n",
        "\n",
        "#visualize any 5 random images and their mask images\n",
        "plt.figure(figsize=(10, 15))\n",
        "for i in range(0, display_num, 2):\n",
        "  img_num = r_choices[i // 2]\n",
        "  img = mmcv.imread(TRAIN_IMAGE_PATHS[img_num])\n",
        "  label = mmcv.imread(LABEL_PATHS[img_num])\n",
        "\n",
        "  plt.subplot(display_num, 2, i + 1)\n",
        "  plt.imshow(img)\n",
        "  plt.title(\"Input image\")\n",
        "\n",
        "  plt.subplot(display_num, 2, i + 2)\n",
        "  plt.imshow(label)\n",
        "  plt.title(\"Ground Truth\")\n",
        "\n",
        "\n",
        "plt.suptitle(\"Examples of Images and their Masks\")\n",
        "plt.show()"
      ],
      "metadata": {
        "colab": {
          "base_uri": "https://localhost:8080/",
          "height": 634
        },
        "id": "RI4d7-EibjM1",
        "outputId": "19dfd727-a914-4971-dd0a-4c3e6df7171b"
      },
      "execution_count": 15,
      "outputs": [
        {
          "output_type": "display_data",
          "data": {
            "text/plain": [
              "<Figure size 720x1080 with 6 Axes>"
            ],
            "image/png": "[encoded data removed]"
          },
          "metadata": {
            "needs_background": "light"
          }
        }
      ]
    },
    {
      "cell_type": "markdown",
      "source": [
        "#Create a config file\n"
      ],
      "metadata": {
        "id": "NOdhNFgRcQlC"
      }
    },
    {
      "cell_type": "code",
      "source": [
        "#config for ACU-Net\n",
        "from mmcv import Config\n",
        "cfg = Config.fromfile('/content/focal_phi_loss_mmsegmentation/configs/unet/fcn_vanilla_unet_s5-d16_256x256_40k_hrf.py')"
      ],
      "metadata": {
        "id": "QyrFD_a0blrK"
      },
      "execution_count": 16,
      "outputs": []
    },
    {
      "cell_type": "code",
      "source": [
        "from mmseg.apis import set_random_seed\n",
        "import torch\n",
        "\n",
        "cfg_data_root = data_root+dataset\n",
        "train_img_dir = 'img_dir/train'\n",
        "train_ann_dir = 'ann_dir/train'\n",
        "val_img_dir = 'img_dir/val'\n",
        "val_ann_dir = 'ann_dir/val'\n",
        "\n",
        "# Since we use ony one GPU, BN is used instead of SyncBN\n",
        "cfg.norm_cfg = dict(type='BN', requires_grad=True)\n",
        "cfg.model.backbone.norm_cfg = cfg.norm_cfg\n",
        "\n",
        "cfg.model.decode_head.norm_cfg = cfg.norm_cfg\n",
        "\n",
        "# modify num classes of the model in decode head\n",
        "cfg.model.decode_head.num_classes = 2\n",
        "\n",
        "# Modify dataset type and path\n",
        "cfg.dataset_type = 'MendeleyDataset'\n",
        "cfg.data_root = cfg_data_root\n",
        "\n",
        "#batch size\n",
        "cfg.data.samples_per_gpu = 2\n",
        "cfg.data.workers_per_gpu=2\n",
        "\n",
        "\n",
        "#Balanced CE loss\n",
        "#assign class weights to tackle the imbalanced nature of the dataset in balanced CE loss\n",
        "# weights = [0.02, 0.98]\n",
        "# cfg.model.decode_head.loss_decode=dict(type='CrossEntropyLoss', use_sigmoid=False, \n",
        "#                                             loss_weight=1.0, class_weight= weights)\n",
        "\n",
        "#Dice Loss\n",
        "# cfg.model.decode_head.loss_decode=dict(type='TverskyLoss',  alpha=0.5, beta=0.5, gamma=1.0, use_focal=False, loss_weight=1.0)\n",
        "\n",
        "#Tversky Loss\n",
        "# cfg.model.decode_head.loss_decode=dict(type='TverskyLoss',  alpha=0.3, beta=0.7, gamma=1.0, use_focal=False, loss_weight=1.0)\n",
        "\n",
        "#Focal Tversky Loss\n",
        "# cfg.model.decode_head.loss_decode=dict(type='TverskyLoss',  alpha=0.3, beta=0.7, gamma=0.75, use_focal=True, loss_weight=1.0)\n",
        "\n",
        "#MCC loss\n",
        "# cfg.model.decode_head.loss_decode=dict(type='PhiLoss', loss_weight=1.0, gamma=1.0)\n",
        "\n",
        "#Focal Phi Loss\n",
        "cfg.model.decode_head.loss_decode=dict(type='PhiLoss', loss_weight=1.0, gamma=0.5)\n",
        "\n",
        "#normalizing the dataset\n",
        "cfg.img_norm_cfg = dict(\n",
        "    mean= [142.393, 137.978, 83.073], std= [23.228, 20.046, 21.623], to_rgb=True) #for mendeley dataset\n",
        "\n",
        "cfg.crop_size = (256, 256)\n",
        "\n",
        "#dataset config\n",
        "cfg.train_pipeline = [\n",
        "    dict(type='LoadImageFromFile'),\n",
        "    dict(type='LoadAnnotations'),\n",
        "    dict(type='Resize', img_scale=(512, 512), ratio_range=(0.5, 1.5)), #for mendeley dataset\n",
        "    dict(type='RandomRotate', prob=0.5, degree=(45.0,315.0),pad_val=0,seg_pad_val=255), #for pldu and mendeley dataset\n",
        "    dict(type='RandomCrop', crop_size=cfg.crop_size, cat_max_ratio=0.75),\n",
        "    dict(type='RandomFlip', flip_ratio=0.5),\n",
        "    dict(type='PhotoMetricDistortion'),\n",
        "    dict(type='Normalize', **cfg.img_norm_cfg),\n",
        "    dict(type='Pad', size=cfg.crop_size, pad_val=0, seg_pad_val=255),\n",
        "    dict(type='DefaultFormatBundle'),\n",
        "    dict(type='Collect', keys=['img', 'gt_semantic_seg']),\n",
        "]\n",
        "\n",
        "cfg.test_pipeline = [\n",
        "    dict(type='LoadImageFromFile'),\n",
        "    dict(\n",
        "        type='MultiScaleFlipAug',\n",
        "        img_scale= (512, 512), #for mendeley dataset\n",
        "        flip=False,\n",
        "        transforms=[\n",
        "            dict(type='Resize', keep_ratio=True),\n",
        "            dict(type='RandomFlip'),\n",
        "            dict(type='Normalize', **cfg.img_norm_cfg),\n",
        "            dict(type='ImageToTensor', keys=['img']),\n",
        "            dict(type='Collect', keys=['img']),\n",
        "        ])\n",
        "]\n",
        "\n",
        "\n",
        "cfg.data.train.type = cfg.dataset_type\n",
        "cfg.data.train.data_root = cfg.data_root\n",
        "cfg.data.train.img_dir = train_img_dir\n",
        "cfg.data.train.ann_dir = train_ann_dir\n",
        "cfg.data.train.pipeline = cfg.train_pipeline\n",
        "cfg.data.train.split = None\n",
        "\n",
        "cfg.data.val.type = cfg.dataset_type\n",
        "cfg.data.val.data_root = cfg.data_root\n",
        "cfg.data.val.img_dir = val_img_dir\n",
        "cfg.data.val.ann_dir = val_ann_dir\n",
        "cfg.data.val.pipeline = cfg.test_pipeline\n",
        "cfg.data.val.split = None\n",
        "\n",
        "cfg.data.test.type = cfg.dataset_type\n",
        "cfg.data.test.data_root = cfg.data_root\n",
        "cfg.data.test.img_dir = val_img_dir\n",
        "cfg.data.test.ann_dir = val_ann_dir\n",
        "cfg.data.test.pipeline = cfg.test_pipeline\n",
        "cfg.data.test.split = None\n",
        "\n",
        "\n",
        "# Set up working dir to save files and logs.\n",
        "cfg.work_dir = root_dir+'/work_dirs/tutorial'\n",
        "\n",
        "cfg.total_iters = 160\n",
        "cfg.log_config.interval = 50\n",
        "cfg.evaluation.interval = 200 #validation at every 200 iterations\n",
        "cfg.checkpoint_config.interval = 200\n",
        "\n",
        "# Set seed to facilitate reproducing the result\n",
        "cfg.seed = 0\n",
        "set_random_seed(0, deterministic=False)\n",
        "cfg.gpu_ids = range(1)\n",
        "\n",
        "#for Dice Loss, Tversky Loss and Focal Tversky Loss on Mendeley dataset use the following learning rates with Adam:\n",
        "# lr = 5e-5\n",
        "\n",
        "cfg.optimizer = dict(type='Adam', lr=1e-3, weight_decay=0.0001,\n",
        "                     paramwise_cfg = dict(\n",
        "                        custom_keys={\n",
        "                            'head': dict(lr_mult=10.)\n",
        "                        }\n",
        "                        ))\n",
        "\n",
        "\n",
        "# Let's have a look at the final config used for training\n",
        "print(f'Config:\\n{cfg.pretty_text}')"
      ],
      "metadata": {
        "colab": {
          "base_uri": "https://localhost:8080/"
        },
        "id": "MUcNyzIicWQj",
        "outputId": "0fcb54da-f237-4610-a77d-1245139690b1"
      },
      "execution_count": 17,
      "outputs": [
        {
          "output_type": "stream",
          "name": "stderr",
          "text": [
            "/usr/local/lib/python3.7/dist-packages/mmcv/utils/registry.py:64: UserWarning: The old API of register_module(module, force=False) is deprecated and will be removed, please use the new API register_module(name=None, force=False, module=None) instead.\n",
            "  'The old API of register_module(module, force=False) '\n"
          ]
        },
        {
          "output_type": "stream",
          "name": "stdout",
          "text": [
            "Config:\n",
            "norm_cfg = dict(type='BN', requires_grad=True)\n",
            "model = dict(\n",
            "    type='EncoderDecoder',\n",
            "    pretrained=None,\n",
            "    backbone=dict(\n",
            "        type='UNet',\n",
            "        in_channels=3,\n",
            "        base_channels=64,\n",
            "        num_stages=5,\n",
            "        strides=(1, 1, 1, 1, 1),\n",
            "        enc_num_convs=(2, 2, 2, 2, 2),\n",
            "        dec_num_convs=(2, 2, 2, 2),\n",
            "        downsamples=(True, True, True, True),\n",
            "        enc_dilations=(1, 1, 1, 1, 1),\n",
            "        dec_dilations=(1, 1, 1, 1),\n",
            "        with_cp=False,\n",
            "        conv_cfg=None,\n",
            "        norm_cfg=dict(type='BN', requires_grad=True),\n",
            "        act_cfg=dict(type='ReLU'),\n",
            "        upsample_cfg=dict(type='InterpConv'),\n",
            "        norm_eval=False),\n",
            "    decode_head=dict(\n",
            "        type='FCNHead',\n",
            "        in_channels=64,\n",
            "        in_index=4,\n",
            "        channels=64,\n",
            "        num_convs=1,\n",
            "        concat_input=False,\n",
            "        dropout_ratio=0.1,\n",
            "        num_classes=2,\n",
            "        norm_cfg=dict(type='BN', requires_grad=True),\n",
            "        align_corners=False,\n",
            "        loss_decode=dict(type='PhiLoss', loss_weight=1.0, gamma=0.5)))\n",
            "train_cfg = dict()\n",
            "test_cfg = dict(mode='slide', crop_size=(256, 256), stride=(170, 170))\n",
            "dataset_type = 'MendeleyDataset'\n",
            "data_root = '/content/drive/MyDrive/Colab_Dataset/ground_truth4_renkli_oneClass'\n",
            "img_norm_cfg = dict(\n",
            "    mean=[142.393, 137.978, 83.073], std=[23.228, 20.046, 21.623], to_rgb=True)\n",
            "crop_size = (256, 256)\n",
            "train_pipeline = [\n",
            "    dict(type='LoadImageFromFile'),\n",
            "    dict(type='LoadAnnotations'),\n",
            "    dict(type='Resize', img_scale=(512, 512), ratio_range=(0.5, 1.5)),\n",
            "    dict(\n",
            "        type='RandomRotate',\n",
            "        prob=0.5,\n",
            "        degree=(45.0, 315.0),\n",
            "        pad_val=0,\n",
            "        seg_pad_val=255),\n",
            "    dict(type='RandomCrop', crop_size=(256, 256), cat_max_ratio=0.75),\n",
            "    dict(type='RandomFlip', flip_ratio=0.5),\n",
            "    dict(type='PhotoMetricDistortion'),\n",
            "    dict(\n",
            "        type='Normalize',\n",
            "        mean=[142.393, 137.978, 83.073],\n",
            "        std=[23.228, 20.046, 21.623],\n",
            "        to_rgb=True),\n",
            "    dict(type='Pad', size=(256, 256), pad_val=0, seg_pad_val=255),\n",
            "    dict(type='DefaultFormatBundle'),\n",
            "    dict(type='Collect', keys=['img', 'gt_semantic_seg'])\n",
            "]\n",
            "test_pipeline = [\n",
            "    dict(type='LoadImageFromFile'),\n",
            "    dict(\n",
            "        type='MultiScaleFlipAug',\n",
            "        img_scale=(512, 512),\n",
            "        flip=False,\n",
            "        transforms=[\n",
            "            dict(type='Resize', keep_ratio=True),\n",
            "            dict(type='RandomFlip'),\n",
            "            dict(\n",
            "                type='Normalize',\n",
            "                mean=[142.393, 137.978, 83.073],\n",
            "                std=[23.228, 20.046, 21.623],\n",
            "                to_rgb=True),\n",
            "            dict(type='ImageToTensor', keys=['img']),\n",
            "            dict(type='Collect', keys=['img'])\n",
            "        ])\n",
            "]\n",
            "data = dict(\n",
            "    samples_per_gpu=2,\n",
            "    workers_per_gpu=2,\n",
            "    train=dict(\n",
            "        type='MendeleyDataset',\n",
            "        data_root=\n",
            "        '/content/drive/MyDrive/Colab_Dataset/ground_truth4_renkli_oneClass',\n",
            "        img_dir='img_dir/train',\n",
            "        ann_dir='ann_dir/train',\n",
            "        split=None,\n",
            "        pipeline=[\n",
            "            dict(type='LoadImageFromFile'),\n",
            "            dict(type='LoadAnnotations'),\n",
            "            dict(type='Resize', img_scale=(512, 512), ratio_range=(0.5, 1.5)),\n",
            "            dict(\n",
            "                type='RandomRotate',\n",
            "                prob=0.5,\n",
            "                degree=(45.0, 315.0),\n",
            "                pad_val=0,\n",
            "                seg_pad_val=255),\n",
            "            dict(type='RandomCrop', crop_size=(256, 256), cat_max_ratio=0.75),\n",
            "            dict(type='RandomFlip', flip_ratio=0.5),\n",
            "            dict(type='PhotoMetricDistortion'),\n",
            "            dict(\n",
            "                type='Normalize',\n",
            "                mean=[142.393, 137.978, 83.073],\n",
            "                std=[23.228, 20.046, 21.623],\n",
            "                to_rgb=True),\n",
            "            dict(type='Pad', size=(256, 256), pad_val=0, seg_pad_val=255),\n",
            "            dict(type='DefaultFormatBundle'),\n",
            "            dict(type='Collect', keys=['img', 'gt_semantic_seg'])\n",
            "        ]),\n",
            "    val=dict(\n",
            "        type='MendeleyDataset',\n",
            "        data_root=\n",
            "        '/content/drive/MyDrive/Colab_Dataset/ground_truth4_renkli_oneClass',\n",
            "        img_dir='img_dir/val',\n",
            "        ann_dir='ann_dir/val',\n",
            "        split=None,\n",
            "        pipeline=[\n",
            "            dict(type='LoadImageFromFile'),\n",
            "            dict(\n",
            "                type='MultiScaleFlipAug',\n",
            "                img_scale=(512, 512),\n",
            "                flip=False,\n",
            "                transforms=[\n",
            "                    dict(type='Resize', keep_ratio=True),\n",
            "                    dict(type='RandomFlip'),\n",
            "                    dict(\n",
            "                        type='Normalize',\n",
            "                        mean=[142.393, 137.978, 83.073],\n",
            "                        std=[23.228, 20.046, 21.623],\n",
            "                        to_rgb=True),\n",
            "                    dict(type='ImageToTensor', keys=['img']),\n",
            "                    dict(type='Collect', keys=['img'])\n",
            "                ])\n",
            "        ]),\n",
            "    test=dict(\n",
            "        type='MendeleyDataset',\n",
            "        data_root=\n",
            "        '/content/drive/MyDrive/Colab_Dataset/ground_truth4_renkli_oneClass',\n",
            "        img_dir='img_dir/val',\n",
            "        ann_dir='ann_dir/val',\n",
            "        split=None,\n",
            "        pipeline=[\n",
            "            dict(type='LoadImageFromFile'),\n",
            "            dict(\n",
            "                type='MultiScaleFlipAug',\n",
            "                img_scale=(512, 512),\n",
            "                flip=False,\n",
            "                transforms=[\n",
            "                    dict(type='Resize', keep_ratio=True),\n",
            "                    dict(type='RandomFlip'),\n",
            "                    dict(\n",
            "                        type='Normalize',\n",
            "                        mean=[142.393, 137.978, 83.073],\n",
            "                        std=[23.228, 20.046, 21.623],\n",
            "                        to_rgb=True),\n",
            "                    dict(type='ImageToTensor', keys=['img']),\n",
            "                    dict(type='Collect', keys=['img'])\n",
            "                ])\n",
            "        ]))\n",
            "log_config = dict(\n",
            "    interval=50,\n",
            "    hooks=[\n",
            "        dict(type='TextLoggerHook', by_epoch=False),\n",
            "        dict(type='TensorboardLoggerHook')\n",
            "    ])\n",
            "dist_params = dict(backend='nccl')\n",
            "log_level = 'INFO'\n",
            "load_from = None\n",
            "resume_from = None\n",
            "workflow = [('train', 1)]\n",
            "cudnn_benchmark = True\n",
            "optimizer = dict(\n",
            "    type='Adam',\n",
            "    lr=0.001,\n",
            "    weight_decay=0.0001,\n",
            "    paramwise_cfg=dict(custom_keys=dict(head=dict(lr_mult=10.0))))\n",
            "optimizer_config = dict()\n",
            "lr_config = dict(policy='poly', power=0.9, min_lr=0.0001, by_epoch=False)\n",
            "runner = dict(type='IterBasedRunner', max_iters=20000)\n",
            "checkpoint_config = dict(by_epoch=False, interval=200)\n",
            "evaluation = dict(interval=200, metric='mIoU')\n",
            "work_dir = '/content/focal_phi_loss_mmsegmentation/data//work_dirs/tutorial'\n",
            "total_iters = 160\n",
            "seed = 0\n",
            "gpu_ids = range(0, 1)\n",
            "\n"
          ]
        }
      ]
    },
    {
      "cell_type": "markdown",
      "source": [
        "#Train the model according to the config\n"
      ],
      "metadata": {
        "id": "DTZ0XdLWcZXV"
      }
    },
    {
      "cell_type": "code",
      "source": [
        "from mmseg.datasets import build_dataset\n",
        "from mmseg.models import build_segmentor\n",
        "from mmseg.apis import train_segmentor\n",
        "from mmseg.utils import collect_env, get_root_logger\n",
        "import mmcv\n",
        "import os.path as osp\n",
        "\n",
        "# Build the dataset\n",
        "datasets = [build_dataset(cfg.data.train)]\n",
        "\n",
        "\n",
        "meta = dict()\n",
        "    # log env info\n",
        "env_info_dict = collect_env()\n",
        "env_info = '\\n'.join([f'{k}: {v}' for k, v in env_info_dict.items()])\n",
        "meta['env_info'] = env_info\n",
        "\n",
        "meta['seed'] = cfg.seed\n",
        "meta['exp_name'] = osp.basename(cfg.filename)\n",
        "cfg.checkpoint_config.meta = dict(\n",
        "            CLASSES=datasets[0].CLASSES,\n",
        "            PALETTE=datasets[0].PALETTE)\n",
        "\n",
        "# Build the detector\n",
        "model = build_segmentor(\n",
        "    cfg.model, train_cfg=cfg.train_cfg, test_cfg=cfg.test_cfg)\n",
        "# Add an attribute for visualization convenience\n",
        "model.CLASSES = datasets[0].CLASSES\n",
        "\n",
        "# Create work_dir\n",
        "mmcv.mkdir_or_exist(osp.abspath(cfg.work_dir))\n",
        "train_segmentor(model, datasets, cfg, distributed=False, validate=True, \n",
        "                meta=meta)"
      ],
      "metadata": {
        "colab": {
          "base_uri": "https://localhost:8080/"
        },
        "id": "dHUkPs21cZ2K",
        "outputId": "aaa73cb9-3dd4-4793-b511-2d3e059a5284"
      },
      "execution_count": 18,
      "outputs": [
        {
          "output_type": "stream",
          "name": "stderr",
          "text": [
            "/usr/local/lib/python3.7/dist-packages/mmcv/utils/misc.py:304: UserWarning: \"flip_ratio\" is deprecated in `RandomFlip.__init__`, please use \"prob\" instead\n",
            "  f'\"{src_arg_name}\" is deprecated in '\n",
            "2022-07-20 11:17:25,370 - mmseg - INFO - Loaded 7 images\n",
            "2022-07-20 11:17:29,198 - mmseg - INFO - Loaded 3 images\n",
            "2022-07-20 11:17:29,206 - mmseg - INFO - Start running, host: root@39f63f7943b4, work_dir: /content/focal_phi_loss_mmsegmentation/data/work_dirs/tutorial\n",
            "2022-07-20 11:17:29,207 - mmseg - INFO - workflow: [('train', 1)], max: 20000 iters\n",
            "2022-07-20 11:17:48,318 - mmseg - INFO - Iter [50/20000]\tlr: 9.980e-04, eta: 1:31:51, time: 0.276, data_time: 0.001, memory: 1552, decode.loss_seg: 0.7421, decode.acc_seg: 49.0689, loss: 0.7421\n",
            "2022-07-20 11:17:58,032 - mmseg - INFO - Iter [100/20000]\tlr: 9.960e-04, eta: 1:18:01, time: 0.194, data_time: 0.003, memory: 1552, decode.loss_seg: 0.7082, decode.acc_seg: 49.8793, loss: 0.7082\n",
            "2022-07-20 11:18:07,678 - mmseg - INFO - Iter [150/20000]\tlr: 9.940e-04, eta: 1:13:09, time: 0.193, data_time: 0.003, memory: 1552, decode.loss_seg: 0.7084, decode.acc_seg: 49.0414, loss: 0.7084\n",
            "2022-07-20 11:18:17,520 - mmseg - INFO - Saving checkpoint at 200 iterations\n"
          ]
        },
        {
          "output_type": "stream",
          "name": "stdout",
          "text": [
            "[>>>>>>>>>>>>>>>>>>>>>>>>>>>>>>>>>>>] 3/3, 1.7 task/s, elapsed: 2s, ETA:     0s"
          ]
        },
        {
          "output_type": "stream",
          "name": "stderr",
          "text": [
            "2022-07-20 11:18:25,360 - mmseg - INFO - per class results:\n",
            "Class                  IoU       Dice        Acc\n",
            "background           38.82      55.93     100.00\n",
            "powerline             0.00       0.01       0.00\n",
            "Summary:\n",
            "Scope                 mIoU      mDice       mAcc       Powerline Dice      Background Dice       aAcc        TPR        TNR        FDR  Precision\n",
            "global               19.41      27.97      50.00                 0.01                55.93      38.82       0.00     100.00       6.67      93.33\n",
            "\n",
            "2022-07-20 11:18:25,364 - mmseg - INFO - Iter(val) [200]\tmIoU: 0.1941, mDice: 0.2797, mAcc: 0.5000, plDice: 0.0085, bgDice: 55.9297, aAcc: 0.3882, TPR: 0.0000, TNR: 1.0000, FDR: 0.0667, Precision: 0.9333\n",
            "2022-07-20 11:18:35,158 - mmseg - INFO - Iter [250/20000]\tlr: 9.899e-04, eta: 1:05:19, time: 0.329, data_time: 0.136, memory: 1552, decode.loss_seg: 0.7093, decode.acc_seg: 51.4745, loss: 0.7093\n",
            "2022-07-20 11:18:44,891 - mmseg - INFO - Iter [300/20000]\tlr: 9.879e-04, eta: 1:04:57, time: 0.195, data_time: 0.003, memory: 1552, decode.loss_seg: 0.7092, decode.acc_seg: 53.7680, loss: 0.7092\n",
            "2022-07-20 11:18:54,917 - mmseg - INFO - Iter [350/20000]\tlr: 9.859e-04, eta: 1:04:54, time: 0.200, data_time: 0.003, memory: 1552, decode.loss_seg: 0.7092, decode.acc_seg: 51.4608, loss: 0.7092\n",
            "2022-07-20 11:19:04,833 - mmseg - INFO - Saving checkpoint at 400 iterations\n"
          ]
        },
        {
          "output_type": "stream",
          "name": "stdout",
          "text": [
            "[>>>>>>>>>>>>>>>>>>>>>>>>>>>>>>>>>>>] 3/3, 4.9 task/s, elapsed: 1s, ETA:     0s"
          ]
        },
        {
          "output_type": "stream",
          "name": "stderr",
          "text": [
            "2022-07-20 11:19:08,774 - mmseg - INFO - per class results:\n",
            "Class                  IoU       Dice        Acc\n",
            "background           38.82      55.93     100.00\n",
            "powerline             0.00       0.00       0.00\n",
            "Summary:\n",
            "Scope                 mIoU      mDice       mAcc       Powerline Dice      Background Dice       aAcc        TPR        TNR        FDR  Precision\n",
            "global               19.41      27.96      50.00                 0.00                55.93      38.82       0.00     100.00       0.00       0.00\n",
            "\n",
            "2022-07-20 11:19:08,782 - mmseg - INFO - Iter(val) [400]\tmIoU: 0.1941, mDice: 0.2796, mAcc: 0.5000, plDice: 0.0000, bgDice: 55.9288, aAcc: 0.3882, TPR: 0.0000, TNR: 1.0000, FDR: 0, Precision: 0\n",
            "2022-07-20 11:19:18,872 - mmseg - INFO - Iter [450/20000]\tlr: 9.818e-04, eta: 0:59:26, time: 0.254, data_time: 0.056, memory: 1552, decode.loss_seg: 0.7085, decode.acc_seg: 53.6837, loss: 0.7085\n",
            "2022-07-20 11:19:29,068 - mmseg - INFO - Iter [500/20000]\tlr: 9.798e-04, eta: 0:59:59, time: 0.204, data_time: 0.003, memory: 1552, decode.loss_seg: 0.7092, decode.acc_seg: 53.6877, loss: 0.7092\n",
            "2022-07-20 11:19:39,318 - mmseg - INFO - Iter [550/20000]\tlr: 9.777e-04, eta: 1:00:25, time: 0.205, data_time: 0.003, memory: 1552, decode.loss_seg: 0.7085, decode.acc_seg: 52.3214, loss: 0.7085\n",
            "2022-07-20 11:19:49,430 - mmseg - INFO - Saving checkpoint at 600 iterations\n"
          ]
        },
        {
          "output_type": "stream",
          "name": "stdout",
          "text": [
            "[>>>>>>>>>>>>>>>>>>>>>>>>>>>>>>>>>>>] 3/3, 4.8 task/s, elapsed: 1s, ETA:     0s"
          ]
        },
        {
          "output_type": "stream",
          "name": "stderr",
          "text": [
            "2022-07-20 11:19:53,544 - mmseg - INFO - per class results:\n",
            "Class                  IoU       Dice        Acc\n",
            "background           38.82      55.93     100.00\n",
            "powerline             0.00       0.00       0.00\n",
            "Summary:\n",
            "Scope                 mIoU      mDice       mAcc       Powerline Dice      Background Dice       aAcc        TPR        TNR        FDR  Precision\n",
            "global               19.41      27.96      50.00                 0.00                55.93      38.82       0.00     100.00       0.00       0.00\n",
            "\n",
            "2022-07-20 11:19:53,552 - mmseg - INFO - Iter(val) [600]\tmIoU: 0.1941, mDice: 0.2796, mAcc: 0.5000, plDice: 0.0000, bgDice: 55.9288, aAcc: 0.3882, TPR: 0.0000, TNR: 1.0000, FDR: 0, Precision: 0\n",
            "2022-07-20 11:20:03,895 - mmseg - INFO - Iter [650/20000]\tlr: 9.737e-04, eta: 0:57:17, time: 0.259, data_time: 0.055, memory: 1552, decode.loss_seg: 0.7086, decode.acc_seg: 52.3990, loss: 0.7086\n",
            "2022-07-20 11:20:14,079 - mmseg - INFO - Iter [700/20000]\tlr: 9.716e-04, eta: 0:57:44, time: 0.204, data_time: 0.003, memory: 1552, decode.loss_seg: 0.7096, decode.acc_seg: 52.4767, loss: 0.7096\n",
            "2022-07-20 11:20:24,147 - mmseg - INFO - Iter [750/20000]\tlr: 9.696e-04, eta: 0:58:03, time: 0.201, data_time: 0.003, memory: 1552, decode.loss_seg: 0.7094, decode.acc_seg: 52.5334, loss: 0.7094\n",
            "2022-07-20 11:20:34,491 - mmseg - INFO - Saving checkpoint at 800 iterations\n"
          ]
        },
        {
          "output_type": "stream",
          "name": "stdout",
          "text": [
            "[>>>>>>>>>>>>>>>>>>>>>>>>>>>>>>>>>>>] 3/3, 4.7 task/s, elapsed: 1s, ETA:     0s"
          ]
        },
        {
          "output_type": "stream",
          "name": "stderr",
          "text": [
            "2022-07-20 11:20:38,415 - mmseg - INFO - per class results:\n",
            "Class                  IoU       Dice        Acc\n",
            "background           38.82      55.93     100.00\n",
            "powerline             0.00       0.00       0.00\n",
            "Summary:\n",
            "Scope                 mIoU      mDice       mAcc       Powerline Dice      Background Dice       aAcc        TPR        TNR        FDR  Precision\n",
            "global               19.41      27.96      50.00                 0.00                55.93      38.82       0.00     100.00       0.00       0.00\n",
            "\n",
            "2022-07-20 11:20:38,418 - mmseg - INFO - Iter(val) [800]\tmIoU: 0.1941, mDice: 0.2796, mAcc: 0.5000, plDice: 0.0000, bgDice: 55.9288, aAcc: 0.3882, TPR: 0.0000, TNR: 1.0000, FDR: 0, Precision: 0\n",
            "2022-07-20 11:20:48,804 - mmseg - INFO - Iter [850/20000]\tlr: 9.655e-04, eta: 0:55:50, time: 0.260, data_time: 0.055, memory: 1552, decode.loss_seg: 0.7084, decode.acc_seg: 54.7664, loss: 0.7084\n",
            "2022-07-20 11:20:59,123 - mmseg - INFO - Iter [900/20000]\tlr: 9.635e-04, eta: 0:56:14, time: 0.206, data_time: 0.003, memory: 1552, decode.loss_seg: 0.7084, decode.acc_seg: 52.0755, loss: 0.7084\n",
            "2022-07-20 11:21:09,576 - mmseg - INFO - Iter [950/20000]\tlr: 9.615e-04, eta: 0:56:38, time: 0.209, data_time: 0.003, memory: 1552, decode.loss_seg: 0.7090, decode.acc_seg: 52.9320, loss: 0.7090\n",
            "2022-07-20 11:21:19,747 - mmseg - INFO - Saving checkpoint at 1000 iterations\n"
          ]
        },
        {
          "output_type": "stream",
          "name": "stdout",
          "text": [
            "[>>>>>>>>>>>>>>>>>>>>>>>>>>>>>>>>>>>] 3/3, 4.8 task/s, elapsed: 1s, ETA:     0s"
          ]
        },
        {
          "output_type": "stream",
          "name": "stderr",
          "text": [
            "2022-07-20 11:21:23,654 - mmseg - INFO - per class results:\n",
            "Class                  IoU       Dice        Acc\n",
            "background           38.82      55.93     100.00\n",
            "powerline             0.00       0.00       0.00\n",
            "Summary:\n",
            "Scope                 mIoU      mDice       mAcc       Powerline Dice      Background Dice       aAcc        TPR        TNR        FDR  Precision\n",
            "global               19.41      27.96      50.00                 0.00                55.93      38.82       0.00     100.00       0.00       0.00\n",
            "\n",
            "2022-07-20 11:21:23,657 - mmseg - INFO - Exp name: fcn_vanilla_unet_s5-d16_256x256_40k_hrf.py\n",
            "2022-07-20 11:21:23,659 - mmseg - INFO - Iter(val) [1000]\tmIoU: 0.1941, mDice: 0.2796, mAcc: 0.5000, plDice: 0.0000, bgDice: 55.9288, aAcc: 0.3882, TPR: 0.0000, TNR: 1.0000, FDR: 0, Precision: 0\n",
            "2022-07-20 11:21:33,902 - mmseg - INFO - Iter [1050/20000]\tlr: 9.574e-04, eta: 0:54:49, time: 0.256, data_time: 0.055, memory: 1552, decode.loss_seg: 0.7082, decode.acc_seg: 50.8202, loss: 0.7082\n",
            "2022-07-20 11:21:44,230 - mmseg - INFO - Iter [1100/20000]\tlr: 9.554e-04, eta: 0:55:09, time: 0.207, data_time: 0.003, memory: 1552, decode.loss_seg: 0.7085, decode.acc_seg: 52.7054, loss: 0.7085\n",
            "2022-07-20 11:21:54,486 - mmseg - INFO - Iter [1150/20000]\tlr: 9.533e-04, eta: 0:55:25, time: 0.205, data_time: 0.003, memory: 1552, decode.loss_seg: 0.7083, decode.acc_seg: 50.9994, loss: 0.7083\n",
            "2022-07-20 11:22:04,513 - mmseg - INFO - Saving checkpoint at 1200 iterations\n"
          ]
        },
        {
          "output_type": "stream",
          "name": "stdout",
          "text": [
            "[>>>>>>>>>>>>>>>>>>>>>>>>>>>>>>>>>>>] 3/3, 4.8 task/s, elapsed: 1s, ETA:     0s"
          ]
        },
        {
          "output_type": "stream",
          "name": "stderr",
          "text": [
            "2022-07-20 11:22:08,453 - mmseg - INFO - per class results:\n",
            "Class                  IoU       Dice        Acc\n",
            "background           38.82      55.93     100.00\n",
            "powerline             0.00       0.00       0.00\n",
            "Summary:\n",
            "Scope                 mIoU      mDice       mAcc       Powerline Dice      Background Dice       aAcc        TPR        TNR        FDR  Precision\n",
            "global               19.41      27.96      50.00                 0.00                55.93      38.82       0.00     100.00       0.00       0.00\n",
            "\n",
            "2022-07-20 11:22:08,458 - mmseg - INFO - Iter(val) [1200]\tmIoU: 0.1941, mDice: 0.2796, mAcc: 0.5000, plDice: 0.0000, bgDice: 55.9288, aAcc: 0.3882, TPR: 0.0000, TNR: 1.0000, FDR: 0, Precision: 0\n",
            "2022-07-20 11:22:18,754 - mmseg - INFO - Iter [1250/20000]\tlr: 9.493e-04, eta: 0:53:56, time: 0.258, data_time: 0.055, memory: 1552, decode.loss_seg: 0.7081, decode.acc_seg: 52.3461, loss: 0.7081\n",
            "2022-07-20 11:22:28,815 - mmseg - INFO - Iter [1300/20000]\tlr: 9.472e-04, eta: 0:54:08, time: 0.201, data_time: 0.003, memory: 1552, decode.loss_seg: 0.7089, decode.acc_seg: 54.0112, loss: 0.7089\n",
            "2022-07-20 11:22:38,734 - mmseg - INFO - Iter [1350/20000]\tlr: 9.452e-04, eta: 0:54:17, time: 0.198, data_time: 0.003, memory: 1552, decode.loss_seg: 0.7087, decode.acc_seg: 53.2775, loss: 0.7087\n",
            "2022-07-20 11:22:48,802 - mmseg - INFO - Saving checkpoint at 1400 iterations\n"
          ]
        },
        {
          "output_type": "stream",
          "name": "stdout",
          "text": [
            "[>>>>>>>>>>>>>>>>>>>>>>>>>>>>>>>>>>>] 3/3, 4.7 task/s, elapsed: 1s, ETA:     0s"
          ]
        },
        {
          "output_type": "stream",
          "name": "stderr",
          "text": [
            "2022-07-20 11:22:52,733 - mmseg - INFO - per class results:\n",
            "Class                  IoU       Dice        Acc\n",
            "background           38.82      55.93     100.00\n",
            "powerline             0.00       0.00       0.00\n",
            "Summary:\n",
            "Scope                 mIoU      mDice       mAcc       Powerline Dice      Background Dice       aAcc        TPR        TNR        FDR  Precision\n",
            "global               19.41      27.96      50.00                 0.00                55.93      38.82       0.00     100.00       0.00       0.00\n",
            "\n",
            "2022-07-20 11:22:52,737 - mmseg - INFO - Iter(val) [1400]\tmIoU: 0.1941, mDice: 0.2796, mAcc: 0.5000, plDice: 0.0000, bgDice: 55.9288, aAcc: 0.3882, TPR: 0.0000, TNR: 1.0000, FDR: 0, Precision: 0\n",
            "2022-07-20 11:23:02,782 - mmseg - INFO - Iter [1450/20000]\tlr: 9.411e-04, eta: 0:52:58, time: 0.253, data_time: 0.055, memory: 1552, decode.loss_seg: 0.7087, decode.acc_seg: 54.2411, loss: 0.7087\n",
            "2022-07-20 11:23:12,620 - mmseg - INFO - Iter [1500/20000]\tlr: 9.391e-04, eta: 0:53:05, time: 0.197, data_time: 0.003, memory: 1552, decode.loss_seg: 0.7082, decode.acc_seg: 52.8678, loss: 0.7082\n",
            "2022-07-20 11:23:22,752 - mmseg - INFO - Iter [1550/20000]\tlr: 9.370e-04, eta: 0:53:14, time: 0.203, data_time: 0.003, memory: 1552, decode.loss_seg: 0.7093, decode.acc_seg: 51.9755, loss: 0.7093\n",
            "2022-07-20 11:23:32,593 - mmseg - INFO - Saving checkpoint at 1600 iterations\n"
          ]
        },
        {
          "output_type": "stream",
          "name": "stdout",
          "text": [
            "[>>>>>>>>>>>>>>>>>>>>>>>>>>>>>>>>>>>] 3/3, 4.7 task/s, elapsed: 1s, ETA:     0s"
          ]
        },
        {
          "output_type": "stream",
          "name": "stderr",
          "text": [
            "2022-07-20 11:23:36,453 - mmseg - INFO - per class results:\n",
            "Class                  IoU       Dice        Acc\n",
            "background           38.82      55.93     100.00\n",
            "powerline             0.00       0.00       0.00\n",
            "Summary:\n",
            "Scope                 mIoU      mDice       mAcc       Powerline Dice      Background Dice       aAcc        TPR        TNR        FDR  Precision\n",
            "global               19.41      27.96      50.00                 0.00                55.93      38.82       0.00     100.00       0.00       0.00\n",
            "\n",
            "2022-07-20 11:23:36,459 - mmseg - INFO - Iter(val) [1600]\tmIoU: 0.1941, mDice: 0.2796, mAcc: 0.5000, plDice: 0.0000, bgDice: 55.9288, aAcc: 0.3882, TPR: 0.0000, TNR: 1.0000, FDR: 0, Precision: 0\n",
            "2022-07-20 11:23:46,442 - mmseg - INFO - Iter [1650/20000]\tlr: 9.329e-04, eta: 0:52:04, time: 0.252, data_time: 0.055, memory: 1552, decode.loss_seg: 0.7088, decode.acc_seg: 52.8725, loss: 0.7088\n",
            "2022-07-20 11:23:56,494 - mmseg - INFO - Iter [1700/20000]\tlr: 9.309e-04, eta: 0:52:12, time: 0.201, data_time: 0.003, memory: 1552, decode.loss_seg: 0.7093, decode.acc_seg: 53.4937, loss: 0.7093\n",
            "2022-07-20 11:24:06,512 - mmseg - INFO - Iter [1750/20000]\tlr: 9.288e-04, eta: 0:52:19, time: 0.201, data_time: 0.003, memory: 1552, decode.loss_seg: 0.7080, decode.acc_seg: 53.3273, loss: 0.7080\n",
            "2022-07-20 11:24:16,247 - mmseg - INFO - Saving checkpoint at 1800 iterations\n"
          ]
        },
        {
          "output_type": "stream",
          "name": "stdout",
          "text": [
            "[>>>>>>>>>>>>>>>>>>>>>>>>>>>>>>>>>>>] 3/3, 4.7 task/s, elapsed: 1s, ETA:     0s"
          ]
        },
        {
          "output_type": "stream",
          "name": "stderr",
          "text": [
            "2022-07-20 11:24:20,121 - mmseg - INFO - per class results:\n",
            "Class                  IoU       Dice        Acc\n",
            "background           38.82      55.93     100.00\n",
            "powerline             0.00       0.00       0.00\n",
            "Summary:\n",
            "Scope                 mIoU      mDice       mAcc       Powerline Dice      Background Dice       aAcc        TPR        TNR        FDR  Precision\n",
            "global               19.41      27.96      50.00                 0.00                55.93      38.82       0.00     100.00       0.00       0.00\n",
            "\n",
            "2022-07-20 11:24:20,128 - mmseg - INFO - Iter(val) [1800]\tmIoU: 0.1941, mDice: 0.2796, mAcc: 0.5000, plDice: 0.0000, bgDice: 55.9288, aAcc: 0.3882, TPR: 0.0000, TNR: 1.0000, FDR: 0, Precision: 0\n",
            "2022-07-20 11:24:30,262 - mmseg - INFO - Iter [1850/20000]\tlr: 9.248e-04, eta: 0:51:18, time: 0.255, data_time: 0.055, memory: 1552, decode.loss_seg: 0.7083, decode.acc_seg: 52.5708, loss: 0.7083\n",
            "2022-07-20 11:24:40,272 - mmseg - INFO - Iter [1900/20000]\tlr: 9.227e-04, eta: 0:51:24, time: 0.200, data_time: 0.003, memory: 1552, decode.loss_seg: 0.7090, decode.acc_seg: 53.4443, loss: 0.7090\n",
            "2022-07-20 11:24:50,101 - mmseg - INFO - Iter [1950/20000]\tlr: 9.207e-04, eta: 0:51:28, time: 0.196, data_time: 0.003, memory: 1552, decode.loss_seg: 0.7088, decode.acc_seg: 55.4409, loss: 0.7088\n",
            "2022-07-20 11:25:00,130 - mmseg - INFO - Saving checkpoint at 2000 iterations\n"
          ]
        },
        {
          "output_type": "stream",
          "name": "stdout",
          "text": [
            "[>>>>>>>>>>>>>>>>>>>>>>>>>>>>>>>>>>>] 3/3, 4.9 task/s, elapsed: 1s, ETA:     0s"
          ]
        },
        {
          "output_type": "stream",
          "name": "stderr",
          "text": [
            "2022-07-20 11:25:03,995 - mmseg - INFO - per class results:\n",
            "Class                  IoU       Dice        Acc\n",
            "background           38.82      55.93     100.00\n",
            "powerline             0.00       0.00       0.00\n",
            "Summary:\n",
            "Scope                 mIoU      mDice       mAcc       Powerline Dice      Background Dice       aAcc        TPR        TNR        FDR  Precision\n",
            "global               19.41      27.96      50.00                 0.00                55.93      38.82       0.00     100.00       0.00       0.00\n",
            "\n",
            "2022-07-20 11:25:04,000 - mmseg - INFO - Exp name: fcn_vanilla_unet_s5-d16_256x256_40k_hrf.py\n",
            "2022-07-20 11:25:04,005 - mmseg - INFO - Iter(val) [2000]\tmIoU: 0.1941, mDice: 0.2796, mAcc: 0.5000, plDice: 0.0000, bgDice: 55.9288, aAcc: 0.3882, TPR: 0.0000, TNR: 1.0000, FDR: 0, Precision: 0\n",
            "2022-07-20 11:25:14,064 - mmseg - INFO - Iter [2050/20000]\tlr: 9.166e-04, eta: 0:50:32, time: 0.254, data_time: 0.055, memory: 1552, decode.loss_seg: 0.7090, decode.acc_seg: 53.7978, loss: 0.7090\n",
            "2022-07-20 11:25:23,953 - mmseg - INFO - Iter [2100/20000]\tlr: 9.145e-04, eta: 0:50:36, time: 0.197, data_time: 0.003, memory: 1552, decode.loss_seg: 0.7092, decode.acc_seg: 52.9256, loss: 0.7092\n",
            "2022-07-20 11:25:34,129 - mmseg - INFO - Iter [2150/20000]\tlr: 9.125e-04, eta: 0:50:41, time: 0.204, data_time: 0.003, memory: 1552, decode.loss_seg: 0.7093, decode.acc_seg: 53.9819, loss: 0.7093\n",
            "2022-07-20 11:25:44,101 - mmseg - INFO - Saving checkpoint at 2200 iterations\n"
          ]
        },
        {
          "output_type": "stream",
          "name": "stdout",
          "text": [
            "[>>>>>>>>>>>>>>>>>>>>>>>>>>>>>>>>>>>] 3/3, 4.9 task/s, elapsed: 1s, ETA:     0s"
          ]
        },
        {
          "output_type": "stream",
          "name": "stderr",
          "text": [
            "2022-07-20 11:25:48,006 - mmseg - INFO - per class results:\n",
            "Class                  IoU       Dice        Acc\n",
            "background           38.82      55.93     100.00\n",
            "powerline             0.00       0.00       0.00\n",
            "Summary:\n",
            "Scope                 mIoU      mDice       mAcc       Powerline Dice      Background Dice       aAcc        TPR        TNR        FDR  Precision\n",
            "global               19.41      27.96      50.00                 0.00                55.93      38.82       0.00     100.00       0.00       0.00\n",
            "\n",
            "2022-07-20 11:25:48,009 - mmseg - INFO - Iter(val) [2200]\tmIoU: 0.1941, mDice: 0.2796, mAcc: 0.5000, plDice: 0.0000, bgDice: 55.9288, aAcc: 0.3882, TPR: 0.0000, TNR: 1.0000, FDR: 0, Precision: 0\n",
            "2022-07-20 11:25:57,948 - mmseg - INFO - Iter [2250/20000]\tlr: 9.084e-04, eta: 0:49:48, time: 0.250, data_time: 0.055, memory: 1552, decode.loss_seg: 0.7093, decode.acc_seg: 52.5438, loss: 0.7093\n",
            "2022-07-20 11:26:08,105 - mmseg - INFO - Iter [2300/20000]\tlr: 9.063e-04, eta: 0:49:53, time: 0.203, data_time: 0.003, memory: 1552, decode.loss_seg: 0.7085, decode.acc_seg: 51.7883, loss: 0.7085\n",
            "2022-07-20 11:26:18,121 - mmseg - INFO - Iter [2350/20000]\tlr: 9.043e-04, eta: 0:49:57, time: 0.200, data_time: 0.003, memory: 1552, decode.loss_seg: 0.7082, decode.acc_seg: 52.4149, loss: 0.7082\n",
            "2022-07-20 11:26:28,003 - mmseg - INFO - Saving checkpoint at 2400 iterations\n"
          ]
        },
        {
          "output_type": "stream",
          "name": "stdout",
          "text": [
            "[>>>>>>>>>>>>>>>>>>>>>>>>>>>>>>>>>>>] 3/3, 4.8 task/s, elapsed: 1s, ETA:     0s"
          ]
        },
        {
          "output_type": "stream",
          "name": "stderr",
          "text": [
            "2022-07-20 11:26:32,104 - mmseg - INFO - per class results:\n",
            "Class                  IoU       Dice        Acc\n",
            "background           38.82      55.93     100.00\n",
            "powerline             0.00       0.00       0.00\n",
            "Summary:\n",
            "Scope                 mIoU      mDice       mAcc       Powerline Dice      Background Dice       aAcc        TPR        TNR        FDR  Precision\n",
            "global               19.41      27.96      50.00                 0.00                55.93      38.82       0.00     100.00       0.00       0.00\n",
            "\n",
            "2022-07-20 11:26:32,106 - mmseg - INFO - Iter(val) [2400]\tmIoU: 0.1941, mDice: 0.2796, mAcc: 0.5000, plDice: 0.0000, bgDice: 55.9288, aAcc: 0.3882, TPR: 0.0000, TNR: 1.0000, FDR: 0, Precision: 0\n",
            "2022-07-20 11:26:42,316 - mmseg - INFO - Iter [2450/20000]\tlr: 9.002e-04, eta: 0:49:10, time: 0.257, data_time: 0.056, memory: 1552, decode.loss_seg: 0.7081, decode.acc_seg: 51.7619, loss: 0.7081\n",
            "2022-07-20 11:26:52,304 - mmseg - INFO - Iter [2500/20000]\tlr: 8.981e-04, eta: 0:49:13, time: 0.200, data_time: 0.003, memory: 1552, decode.loss_seg: 0.7087, decode.acc_seg: 51.9108, loss: 0.7087\n",
            "2022-07-20 11:27:02,158 - mmseg - INFO - Iter [2550/20000]\tlr: 8.961e-04, eta: 0:49:14, time: 0.197, data_time: 0.003, memory: 1552, decode.loss_seg: 0.7078, decode.acc_seg: 53.3401, loss: 0.7078\n",
            "2022-07-20 11:27:12,228 - mmseg - INFO - Saving checkpoint at 2600 iterations\n"
          ]
        },
        {
          "output_type": "stream",
          "name": "stdout",
          "text": [
            "[>>>>>>>>>>>>>>>>>>>>>>>>>>>>>>>>>>>] 3/3, 4.8 task/s, elapsed: 1s, ETA:     0s"
          ]
        },
        {
          "output_type": "stream",
          "name": "stderr",
          "text": [
            "2022-07-20 11:27:16,183 - mmseg - INFO - per class results:\n",
            "Class                  IoU       Dice        Acc\n",
            "background           38.82      55.93     100.00\n",
            "powerline             0.00       0.00       0.00\n",
            "Summary:\n",
            "Scope                 mIoU      mDice       mAcc       Powerline Dice      Background Dice       aAcc        TPR        TNR        FDR  Precision\n",
            "global               19.41      27.96      50.00                 0.00                55.93      38.82       0.00     100.00       0.00       0.00\n",
            "\n",
            "2022-07-20 11:27:16,185 - mmseg - INFO - Iter(val) [2600]\tmIoU: 0.1941, mDice: 0.2796, mAcc: 0.5000, plDice: 0.0000, bgDice: 55.9288, aAcc: 0.3882, TPR: 0.0000, TNR: 1.0000, FDR: 0, Precision: 0\n",
            "2022-07-20 11:27:26,226 - mmseg - INFO - Iter [2650/20000]\tlr: 8.920e-04, eta: 0:48:29, time: 0.253, data_time: 0.055, memory: 1552, decode.loss_seg: 0.7086, decode.acc_seg: 51.5596, loss: 0.7086\n",
            "2022-07-20 11:27:35,992 - mmseg - INFO - Iter [2700/20000]\tlr: 8.899e-04, eta: 0:48:29, time: 0.195, data_time: 0.003, memory: 1552, decode.loss_seg: 0.7085, decode.acc_seg: 54.5479, loss: 0.7085\n",
            "2022-07-20 11:27:46,019 - mmseg - INFO - Iter [2750/20000]\tlr: 8.879e-04, eta: 0:48:31, time: 0.201, data_time: 0.003, memory: 1552, decode.loss_seg: 0.7077, decode.acc_seg: 52.5674, loss: 0.7077\n",
            "2022-07-20 11:27:55,920 - mmseg - INFO - Saving checkpoint at 2800 iterations\n"
          ]
        },
        {
          "output_type": "stream",
          "name": "stdout",
          "text": [
            "[>>>>>>>>>>>>>>>>>>>>>>>>>>>>>>>>>>>] 3/3, 4.9 task/s, elapsed: 1s, ETA:     0s"
          ]
        },
        {
          "output_type": "stream",
          "name": "stderr",
          "text": [
            "2022-07-20 11:27:59,831 - mmseg - INFO - per class results:\n",
            "Class                  IoU       Dice        Acc\n",
            "background           38.82      55.93     100.00\n",
            "powerline             0.00       0.00       0.00\n",
            "Summary:\n",
            "Scope                 mIoU      mDice       mAcc       Powerline Dice      Background Dice       aAcc        TPR        TNR        FDR  Precision\n",
            "global               19.41      27.96      50.00                 0.00                55.93      38.82       0.00     100.00       0.00       0.00\n",
            "\n",
            "2022-07-20 11:27:59,833 - mmseg - INFO - Iter(val) [2800]\tmIoU: 0.1941, mDice: 0.2796, mAcc: 0.5000, plDice: 0.0000, bgDice: 55.9288, aAcc: 0.3882, TPR: 0.0000, TNR: 1.0000, FDR: 0, Precision: 0\n",
            "2022-07-20 11:28:09,722 - mmseg - INFO - Iter [2850/20000]\tlr: 8.837e-04, eta: 0:47:48, time: 0.249, data_time: 0.054, memory: 1552, decode.loss_seg: 0.7086, decode.acc_seg: 49.3690, loss: 0.7086\n",
            "2022-07-20 11:28:19,741 - mmseg - INFO - Iter [2900/20000]\tlr: 8.817e-04, eta: 0:47:49, time: 0.200, data_time: 0.003, memory: 1552, decode.loss_seg: 0.7091, decode.acc_seg: 53.2992, loss: 0.7091\n",
            "2022-07-20 11:28:29,564 - mmseg - INFO - Iter [2950/20000]\tlr: 8.796e-04, eta: 0:47:49, time: 0.197, data_time: 0.003, memory: 1552, decode.loss_seg: 0.7090, decode.acc_seg: 51.9419, loss: 0.7090\n",
            "2022-07-20 11:28:39,281 - mmseg - INFO - Saving checkpoint at 3000 iterations\n"
          ]
        },
        {
          "output_type": "stream",
          "name": "stdout",
          "text": [
            "[>>>>>>>>>>>>>>>>>>>>>>>>>>>>>>>>>>>] 3/3, 5.1 task/s, elapsed: 1s, ETA:     0s"
          ]
        },
        {
          "output_type": "stream",
          "name": "stderr",
          "text": [
            "2022-07-20 11:28:43,166 - mmseg - INFO - per class results:\n",
            "Class                  IoU       Dice        Acc\n",
            "background           38.82      55.93     100.00\n",
            "powerline             0.00       0.00       0.00\n",
            "Summary:\n",
            "Scope                 mIoU      mDice       mAcc       Powerline Dice      Background Dice       aAcc        TPR        TNR        FDR  Precision\n",
            "global               19.41      27.96      50.00                 0.00                55.93      38.82       0.00     100.00       0.00       0.00\n",
            "\n",
            "2022-07-20 11:28:43,170 - mmseg - INFO - Exp name: fcn_vanilla_unet_s5-d16_256x256_40k_hrf.py\n",
            "2022-07-20 11:28:43,174 - mmseg - INFO - Iter(val) [3000]\tmIoU: 0.1941, mDice: 0.2796, mAcc: 0.5000, plDice: 0.0000, bgDice: 55.9288, aAcc: 0.3882, TPR: 0.0000, TNR: 1.0000, FDR: 0, Precision: 0\n",
            "2022-07-20 11:28:53,264 - mmseg - INFO - Iter [3050/20000]\tlr: 8.755e-04, eta: 0:47:09, time: 0.253, data_time: 0.055, memory: 1552, decode.loss_seg: 0.7085, decode.acc_seg: 51.7748, loss: 0.7085\n",
            "2022-07-20 11:29:03,217 - mmseg - INFO - Iter [3100/20000]\tlr: 8.735e-04, eta: 0:47:10, time: 0.199, data_time: 0.003, memory: 1552, decode.loss_seg: 0.7081, decode.acc_seg: 51.4676, loss: 0.7081\n",
            "2022-07-20 11:29:12,947 - mmseg - INFO - Iter [3150/20000]\tlr: 8.714e-04, eta: 0:47:08, time: 0.194, data_time: 0.003, memory: 1552, decode.loss_seg: 0.7089, decode.acc_seg: 53.5118, loss: 0.7089\n",
            "2022-07-20 11:29:22,829 - mmseg - INFO - Saving checkpoint at 3200 iterations\n"
          ]
        },
        {
          "output_type": "stream",
          "name": "stdout",
          "text": [
            "[>>>>>>>>>>>>>>>>>>>>>>>>>>>>>>>>>>>] 3/3, 4.8 task/s, elapsed: 1s, ETA:     0s"
          ]
        },
        {
          "output_type": "stream",
          "name": "stderr",
          "text": [
            "2022-07-20 11:29:26,765 - mmseg - INFO - per class results:\n",
            "Class                  IoU       Dice        Acc\n",
            "background           38.82      55.93     100.00\n",
            "powerline             0.00       0.00       0.00\n",
            "Summary:\n",
            "Scope                 mIoU      mDice       mAcc       Powerline Dice      Background Dice       aAcc        TPR        TNR        FDR  Precision\n",
            "global               19.41      27.96      50.00                 0.00                55.93      38.82       0.00     100.00       0.00       0.00\n",
            "\n",
            "2022-07-20 11:29:26,768 - mmseg - INFO - Iter(val) [3200]\tmIoU: 0.1941, mDice: 0.2796, mAcc: 0.5000, plDice: 0.0000, bgDice: 55.9288, aAcc: 0.3882, TPR: 0.0000, TNR: 1.0000, FDR: 0, Precision: 0\n",
            "2022-07-20 11:29:36,735 - mmseg - INFO - Iter [3250/20000]\tlr: 8.673e-04, eta: 0:46:30, time: 0.251, data_time: 0.055, memory: 1552, decode.loss_seg: 0.7084, decode.acc_seg: 52.0820, loss: 0.7084\n",
            "2022-07-20 11:29:46,479 - mmseg - INFO - Iter [3300/20000]\tlr: 8.652e-04, eta: 0:46:29, time: 0.195, data_time: 0.003, memory: 1552, decode.loss_seg: 0.7087, decode.acc_seg: 53.6046, loss: 0.7087\n",
            "2022-07-20 11:29:56,470 - mmseg - INFO - Iter [3350/20000]\tlr: 8.632e-04, eta: 0:46:28, time: 0.200, data_time: 0.003, memory: 1552, decode.loss_seg: 0.7086, decode.acc_seg: 51.0297, loss: 0.7086\n",
            "2022-07-20 11:30:06,360 - mmseg - INFO - Saving checkpoint at 3400 iterations\n"
          ]
        },
        {
          "output_type": "stream",
          "name": "stdout",
          "text": [
            "[>>>>>>>>>>>>>>>>>>>>>>>>>>>>>>>>>>>] 3/3, 4.9 task/s, elapsed: 1s, ETA:     0s"
          ]
        },
        {
          "output_type": "stream",
          "name": "stderr",
          "text": [
            "2022-07-20 11:30:10,242 - mmseg - INFO - per class results:\n",
            "Class                  IoU       Dice        Acc\n",
            "background           38.82      55.93     100.00\n",
            "powerline             0.00       0.00       0.00\n",
            "Summary:\n",
            "Scope                 mIoU      mDice       mAcc       Powerline Dice      Background Dice       aAcc        TPR        TNR        FDR  Precision\n",
            "global               19.41      27.96      50.00                 0.00                55.93      38.82       0.00     100.00       0.00       0.00\n",
            "\n",
            "2022-07-20 11:30:10,245 - mmseg - INFO - Iter(val) [3400]\tmIoU: 0.1941, mDice: 0.2796, mAcc: 0.5000, plDice: 0.0000, bgDice: 55.9288, aAcc: 0.3882, TPR: 0.0000, TNR: 1.0000, FDR: 0, Precision: 0\n",
            "2022-07-20 11:30:20,112 - mmseg - INFO - Iter [3450/20000]\tlr: 8.590e-04, eta: 0:45:51, time: 0.249, data_time: 0.055, memory: 1552, decode.loss_seg: 0.7090, decode.acc_seg: 51.7422, loss: 0.7090\n",
            "2022-07-20 11:30:30,145 - mmseg - INFO - Iter [3500/20000]\tlr: 8.570e-04, eta: 0:45:51, time: 0.201, data_time: 0.003, memory: 1552, decode.loss_seg: 0.7086, decode.acc_seg: 52.6835, loss: 0.7086\n",
            "2022-07-20 11:30:40,197 - mmseg - INFO - Iter [3550/20000]\tlr: 8.549e-04, eta: 0:45:50, time: 0.201, data_time: 0.003, memory: 1552, decode.loss_seg: 0.7087, decode.acc_seg: 53.3077, loss: 0.7087\n",
            "2022-07-20 11:30:49,904 - mmseg - INFO - Saving checkpoint at 3600 iterations\n"
          ]
        },
        {
          "output_type": "stream",
          "name": "stdout",
          "text": [
            "[>>>>>>>>>>>>>>>>>>>>>>>>>>>>>>>>>>>] 3/3, 4.7 task/s, elapsed: 1s, ETA:     0s"
          ]
        },
        {
          "output_type": "stream",
          "name": "stderr",
          "text": [
            "2022-07-20 11:30:53,875 - mmseg - INFO - per class results:\n",
            "Class                  IoU       Dice        Acc\n",
            "background           38.82      55.93     100.00\n",
            "powerline             0.00       0.00       0.00\n",
            "Summary:\n",
            "Scope                 mIoU      mDice       mAcc       Powerline Dice      Background Dice       aAcc        TPR        TNR        FDR  Precision\n",
            "global               19.41      27.96      50.00                 0.00                55.93      38.82       0.00     100.00       0.00       0.00\n",
            "\n",
            "2022-07-20 11:30:53,877 - mmseg - INFO - Iter(val) [3600]\tmIoU: 0.1941, mDice: 0.2796, mAcc: 0.5000, plDice: 0.0000, bgDice: 55.9288, aAcc: 0.3882, TPR: 0.0000, TNR: 1.0000, FDR: 0, Precision: 0\n",
            "2022-07-20 11:31:04,055 - mmseg - INFO - Iter [3650/20000]\tlr: 8.508e-04, eta: 0:45:16, time: 0.255, data_time: 0.055, memory: 1552, decode.loss_seg: 0.7105, decode.acc_seg: 54.8949, loss: 0.7105\n",
            "2022-07-20 11:31:14,054 - mmseg - INFO - Iter [3700/20000]\tlr: 8.487e-04, eta: 0:45:15, time: 0.200, data_time: 0.003, memory: 1552, decode.loss_seg: 0.7076, decode.acc_seg: 52.9327, loss: 0.7076\n",
            "2022-07-20 11:31:23,850 - mmseg - INFO - Iter [3750/20000]\tlr: 8.466e-04, eta: 0:45:13, time: 0.196, data_time: 0.003, memory: 1552, decode.loss_seg: 0.7081, decode.acc_seg: 54.3340, loss: 0.7081\n",
            "2022-07-20 11:31:33,894 - mmseg - INFO - Saving checkpoint at 3800 iterations\n"
          ]
        },
        {
          "output_type": "stream",
          "name": "stdout",
          "text": [
            "[>>>>>>>>>>>>>>>>>>>>>>>>>>>>>>>>>>>] 3/3, 4.8 task/s, elapsed: 1s, ETA:     0s"
          ]
        },
        {
          "output_type": "stream",
          "name": "stderr",
          "text": [
            "2022-07-20 11:31:37,852 - mmseg - INFO - per class results:\n",
            "Class                  IoU       Dice        Acc\n",
            "background           38.82      55.93     100.00\n",
            "powerline             0.00       0.00       0.00\n",
            "Summary:\n",
            "Scope                 mIoU      mDice       mAcc       Powerline Dice      Background Dice       aAcc        TPR        TNR        FDR  Precision\n",
            "global               19.41      27.96      50.00                 0.00                55.93      38.82       0.00     100.00       0.00       0.00\n",
            "\n",
            "2022-07-20 11:31:37,855 - mmseg - INFO - Iter(val) [3800]\tmIoU: 0.1941, mDice: 0.2796, mAcc: 0.5000, plDice: 0.0000, bgDice: 55.9288, aAcc: 0.3882, TPR: 0.0000, TNR: 1.0000, FDR: 0, Precision: 0\n",
            "2022-07-20 11:31:47,934 - mmseg - INFO - Iter [3850/20000]\tlr: 8.425e-04, eta: 0:44:40, time: 0.254, data_time: 0.055, memory: 1552, decode.loss_seg: 0.7087, decode.acc_seg: 52.5665, loss: 0.7087\n",
            "2022-07-20 11:31:57,735 - mmseg - INFO - Iter [3900/20000]\tlr: 8.404e-04, eta: 0:44:38, time: 0.196, data_time: 0.003, memory: 1552, decode.loss_seg: 0.7083, decode.acc_seg: 50.6585, loss: 0.7083\n",
            "2022-07-20 11:32:07,821 - mmseg - INFO - Iter [3950/20000]\tlr: 8.384e-04, eta: 0:44:36, time: 0.202, data_time: 0.003, memory: 1552, decode.loss_seg: 0.7084, decode.acc_seg: 53.3416, loss: 0.7084\n",
            "2022-07-20 11:32:17,729 - mmseg - INFO - Saving checkpoint at 4000 iterations\n"
          ]
        },
        {
          "output_type": "stream",
          "name": "stdout",
          "text": [
            "[>>>>>>>>>>>>>>>>>>>>>>>>>>>>>>>>>>>] 3/3, 4.8 task/s, elapsed: 1s, ETA:     0s"
          ]
        },
        {
          "output_type": "stream",
          "name": "stderr",
          "text": [
            "2022-07-20 11:32:21,738 - mmseg - INFO - per class results:\n",
            "Class                  IoU       Dice        Acc\n",
            "background           38.82      55.93     100.00\n",
            "powerline             0.00       0.00       0.00\n",
            "Summary:\n",
            "Scope                 mIoU      mDice       mAcc       Powerline Dice      Background Dice       aAcc        TPR        TNR        FDR  Precision\n",
            "global               19.41      27.96      50.00                 0.00                55.93      38.82       0.00     100.00       0.00       0.00\n",
            "\n",
            "2022-07-20 11:32:21,742 - mmseg - INFO - Exp name: fcn_vanilla_unet_s5-d16_256x256_40k_hrf.py\n",
            "2022-07-20 11:32:21,747 - mmseg - INFO - Iter(val) [4000]\tmIoU: 0.1941, mDice: 0.2796, mAcc: 0.5000, plDice: 0.0000, bgDice: 55.9288, aAcc: 0.3882, TPR: 0.0000, TNR: 1.0000, FDR: 0, Precision: 0\n",
            "2022-07-20 11:32:31,687 - mmseg - INFO - Iter [4050/20000]\tlr: 8.342e-04, eta: 0:44:03, time: 0.251, data_time: 0.055, memory: 1552, decode.loss_seg: 0.7082, decode.acc_seg: 54.3803, loss: 0.7082\n",
            "2022-07-20 11:32:41,801 - mmseg - INFO - Iter [4100/20000]\tlr: 8.321e-04, eta: 0:44:02, time: 0.202, data_time: 0.003, memory: 1552, decode.loss_seg: 0.7094, decode.acc_seg: 51.5667, loss: 0.7094\n",
            "2022-07-20 11:32:51,843 - mmseg - INFO - Iter [4150/20000]\tlr: 8.301e-04, eta: 0:44:01, time: 0.201, data_time: 0.003, memory: 1552, decode.loss_seg: 0.7093, decode.acc_seg: 49.8092, loss: 0.7093\n",
            "2022-07-20 11:33:01,606 - mmseg - INFO - Saving checkpoint at 4200 iterations\n"
          ]
        },
        {
          "output_type": "stream",
          "name": "stdout",
          "text": [
            "[>>>>>>>>>>>>>>>>>>>>>>>>>>>>>>>>>>>] 3/3, 4.7 task/s, elapsed: 1s, ETA:     0s"
          ]
        },
        {
          "output_type": "stream",
          "name": "stderr",
          "text": [
            "2022-07-20 11:33:05,561 - mmseg - INFO - per class results:\n",
            "Class                  IoU       Dice        Acc\n",
            "background           38.82      55.93     100.00\n",
            "powerline             0.00       0.00       0.00\n",
            "Summary:\n",
            "Scope                 mIoU      mDice       mAcc       Powerline Dice      Background Dice       aAcc        TPR        TNR        FDR  Precision\n",
            "global               19.41      27.96      50.00                 0.00                55.93      38.82       0.00     100.00       0.00       0.00\n",
            "\n",
            "2022-07-20 11:33:05,564 - mmseg - INFO - Iter(val) [4200]\tmIoU: 0.1941, mDice: 0.2796, mAcc: 0.5000, plDice: 0.0000, bgDice: 55.9288, aAcc: 0.3882, TPR: 0.0000, TNR: 1.0000, FDR: 0, Precision: 0\n",
            "2022-07-20 11:33:15,728 - mmseg - INFO - Iter [4250/20000]\tlr: 8.259e-04, eta: 0:43:30, time: 0.256, data_time: 0.055, memory: 1552, decode.loss_seg: 0.7084, decode.acc_seg: 52.3011, loss: 0.7084\n",
            "2022-07-20 11:33:25,841 - mmseg - INFO - Iter [4300/20000]\tlr: 8.239e-04, eta: 0:43:28, time: 0.202, data_time: 0.003, memory: 1552, decode.loss_seg: 0.7087, decode.acc_seg: 52.2042, loss: 0.7087\n",
            "2022-07-20 11:33:35,738 - mmseg - INFO - Iter [4350/20000]\tlr: 8.218e-04, eta: 0:43:25, time: 0.198, data_time: 0.003, memory: 1552, decode.loss_seg: 0.7090, decode.acc_seg: 51.8678, loss: 0.7090\n",
            "2022-07-20 11:33:45,768 - mmseg - INFO - Saving checkpoint at 4400 iterations\n"
          ]
        },
        {
          "output_type": "stream",
          "name": "stdout",
          "text": [
            "[>>>>>>>>>>>>>>>>>>>>>>>>>>>>>>>>>>>] 3/3, 4.9 task/s, elapsed: 1s, ETA:     0s"
          ]
        },
        {
          "output_type": "stream",
          "name": "stderr",
          "text": [
            "2022-07-20 11:33:49,694 - mmseg - INFO - per class results:\n",
            "Class                  IoU       Dice        Acc\n",
            "background           38.82      55.93     100.00\n",
            "powerline             0.00       0.00       0.00\n",
            "Summary:\n",
            "Scope                 mIoU      mDice       mAcc       Powerline Dice      Background Dice       aAcc        TPR        TNR        FDR  Precision\n",
            "global               19.41      27.96      50.00                 0.00                55.93      38.82       0.00     100.00       0.00       0.00\n",
            "\n",
            "2022-07-20 11:33:49,696 - mmseg - INFO - Iter(val) [4400]\tmIoU: 0.1941, mDice: 0.2796, mAcc: 0.5000, plDice: 0.0000, bgDice: 55.9288, aAcc: 0.3882, TPR: 0.0000, TNR: 1.0000, FDR: 0, Precision: 0\n",
            "2022-07-20 11:33:59,780 - mmseg - INFO - Iter [4450/20000]\tlr: 8.176e-04, eta: 0:42:55, time: 0.253, data_time: 0.054, memory: 1552, decode.loss_seg: 0.7086, decode.acc_seg: 53.9973, loss: 0.7086\n",
            "2022-07-20 11:34:09,884 - mmseg - INFO - Iter [4500/20000]\tlr: 8.155e-04, eta: 0:42:53, time: 0.202, data_time: 0.003, memory: 1552, decode.loss_seg: 0.7083, decode.acc_seg: 52.9736, loss: 0.7083\n",
            "2022-07-20 11:34:20,132 - mmseg - INFO - Iter [4550/20000]\tlr: 8.135e-04, eta: 0:42:51, time: 0.205, data_time: 0.003, memory: 1552, decode.loss_seg: 0.7092, decode.acc_seg: 52.5073, loss: 0.7092\n",
            "2022-07-20 11:34:30,135 - mmseg - INFO - Saving checkpoint at 4600 iterations\n"
          ]
        },
        {
          "output_type": "stream",
          "name": "stdout",
          "text": [
            "[>>>>>>>>>>>>>>>>>>>>>>>>>>>>>>>>>>>] 3/3, 4.7 task/s, elapsed: 1s, ETA:     0s"
          ]
        },
        {
          "output_type": "stream",
          "name": "stderr",
          "text": [
            "2022-07-20 11:34:34,122 - mmseg - INFO - per class results:\n",
            "Class                  IoU       Dice        Acc\n",
            "background           38.82      55.93     100.00\n",
            "powerline             0.00       0.00       0.00\n",
            "Summary:\n",
            "Scope                 mIoU      mDice       mAcc       Powerline Dice      Background Dice       aAcc        TPR        TNR        FDR  Precision\n",
            "global               19.41      27.96      50.00                 0.00                55.93      38.82       0.00     100.00       0.00       0.00\n",
            "\n",
            "2022-07-20 11:34:34,125 - mmseg - INFO - Iter(val) [4600]\tmIoU: 0.1941, mDice: 0.2796, mAcc: 0.5000, plDice: 0.0000, bgDice: 55.9288, aAcc: 0.3882, TPR: 0.0000, TNR: 1.0000, FDR: 0, Precision: 0\n",
            "2022-07-20 11:34:44,221 - mmseg - INFO - Iter [4650/20000]\tlr: 8.093e-04, eta: 0:42:21, time: 0.254, data_time: 0.055, memory: 1552, decode.loss_seg: 0.7089, decode.acc_seg: 50.7654, loss: 0.7089\n",
            "2022-07-20 11:34:54,336 - mmseg - INFO - Iter [4700/20000]\tlr: 8.072e-04, eta: 0:42:19, time: 0.202, data_time: 0.003, memory: 1570, decode.loss_seg: 0.7083, decode.acc_seg: 51.5371, loss: 0.7083\n",
            "2022-07-20 11:35:04,468 - mmseg - INFO - Iter [4750/20000]\tlr: 8.052e-04, eta: 0:42:17, time: 0.203, data_time: 0.003, memory: 1570, decode.loss_seg: 0.7079, decode.acc_seg: 51.0234, loss: 0.7079\n",
            "2022-07-20 11:35:14,291 - mmseg - INFO - Saving checkpoint at 4800 iterations\n"
          ]
        },
        {
          "output_type": "stream",
          "name": "stdout",
          "text": [
            "[>>>>>>>>>>>>>>>>>>>>>>>>>>>>>>>>>>>] 3/3, 5.0 task/s, elapsed: 1s, ETA:     0s"
          ]
        },
        {
          "output_type": "stream",
          "name": "stderr",
          "text": [
            "2022-07-20 11:35:18,238 - mmseg - INFO - per class results:\n",
            "Class                  IoU       Dice        Acc\n",
            "background           38.82      55.93     100.00\n",
            "powerline             0.00       0.00       0.00\n",
            "Summary:\n",
            "Scope                 mIoU      mDice       mAcc       Powerline Dice      Background Dice       aAcc        TPR        TNR        FDR  Precision\n",
            "global               19.41      27.96      50.00                 0.00                55.93      38.82       0.00     100.00       0.00       0.00\n",
            "\n",
            "2022-07-20 11:35:18,241 - mmseg - INFO - Iter(val) [4800]\tmIoU: 0.1941, mDice: 0.2796, mAcc: 0.5000, plDice: 0.0000, bgDice: 55.9288, aAcc: 0.3882, TPR: 0.0000, TNR: 1.0000, FDR: 0, Precision: 0\n",
            "2022-07-20 11:35:28,574 - mmseg - INFO - Iter [4850/20000]\tlr: 8.010e-04, eta: 0:41:48, time: 0.258, data_time: 0.055, memory: 1570, decode.loss_seg: 0.7090, decode.acc_seg: 53.2036, loss: 0.7090\n",
            "2022-07-20 11:35:38,640 - mmseg - INFO - Iter [4900/20000]\tlr: 7.989e-04, eta: 0:41:46, time: 0.202, data_time: 0.003, memory: 1570, decode.loss_seg: 0.7083, decode.acc_seg: 52.6660, loss: 0.7083\n",
            "2022-07-20 11:35:48,720 - mmseg - INFO - Iter [4950/20000]\tlr: 7.968e-04, eta: 0:41:43, time: 0.201, data_time: 0.003, memory: 1570, decode.loss_seg: 0.7088, decode.acc_seg: 50.8254, loss: 0.7088\n",
            "2022-07-20 11:35:58,749 - mmseg - INFO - Saving checkpoint at 5000 iterations\n"
          ]
        },
        {
          "output_type": "stream",
          "name": "stdout",
          "text": [
            "[>>>>>>>>>>>>>>>>>>>>>>>>>>>>>>>>>>>] 3/3, 4.7 task/s, elapsed: 1s, ETA:     0s"
          ]
        },
        {
          "output_type": "stream",
          "name": "stderr",
          "text": [
            "2022-07-20 11:36:02,660 - mmseg - INFO - per class results:\n",
            "Class                  IoU       Dice        Acc\n",
            "background           38.82      55.93     100.00\n",
            "powerline             0.00       0.00       0.00\n",
            "Summary:\n",
            "Scope                 mIoU      mDice       mAcc       Powerline Dice      Background Dice       aAcc        TPR        TNR        FDR  Precision\n",
            "global               19.41      27.96      50.00                 0.00                55.93      38.82       0.00     100.00       0.00       0.00\n",
            "\n",
            "2022-07-20 11:36:02,663 - mmseg - INFO - Exp name: fcn_vanilla_unet_s5-d16_256x256_40k_hrf.py\n",
            "2022-07-20 11:36:02,667 - mmseg - INFO - Iter(val) [5000]\tmIoU: 0.1941, mDice: 0.2796, mAcc: 0.5000, plDice: 0.0000, bgDice: 55.9288, aAcc: 0.3882, TPR: 0.0000, TNR: 1.0000, FDR: 0, Precision: 0\n",
            "2022-07-20 11:36:12,737 - mmseg - INFO - Iter [5050/20000]\tlr: 7.927e-04, eta: 0:41:14, time: 0.253, data_time: 0.055, memory: 1570, decode.loss_seg: 0.7090, decode.acc_seg: 52.3221, loss: 0.7090\n",
            "2022-07-20 11:36:22,755 - mmseg - INFO - Iter [5100/20000]\tlr: 7.906e-04, eta: 0:41:11, time: 0.200, data_time: 0.003, memory: 1570, decode.loss_seg: 0.7093, decode.acc_seg: 51.5048, loss: 0.7093\n",
            "2022-07-20 11:36:32,942 - mmseg - INFO - Iter [5150/20000]\tlr: 7.885e-04, eta: 0:41:08, time: 0.204, data_time: 0.003, memory: 1570, decode.loss_seg: 0.7089, decode.acc_seg: 52.9540, loss: 0.7089\n",
            "2022-07-20 11:36:43,066 - mmseg - INFO - Saving checkpoint at 5200 iterations\n"
          ]
        },
        {
          "output_type": "stream",
          "name": "stdout",
          "text": [
            "[>>>>>>>>>>>>>>>>>>>>>>>>>>>>>>>>>>>] 3/3, 4.8 task/s, elapsed: 1s, ETA:     0s"
          ]
        },
        {
          "output_type": "stream",
          "name": "stderr",
          "text": [
            "2022-07-20 11:36:47,057 - mmseg - INFO - per class results:\n",
            "Class                  IoU       Dice        Acc\n",
            "background           38.82      55.93     100.00\n",
            "powerline             0.00       0.00       0.00\n",
            "Summary:\n",
            "Scope                 mIoU      mDice       mAcc       Powerline Dice      Background Dice       aAcc        TPR        TNR        FDR  Precision\n",
            "global               19.41      27.96      50.00                 0.00                55.93      38.82       0.00     100.00       0.00       0.00\n",
            "\n",
            "2022-07-20 11:36:47,060 - mmseg - INFO - Iter(val) [5200]\tmIoU: 0.1941, mDice: 0.2796, mAcc: 0.5000, plDice: 0.0000, bgDice: 55.9288, aAcc: 0.3882, TPR: 0.0000, TNR: 1.0000, FDR: 0, Precision: 0\n",
            "2022-07-20 11:36:57,134 - mmseg - INFO - Iter [5250/20000]\tlr: 7.843e-04, eta: 0:40:41, time: 0.254, data_time: 0.056, memory: 1570, decode.loss_seg: 0.7087, decode.acc_seg: 52.4825, loss: 0.7087\n",
            "2022-07-20 11:37:07,658 - mmseg - INFO - Iter [5300/20000]\tlr: 7.822e-04, eta: 0:40:39, time: 0.210, data_time: 0.003, memory: 1570, decode.loss_seg: 0.7078, decode.acc_seg: 54.7544, loss: 0.7078\n",
            "2022-07-20 11:37:18,020 - mmseg - INFO - Iter [5350/20000]\tlr: 7.801e-04, eta: 0:40:36, time: 0.208, data_time: 0.003, memory: 1570, decode.loss_seg: 0.7085, decode.acc_seg: 51.4308, loss: 0.7085\n",
            "2022-07-20 11:37:28,088 - mmseg - INFO - Saving checkpoint at 5400 iterations\n"
          ]
        },
        {
          "output_type": "stream",
          "name": "stdout",
          "text": [
            "[>>>>>>>>>>>>>>>>>>>>>>>>>>>>>>>>>>>] 3/3, 4.8 task/s, elapsed: 1s, ETA:     0s"
          ]
        },
        {
          "output_type": "stream",
          "name": "stderr",
          "text": [
            "2022-07-20 11:37:32,131 - mmseg - INFO - per class results:\n",
            "Class                  IoU       Dice        Acc\n",
            "background           38.82      55.93     100.00\n",
            "powerline             0.00       0.00       0.00\n",
            "Summary:\n",
            "Scope                 mIoU      mDice       mAcc       Powerline Dice      Background Dice       aAcc        TPR        TNR        FDR  Precision\n",
            "global               19.41      27.96      50.00                 0.00                55.93      38.82       0.00     100.00       0.00       0.00\n",
            "\n",
            "2022-07-20 11:37:32,137 - mmseg - INFO - Iter(val) [5400]\tmIoU: 0.1941, mDice: 0.2796, mAcc: 0.5000, plDice: 0.0000, bgDice: 55.9288, aAcc: 0.3882, TPR: 0.0000, TNR: 1.0000, FDR: 0, Precision: 0\n",
            "2022-07-20 11:37:42,568 - mmseg - INFO - Iter [5450/20000]\tlr: 7.760e-04, eta: 0:40:10, time: 0.263, data_time: 0.057, memory: 1570, decode.loss_seg: 0.7084, decode.acc_seg: 51.9184, loss: 0.7084\n",
            "2022-07-20 11:37:52,798 - mmseg - INFO - Iter [5500/20000]\tlr: 7.739e-04, eta: 0:40:07, time: 0.205, data_time: 0.003, memory: 1570, decode.loss_seg: 0.7087, decode.acc_seg: 52.0362, loss: 0.7087\n",
            "2022-07-20 11:38:02,913 - mmseg - INFO - Iter [5550/20000]\tlr: 7.718e-04, eta: 0:40:03, time: 0.202, data_time: 0.003, memory: 1570, decode.loss_seg: 0.7089, decode.acc_seg: 52.3924, loss: 0.7089\n",
            "2022-07-20 11:38:13,283 - mmseg - INFO - Saving checkpoint at 5600 iterations\n"
          ]
        },
        {
          "output_type": "stream",
          "name": "stdout",
          "text": [
            "[>>>>>>>>>>>>>>>>>>>>>>>>>>>>>>>>>>>] 3/3, 4.9 task/s, elapsed: 1s, ETA:     0s"
          ]
        },
        {
          "output_type": "stream",
          "name": "stderr",
          "text": [
            "2022-07-20 11:38:17,219 - mmseg - INFO - per class results:\n",
            "Class                  IoU       Dice        Acc\n",
            "background           38.82      55.93     100.00\n",
            "powerline             0.00       0.00       0.00\n",
            "Summary:\n",
            "Scope                 mIoU      mDice       mAcc       Powerline Dice      Background Dice       aAcc        TPR        TNR        FDR  Precision\n",
            "global               19.41      27.96      50.00                 0.00                55.93      38.82       0.00     100.00       0.00       0.00\n",
            "\n",
            "2022-07-20 11:38:17,224 - mmseg - INFO - Iter(val) [5600]\tmIoU: 0.1941, mDice: 0.2796, mAcc: 0.5000, plDice: 0.0000, bgDice: 55.9288, aAcc: 0.3882, TPR: 0.0000, TNR: 1.0000, FDR: 0, Precision: 0\n",
            "2022-07-20 11:38:27,720 - mmseg - INFO - Iter [5650/20000]\tlr: 7.676e-04, eta: 0:39:38, time: 0.262, data_time: 0.055, memory: 1570, decode.loss_seg: 0.7077, decode.acc_seg: 52.3610, loss: 0.7077\n",
            "2022-07-20 11:38:37,791 - mmseg - INFO - Iter [5700/20000]\tlr: 7.655e-04, eta: 0:39:34, time: 0.201, data_time: 0.003, memory: 1570, decode.loss_seg: 0.7090, decode.acc_seg: 53.0734, loss: 0.7090\n",
            "2022-07-20 11:38:48,167 - mmseg - INFO - Iter [5750/20000]\tlr: 7.634e-04, eta: 0:39:31, time: 0.208, data_time: 0.003, memory: 1570, decode.loss_seg: 0.7092, decode.acc_seg: 54.4632, loss: 0.7092\n",
            "2022-07-20 11:38:58,456 - mmseg - INFO - Saving checkpoint at 5800 iterations\n"
          ]
        },
        {
          "output_type": "stream",
          "name": "stdout",
          "text": [
            "[>>>>>>>>>>>>>>>>>>>>>>>>>>>>>>>>>>>] 3/3, 4.6 task/s, elapsed: 1s, ETA:     0s"
          ]
        },
        {
          "output_type": "stream",
          "name": "stderr",
          "text": [
            "2022-07-20 11:39:02,393 - mmseg - INFO - per class results:\n",
            "Class                  IoU       Dice        Acc\n",
            "background           38.82      55.93     100.00\n",
            "powerline             0.00       0.00       0.00\n",
            "Summary:\n",
            "Scope                 mIoU      mDice       mAcc       Powerline Dice      Background Dice       aAcc        TPR        TNR        FDR  Precision\n",
            "global               19.41      27.96      50.00                 0.00                55.93      38.82       0.00     100.00       0.00       0.00\n",
            "\n",
            "2022-07-20 11:39:02,395 - mmseg - INFO - Iter(val) [5800]\tmIoU: 0.1941, mDice: 0.2796, mAcc: 0.5000, plDice: 0.0000, bgDice: 55.9288, aAcc: 0.3882, TPR: 0.0000, TNR: 1.0000, FDR: 0, Precision: 0\n",
            "2022-07-20 11:39:12,706 - mmseg - INFO - Iter [5850/20000]\tlr: 7.592e-04, eta: 0:39:05, time: 0.258, data_time: 0.055, memory: 1570, decode.loss_seg: 0.7091, decode.acc_seg: 52.5102, loss: 0.7091\n",
            "2022-07-20 11:39:23,157 - mmseg - INFO - Iter [5900/20000]\tlr: 7.571e-04, eta: 0:39:02, time: 0.209, data_time: 0.003, memory: 1570, decode.loss_seg: 0.7083, decode.acc_seg: 53.1428, loss: 0.7083\n",
            "2022-07-20 11:39:33,486 - mmseg - INFO - Iter [5950/20000]\tlr: 7.550e-04, eta: 0:38:58, time: 0.207, data_time: 0.003, memory: 1570, decode.loss_seg: 0.7087, decode.acc_seg: 51.1976, loss: 0.7087\n",
            "2022-07-20 11:39:43,548 - mmseg - INFO - Saving checkpoint at 6000 iterations\n"
          ]
        },
        {
          "output_type": "stream",
          "name": "stdout",
          "text": [
            "[>>>>>>>>>>>>>>>>>>>>>>>>>>>>>>>>>>>] 3/3, 4.9 task/s, elapsed: 1s, ETA:     0s"
          ]
        },
        {
          "output_type": "stream",
          "name": "stderr",
          "text": [
            "2022-07-20 11:39:47,557 - mmseg - INFO - per class results:\n",
            "Class                  IoU       Dice        Acc\n",
            "background           38.82      55.93     100.00\n",
            "powerline             0.00       0.00       0.00\n",
            "Summary:\n",
            "Scope                 mIoU      mDice       mAcc       Powerline Dice      Background Dice       aAcc        TPR        TNR        FDR  Precision\n",
            "global               19.41      27.96      50.00                 0.00                55.93      38.82       0.00     100.00       0.00       0.00\n",
            "\n",
            "2022-07-20 11:39:47,559 - mmseg - INFO - Exp name: fcn_vanilla_unet_s5-d16_256x256_40k_hrf.py\n",
            "2022-07-20 11:39:47,564 - mmseg - INFO - Iter(val) [6000]\tmIoU: 0.1941, mDice: 0.2796, mAcc: 0.5000, plDice: 0.0000, bgDice: 55.9288, aAcc: 0.3882, TPR: 0.0000, TNR: 1.0000, FDR: 0, Precision: 0\n",
            "2022-07-20 11:39:57,989 - mmseg - INFO - Iter [6050/20000]\tlr: 7.508e-04, eta: 0:38:34, time: 0.262, data_time: 0.056, memory: 1570, decode.loss_seg: 0.7087, decode.acc_seg: 52.2372, loss: 0.7087\n",
            "2022-07-20 11:40:08,252 - mmseg - INFO - Iter [6100/20000]\tlr: 7.487e-04, eta: 0:38:30, time: 0.205, data_time: 0.003, memory: 1570, decode.loss_seg: 0.7094, decode.acc_seg: 51.9689, loss: 0.7094\n",
            "2022-07-20 11:40:18,468 - mmseg - INFO - Iter [6150/20000]\tlr: 7.466e-04, eta: 0:38:26, time: 0.204, data_time: 0.003, memory: 1570, decode.loss_seg: 0.7088, decode.acc_seg: 52.0261, loss: 0.7088\n",
            "2022-07-20 11:40:28,768 - mmseg - INFO - Saving checkpoint at 6200 iterations\n"
          ]
        },
        {
          "output_type": "stream",
          "name": "stdout",
          "text": [
            "[>>>>>>>>>>>>>>>>>>>>>>>>>>>>>>>>>>>] 3/3, 4.5 task/s, elapsed: 1s, ETA:     0s"
          ]
        },
        {
          "output_type": "stream",
          "name": "stderr",
          "text": [
            "2022-07-20 11:40:32,711 - mmseg - INFO - per class results:\n",
            "Class                  IoU       Dice        Acc\n",
            "background           38.82      55.93     100.00\n",
            "powerline             0.00       0.00       0.00\n",
            "Summary:\n",
            "Scope                 mIoU      mDice       mAcc       Powerline Dice      Background Dice       aAcc        TPR        TNR        FDR  Precision\n",
            "global               19.41      27.96      50.00                 0.00                55.93      38.82       0.00     100.00       0.00       0.00\n",
            "\n",
            "2022-07-20 11:40:32,713 - mmseg - INFO - Iter(val) [6200]\tmIoU: 0.1941, mDice: 0.2796, mAcc: 0.5000, plDice: 0.0000, bgDice: 55.9288, aAcc: 0.3882, TPR: 0.0000, TNR: 1.0000, FDR: 0, Precision: 0\n",
            "2022-07-20 11:40:43,093 - mmseg - INFO - Iter [6250/20000]\tlr: 7.424e-04, eta: 0:38:01, time: 0.261, data_time: 0.056, memory: 1570, decode.loss_seg: 0.7090, decode.acc_seg: 52.3785, loss: 0.7090\n",
            "2022-07-20 11:40:53,371 - mmseg - INFO - Iter [6300/20000]\tlr: 7.403e-04, eta: 0:37:57, time: 0.205, data_time: 0.003, memory: 1570, decode.loss_seg: 0.7091, decode.acc_seg: 53.0197, loss: 0.7091\n",
            "2022-07-20 11:41:03,945 - mmseg - INFO - Iter [6350/20000]\tlr: 7.382e-04, eta: 0:37:54, time: 0.211, data_time: 0.003, memory: 1570, decode.loss_seg: 0.7092, decode.acc_seg: 53.8932, loss: 0.7092\n",
            "2022-07-20 11:41:14,278 - mmseg - INFO - Saving checkpoint at 6400 iterations\n"
          ]
        },
        {
          "output_type": "stream",
          "name": "stdout",
          "text": [
            "[>>>>>>>>>>>>>>>>>>>>>>>>>>>>>>>>>>>] 3/3, 4.8 task/s, elapsed: 1s, ETA:     0s"
          ]
        },
        {
          "output_type": "stream",
          "name": "stderr",
          "text": [
            "2022-07-20 11:41:18,206 - mmseg - INFO - per class results:\n",
            "Class                  IoU       Dice        Acc\n",
            "background           38.82      55.93     100.00\n",
            "powerline             0.00       0.00       0.00\n",
            "Summary:\n",
            "Scope                 mIoU      mDice       mAcc       Powerline Dice      Background Dice       aAcc        TPR        TNR        FDR  Precision\n",
            "global               19.41      27.96      50.00                 0.00                55.93      38.82       0.00     100.00       0.00       0.00\n",
            "\n",
            "2022-07-20 11:41:18,209 - mmseg - INFO - Iter(val) [6400]\tmIoU: 0.1941, mDice: 0.2796, mAcc: 0.5000, plDice: 0.0000, bgDice: 55.9288, aAcc: 0.3882, TPR: 0.0000, TNR: 1.0000, FDR: 0, Precision: 0\n",
            "2022-07-20 11:41:28,585 - mmseg - INFO - Iter [6450/20000]\tlr: 7.340e-04, eta: 0:37:29, time: 0.259, data_time: 0.055, memory: 1570, decode.loss_seg: 0.7093, decode.acc_seg: 52.9147, loss: 0.7093\n",
            "2022-07-20 11:41:40,368 - mmseg - INFO - Iter [6500/20000]\tlr: 7.319e-04, eta: 0:37:28, time: 0.236, data_time: 0.003, memory: 1570, decode.loss_seg: 0.7081, decode.acc_seg: 53.6888, loss: 0.7081\n",
            "2022-07-20 11:41:50,823 - mmseg - INFO - Iter [6550/20000]\tlr: 7.298e-04, eta: 0:37:24, time: 0.209, data_time: 0.003, memory: 1570, decode.loss_seg: 0.7090, decode.acc_seg: 52.2625, loss: 0.7090\n",
            "2022-07-20 11:42:01,063 - mmseg - INFO - Saving checkpoint at 6600 iterations\n"
          ]
        },
        {
          "output_type": "stream",
          "name": "stdout",
          "text": [
            "[>>>>>>>>>>>>>>>>>>>>>>>>>>>>>>>>>>>] 3/3, 4.6 task/s, elapsed: 1s, ETA:     0s"
          ]
        },
        {
          "output_type": "stream",
          "name": "stderr",
          "text": [
            "2022-07-20 11:42:05,048 - mmseg - INFO - per class results:\n",
            "Class                  IoU       Dice        Acc\n",
            "background           38.82      55.93     100.00\n",
            "powerline             0.00       0.00       0.00\n",
            "Summary:\n",
            "Scope                 mIoU      mDice       mAcc       Powerline Dice      Background Dice       aAcc        TPR        TNR        FDR  Precision\n",
            "global               19.41      27.96      50.00                 0.00                55.93      38.82       0.00     100.00       0.00       0.00\n",
            "\n",
            "2022-07-20 11:42:05,051 - mmseg - INFO - Iter(val) [6600]\tmIoU: 0.1941, mDice: 0.2796, mAcc: 0.5000, plDice: 0.0000, bgDice: 55.9288, aAcc: 0.3882, TPR: 0.0000, TNR: 1.0000, FDR: 0, Precision: 0\n",
            "2022-07-20 11:42:15,801 - mmseg - INFO - Iter [6650/20000]\tlr: 7.256e-04, eta: 0:37:01, time: 0.268, data_time: 0.056, memory: 1570, decode.loss_seg: 0.7079, decode.acc_seg: 48.5719, loss: 0.7079\n",
            "2022-07-20 11:42:26,372 - mmseg - INFO - Iter [6700/20000]\tlr: 7.235e-04, eta: 0:36:57, time: 0.212, data_time: 0.003, memory: 1570, decode.loss_seg: 0.7084, decode.acc_seg: 51.0854, loss: 0.7084\n",
            "2022-07-20 11:42:36,752 - mmseg - INFO - Iter [6750/20000]\tlr: 7.214e-04, eta: 0:36:53, time: 0.207, data_time: 0.003, memory: 1570, decode.loss_seg: 0.7085, decode.acc_seg: 51.6279, loss: 0.7085\n",
            "2022-07-20 11:42:47,397 - mmseg - INFO - Saving checkpoint at 6800 iterations\n"
          ]
        },
        {
          "output_type": "stream",
          "name": "stdout",
          "text": [
            "[>>>>>>>>>>>>>>>>>>>>>>>>>>>>>>>>>>>] 3/3, 4.7 task/s, elapsed: 1s, ETA:     0s"
          ]
        },
        {
          "output_type": "stream",
          "name": "stderr",
          "text": [
            "2022-07-20 11:42:51,359 - mmseg - INFO - per class results:\n",
            "Class                  IoU       Dice        Acc\n",
            "background           38.82      55.93     100.00\n",
            "powerline             0.00       0.00       0.00\n",
            "Summary:\n",
            "Scope                 mIoU      mDice       mAcc       Powerline Dice      Background Dice       aAcc        TPR        TNR        FDR  Precision\n",
            "global               19.41      27.96      50.00                 0.00                55.93      38.82       0.00     100.00       0.00       0.00\n",
            "\n",
            "2022-07-20 11:42:51,363 - mmseg - INFO - Iter(val) [6800]\tmIoU: 0.1941, mDice: 0.2796, mAcc: 0.5000, plDice: 0.0000, bgDice: 55.9288, aAcc: 0.3882, TPR: 0.0000, TNR: 1.0000, FDR: 0, Precision: 0\n",
            "2022-07-20 11:43:01,932 - mmseg - INFO - Iter [6850/20000]\tlr: 7.171e-04, eta: 0:36:29, time: 0.264, data_time: 0.056, memory: 1570, decode.loss_seg: 0.7082, decode.acc_seg: 52.7623, loss: 0.7082\n",
            "2022-07-20 11:43:12,303 - mmseg - INFO - Iter [6900/20000]\tlr: 7.150e-04, eta: 0:36:25, time: 0.207, data_time: 0.003, memory: 1570, decode.loss_seg: 0.7088, decode.acc_seg: 54.9850, loss: 0.7088\n",
            "2022-07-20 11:43:22,964 - mmseg - INFO - Iter [6950/20000]\tlr: 7.129e-04, eta: 0:36:21, time: 0.213, data_time: 0.003, memory: 1570, decode.loss_seg: 0.7084, decode.acc_seg: 52.1316, loss: 0.7084\n",
            "2022-07-20 11:43:33,576 - mmseg - INFO - Saving checkpoint at 7000 iterations\n"
          ]
        },
        {
          "output_type": "stream",
          "name": "stdout",
          "text": [
            "[>>>>>>>>>>>>>>>>>>>>>>>>>>>>>>>>>>>] 3/3, 4.7 task/s, elapsed: 1s, ETA:     0s"
          ]
        },
        {
          "output_type": "stream",
          "name": "stderr",
          "text": [
            "2022-07-20 11:43:37,087 - mmseg - INFO - per class results:\n",
            "Class                  IoU       Dice        Acc\n",
            "background            0.00       0.00       0.00\n",
            "powerline            53.72      69.89      92.06\n",
            "Summary:\n",
            "Scope                 mIoU      mDice       mAcc       Powerline Dice      Background Dice       aAcc        TPR        TNR        FDR  Precision\n",
            "global               26.86      34.95      46.03                69.89                 0.00      56.32     100.00       0.00      40.80      59.20\n",
            "\n",
            "2022-07-20 11:43:37,090 - mmseg - INFO - Exp name: fcn_vanilla_unet_s5-d16_256x256_40k_hrf.py\n",
            "2022-07-20 11:43:37,097 - mmseg - INFO - Iter(val) [7000]\tmIoU: 0.2686, mDice: 0.3495, mAcc: 0.4603, plDice: 69.8903, bgDice: 0.0000, aAcc: 0.5632, TPR: 1.0000, TNR: 0.0000, FDR: 0.4080, Precision: 0.5920\n",
            "2022-07-20 11:43:47,520 - mmseg - INFO - Iter [7050/20000]\tlr: 7.087e-04, eta: 0:35:57, time: 0.252, data_time: 0.047, memory: 1570, decode.loss_seg: 0.7082, decode.acc_seg: 50.8381, loss: 0.7082\n",
            "2022-07-20 11:43:58,301 - mmseg - INFO - Iter [7100/20000]\tlr: 7.066e-04, eta: 0:35:53, time: 0.216, data_time: 0.003, memory: 1570, decode.loss_seg: 0.7094, decode.acc_seg: 52.3490, loss: 0.7094\n",
            "2022-07-20 11:44:08,846 - mmseg - INFO - Iter [7150/20000]\tlr: 7.044e-04, eta: 0:35:48, time: 0.211, data_time: 0.003, memory: 1570, decode.loss_seg: 0.7092, decode.acc_seg: 54.3943, loss: 0.7092\n",
            "2022-07-20 11:44:19,173 - mmseg - INFO - Saving checkpoint at 7200 iterations\n"
          ]
        },
        {
          "output_type": "stream",
          "name": "stdout",
          "text": [
            "[>>>>>>>>>>>>>>>>>>>>>>>>>>>>>>>>>>>] 3/3, 4.8 task/s, elapsed: 1s, ETA:     0s"
          ]
        },
        {
          "output_type": "stream",
          "name": "stderr",
          "text": [
            "2022-07-20 11:44:23,086 - mmseg - INFO - per class results:\n",
            "Class                  IoU       Dice        Acc\n",
            "background           38.82      55.93     100.00\n",
            "powerline             0.00       0.00       0.00\n",
            "Summary:\n",
            "Scope                 mIoU      mDice       mAcc       Powerline Dice      Background Dice       aAcc        TPR        TNR        FDR  Precision\n",
            "global               19.41      27.96      50.00                 0.00                55.93      38.82       0.00     100.00       0.00       0.00\n",
            "\n",
            "2022-07-20 11:44:23,094 - mmseg - INFO - Iter(val) [7200]\tmIoU: 0.1941, mDice: 0.2796, mAcc: 0.5000, plDice: 0.0000, bgDice: 55.9288, aAcc: 0.3882, TPR: 0.0000, TNR: 1.0000, FDR: 0, Precision: 0\n",
            "2022-07-20 11:44:33,817 - mmseg - INFO - Iter [7250/20000]\tlr: 7.002e-04, eta: 0:35:26, time: 0.266, data_time: 0.055, memory: 1570, decode.loss_seg: 0.7084, decode.acc_seg: 52.7934, loss: 0.7084\n",
            "2022-07-20 11:44:44,560 - mmseg - INFO - Iter [7300/20000]\tlr: 6.981e-04, eta: 0:35:21, time: 0.215, data_time: 0.003, memory: 1570, decode.loss_seg: 0.7080, decode.acc_seg: 49.7768, loss: 0.7080\n",
            "2022-07-20 11:44:55,016 - mmseg - INFO - Iter [7350/20000]\tlr: 6.960e-04, eta: 0:35:17, time: 0.209, data_time: 0.003, memory: 1570, decode.loss_seg: 0.7079, decode.acc_seg: 52.0978, loss: 0.7079\n",
            "2022-07-20 11:45:05,667 - mmseg - INFO - Saving checkpoint at 7400 iterations\n"
          ]
        },
        {
          "output_type": "stream",
          "name": "stdout",
          "text": [
            "[>>>>>>>>>>>>>>>>>>>>>>>>>>>>>>>>>>>] 3/3, 4.4 task/s, elapsed: 1s, ETA:     0s"
          ]
        },
        {
          "output_type": "stream",
          "name": "stderr",
          "text": [
            "2022-07-20 11:45:09,617 - mmseg - INFO - per class results:\n",
            "Class                  IoU       Dice        Acc\n",
            "background           38.82      55.93     100.00\n",
            "powerline             0.00       0.00       0.00\n",
            "Summary:\n",
            "Scope                 mIoU      mDice       mAcc       Powerline Dice      Background Dice       aAcc        TPR        TNR        FDR  Precision\n",
            "global               19.41      27.96      50.00                 0.00                55.93      38.82       0.00     100.00       0.00       0.00\n",
            "\n",
            "2022-07-20 11:45:09,620 - mmseg - INFO - Iter(val) [7400]\tmIoU: 0.1941, mDice: 0.2796, mAcc: 0.5000, plDice: 0.0000, bgDice: 55.9288, aAcc: 0.3882, TPR: 0.0000, TNR: 1.0000, FDR: 0, Precision: 0\n",
            "2022-07-20 11:45:20,325 - mmseg - INFO - Iter [7450/20000]\tlr: 6.917e-04, eta: 0:34:54, time: 0.266, data_time: 0.055, memory: 1570, decode.loss_seg: 0.7084, decode.acc_seg: 52.7637, loss: 0.7084\n",
            "2022-07-20 11:45:30,808 - mmseg - INFO - Iter [7500/20000]\tlr: 6.896e-04, eta: 0:34:49, time: 0.210, data_time: 0.003, memory: 1570, decode.loss_seg: 0.7079, decode.acc_seg: 48.2938, loss: 0.7079\n",
            "2022-07-20 11:45:41,520 - mmseg - INFO - Iter [7550/20000]\tlr: 6.875e-04, eta: 0:34:45, time: 0.214, data_time: 0.003, memory: 1570, decode.loss_seg: 0.7093, decode.acc_seg: 49.3732, loss: 0.7093\n",
            "2022-07-20 11:45:52,158 - mmseg - INFO - Saving checkpoint at 7600 iterations\n"
          ]
        },
        {
          "output_type": "stream",
          "name": "stdout",
          "text": [
            "[>>>>>>>>>>>>>>>>>>>>>>>>>>>>>>>>>>>] 3/3, 4.6 task/s, elapsed: 1s, ETA:     0s"
          ]
        },
        {
          "output_type": "stream",
          "name": "stderr",
          "text": [
            "2022-07-20 11:45:55,706 - mmseg - INFO - per class results:\n",
            "Class                  IoU       Dice        Acc\n",
            "background            0.00       0.00       0.00\n",
            "powerline            53.72      69.89      92.06\n",
            "Summary:\n",
            "Scope                 mIoU      mDice       mAcc       Powerline Dice      Background Dice       aAcc        TPR        TNR        FDR  Precision\n",
            "global               26.86      34.95      46.03                69.89                 0.00      56.32     100.00       0.00      40.80      59.20\n",
            "\n",
            "2022-07-20 11:45:55,709 - mmseg - INFO - Iter(val) [7600]\tmIoU: 0.2686, mDice: 0.3495, mAcc: 0.4603, plDice: 69.8903, bgDice: 0.0000, aAcc: 0.5632, TPR: 1.0000, TNR: 0.0000, FDR: 0.4080, Precision: 0.5920\n",
            "2022-07-20 11:46:06,252 - mmseg - INFO - Iter [7650/20000]\tlr: 6.832e-04, eta: 0:34:22, time: 0.255, data_time: 0.047, memory: 1570, decode.loss_seg: 0.7078, decode.acc_seg: 51.6305, loss: 0.7078\n",
            "2022-07-20 11:46:17,056 - mmseg - INFO - Iter [7700/20000]\tlr: 6.811e-04, eta: 0:34:17, time: 0.216, data_time: 0.003, memory: 1570, decode.loss_seg: 0.7082, decode.acc_seg: 53.6632, loss: 0.7082\n",
            "2022-07-20 11:46:27,681 - mmseg - INFO - Iter [7750/20000]\tlr: 6.790e-04, eta: 0:34:13, time: 0.213, data_time: 0.003, memory: 1570, decode.loss_seg: 0.7085, decode.acc_seg: 52.4805, loss: 0.7085\n",
            "2022-07-20 11:46:38,049 - mmseg - INFO - Saving checkpoint at 7800 iterations\n"
          ]
        },
        {
          "output_type": "stream",
          "name": "stdout",
          "text": [
            "[>>>>>>>>>>>>>>>>>>>>>>>>>>>>>>>>>>>] 3/3, 4.6 task/s, elapsed: 1s, ETA:     0s"
          ]
        },
        {
          "output_type": "stream",
          "name": "stderr",
          "text": [
            "2022-07-20 11:46:41,994 - mmseg - INFO - per class results:\n",
            "Class                  IoU       Dice        Acc\n",
            "background           38.82      55.93     100.00\n",
            "powerline             0.00       0.00       0.00\n",
            "Summary:\n",
            "Scope                 mIoU      mDice       mAcc       Powerline Dice      Background Dice       aAcc        TPR        TNR        FDR  Precision\n",
            "global               19.41      27.96      50.00                 0.00                55.93      38.82       0.00     100.00       0.00       0.00\n",
            "\n",
            "2022-07-20 11:46:41,996 - mmseg - INFO - Iter(val) [7800]\tmIoU: 0.1941, mDice: 0.2796, mAcc: 0.5000, plDice: 0.0000, bgDice: 55.9288, aAcc: 0.3882, TPR: 0.0000, TNR: 1.0000, FDR: 0, Precision: 0\n",
            "2022-07-20 11:46:52,866 - mmseg - INFO - Iter [7850/20000]\tlr: 6.747e-04, eta: 0:33:51, time: 0.269, data_time: 0.055, memory: 1570, decode.loss_seg: 0.7085, decode.acc_seg: 53.8218, loss: 0.7085\n",
            "2022-07-20 11:47:03,526 - mmseg - INFO - Iter [7900/20000]\tlr: 6.726e-04, eta: 0:33:46, time: 0.213, data_time: 0.003, memory: 1570, decode.loss_seg: 0.7090, decode.acc_seg: 53.1427, loss: 0.7090\n",
            "2022-07-20 11:47:14,072 - mmseg - INFO - Iter [7950/20000]\tlr: 6.705e-04, eta: 0:33:41, time: 0.211, data_time: 0.003, memory: 1570, decode.loss_seg: 0.7091, decode.acc_seg: 51.3990, loss: 0.7091\n",
            "2022-07-20 11:47:24,818 - mmseg - INFO - Saving checkpoint at 8000 iterations\n"
          ]
        },
        {
          "output_type": "stream",
          "name": "stdout",
          "text": [
            "[>>>>>>>>>>>>>>>>>>>>>>>>>>>>>>>>>>>] 3/3, 4.6 task/s, elapsed: 1s, ETA:     0s"
          ]
        },
        {
          "output_type": "stream",
          "name": "stderr",
          "text": [
            "2022-07-20 11:47:28,364 - mmseg - INFO - per class results:\n",
            "Class                  IoU       Dice        Acc\n",
            "background            0.00       0.00       0.00\n",
            "powerline            53.72      69.89      92.06\n",
            "Summary:\n",
            "Scope                 mIoU      mDice       mAcc       Powerline Dice      Background Dice       aAcc        TPR        TNR        FDR  Precision\n",
            "global               26.86      34.95      46.03                69.89                 0.00      56.32     100.00       0.00      40.80      59.20\n",
            "\n",
            "2022-07-20 11:47:28,372 - mmseg - INFO - Exp name: fcn_vanilla_unet_s5-d16_256x256_40k_hrf.py\n",
            "2022-07-20 11:47:28,373 - mmseg - INFO - Iter(val) [8000]\tmIoU: 0.2686, mDice: 0.3495, mAcc: 0.4603, plDice: 69.8903, bgDice: 0.0000, aAcc: 0.5632, TPR: 1.0000, TNR: 0.0000, FDR: 0.4080, Precision: 0.5920\n",
            "2022-07-20 11:47:39,121 - mmseg - INFO - Iter [8050/20000]\tlr: 6.662e-04, eta: 0:33:18, time: 0.259, data_time: 0.047, memory: 1570, decode.loss_seg: 0.7082, decode.acc_seg: 52.0071, loss: 0.7082\n",
            "2022-07-20 11:47:49,716 - mmseg - INFO - Iter [8100/20000]\tlr: 6.641e-04, eta: 0:33:13, time: 0.212, data_time: 0.003, memory: 1570, decode.loss_seg: 0.7077, decode.acc_seg: 50.5944, loss: 0.7077\n",
            "2022-07-20 11:48:00,635 - mmseg - INFO - Iter [8150/20000]\tlr: 6.619e-04, eta: 0:33:09, time: 0.218, data_time: 0.003, memory: 1570, decode.loss_seg: 0.7086, decode.acc_seg: 47.1391, loss: 0.7086\n",
            "2022-07-20 11:48:11,304 - mmseg - INFO - Saving checkpoint at 8200 iterations\n"
          ]
        },
        {
          "output_type": "stream",
          "name": "stdout",
          "text": [
            "[>>>>>>>>>>>>>>>>>>>>>>>>>>>>>>>>>>>] 3/3, 4.6 task/s, elapsed: 1s, ETA:     0s"
          ]
        },
        {
          "output_type": "stream",
          "name": "stderr",
          "text": [
            "2022-07-20 11:48:15,280 - mmseg - INFO - per class results:\n",
            "Class                  IoU       Dice        Acc\n",
            "background           38.82      55.93     100.00\n",
            "powerline             0.00       0.00       0.00\n",
            "Summary:\n",
            "Scope                 mIoU      mDice       mAcc       Powerline Dice      Background Dice       aAcc        TPR        TNR        FDR  Precision\n",
            "global               19.41      27.96      50.00                 0.00                55.93      38.82       0.00     100.00       0.00       0.00\n",
            "\n",
            "2022-07-20 11:48:15,283 - mmseg - INFO - Iter(val) [8200]\tmIoU: 0.1941, mDice: 0.2796, mAcc: 0.5000, plDice: 0.0000, bgDice: 55.9288, aAcc: 0.3882, TPR: 0.0000, TNR: 1.0000, FDR: 0, Precision: 0\n",
            "2022-07-20 11:48:26,014 - mmseg - INFO - Iter [8250/20000]\tlr: 6.577e-04, eta: 0:32:47, time: 0.268, data_time: 0.057, memory: 1570, decode.loss_seg: 0.7087, decode.acc_seg: 53.9717, loss: 0.7087\n",
            "2022-07-20 11:48:36,959 - mmseg - INFO - Iter [8300/20000]\tlr: 6.555e-04, eta: 0:32:42, time: 0.219, data_time: 0.003, memory: 1570, decode.loss_seg: 0.7094, decode.acc_seg: 52.1157, loss: 0.7094\n",
            "2022-07-20 11:48:47,813 - mmseg - INFO - Iter [8350/20000]\tlr: 6.534e-04, eta: 0:32:37, time: 0.217, data_time: 0.003, memory: 1570, decode.loss_seg: 0.7093, decode.acc_seg: 52.0958, loss: 0.7093\n",
            "2022-07-20 11:48:58,403 - mmseg - INFO - Saving checkpoint at 8400 iterations\n"
          ]
        },
        {
          "output_type": "stream",
          "name": "stdout",
          "text": [
            "[>>>>>>>>>>>>>>>>>>>>>>>>>>>>>>>>>>>] 3/3, 4.5 task/s, elapsed: 1s, ETA:     0s"
          ]
        },
        {
          "output_type": "stream",
          "name": "stderr",
          "text": [
            "2022-07-20 11:49:02,346 - mmseg - INFO - per class results:\n",
            "Class                  IoU       Dice        Acc\n",
            "background           38.82      55.93     100.00\n",
            "powerline             0.00       0.00       0.00\n",
            "Summary:\n",
            "Scope                 mIoU      mDice       mAcc       Powerline Dice      Background Dice       aAcc        TPR        TNR        FDR  Precision\n",
            "global               19.41      27.96      50.00                 0.00                55.93      38.82       0.00     100.00       0.00       0.00\n",
            "\n",
            "2022-07-20 11:49:02,355 - mmseg - INFO - Iter(val) [8400]\tmIoU: 0.1941, mDice: 0.2796, mAcc: 0.5000, plDice: 0.0000, bgDice: 55.9288, aAcc: 0.3882, TPR: 0.0000, TNR: 1.0000, FDR: 0, Precision: 0\n",
            "2022-07-20 11:49:13,329 - mmseg - INFO - Iter [8450/20000]\tlr: 6.491e-04, eta: 0:32:16, time: 0.272, data_time: 0.056, memory: 1570, decode.loss_seg: 0.7089, decode.acc_seg: 49.4035, loss: 0.7089\n",
            "2022-07-20 11:49:24,151 - mmseg - INFO - Iter [8500/20000]\tlr: 6.470e-04, eta: 0:32:11, time: 0.217, data_time: 0.003, memory: 1570, decode.loss_seg: 0.7082, decode.acc_seg: 51.7865, loss: 0.7082\n",
            "2022-07-20 11:49:34,771 - mmseg - INFO - Iter [8550/20000]\tlr: 6.448e-04, eta: 0:32:06, time: 0.212, data_time: 0.003, memory: 1570, decode.loss_seg: 0.7091, decode.acc_seg: 52.1168, loss: 0.7091\n",
            "2022-07-20 11:49:45,557 - mmseg - INFO - Saving checkpoint at 8600 iterations\n"
          ]
        },
        {
          "output_type": "stream",
          "name": "stdout",
          "text": [
            "[>>>>>>>>>>>>>>>>>>>>>>>>>>>>>>>>>>>] 3/3, 4.5 task/s, elapsed: 1s, ETA:     0s"
          ]
        },
        {
          "output_type": "stream",
          "name": "stderr",
          "text": [
            "2022-07-20 11:49:49,123 - mmseg - INFO - per class results:\n",
            "Class                  IoU       Dice        Acc\n",
            "background            0.00       0.00       0.00\n",
            "powerline            53.72      69.89      92.06\n",
            "Summary:\n",
            "Scope                 mIoU      mDice       mAcc       Powerline Dice      Background Dice       aAcc        TPR        TNR        FDR  Precision\n",
            "global               26.86      34.95      46.03                69.89                 0.00      56.32     100.00       0.00      40.80      59.20\n",
            "\n",
            "2022-07-20 11:49:49,126 - mmseg - INFO - Iter(val) [8600]\tmIoU: 0.2686, mDice: 0.3495, mAcc: 0.4603, plDice: 69.8903, bgDice: 0.0000, aAcc: 0.5632, TPR: 1.0000, TNR: 0.0000, FDR: 0.4080, Precision: 0.5920\n",
            "2022-07-20 11:49:59,999 - mmseg - INFO - Iter [8650/20000]\tlr: 6.406e-04, eta: 0:31:44, time: 0.262, data_time: 0.048, memory: 1570, decode.loss_seg: 0.7086, decode.acc_seg: 50.7971, loss: 0.7086\n",
            "2022-07-20 11:50:10,593 - mmseg - INFO - Iter [8700/20000]\tlr: 6.384e-04, eta: 0:31:38, time: 0.212, data_time: 0.003, memory: 1570, decode.loss_seg: 0.7092, decode.acc_seg: 49.5103, loss: 0.7092\n",
            "2022-07-20 11:50:21,523 - mmseg - INFO - Iter [8750/20000]\tlr: 6.363e-04, eta: 0:31:33, time: 0.219, data_time: 0.003, memory: 1570, decode.loss_seg: 0.7095, decode.acc_seg: 53.1361, loss: 0.7095\n",
            "2022-07-20 11:50:32,302 - mmseg - INFO - Saving checkpoint at 8800 iterations\n"
          ]
        },
        {
          "output_type": "stream",
          "name": "stdout",
          "text": [
            "[>>>>>>>>>>>>>>>>>>>>>>>>>>>>>>>>>>>] 3/3, 4.4 task/s, elapsed: 1s, ETA:     0s"
          ]
        },
        {
          "output_type": "stream",
          "name": "stderr",
          "text": [
            "2022-07-20 11:50:36,319 - mmseg - INFO - per class results:\n",
            "Class                  IoU       Dice        Acc\n",
            "background           38.82      55.93     100.00\n",
            "powerline             0.00       0.00       0.00\n",
            "Summary:\n",
            "Scope                 mIoU      mDice       mAcc       Powerline Dice      Background Dice       aAcc        TPR        TNR        FDR  Precision\n",
            "global               19.41      27.96      50.00                 0.00                55.93      38.82       0.00     100.00       0.00       0.00\n",
            "\n",
            "2022-07-20 11:50:36,322 - mmseg - INFO - Iter(val) [8800]\tmIoU: 0.1941, mDice: 0.2796, mAcc: 0.5000, plDice: 0.0000, bgDice: 55.9288, aAcc: 0.3882, TPR: 0.0000, TNR: 1.0000, FDR: 0, Precision: 0\n",
            "2022-07-20 11:50:47,085 - mmseg - INFO - Iter [8850/20000]\tlr: 6.320e-04, eta: 0:31:12, time: 0.269, data_time: 0.057, memory: 1570, decode.loss_seg: 0.7085, decode.acc_seg: 51.3767, loss: 0.7085\n",
            "2022-07-20 11:50:58,092 - mmseg - INFO - Iter [8900/20000]\tlr: 6.298e-04, eta: 0:31:07, time: 0.220, data_time: 0.003, memory: 1570, decode.loss_seg: 0.7092, decode.acc_seg: 52.9927, loss: 0.7092\n",
            "2022-07-20 11:51:09,109 - mmseg - INFO - Iter [8950/20000]\tlr: 6.277e-04, eta: 0:31:02, time: 0.220, data_time: 0.003, memory: 1570, decode.loss_seg: 0.7098, decode.acc_seg: 48.7356, loss: 0.7098\n",
            "2022-07-20 11:51:19,855 - mmseg - INFO - Saving checkpoint at 9000 iterations\n"
          ]
        },
        {
          "output_type": "stream",
          "name": "stdout",
          "text": [
            "[>>>>>>>>>>>>>>>>>>>>>>>>>>>>>>>>>>>] 3/3, 4.4 task/s, elapsed: 1s, ETA:     0s"
          ]
        },
        {
          "output_type": "stream",
          "name": "stderr",
          "text": [
            "2022-07-20 11:51:23,889 - mmseg - INFO - per class results:\n",
            "Class                  IoU       Dice        Acc\n",
            "background           38.82      55.93     100.00\n",
            "powerline             0.00       0.00       0.00\n",
            "Summary:\n",
            "Scope                 mIoU      mDice       mAcc       Powerline Dice      Background Dice       aAcc        TPR        TNR        FDR  Precision\n",
            "global               19.41      27.96      50.00                 0.00                55.93      38.82       0.00     100.00       0.00       0.00\n",
            "\n",
            "2022-07-20 11:51:23,891 - mmseg - INFO - Exp name: fcn_vanilla_unet_s5-d16_256x256_40k_hrf.py\n",
            "2022-07-20 11:51:23,899 - mmseg - INFO - Iter(val) [9000]\tmIoU: 0.1941, mDice: 0.2796, mAcc: 0.5000, plDice: 0.0000, bgDice: 55.9288, aAcc: 0.3882, TPR: 0.0000, TNR: 1.0000, FDR: 0, Precision: 0\n",
            "2022-07-20 11:51:35,068 - mmseg - INFO - Iter [9050/20000]\tlr: 6.234e-04, eta: 0:30:41, time: 0.277, data_time: 0.057, memory: 1570, decode.loss_seg: 0.7079, decode.acc_seg: 50.5291, loss: 0.7079\n",
            "2022-07-20 11:51:45,960 - mmseg - INFO - Iter [9100/20000]\tlr: 6.212e-04, eta: 0:30:36, time: 0.218, data_time: 0.003, memory: 1570, decode.loss_seg: 0.7099, decode.acc_seg: 53.0291, loss: 0.7099\n",
            "2022-07-20 11:51:56,587 - mmseg - INFO - Iter [9150/20000]\tlr: 6.191e-04, eta: 0:30:30, time: 0.212, data_time: 0.003, memory: 1570, decode.loss_seg: 0.7089, decode.acc_seg: 53.3714, loss: 0.7089\n",
            "2022-07-20 11:52:07,566 - mmseg - INFO - Saving checkpoint at 9200 iterations\n"
          ]
        },
        {
          "output_type": "stream",
          "name": "stdout",
          "text": [
            "[>>>>>>>>>>>>>>>>>>>>>>>>>>>>>>>>>>>] 3/3, 4.6 task/s, elapsed: 1s, ETA:     0s"
          ]
        },
        {
          "output_type": "stream",
          "name": "stderr",
          "text": [
            "2022-07-20 11:52:11,556 - mmseg - INFO - per class results:\n",
            "Class                  IoU       Dice        Acc\n",
            "background           38.82      55.93     100.00\n",
            "powerline             0.00       0.00       0.00\n",
            "Summary:\n",
            "Scope                 mIoU      mDice       mAcc       Powerline Dice      Background Dice       aAcc        TPR        TNR        FDR  Precision\n",
            "global               19.41      27.96      50.00                 0.00                55.93      38.82       0.00     100.00       0.00       0.00\n",
            "\n",
            "2022-07-20 11:52:11,559 - mmseg - INFO - Iter(val) [9200]\tmIoU: 0.1941, mDice: 0.2796, mAcc: 0.5000, plDice: 0.0000, bgDice: 55.9288, aAcc: 0.3882, TPR: 0.0000, TNR: 1.0000, FDR: 0, Precision: 0\n",
            "2022-07-20 11:52:22,597 - mmseg - INFO - Iter [9250/20000]\tlr: 6.148e-04, eta: 0:30:09, time: 0.274, data_time: 0.056, memory: 1570, decode.loss_seg: 0.7091, decode.acc_seg: 48.9406, loss: 0.7091\n",
            "2022-07-20 11:52:33,310 - mmseg - INFO - Iter [9300/20000]\tlr: 6.126e-04, eta: 0:30:04, time: 0.214, data_time: 0.003, memory: 1570, decode.loss_seg: 0.7087, decode.acc_seg: 50.4433, loss: 0.7087\n",
            "2022-07-20 11:52:44,372 - mmseg - INFO - Iter [9350/20000]\tlr: 6.105e-04, eta: 0:29:58, time: 0.221, data_time: 0.003, memory: 1570, decode.loss_seg: 0.7091, decode.acc_seg: 45.9907, loss: 0.7091\n",
            "2022-07-20 11:52:55,221 - mmseg - INFO - Saving checkpoint at 9400 iterations\n"
          ]
        },
        {
          "output_type": "stream",
          "name": "stdout",
          "text": [
            "[>>>>>>>>>>>>>>>>>>>>>>>>>>>>>>>>>>>] 3/3, 2.3 task/s, elapsed: 1s, ETA:     0s"
          ]
        },
        {
          "output_type": "stream",
          "name": "stderr",
          "text": [
            "2022-07-20 11:52:59,870 - mmseg - INFO - per class results:\n",
            "Class                  IoU       Dice        Acc\n",
            "background           38.82      55.93     100.00\n",
            "powerline             0.00       0.00       0.00\n",
            "Summary:\n",
            "Scope                 mIoU      mDice       mAcc       Powerline Dice      Background Dice       aAcc        TPR        TNR        FDR  Precision\n",
            "global               19.41      27.96      50.00                 0.00                55.93      38.82       0.00     100.00       0.00       0.00\n",
            "\n",
            "2022-07-20 11:52:59,874 - mmseg - INFO - Iter(val) [9400]\tmIoU: 0.1941, mDice: 0.2796, mAcc: 0.5000, plDice: 0.0000, bgDice: 55.9288, aAcc: 0.3882, TPR: 0.0000, TNR: 1.0000, FDR: 0, Precision: 0\n",
            "2022-07-20 11:53:10,706 - mmseg - INFO - Iter [9450/20000]\tlr: 6.062e-04, eta: 0:29:38, time: 0.283, data_time: 0.069, memory: 1570, decode.loss_seg: 0.7093, decode.acc_seg: 49.4679, loss: 0.7093\n",
            "2022-07-20 11:53:21,752 - mmseg - INFO - Iter [9500/20000]\tlr: 6.040e-04, eta: 0:29:33, time: 0.221, data_time: 0.003, memory: 1570, decode.loss_seg: 0.7100, decode.acc_seg: 54.4865, loss: 0.7100\n",
            "2022-07-20 11:53:32,751 - mmseg - INFO - Iter [9550/20000]\tlr: 6.018e-04, eta: 0:29:27, time: 0.220, data_time: 0.003, memory: 1570, decode.loss_seg: 0.7080, decode.acc_seg: 50.6622, loss: 0.7080\n",
            "2022-07-20 11:53:43,482 - mmseg - INFO - Saving checkpoint at 9600 iterations\n"
          ]
        },
        {
          "output_type": "stream",
          "name": "stdout",
          "text": [
            "[>>>>>>>>>>>>>>>>>>>>>>>>>>>>>>>>>>>] 3/3, 4.4 task/s, elapsed: 1s, ETA:     0s"
          ]
        },
        {
          "output_type": "stream",
          "name": "stderr",
          "text": [
            "2022-07-20 11:53:47,481 - mmseg - INFO - per class results:\n",
            "Class                  IoU       Dice        Acc\n",
            "background           38.82      55.93     100.00\n",
            "powerline             0.00       0.00       0.00\n",
            "Summary:\n",
            "Scope                 mIoU      mDice       mAcc       Powerline Dice      Background Dice       aAcc        TPR        TNR        FDR  Precision\n",
            "global               19.41      27.96      50.00                 0.00                55.93      38.82       0.00     100.00       0.00       0.00\n",
            "\n",
            "2022-07-20 11:53:47,484 - mmseg - INFO - Iter(val) [9600]\tmIoU: 0.1941, mDice: 0.2796, mAcc: 0.5000, plDice: 0.0000, bgDice: 55.9288, aAcc: 0.3882, TPR: 0.0000, TNR: 1.0000, FDR: 0, Precision: 0\n",
            "2022-07-20 11:53:58,605 - mmseg - INFO - Iter [9650/20000]\tlr: 5.975e-04, eta: 0:29:07, time: 0.276, data_time: 0.056, memory: 1570, decode.loss_seg: 0.7092, decode.acc_seg: 53.3328, loss: 0.7092\n",
            "2022-07-20 11:54:09,598 - mmseg - INFO - Iter [9700/20000]\tlr: 5.953e-04, eta: 0:29:01, time: 0.220, data_time: 0.003, memory: 1570, decode.loss_seg: 0.7083, decode.acc_seg: 51.5584, loss: 0.7083\n",
            "2022-07-20 11:54:20,389 - mmseg - INFO - Iter [9750/20000]\tlr: 5.932e-04, eta: 0:28:55, time: 0.216, data_time: 0.003, memory: 1570, decode.loss_seg: 0.7085, decode.acc_seg: 54.2968, loss: 0.7085\n",
            "2022-07-20 11:54:31,391 - mmseg - INFO - Saving checkpoint at 9800 iterations\n"
          ]
        },
        {
          "output_type": "stream",
          "name": "stdout",
          "text": [
            "[>>>>>>>>>>>>>>>>>>>>>>>>>>>>>>>>>>>] 3/3, 4.7 task/s, elapsed: 1s, ETA:     0s"
          ]
        },
        {
          "output_type": "stream",
          "name": "stderr",
          "text": [
            "2022-07-20 11:54:35,344 - mmseg - INFO - per class results:\n",
            "Class                  IoU       Dice        Acc\n",
            "background           38.82      55.93     100.00\n",
            "powerline             0.00       0.00       0.00\n",
            "Summary:\n",
            "Scope                 mIoU      mDice       mAcc       Powerline Dice      Background Dice       aAcc        TPR        TNR        FDR  Precision\n",
            "global               19.41      27.96      50.00                 0.00                55.93      38.82       0.00     100.00       0.00       0.00\n",
            "\n",
            "2022-07-20 11:54:35,347 - mmseg - INFO - Iter(val) [9800]\tmIoU: 0.1941, mDice: 0.2796, mAcc: 0.5000, plDice: 0.0000, bgDice: 55.9288, aAcc: 0.3882, TPR: 0.0000, TNR: 1.0000, FDR: 0, Precision: 0\n",
            "2022-07-20 11:54:46,489 - mmseg - INFO - Iter [9850/20000]\tlr: 5.888e-04, eta: 0:28:35, time: 0.275, data_time: 0.055, memory: 1570, decode.loss_seg: 0.7097, decode.acc_seg: 50.2422, loss: 0.7097\n",
            "2022-07-20 11:54:57,381 - mmseg - INFO - Iter [9900/20000]\tlr: 5.867e-04, eta: 0:28:29, time: 0.218, data_time: 0.003, memory: 1570, decode.loss_seg: 0.7094, decode.acc_seg: 52.9224, loss: 0.7094\n",
            "2022-07-20 11:55:08,510 - mmseg - INFO - Iter [9950/20000]\tlr: 5.845e-04, eta: 0:28:23, time: 0.223, data_time: 0.003, memory: 1570, decode.loss_seg: 0.7082, decode.acc_seg: 48.5685, loss: 0.7082\n",
            "2022-07-20 11:55:19,445 - mmseg - INFO - Saving checkpoint at 10000 iterations\n"
          ]
        },
        {
          "output_type": "stream",
          "name": "stdout",
          "text": [
            "[>>>>>>>>>>>>>>>>>>>>>>>>>>>>>>>>>>>] 3/3, 4.5 task/s, elapsed: 1s, ETA:     0s"
          ]
        },
        {
          "output_type": "stream",
          "name": "stderr",
          "text": [
            "2022-07-20 11:55:23,443 - mmseg - INFO - per class results:\n",
            "Class                  IoU       Dice        Acc\n",
            "background           38.82      55.93     100.00\n",
            "powerline             0.00       0.00       0.00\n",
            "Summary:\n",
            "Scope                 mIoU      mDice       mAcc       Powerline Dice      Background Dice       aAcc        TPR        TNR        FDR  Precision\n",
            "global               19.41      27.96      50.00                 0.00                55.93      38.82       0.00     100.00       0.00       0.00\n",
            "\n",
            "2022-07-20 11:55:23,446 - mmseg - INFO - Exp name: fcn_vanilla_unet_s5-d16_256x256_40k_hrf.py\n",
            "2022-07-20 11:55:23,452 - mmseg - INFO - Iter(val) [10000]\tmIoU: 0.1941, mDice: 0.2796, mAcc: 0.5000, plDice: 0.0000, bgDice: 55.9288, aAcc: 0.3882, TPR: 0.0000, TNR: 1.0000, FDR: 0, Precision: 0\n",
            "2022-07-20 11:55:34,345 - mmseg - INFO - Iter [10050/20000]\tlr: 5.802e-04, eta: 0:28:03, time: 0.271, data_time: 0.056, memory: 1570, decode.loss_seg: 0.7084, decode.acc_seg: 51.9125, loss: 0.7084\n",
            "2022-07-20 11:55:45,566 - mmseg - INFO - Iter [10100/20000]\tlr: 5.780e-04, eta: 0:27:57, time: 0.224, data_time: 0.003, memory: 1570, decode.loss_seg: 0.7088, decode.acc_seg: 51.2894, loss: 0.7088\n",
            "2022-07-20 11:55:56,665 - mmseg - INFO - Iter [10150/20000]\tlr: 5.758e-04, eta: 0:27:51, time: 0.222, data_time: 0.003, memory: 1570, decode.loss_seg: 0.7098, decode.acc_seg: 52.0737, loss: 0.7098\n",
            "2022-07-20 11:56:07,482 - mmseg - INFO - Saving checkpoint at 10200 iterations\n"
          ]
        },
        {
          "output_type": "stream",
          "name": "stdout",
          "text": [
            "[>>>>>>>>>>>>>>>>>>>>>>>>>>>>>>>>>>>] 3/3, 4.5 task/s, elapsed: 1s, ETA:     0s"
          ]
        },
        {
          "output_type": "stream",
          "name": "stderr",
          "text": [
            "2022-07-20 11:56:11,448 - mmseg - INFO - per class results:\n",
            "Class                  IoU       Dice        Acc\n",
            "background           38.82      55.93     100.00\n",
            "powerline             0.00       0.00       0.00\n",
            "Summary:\n",
            "Scope                 mIoU      mDice       mAcc       Powerline Dice      Background Dice       aAcc        TPR        TNR        FDR  Precision\n",
            "global               19.41      27.96      50.00                 0.00                55.93      38.82       0.00     100.00       0.00       0.00\n",
            "\n",
            "2022-07-20 11:56:11,450 - mmseg - INFO - Iter(val) [10200]\tmIoU: 0.1941, mDice: 0.2796, mAcc: 0.5000, plDice: 0.0000, bgDice: 55.9288, aAcc: 0.3882, TPR: 0.0000, TNR: 1.0000, FDR: 0, Precision: 0\n",
            "2022-07-20 11:56:22,791 - mmseg - INFO - Iter [10250/20000]\tlr: 5.715e-04, eta: 0:27:31, time: 0.279, data_time: 0.056, memory: 1570, decode.loss_seg: 0.7093, decode.acc_seg: 49.6827, loss: 0.7093\n",
            "2022-07-20 11:56:33,999 - mmseg - INFO - Iter [10300/20000]\tlr: 5.693e-04, eta: 0:27:25, time: 0.224, data_time: 0.003, memory: 1570, decode.loss_seg: 0.7094, decode.acc_seg: 50.9061, loss: 0.7094\n",
            "2022-07-20 11:56:44,928 - mmseg - INFO - Iter [10350/20000]\tlr: 5.671e-04, eta: 0:27:19, time: 0.219, data_time: 0.003, memory: 1570, decode.loss_seg: 0.7090, decode.acc_seg: 50.8143, loss: 0.7090\n",
            "2022-07-20 11:56:56,170 - mmseg - INFO - Saving checkpoint at 10400 iterations\n"
          ]
        },
        {
          "output_type": "stream",
          "name": "stdout",
          "text": [
            "[>>>>>>>>>>>>>>>>>>>>>>>>>>>>>>>>>>>] 3/3, 4.8 task/s, elapsed: 1s, ETA:     0s"
          ]
        },
        {
          "output_type": "stream",
          "name": "stderr",
          "text": [
            "2022-07-20 11:57:00,211 - mmseg - INFO - per class results:\n",
            "Class                  IoU       Dice        Acc\n",
            "background           38.82      55.93     100.00\n",
            "powerline             0.00       0.00       0.00\n",
            "Summary:\n",
            "Scope                 mIoU      mDice       mAcc       Powerline Dice      Background Dice       aAcc        TPR        TNR        FDR  Precision\n",
            "global               19.41      27.96      50.00                 0.00                55.93      38.82       0.00     100.00       0.00       0.00\n",
            "\n",
            "2022-07-20 11:57:00,214 - mmseg - INFO - Iter(val) [10400]\tmIoU: 0.1941, mDice: 0.2796, mAcc: 0.5000, plDice: 0.0000, bgDice: 55.9288, aAcc: 0.3882, TPR: 0.0000, TNR: 1.0000, FDR: 0, Precision: 0\n",
            "2022-07-20 11:57:11,384 - mmseg - INFO - Iter [10450/20000]\tlr: 5.628e-04, eta: 0:26:59, time: 0.277, data_time: 0.056, memory: 1570, decode.loss_seg: 0.7089, decode.acc_seg: 48.8424, loss: 0.7089\n",
            "2022-07-20 11:57:22,282 - mmseg - INFO - Iter [10500/20000]\tlr: 5.606e-04, eta: 0:26:53, time: 0.218, data_time: 0.003, memory: 1570, decode.loss_seg: 0.7087, decode.acc_seg: 52.0084, loss: 0.7087\n",
            "2022-07-20 11:57:33,527 - mmseg - INFO - Iter [10550/20000]\tlr: 5.584e-04, eta: 0:26:47, time: 0.225, data_time: 0.003, memory: 1570, decode.loss_seg: 0.7086, decode.acc_seg: 52.7455, loss: 0.7086\n",
            "2022-07-20 11:57:44,659 - mmseg - INFO - Saving checkpoint at 10600 iterations\n"
          ]
        },
        {
          "output_type": "stream",
          "name": "stdout",
          "text": [
            "[>>>>>>>>>>>>>>>>>>>>>>>>>>>>>>>>>>>] 3/3, 4.4 task/s, elapsed: 1s, ETA:     0s"
          ]
        },
        {
          "output_type": "stream",
          "name": "stderr",
          "text": [
            "2022-07-20 11:57:48,265 - mmseg - INFO - per class results:\n",
            "Class                  IoU       Dice        Acc\n",
            "background            0.00       0.00       0.00\n",
            "powerline            53.72      69.89      92.06\n",
            "Summary:\n",
            "Scope                 mIoU      mDice       mAcc       Powerline Dice      Background Dice       aAcc        TPR        TNR        FDR  Precision\n",
            "global               26.86      34.95      46.03                69.89                 0.00      56.32     100.00       0.00      40.80      59.20\n",
            "\n",
            "2022-07-20 11:57:48,268 - mmseg - INFO - Iter(val) [10600]\tmIoU: 0.2686, mDice: 0.3495, mAcc: 0.4603, plDice: 69.8903, bgDice: 0.0000, aAcc: 0.5632, TPR: 1.0000, TNR: 0.0000, FDR: 0.4080, Precision: 0.5920\n",
            "2022-07-20 11:57:59,243 - mmseg - INFO - Iter [10650/20000]\tlr: 5.540e-04, eta: 0:26:27, time: 0.264, data_time: 0.048, memory: 1570, decode.loss_seg: 0.7084, decode.acc_seg: 49.6582, loss: 0.7084\n",
            "2022-07-20 11:58:10,542 - mmseg - INFO - Iter [10700/20000]\tlr: 5.518e-04, eta: 0:26:21, time: 0.226, data_time: 0.003, memory: 1570, decode.loss_seg: 0.7080, decode.acc_seg: 52.0768, loss: 0.7080\n",
            "2022-07-20 11:58:21,792 - mmseg - INFO - Iter [10750/20000]\tlr: 5.497e-04, eta: 0:26:15, time: 0.225, data_time: 0.003, memory: 1570, decode.loss_seg: 0.7095, decode.acc_seg: 51.8057, loss: 0.7095\n",
            "2022-07-20 11:58:32,723 - mmseg - INFO - Saving checkpoint at 10800 iterations\n"
          ]
        },
        {
          "output_type": "stream",
          "name": "stdout",
          "text": [
            "[>>>>>>>>>>>>>>>>>>>>>>>>>>>>>>>>>>>] 3/3, 4.5 task/s, elapsed: 1s, ETA:     0s"
          ]
        },
        {
          "output_type": "stream",
          "name": "stderr",
          "text": [
            "2022-07-20 11:58:36,698 - mmseg - INFO - per class results:\n",
            "Class                  IoU       Dice        Acc\n",
            "background           38.82      55.93     100.00\n",
            "powerline             0.00       0.00       0.00\n",
            "Summary:\n",
            "Scope                 mIoU      mDice       mAcc       Powerline Dice      Background Dice       aAcc        TPR        TNR        FDR  Precision\n",
            "global               19.41      27.96      50.00                 0.00                55.93      38.82       0.00     100.00       0.00       0.00\n",
            "\n",
            "2022-07-20 11:58:36,702 - mmseg - INFO - Iter(val) [10800]\tmIoU: 0.1941, mDice: 0.2796, mAcc: 0.5000, plDice: 0.0000, bgDice: 55.9288, aAcc: 0.3882, TPR: 0.0000, TNR: 1.0000, FDR: 0, Precision: 0\n",
            "2022-07-20 11:58:48,048 - mmseg - INFO - Iter [10850/20000]\tlr: 5.453e-04, eta: 0:25:55, time: 0.280, data_time: 0.056, memory: 1570, decode.loss_seg: 0.7081, decode.acc_seg: 52.0828, loss: 0.7081\n",
            "2022-07-20 11:58:59,286 - mmseg - INFO - Iter [10900/20000]\tlr: 5.431e-04, eta: 0:25:49, time: 0.225, data_time: 0.003, memory: 1570, decode.loss_seg: 0.7078, decode.acc_seg: 50.3495, loss: 0.7078\n",
            "2022-07-20 11:59:10,248 - mmseg - INFO - Iter [10950/20000]\tlr: 5.409e-04, eta: 0:25:42, time: 0.219, data_time: 0.003, memory: 1570, decode.loss_seg: 0.7080, decode.acc_seg: 52.5014, loss: 0.7080\n",
            "2022-07-20 11:59:21,501 - mmseg - INFO - Saving checkpoint at 11000 iterations\n"
          ]
        },
        {
          "output_type": "stream",
          "name": "stdout",
          "text": [
            "[>>>>>>>>>>>>>>>>>>>>>>>>>>>>>>>>>>>] 3/3, 4.4 task/s, elapsed: 1s, ETA:     0s"
          ]
        },
        {
          "output_type": "stream",
          "name": "stderr",
          "text": [
            "2022-07-20 11:59:25,461 - mmseg - INFO - per class results:\n",
            "Class                  IoU       Dice        Acc\n",
            "background           38.82      55.93     100.00\n",
            "powerline             0.00       0.00       0.00\n",
            "Summary:\n",
            "Scope                 mIoU      mDice       mAcc       Powerline Dice      Background Dice       aAcc        TPR        TNR        FDR  Precision\n",
            "global               19.41      27.96      50.00                 0.00                55.93      38.82       0.00     100.00       0.00       0.00\n",
            "\n",
            "2022-07-20 11:59:25,464 - mmseg - INFO - Exp name: fcn_vanilla_unet_s5-d16_256x256_40k_hrf.py\n",
            "2022-07-20 11:59:25,472 - mmseg - INFO - Iter(val) [11000]\tmIoU: 0.1941, mDice: 0.2796, mAcc: 0.5000, plDice: 0.0000, bgDice: 55.9288, aAcc: 0.3882, TPR: 0.0000, TNR: 1.0000, FDR: 0, Precision: 0\n",
            "2022-07-20 11:59:36,884 - mmseg - INFO - Iter [11050/20000]\tlr: 5.365e-04, eta: 0:25:23, time: 0.281, data_time: 0.056, memory: 1570, decode.loss_seg: 0.7087, decode.acc_seg: 48.6040, loss: 0.7087\n",
            "2022-07-20 11:59:47,873 - mmseg - INFO - Iter [11100/20000]\tlr: 5.343e-04, eta: 0:25:16, time: 0.220, data_time: 0.003, memory: 1570, decode.loss_seg: 0.7090, decode.acc_seg: 51.8919, loss: 0.7090\n",
            "2022-07-20 11:59:59,224 - mmseg - INFO - Iter [11150/20000]\tlr: 5.321e-04, eta: 0:25:10, time: 0.227, data_time: 0.003, memory: 1570, decode.loss_seg: 0.7105, decode.acc_seg: 51.6147, loss: 0.7105\n",
            "2022-07-20 12:00:10,368 - mmseg - INFO - Saving checkpoint at 11200 iterations\n"
          ]
        },
        {
          "output_type": "stream",
          "name": "stdout",
          "text": [
            "[>>>>>>>>>>>>>>>>>>>>>>>>>>>>>>>>>>>] 3/3, 4.4 task/s, elapsed: 1s, ETA:     0s"
          ]
        },
        {
          "output_type": "stream",
          "name": "stderr",
          "text": [
            "2022-07-20 12:00:14,373 - mmseg - INFO - per class results:\n",
            "Class                  IoU       Dice        Acc\n",
            "background           38.82      55.93     100.00\n",
            "powerline             0.00       0.00       0.00\n",
            "Summary:\n",
            "Scope                 mIoU      mDice       mAcc       Powerline Dice      Background Dice       aAcc        TPR        TNR        FDR  Precision\n",
            "global               19.41      27.96      50.00                 0.00                55.93      38.82       0.00     100.00       0.00       0.00\n",
            "\n",
            "2022-07-20 12:00:14,376 - mmseg - INFO - Iter(val) [11200]\tmIoU: 0.1941, mDice: 0.2796, mAcc: 0.5000, plDice: 0.0000, bgDice: 55.9288, aAcc: 0.3882, TPR: 0.0000, TNR: 1.0000, FDR: 0, Precision: 0\n",
            "2022-07-20 12:00:25,563 - mmseg - INFO - Iter [11250/20000]\tlr: 5.277e-04, eta: 0:24:50, time: 0.277, data_time: 0.056, memory: 1570, decode.loss_seg: 0.7087, decode.acc_seg: 52.6066, loss: 0.7087\n",
            "2022-07-20 12:00:37,021 - mmseg - INFO - Iter [11300/20000]\tlr: 5.255e-04, eta: 0:24:44, time: 0.229, data_time: 0.003, memory: 1570, decode.loss_seg: 0.7087, decode.acc_seg: 53.7370, loss: 0.7087\n",
            "2022-07-20 12:00:48,326 - mmseg - INFO - Iter [11350/20000]\tlr: 5.233e-04, eta: 0:24:38, time: 0.226, data_time: 0.003, memory: 1570, decode.loss_seg: 0.7085, decode.acc_seg: 49.9919, loss: 0.7085\n",
            "2022-07-20 12:00:59,382 - mmseg - INFO - Saving checkpoint at 11400 iterations\n"
          ]
        },
        {
          "output_type": "stream",
          "name": "stdout",
          "text": [
            "[>>>>>>>>>>>>>>>>>>>>>>>>>>>>>>>>>>>] 3/3, 4.4 task/s, elapsed: 1s, ETA:     0s"
          ]
        },
        {
          "output_type": "stream",
          "name": "stderr",
          "text": [
            "2022-07-20 12:01:03,388 - mmseg - INFO - per class results:\n",
            "Class                  IoU       Dice        Acc\n",
            "background           38.82      55.93     100.00\n",
            "powerline             0.00       0.00       0.00\n",
            "Summary:\n",
            "Scope                 mIoU      mDice       mAcc       Powerline Dice      Background Dice       aAcc        TPR        TNR        FDR  Precision\n",
            "global               19.41      27.96      50.00                 0.00                55.93      38.82       0.00     100.00       0.00       0.00\n",
            "\n",
            "2022-07-20 12:01:03,391 - mmseg - INFO - Iter(val) [11400]\tmIoU: 0.1941, mDice: 0.2796, mAcc: 0.5000, plDice: 0.0000, bgDice: 55.9288, aAcc: 0.3882, TPR: 0.0000, TNR: 1.0000, FDR: 0, Precision: 0\n",
            "2022-07-20 12:01:14,888 - mmseg - INFO - Iter [11450/20000]\tlr: 5.189e-04, eta: 0:24:18, time: 0.283, data_time: 0.056, memory: 1570, decode.loss_seg: 0.7097, decode.acc_seg: 50.4722, loss: 0.7097\n",
            "2022-07-20 12:01:26,166 - mmseg - INFO - Iter [11500/20000]\tlr: 5.167e-04, eta: 0:24:12, time: 0.226, data_time: 0.003, memory: 1570, decode.loss_seg: 0.7078, decode.acc_seg: 52.0373, loss: 0.7078\n",
            "2022-07-20 12:01:37,258 - mmseg - INFO - Iter [11550/20000]\tlr: 5.145e-04, eta: 0:24:05, time: 0.222, data_time: 0.003, memory: 1570, decode.loss_seg: 0.7098, decode.acc_seg: 51.2320, loss: 0.7098\n",
            "2022-07-20 12:01:48,763 - mmseg - INFO - Saving checkpoint at 11600 iterations\n"
          ]
        },
        {
          "output_type": "stream",
          "name": "stdout",
          "text": [
            "[>>>>>>>>>>>>>>>>>>>>>>>>>>>>>>>>>>>] 3/3, 4.1 task/s, elapsed: 1s, ETA:     0s"
          ]
        },
        {
          "output_type": "stream",
          "name": "stderr",
          "text": [
            "2022-07-20 12:01:52,819 - mmseg - INFO - per class results:\n",
            "Class                  IoU       Dice        Acc\n",
            "background           38.82      55.93     100.00\n",
            "powerline             0.00       0.00       0.00\n",
            "Summary:\n",
            "Scope                 mIoU      mDice       mAcc       Powerline Dice      Background Dice       aAcc        TPR        TNR        FDR  Precision\n",
            "global               19.41      27.96      50.00                 0.00                55.93      38.82       0.00     100.00       0.00       0.00\n",
            "\n",
            "2022-07-20 12:01:52,822 - mmseg - INFO - Iter(val) [11600]\tmIoU: 0.1941, mDice: 0.2796, mAcc: 0.5000, plDice: 0.0000, bgDice: 55.9288, aAcc: 0.3882, TPR: 0.0000, TNR: 1.0000, FDR: 0, Precision: 0\n",
            "2022-07-20 12:02:04,216 - mmseg - INFO - Iter [11650/20000]\tlr: 5.101e-04, eta: 0:23:46, time: 0.282, data_time: 0.057, memory: 1570, decode.loss_seg: 0.7096, decode.acc_seg: 49.1006, loss: 0.7096\n",
            "2022-07-20 12:02:15,291 - mmseg - INFO - Iter [11700/20000]\tlr: 5.079e-04, eta: 0:23:39, time: 0.221, data_time: 0.003, memory: 1570, decode.loss_seg: 0.7082, decode.acc_seg: 51.8552, loss: 0.7082\n",
            "2022-07-20 12:02:26,795 - mmseg - INFO - Iter [11750/20000]\tlr: 5.057e-04, eta: 0:23:33, time: 0.230, data_time: 0.003, memory: 1570, decode.loss_seg: 0.7085, decode.acc_seg: 50.6267, loss: 0.7085\n",
            "2022-07-20 12:02:38,106 - mmseg - INFO - Saving checkpoint at 11800 iterations\n"
          ]
        },
        {
          "output_type": "stream",
          "name": "stdout",
          "text": [
            "[>>>>>>>>>>>>>>>>>>>>>>>>>>>>>>>>>>>] 3/3, 4.4 task/s, elapsed: 1s, ETA:     0s"
          ]
        },
        {
          "output_type": "stream",
          "name": "stderr",
          "text": [
            "2022-07-20 12:02:42,119 - mmseg - INFO - per class results:\n",
            "Class                  IoU       Dice        Acc\n",
            "background           38.82      55.93     100.00\n",
            "powerline             0.00       0.00       0.00\n",
            "Summary:\n",
            "Scope                 mIoU      mDice       mAcc       Powerline Dice      Background Dice       aAcc        TPR        TNR        FDR  Precision\n",
            "global               19.41      27.96      50.00                 0.00                55.93      38.82       0.00     100.00       0.00       0.00\n",
            "\n",
            "2022-07-20 12:02:42,122 - mmseg - INFO - Iter(val) [11800]\tmIoU: 0.1941, mDice: 0.2796, mAcc: 0.5000, plDice: 0.0000, bgDice: 55.9288, aAcc: 0.3882, TPR: 0.0000, TNR: 1.0000, FDR: 0, Precision: 0\n",
            "2022-07-20 12:02:53,403 - mmseg - INFO - Iter [11850/20000]\tlr: 5.012e-04, eta: 0:23:13, time: 0.279, data_time: 0.056, memory: 1570, decode.loss_seg: 0.7091, decode.acc_seg: 52.4388, loss: 0.7091\n",
            "2022-07-20 12:03:04,945 - mmseg - INFO - Iter [11900/20000]\tlr: 4.990e-04, eta: 0:23:07, time: 0.231, data_time: 0.003, memory: 1570, decode.loss_seg: 0.7087, decode.acc_seg: 54.3640, loss: 0.7087\n",
            "2022-07-20 12:03:16,368 - mmseg - INFO - Iter [11950/20000]\tlr: 4.968e-04, eta: 0:23:00, time: 0.228, data_time: 0.003, memory: 1570, decode.loss_seg: 0.7083, decode.acc_seg: 51.6684, loss: 0.7083\n",
            "2022-07-20 12:03:27,534 - mmseg - INFO - Saving checkpoint at 12000 iterations\n"
          ]
        },
        {
          "output_type": "stream",
          "name": "stdout",
          "text": [
            "[>>>>>>>>>>>>>>>>>>>>>>>>>>>>>>>>>>>] 3/3, 2.8 task/s, elapsed: 1s, ETA:     0s"
          ]
        },
        {
          "output_type": "stream",
          "name": "stderr",
          "text": [
            "2022-07-20 12:03:31,945 - mmseg - INFO - per class results:\n",
            "Class                  IoU       Dice        Acc\n",
            "background           38.82      55.93     100.00\n",
            "powerline             0.00       0.00       0.00\n",
            "Summary:\n",
            "Scope                 mIoU      mDice       mAcc       Powerline Dice      Background Dice       aAcc        TPR        TNR        FDR  Precision\n",
            "global               19.41      27.96      50.00                 0.00                55.93      38.82       0.00     100.00       0.00       0.00\n",
            "\n",
            "2022-07-20 12:03:31,947 - mmseg - INFO - Exp name: fcn_vanilla_unet_s5-d16_256x256_40k_hrf.py\n",
            "2022-07-20 12:03:31,954 - mmseg - INFO - Iter(val) [12000]\tmIoU: 0.1941, mDice: 0.2796, mAcc: 0.5000, plDice: 0.0000, bgDice: 55.9288, aAcc: 0.3882, TPR: 0.0000, TNR: 1.0000, FDR: 0, Precision: 0\n",
            "2022-07-20 12:03:43,641 - mmseg - INFO - Iter [12050/20000]\tlr: 4.924e-04, eta: 0:22:42, time: 0.296, data_time: 0.065, memory: 1570, decode.loss_seg: 0.7085, decode.acc_seg: 53.2549, loss: 0.7085\n",
            "2022-07-20 12:03:55,086 - mmseg - INFO - Iter [12100/20000]\tlr: 4.901e-04, eta: 0:22:35, time: 0.229, data_time: 0.003, memory: 1570, decode.loss_seg: 0.7093, decode.acc_seg: 51.0744, loss: 0.7093\n",
            "2022-07-20 12:04:06,322 - mmseg - INFO - Iter [12150/20000]\tlr: 4.879e-04, eta: 0:22:28, time: 0.225, data_time: 0.003, memory: 1570, decode.loss_seg: 0.7087, decode.acc_seg: 51.9380, loss: 0.7087\n",
            "2022-07-20 12:04:17,713 - mmseg - INFO - Saving checkpoint at 12200 iterations\n"
          ]
        },
        {
          "output_type": "stream",
          "name": "stdout",
          "text": [
            "[>>>>>>>>>>>>>>>>>>>>>>>>>>>>>>>>>>>] 3/3, 4.3 task/s, elapsed: 1s, ETA:     0s"
          ]
        },
        {
          "output_type": "stream",
          "name": "stderr",
          "text": [
            "2022-07-20 12:04:21,748 - mmseg - INFO - per class results:\n",
            "Class                  IoU       Dice        Acc\n",
            "background           38.82      55.93     100.00\n",
            "powerline             0.00       0.00       0.00\n",
            "Summary:\n",
            "Scope                 mIoU      mDice       mAcc       Powerline Dice      Background Dice       aAcc        TPR        TNR        FDR  Precision\n",
            "global               19.41      27.96      50.00                 0.00                55.93      38.82       0.00     100.00       0.00       0.00\n",
            "\n",
            "2022-07-20 12:04:21,751 - mmseg - INFO - Iter(val) [12200]\tmIoU: 0.1941, mDice: 0.2796, mAcc: 0.5000, plDice: 0.0000, bgDice: 55.9288, aAcc: 0.3882, TPR: 0.0000, TNR: 1.0000, FDR: 0, Precision: 0\n",
            "2022-07-20 12:04:33,380 - mmseg - INFO - Iter [12250/20000]\tlr: 4.835e-04, eta: 0:22:09, time: 0.286, data_time: 0.057, memory: 1570, decode.loss_seg: 0.7087, decode.acc_seg: 50.3385, loss: 0.7087\n",
            "2022-07-20 12:04:44,624 - mmseg - INFO - Iter [12300/20000]\tlr: 4.812e-04, eta: 0:22:02, time: 0.225, data_time: 0.003, memory: 1570, decode.loss_seg: 0.7097, decode.acc_seg: 53.2476, loss: 0.7097\n",
            "2022-07-20 12:04:56,345 - mmseg - INFO - Iter [12350/20000]\tlr: 4.790e-04, eta: 0:21:55, time: 0.234, data_time: 0.003, memory: 1570, decode.loss_seg: 0.7083, decode.acc_seg: 50.6660, loss: 0.7083\n",
            "2022-07-20 12:05:07,788 - mmseg - INFO - Saving checkpoint at 12400 iterations\n"
          ]
        },
        {
          "output_type": "stream",
          "name": "stdout",
          "text": [
            "[>>>>>>>>>>>>>>>>>>>>>>>>>>>>>>>>>>>] 3/3, 4.5 task/s, elapsed: 1s, ETA:     0s"
          ]
        },
        {
          "output_type": "stream",
          "name": "stderr",
          "text": [
            "2022-07-20 12:05:11,786 - mmseg - INFO - per class results:\n",
            "Class                  IoU       Dice        Acc\n",
            "background           38.82      55.93     100.00\n",
            "powerline             0.00       0.00       0.00\n",
            "Summary:\n",
            "Scope                 mIoU      mDice       mAcc       Powerline Dice      Background Dice       aAcc        TPR        TNR        FDR  Precision\n",
            "global               19.41      27.96      50.00                 0.00                55.93      38.82       0.00     100.00       0.00       0.00\n",
            "\n",
            "2022-07-20 12:05:11,788 - mmseg - INFO - Iter(val) [12400]\tmIoU: 0.1941, mDice: 0.2796, mAcc: 0.5000, plDice: 0.0000, bgDice: 55.9288, aAcc: 0.3882, TPR: 0.0000, TNR: 1.0000, FDR: 0, Precision: 0\n",
            "2022-07-20 12:05:23,223 - mmseg - INFO - Iter [12450/20000]\tlr: 4.746e-04, eta: 0:21:36, time: 0.282, data_time: 0.056, memory: 1570, decode.loss_seg: 0.7093, decode.acc_seg: 49.8087, loss: 0.7093\n",
            "2022-07-20 12:05:34,992 - mmseg - INFO - Iter [12500/20000]\tlr: 4.723e-04, eta: 0:21:30, time: 0.235, data_time: 0.003, memory: 1570, decode.loss_seg: 0.7080, decode.acc_seg: 50.9699, loss: 0.7080\n",
            "2022-07-20 12:05:46,596 - mmseg - INFO - Iter [12550/20000]\tlr: 4.701e-04, eta: 0:21:23, time: 0.232, data_time: 0.003, memory: 1570, decode.loss_seg: 0.7082, decode.acc_seg: 53.9106, loss: 0.7082\n",
            "2022-07-20 12:05:57,913 - mmseg - INFO - Saving checkpoint at 12600 iterations\n"
          ]
        },
        {
          "output_type": "stream",
          "name": "stdout",
          "text": [
            "[>>>>>>>>>>>>>>>>>>>>>>>>>>>>>>>>>>>] 3/3, 4.1 task/s, elapsed: 1s, ETA:     0s"
          ]
        },
        {
          "output_type": "stream",
          "name": "stderr",
          "text": [
            "2022-07-20 12:06:01,954 - mmseg - INFO - per class results:\n",
            "Class                  IoU       Dice        Acc\n",
            "background           38.82      55.93     100.00\n",
            "powerline             0.00       0.00       0.00\n",
            "Summary:\n",
            "Scope                 mIoU      mDice       mAcc       Powerline Dice      Background Dice       aAcc        TPR        TNR        FDR  Precision\n",
            "global               19.41      27.96      50.00                 0.00                55.93      38.82       0.00     100.00       0.00       0.00\n",
            "\n",
            "2022-07-20 12:06:01,958 - mmseg - INFO - Iter(val) [12600]\tmIoU: 0.1941, mDice: 0.2796, mAcc: 0.5000, plDice: 0.0000, bgDice: 55.9288, aAcc: 0.3882, TPR: 0.0000, TNR: 1.0000, FDR: 0, Precision: 0\n",
            "2022-07-20 12:06:13,838 - mmseg - INFO - Iter [12650/20000]\tlr: 4.656e-04, eta: 0:21:04, time: 0.292, data_time: 0.057, memory: 1570, decode.loss_seg: 0.7092, decode.acc_seg: 50.5344, loss: 0.7092\n",
            "2022-07-20 12:06:25,552 - mmseg - INFO - Iter [12700/20000]\tlr: 4.634e-04, eta: 0:20:57, time: 0.235, data_time: 0.003, memory: 1570, decode.loss_seg: 0.7091, decode.acc_seg: 53.1579, loss: 0.7091\n",
            "2022-07-20 12:06:36,925 - mmseg - INFO - Iter [12750/20000]\tlr: 4.611e-04, eta: 0:20:50, time: 0.227, data_time: 0.003, memory: 1570, decode.loss_seg: 0.7089, decode.acc_seg: 50.6407, loss: 0.7089\n",
            "2022-07-20 12:06:48,650 - mmseg - INFO - Saving checkpoint at 12800 iterations\n"
          ]
        },
        {
          "output_type": "stream",
          "name": "stdout",
          "text": [
            "[>>>>>>>>>>>>>>>>>>>>>>>>>>>>>>>>>>>] 3/3, 4.3 task/s, elapsed: 1s, ETA:     0s"
          ]
        },
        {
          "output_type": "stream",
          "name": "stderr",
          "text": [
            "2022-07-20 12:06:52,668 - mmseg - INFO - per class results:\n",
            "Class                  IoU       Dice        Acc\n",
            "background           38.82      55.93     100.00\n",
            "powerline             0.00       0.00       0.00\n",
            "Summary:\n",
            "Scope                 mIoU      mDice       mAcc       Powerline Dice      Background Dice       aAcc        TPR        TNR        FDR  Precision\n",
            "global               19.41      27.96      50.00                 0.00                55.93      38.82       0.00     100.00       0.00       0.00\n",
            "\n",
            "2022-07-20 12:06:52,673 - mmseg - INFO - Iter(val) [12800]\tmIoU: 0.1941, mDice: 0.2796, mAcc: 0.5000, plDice: 0.0000, bgDice: 55.9288, aAcc: 0.3882, TPR: 0.0000, TNR: 1.0000, FDR: 0, Precision: 0\n",
            "2022-07-20 12:07:04,528 - mmseg - INFO - Iter [12850/20000]\tlr: 4.567e-04, eta: 0:20:31, time: 0.291, data_time: 0.057, memory: 1570, decode.loss_seg: 0.7081, decode.acc_seg: 50.5579, loss: 0.7081\n",
            "2022-07-20 12:07:16,010 - mmseg - INFO - Iter [12900/20000]\tlr: 4.544e-04, eta: 0:20:24, time: 0.229, data_time: 0.003, memory: 1570, decode.loss_seg: 0.7104, decode.acc_seg: 51.9756, loss: 0.7104\n",
            "2022-07-20 12:07:27,941 - mmseg - INFO - Iter [12950/20000]\tlr: 4.522e-04, eta: 0:20:18, time: 0.239, data_time: 0.003, memory: 1570, decode.loss_seg: 0.7082, decode.acc_seg: 50.7389, loss: 0.7082\n",
            "2022-07-20 12:07:39,776 - mmseg - INFO - Saving checkpoint at 13000 iterations\n"
          ]
        },
        {
          "output_type": "stream",
          "name": "stdout",
          "text": [
            "[>>>>>>>>>>>>>>>>>>>>>>>>>>>>>>>>>>>] 3/3, 4.2 task/s, elapsed: 1s, ETA:     0s"
          ]
        },
        {
          "output_type": "stream",
          "name": "stderr",
          "text": [
            "2022-07-20 12:07:43,841 - mmseg - INFO - per class results:\n",
            "Class                  IoU       Dice        Acc\n",
            "background           38.82      55.93     100.00\n",
            "powerline             0.00       0.00       0.00\n",
            "Summary:\n",
            "Scope                 mIoU      mDice       mAcc       Powerline Dice      Background Dice       aAcc        TPR        TNR        FDR  Precision\n",
            "global               19.41      27.96      50.00                 0.00                55.93      38.82       0.00     100.00       0.00       0.00\n",
            "\n",
            "2022-07-20 12:07:43,850 - mmseg - INFO - Exp name: fcn_vanilla_unet_s5-d16_256x256_40k_hrf.py\n",
            "2022-07-20 12:07:43,851 - mmseg - INFO - Iter(val) [13000]\tmIoU: 0.1941, mDice: 0.2796, mAcc: 0.5000, plDice: 0.0000, bgDice: 55.9288, aAcc: 0.3882, TPR: 0.0000, TNR: 1.0000, FDR: 0, Precision: 0\n",
            "2022-07-20 12:07:55,391 - mmseg - INFO - Iter [13050/20000]\tlr: 4.477e-04, eta: 0:19:59, time: 0.285, data_time: 0.057, memory: 1570, decode.loss_seg: 0.7081, decode.acc_seg: 54.5258, loss: 0.7081\n",
            "2022-07-20 12:08:07,192 - mmseg - INFO - Iter [13100/20000]\tlr: 4.454e-04, eta: 0:19:52, time: 0.236, data_time: 0.003, memory: 1570, decode.loss_seg: 0.7084, decode.acc_seg: 53.9594, loss: 0.7084\n",
            "2022-07-20 12:08:18,935 - mmseg - INFO - Iter [13150/20000]\tlr: 4.432e-04, eta: 0:19:45, time: 0.235, data_time: 0.003, memory: 1570, decode.loss_seg: 0.7084, decode.acc_seg: 54.0062, loss: 0.7084\n",
            "2022-07-20 12:08:30,313 - mmseg - INFO - Saving checkpoint at 13200 iterations\n"
          ]
        },
        {
          "output_type": "stream",
          "name": "stdout",
          "text": [
            "[>>>>>>>>>>>>>>>>>>>>>>>>>>>>>>>>>>>] 3/3, 4.2 task/s, elapsed: 1s, ETA:     0s"
          ]
        },
        {
          "output_type": "stream",
          "name": "stderr",
          "text": [
            "2022-07-20 12:08:34,416 - mmseg - INFO - per class results:\n",
            "Class                  IoU       Dice        Acc\n",
            "background           38.82      55.93     100.00\n",
            "powerline             0.00       0.00       0.00\n",
            "Summary:\n",
            "Scope                 mIoU      mDice       mAcc       Powerline Dice      Background Dice       aAcc        TPR        TNR        FDR  Precision\n",
            "global               19.41      27.96      50.00                 0.00                55.93      38.82       0.00     100.00       0.00       0.00\n",
            "\n",
            "2022-07-20 12:08:34,419 - mmseg - INFO - Iter(val) [13200]\tmIoU: 0.1941, mDice: 0.2796, mAcc: 0.5000, plDice: 0.0000, bgDice: 55.9288, aAcc: 0.3882, TPR: 0.0000, TNR: 1.0000, FDR: 0, Precision: 0\n",
            "2022-07-20 12:08:46,471 - mmseg - INFO - Iter [13250/20000]\tlr: 4.386e-04, eta: 0:19:26, time: 0.295, data_time: 0.057, memory: 1570, decode.loss_seg: 0.7097, decode.acc_seg: 53.4817, loss: 0.7097\n",
            "2022-07-20 12:08:58,255 - mmseg - INFO - Iter [13300/20000]\tlr: 4.364e-04, eta: 0:19:19, time: 0.236, data_time: 0.003, memory: 1570, decode.loss_seg: 0.7081, decode.acc_seg: 50.4910, loss: 0.7081\n",
            "2022-07-20 12:09:09,746 - mmseg - INFO - Iter [13350/20000]\tlr: 4.341e-04, eta: 0:19:12, time: 0.229, data_time: 0.003, memory: 1570, decode.loss_seg: 0.7090, decode.acc_seg: 51.7724, loss: 0.7090\n",
            "2022-07-20 12:09:21,461 - mmseg - INFO - Saving checkpoint at 13400 iterations\n"
          ]
        },
        {
          "output_type": "stream",
          "name": "stdout",
          "text": [
            "[>>>>>>>>>>>>>>>>>>>>>>>>>>>>>>>>>>>] 3/3, 4.3 task/s, elapsed: 1s, ETA:     0s"
          ]
        },
        {
          "output_type": "stream",
          "name": "stderr",
          "text": [
            "2022-07-20 12:09:25,547 - mmseg - INFO - per class results:\n",
            "Class                  IoU       Dice        Acc\n",
            "background           38.82      55.93     100.00\n",
            "powerline             0.00       0.00       0.00\n",
            "Summary:\n",
            "Scope                 mIoU      mDice       mAcc       Powerline Dice      Background Dice       aAcc        TPR        TNR        FDR  Precision\n",
            "global               19.41      27.96      50.00                 0.00                55.93      38.82       0.00     100.00       0.00       0.00\n",
            "\n",
            "2022-07-20 12:09:25,554 - mmseg - INFO - Iter(val) [13400]\tmIoU: 0.1941, mDice: 0.2796, mAcc: 0.5000, plDice: 0.0000, bgDice: 55.9288, aAcc: 0.3882, TPR: 0.0000, TNR: 1.0000, FDR: 0, Precision: 0\n",
            "2022-07-20 12:09:37,419 - mmseg - INFO - Iter [13450/20000]\tlr: 4.296e-04, eta: 0:18:53, time: 0.292, data_time: 0.057, memory: 1570, decode.loss_seg: 0.7093, decode.acc_seg: 51.9843, loss: 0.7093\n",
            "2022-07-20 12:09:49,019 - mmseg - INFO - Iter [13500/20000]\tlr: 4.273e-04, eta: 0:18:46, time: 0.232, data_time: 0.003, memory: 1570, decode.loss_seg: 0.7078, decode.acc_seg: 52.0470, loss: 0.7078\n",
            "2022-07-20 12:10:00,997 - mmseg - INFO - Iter [13550/20000]\tlr: 4.251e-04, eta: 0:18:39, time: 0.240, data_time: 0.003, memory: 1570, decode.loss_seg: 0.7084, decode.acc_seg: 52.6829, loss: 0.7084\n",
            "2022-07-20 12:10:12,721 - mmseg - INFO - Saving checkpoint at 13600 iterations\n"
          ]
        },
        {
          "output_type": "stream",
          "name": "stdout",
          "text": [
            "[>>>>>>>>>>>>>>>>>>>>>>>>>>>>>>>>>>>] 3/3, 4.1 task/s, elapsed: 1s, ETA:     0s"
          ]
        },
        {
          "output_type": "stream",
          "name": "stderr",
          "text": [
            "2022-07-20 12:10:16,824 - mmseg - INFO - per class results:\n",
            "Class                  IoU       Dice        Acc\n",
            "background           38.82      55.93     100.00\n",
            "powerline             0.00       0.00       0.00\n",
            "Summary:\n",
            "Scope                 mIoU      mDice       mAcc       Powerline Dice      Background Dice       aAcc        TPR        TNR        FDR  Precision\n",
            "global               19.41      27.96      50.00                 0.00                55.93      38.82       0.00     100.00       0.00       0.00\n",
            "\n",
            "2022-07-20 12:10:16,836 - mmseg - INFO - Iter(val) [13600]\tmIoU: 0.1941, mDice: 0.2796, mAcc: 0.5000, plDice: 0.0000, bgDice: 55.9288, aAcc: 0.3882, TPR: 0.0000, TNR: 1.0000, FDR: 0, Precision: 0\n",
            "2022-07-20 12:10:28,699 - mmseg - INFO - Iter [13650/20000]\tlr: 4.205e-04, eta: 0:18:20, time: 0.292, data_time: 0.058, memory: 1570, decode.loss_seg: 0.7078, decode.acc_seg: 51.8451, loss: 0.7078\n",
            "2022-07-20 12:10:40,794 - mmseg - INFO - Iter [13700/20000]\tlr: 4.183e-04, eta: 0:18:13, time: 0.242, data_time: 0.003, memory: 1570, decode.loss_seg: 0.7085, decode.acc_seg: 52.3251, loss: 0.7085\n",
            "2022-07-20 12:10:52,700 - mmseg - INFO - Iter [13750/20000]\tlr: 4.160e-04, eta: 0:18:06, time: 0.238, data_time: 0.003, memory: 1570, decode.loss_seg: 0.7091, decode.acc_seg: 51.7318, loss: 0.7091\n",
            "2022-07-20 12:11:04,294 - mmseg - INFO - Saving checkpoint at 13800 iterations\n"
          ]
        },
        {
          "output_type": "stream",
          "name": "stdout",
          "text": [
            "[>>>>>>>>>>>>>>>>>>>>>>>>>>>>>>>>>>>] 3/3, 4.3 task/s, elapsed: 1s, ETA:     0s"
          ]
        },
        {
          "output_type": "stream",
          "name": "stderr",
          "text": [
            "2022-07-20 12:11:08,327 - mmseg - INFO - per class results:\n",
            "Class                  IoU       Dice        Acc\n",
            "background           38.82      55.93     100.00\n",
            "powerline             0.00       0.00       0.00\n",
            "Summary:\n",
            "Scope                 mIoU      mDice       mAcc       Powerline Dice      Background Dice       aAcc        TPR        TNR        FDR  Precision\n",
            "global               19.41      27.96      50.00                 0.00                55.93      38.82       0.00     100.00       0.00       0.00\n",
            "\n",
            "2022-07-20 12:11:08,331 - mmseg - INFO - Iter(val) [13800]\tmIoU: 0.1941, mDice: 0.2796, mAcc: 0.5000, plDice: 0.0000, bgDice: 55.9288, aAcc: 0.3882, TPR: 0.0000, TNR: 1.0000, FDR: 0, Precision: 0\n",
            "2022-07-20 12:11:20,394 - mmseg - INFO - Iter [13850/20000]\tlr: 4.114e-04, eta: 0:17:47, time: 0.296, data_time: 0.058, memory: 1570, decode.loss_seg: 0.7089, decode.acc_seg: 50.5829, loss: 0.7089\n",
            "2022-07-20 12:11:32,246 - mmseg - INFO - Iter [13900/20000]\tlr: 4.092e-04, eta: 0:17:40, time: 0.237, data_time: 0.003, memory: 1570, decode.loss_seg: 0.7087, decode.acc_seg: 49.0448, loss: 0.7087\n",
            "2022-07-20 12:11:44,004 - mmseg - INFO - Iter [13950/20000]\tlr: 4.069e-04, eta: 0:17:33, time: 0.235, data_time: 0.003, memory: 1570, decode.loss_seg: 0.7078, decode.acc_seg: 48.6888, loss: 0.7078\n",
            "2022-07-20 12:11:55,958 - mmseg - INFO - Saving checkpoint at 14000 iterations\n"
          ]
        },
        {
          "output_type": "stream",
          "name": "stdout",
          "text": [
            "[>>>>>>>>>>>>>>>>>>>>>>>>>>>>>>>>>>>] 3/3, 4.2 task/s, elapsed: 1s, ETA:     0s"
          ]
        },
        {
          "output_type": "stream",
          "name": "stderr",
          "text": [
            "2022-07-20 12:12:00,047 - mmseg - INFO - per class results:\n",
            "Class                  IoU       Dice        Acc\n",
            "background           38.82      55.93     100.00\n",
            "powerline             0.00       0.00       0.00\n",
            "Summary:\n",
            "Scope                 mIoU      mDice       mAcc       Powerline Dice      Background Dice       aAcc        TPR        TNR        FDR  Precision\n",
            "global               19.41      27.96      50.00                 0.00                55.93      38.82       0.00     100.00       0.00       0.00\n",
            "\n",
            "2022-07-20 12:12:00,053 - mmseg - INFO - Exp name: fcn_vanilla_unet_s5-d16_256x256_40k_hrf.py\n",
            "2022-07-20 12:12:00,057 - mmseg - INFO - Iter(val) [14000]\tmIoU: 0.1941, mDice: 0.2796, mAcc: 0.5000, plDice: 0.0000, bgDice: 55.9288, aAcc: 0.3882, TPR: 0.0000, TNR: 1.0000, FDR: 0, Precision: 0\n",
            "2022-07-20 12:12:12,044 - mmseg - INFO - Iter [14050/20000]\tlr: 4.023e-04, eta: 0:17:14, time: 0.294, data_time: 0.058, memory: 1570, decode.loss_seg: 0.7092, decode.acc_seg: 53.8676, loss: 0.7092\n",
            "2022-07-20 12:12:23,672 - mmseg - INFO - Iter [14100/20000]\tlr: 4.000e-04, eta: 0:17:07, time: 0.233, data_time: 0.003, memory: 1570, decode.loss_seg: 0.7091, decode.acc_seg: 50.2243, loss: 0.7091\n",
            "2022-07-20 12:12:35,815 - mmseg - INFO - Iter [14150/20000]\tlr: 3.977e-04, eta: 0:16:59, time: 0.243, data_time: 0.003, memory: 1570, decode.loss_seg: 0.7088, decode.acc_seg: 52.0305, loss: 0.7088\n",
            "2022-07-20 12:12:47,751 - mmseg - INFO - Saving checkpoint at 14200 iterations\n"
          ]
        },
        {
          "output_type": "stream",
          "name": "stdout",
          "text": [
            "[>>>>>>>>>>>>>>>>>>>>>>>>>>>>>>>>>>>] 3/3, 4.1 task/s, elapsed: 1s, ETA:     0s"
          ]
        },
        {
          "output_type": "stream",
          "name": "stderr",
          "text": [
            "2022-07-20 12:12:51,419 - mmseg - INFO - per class results:\n",
            "Class                  IoU       Dice        Acc\n",
            "background            0.00       0.00       0.00\n",
            "powerline            53.72      69.89      92.06\n",
            "Summary:\n",
            "Scope                 mIoU      mDice       mAcc       Powerline Dice      Background Dice       aAcc        TPR        TNR        FDR  Precision\n",
            "global               26.86      34.95      46.03                69.89                 0.00      56.32     100.00       0.00      40.80      59.20\n",
            "\n",
            "2022-07-20 12:12:51,429 - mmseg - INFO - Iter(val) [14200]\tmIoU: 0.2686, mDice: 0.3495, mAcc: 0.4603, plDice: 69.8903, bgDice: 0.0000, aAcc: 0.5632, TPR: 1.0000, TNR: 0.0000, FDR: 0.4080, Precision: 0.5920\n",
            "2022-07-20 12:13:03,245 - mmseg - INFO - Iter [14250/20000]\tlr: 3.931e-04, eta: 0:16:41, time: 0.282, data_time: 0.049, memory: 1570, decode.loss_seg: 0.7085, decode.acc_seg: 50.9598, loss: 0.7085\n",
            "2022-07-20 12:13:15,310 - mmseg - INFO - Iter [14300/20000]\tlr: 3.909e-04, eta: 0:16:33, time: 0.241, data_time: 0.003, memory: 1570, decode.loss_seg: 0.7088, decode.acc_seg: 49.6279, loss: 0.7088\n",
            "2022-07-20 12:13:27,200 - mmseg - INFO - Iter [14350/20000]\tlr: 3.886e-04, eta: 0:16:26, time: 0.238, data_time: 0.003, memory: 1570, decode.loss_seg: 0.7089, decode.acc_seg: 53.0876, loss: 0.7089\n",
            "2022-07-20 12:13:38,912 - mmseg - INFO - Saving checkpoint at 14400 iterations\n"
          ]
        },
        {
          "output_type": "stream",
          "name": "stdout",
          "text": [
            "[>>>>>>>>>>>>>>>>>>>>>>>>>>>>>>>>>>>] 3/3, 4.2 task/s, elapsed: 1s, ETA:     0s"
          ]
        },
        {
          "output_type": "stream",
          "name": "stderr",
          "text": [
            "2022-07-20 12:13:42,565 - mmseg - INFO - per class results:\n",
            "Class                  IoU       Dice        Acc\n",
            "background            0.00       0.00       0.00\n",
            "powerline            53.72      69.89      92.06\n",
            "Summary:\n",
            "Scope                 mIoU      mDice       mAcc       Powerline Dice      Background Dice       aAcc        TPR        TNR        FDR  Precision\n",
            "global               26.86      34.95      46.03                69.89                 0.00      56.32     100.00       0.00      40.80      59.20\n",
            "\n",
            "2022-07-20 12:13:42,571 - mmseg - INFO - Iter(val) [14400]\tmIoU: 0.2686, mDice: 0.3495, mAcc: 0.4603, plDice: 69.8903, bgDice: 0.0000, aAcc: 0.5632, TPR: 1.0000, TNR: 0.0000, FDR: 0.4080, Precision: 0.5920\n",
            "2022-07-20 12:13:54,767 - mmseg - INFO - Iter [14450/20000]\tlr: 3.840e-04, eta: 0:16:07, time: 0.290, data_time: 0.049, memory: 1570, decode.loss_seg: 0.7081, decode.acc_seg: 48.1235, loss: 0.7081\n",
            "2022-07-20 12:14:06,907 - mmseg - INFO - Iter [14500/20000]\tlr: 3.817e-04, eta: 0:16:00, time: 0.243, data_time: 0.003, memory: 1570, decode.loss_seg: 0.7088, decode.acc_seg: 52.4695, loss: 0.7088\n",
            "2022-07-20 12:14:18,743 - mmseg - INFO - Iter [14550/20000]\tlr: 3.793e-04, eta: 0:15:52, time: 0.236, data_time: 0.003, memory: 1570, decode.loss_seg: 0.7079, decode.acc_seg: 49.9123, loss: 0.7079\n",
            "2022-07-20 12:14:30,879 - mmseg - INFO - Saving checkpoint at 14600 iterations\n"
          ]
        },
        {
          "output_type": "stream",
          "name": "stdout",
          "text": [
            "[>>>>>>>>>>>>>>>>>>>>>>>>>>>>>>>>>>>] 3/3, 4.2 task/s, elapsed: 1s, ETA:     0s"
          ]
        },
        {
          "output_type": "stream",
          "name": "stderr",
          "text": [
            "2022-07-20 12:14:34,946 - mmseg - INFO - per class results:\n",
            "Class                  IoU       Dice        Acc\n",
            "background           38.82      55.93     100.00\n",
            "powerline             0.00       0.00       0.00\n",
            "Summary:\n",
            "Scope                 mIoU      mDice       mAcc       Powerline Dice      Background Dice       aAcc        TPR        TNR        FDR  Precision\n",
            "global               19.41      27.96      50.00                 0.00                55.93      38.82       0.00     100.00       0.00       0.00\n",
            "\n",
            "2022-07-20 12:14:34,952 - mmseg - INFO - Iter(val) [14600]\tmIoU: 0.1941, mDice: 0.2796, mAcc: 0.5000, plDice: 0.0000, bgDice: 55.9288, aAcc: 0.3882, TPR: 0.0000, TNR: 1.0000, FDR: 0, Precision: 0\n",
            "2022-07-20 12:14:47,151 - mmseg - INFO - Iter [14650/20000]\tlr: 3.747e-04, eta: 0:15:34, time: 0.298, data_time: 0.057, memory: 1570, decode.loss_seg: 0.7088, decode.acc_seg: 52.1132, loss: 0.7088\n",
            "2022-07-20 12:14:59,009 - mmseg - INFO - Iter [14700/20000]\tlr: 3.724e-04, eta: 0:15:26, time: 0.237, data_time: 0.003, memory: 1570, decode.loss_seg: 0.7076, decode.acc_seg: 51.1365, loss: 0.7076\n",
            "2022-07-20 12:15:11,172 - mmseg - INFO - Iter [14750/20000]\tlr: 3.701e-04, eta: 0:15:19, time: 0.243, data_time: 0.003, memory: 1570, decode.loss_seg: 0.7087, decode.acc_seg: 52.6124, loss: 0.7087\n",
            "2022-07-20 12:15:23,254 - mmseg - INFO - Saving checkpoint at 14800 iterations\n"
          ]
        },
        {
          "output_type": "stream",
          "name": "stdout",
          "text": [
            "[>>>>>>>>>>>>>>>>>>>>>>>>>>>>>>>>>>>] 3/3, 3.7 task/s, elapsed: 1s, ETA:     0s"
          ]
        },
        {
          "output_type": "stream",
          "name": "stderr",
          "text": [
            "2022-07-20 12:15:27,324 - mmseg - INFO - per class results:\n",
            "Class                  IoU       Dice        Acc\n",
            "background           38.82      55.93     100.00\n",
            "powerline             0.00       0.00       0.00\n",
            "Summary:\n",
            "Scope                 mIoU      mDice       mAcc       Powerline Dice      Background Dice       aAcc        TPR        TNR        FDR  Precision\n",
            "global               19.41      27.96      50.00                 0.00                55.93      38.82       0.00     100.00       0.00       0.00\n",
            "\n",
            "2022-07-20 12:15:27,330 - mmseg - INFO - Iter(val) [14800]\tmIoU: 0.1941, mDice: 0.2796, mAcc: 0.5000, plDice: 0.0000, bgDice: 55.9288, aAcc: 0.3882, TPR: 0.0000, TNR: 1.0000, FDR: 0, Precision: 0\n",
            "2022-07-20 12:15:39,398 - mmseg - INFO - Iter [14850/20000]\tlr: 3.655e-04, eta: 0:15:00, time: 0.298, data_time: 0.059, memory: 1570, decode.loss_seg: 0.7080, decode.acc_seg: 49.5570, loss: 0.7080\n",
            "2022-07-20 12:15:51,692 - mmseg - INFO - Iter [14900/20000]\tlr: 3.632e-04, eta: 0:14:53, time: 0.246, data_time: 0.003, memory: 1570, decode.loss_seg: 0.7090, decode.acc_seg: 51.9372, loss: 0.7090\n",
            "2022-07-20 12:16:04,079 - mmseg - INFO - Iter [14950/20000]\tlr: 3.608e-04, eta: 0:14:45, time: 0.248, data_time: 0.003, memory: 1570, decode.loss_seg: 0.7092, decode.acc_seg: 51.5813, loss: 0.7092\n",
            "2022-07-20 12:16:16,060 - mmseg - INFO - Saving checkpoint at 15000 iterations\n"
          ]
        },
        {
          "output_type": "stream",
          "name": "stdout",
          "text": [
            "[>>>>>>>>>>>>>>>>>>>>>>>>>>>>>>>>>>>] 3/3, 4.1 task/s, elapsed: 1s, ETA:     0s"
          ]
        },
        {
          "output_type": "stream",
          "name": "stderr",
          "text": [
            "2022-07-20 12:16:19,742 - mmseg - INFO - per class results:\n",
            "Class                  IoU       Dice        Acc\n",
            "background            0.00       0.00       0.00\n",
            "powerline            53.72      69.89      92.06\n",
            "Summary:\n",
            "Scope                 mIoU      mDice       mAcc       Powerline Dice      Background Dice       aAcc        TPR        TNR        FDR  Precision\n",
            "global               26.86      34.95      46.03                69.89                 0.00      56.32     100.00       0.00      40.80      59.20\n",
            "\n",
            "2022-07-20 12:16:19,746 - mmseg - INFO - Exp name: fcn_vanilla_unet_s5-d16_256x256_40k_hrf.py\n",
            "2022-07-20 12:16:19,749 - mmseg - INFO - Iter(val) [15000]\tmIoU: 0.2686, mDice: 0.3495, mAcc: 0.4603, plDice: 69.8903, bgDice: 0.0000, aAcc: 0.5632, TPR: 1.0000, TNR: 0.0000, FDR: 0.4080, Precision: 0.5920\n",
            "2022-07-20 12:16:32,129 - mmseg - INFO - Iter [15050/20000]\tlr: 3.562e-04, eta: 0:14:27, time: 0.294, data_time: 0.049, memory: 1570, decode.loss_seg: 0.7084, decode.acc_seg: 52.4194, loss: 0.7084\n",
            "2022-07-20 12:16:44,371 - mmseg - INFO - Iter [15100/20000]\tlr: 3.538e-04, eta: 0:14:19, time: 0.245, data_time: 0.003, memory: 1570, decode.loss_seg: 0.7082, decode.acc_seg: 53.3238, loss: 0.7082\n",
            "2022-07-20 12:16:56,403 - mmseg - INFO - Iter [15150/20000]\tlr: 3.515e-04, eta: 0:14:11, time: 0.240, data_time: 0.003, memory: 1570, decode.loss_seg: 0.7081, decode.acc_seg: 50.4321, loss: 0.7081\n",
            "2022-07-20 12:17:08,647 - mmseg - INFO - Saving checkpoint at 15200 iterations\n"
          ]
        },
        {
          "output_type": "stream",
          "name": "stdout",
          "text": [
            "[>>>>>>>>>>>>>>>>>>>>>>>>>>>>>>>>>>>] 3/3, 4.0 task/s, elapsed: 1s, ETA:     0s"
          ]
        },
        {
          "output_type": "stream",
          "name": "stderr",
          "text": [
            "2022-07-20 12:17:12,797 - mmseg - INFO - per class results:\n",
            "Class                  IoU       Dice        Acc\n",
            "background           38.82      55.93     100.00\n",
            "powerline             0.00       0.00       0.00\n",
            "Summary:\n",
            "Scope                 mIoU      mDice       mAcc       Powerline Dice      Background Dice       aAcc        TPR        TNR        FDR  Precision\n",
            "global               19.41      27.96      50.00                 0.00                55.93      38.82       0.00     100.00       0.00       0.00\n",
            "\n",
            "2022-07-20 12:17:12,802 - mmseg - INFO - Iter(val) [15200]\tmIoU: 0.1941, mDice: 0.2796, mAcc: 0.5000, plDice: 0.0000, bgDice: 55.9288, aAcc: 0.3882, TPR: 0.0000, TNR: 1.0000, FDR: 0, Precision: 0\n",
            "2022-07-20 12:17:25,184 - mmseg - INFO - Iter [15250/20000]\tlr: 3.468e-04, eta: 0:13:53, time: 0.304, data_time: 0.059, memory: 1570, decode.loss_seg: 0.7083, decode.acc_seg: 54.3313, loss: 0.7083\n",
            "2022-07-20 12:17:37,232 - mmseg - INFO - Iter [15300/20000]\tlr: 3.445e-04, eta: 0:13:45, time: 0.241, data_time: 0.003, memory: 1570, decode.loss_seg: 0.7075, decode.acc_seg: 47.5977, loss: 0.7075\n",
            "2022-07-20 12:17:49,666 - mmseg - INFO - Iter [15350/20000]\tlr: 3.422e-04, eta: 0:13:38, time: 0.249, data_time: 0.003, memory: 1570, decode.loss_seg: 0.7094, decode.acc_seg: 51.8976, loss: 0.7094\n",
            "2022-07-20 12:18:01,924 - mmseg - INFO - Saving checkpoint at 15400 iterations\n"
          ]
        },
        {
          "output_type": "stream",
          "name": "stdout",
          "text": [
            "[>>>>>>>>>>>>>>>>>>>>>>>>>>>>>>>>>>>] 3/3, 3.8 task/s, elapsed: 1s, ETA:     0s"
          ]
        },
        {
          "output_type": "stream",
          "name": "stderr",
          "text": [
            "2022-07-20 12:18:05,562 - mmseg - INFO - per class results:\n",
            "Class                  IoU       Dice        Acc\n",
            "background            0.00       0.00       0.00\n",
            "powerline            53.72      69.89      92.06\n",
            "Summary:\n",
            "Scope                 mIoU      mDice       mAcc       Powerline Dice      Background Dice       aAcc        TPR        TNR        FDR  Precision\n",
            "global               26.86      34.95      46.03                69.89                 0.00      56.32     100.00       0.00      40.80      59.20\n",
            "\n",
            "2022-07-20 12:18:05,568 - mmseg - INFO - Iter(val) [15400]\tmIoU: 0.2686, mDice: 0.3495, mAcc: 0.4603, plDice: 69.8903, bgDice: 0.0000, aAcc: 0.5632, TPR: 1.0000, TNR: 0.0000, FDR: 0.4080, Precision: 0.5920\n",
            "2022-07-20 12:18:17,514 - mmseg - INFO - Iter [15450/20000]\tlr: 3.375e-04, eta: 0:13:19, time: 0.286, data_time: 0.050, memory: 1570, decode.loss_seg: 0.7081, decode.acc_seg: 52.2538, loss: 0.7081\n",
            "2022-07-20 12:18:29,831 - mmseg - INFO - Iter [15500/20000]\tlr: 3.351e-04, eta: 0:13:11, time: 0.246, data_time: 0.003, memory: 1570, decode.loss_seg: 0.7079, decode.acc_seg: 52.6486, loss: 0.7079\n",
            "2022-07-20 12:18:42,235 - mmseg - INFO - Iter [15550/20000]\tlr: 3.328e-04, eta: 0:13:04, time: 0.248, data_time: 0.003, memory: 1570, decode.loss_seg: 0.7085, decode.acc_seg: 50.4493, loss: 0.7085\n",
            "2022-07-20 12:18:55,250 - mmseg - INFO - Saving checkpoint at 15600 iterations\n"
          ]
        },
        {
          "output_type": "stream",
          "name": "stdout",
          "text": [
            "[>>>>>>>>>>>>>>>>>>>>>>>>>>>>>>>>>>>] 3/3, 3.8 task/s, elapsed: 1s, ETA:     0s"
          ]
        },
        {
          "output_type": "stream",
          "name": "stderr",
          "text": [
            "2022-07-20 12:18:59,437 - mmseg - INFO - per class results:\n",
            "Class                  IoU       Dice        Acc\n",
            "background           38.82      55.93     100.00\n",
            "powerline             0.00       0.00       0.00\n",
            "Summary:\n",
            "Scope                 mIoU      mDice       mAcc       Powerline Dice      Background Dice       aAcc        TPR        TNR        FDR  Precision\n",
            "global               19.41      27.96      50.00                 0.00                55.93      38.82       0.00     100.00       0.00       0.00\n",
            "\n",
            "2022-07-20 12:18:59,441 - mmseg - INFO - Iter(val) [15600]\tmIoU: 0.1941, mDice: 0.2796, mAcc: 0.5000, plDice: 0.0000, bgDice: 55.9288, aAcc: 0.3882, TPR: 0.0000, TNR: 1.0000, FDR: 0, Precision: 0\n",
            "2022-07-20 12:19:11,924 - mmseg - INFO - Iter [15650/20000]\tlr: 3.281e-04, eta: 0:12:45, time: 0.306, data_time: 0.059, memory: 1570, decode.loss_seg: 0.7086, decode.acc_seg: 49.1965, loss: 0.7086\n",
            "2022-07-20 12:19:24,345 - mmseg - INFO - Iter [15700/20000]\tlr: 3.257e-04, eta: 0:12:37, time: 0.248, data_time: 0.003, memory: 1570, decode.loss_seg: 0.7096, decode.acc_seg: 52.9792, loss: 0.7096\n",
            "2022-07-20 12:19:36,486 - mmseg - INFO - Iter [15750/20000]\tlr: 3.233e-04, eta: 0:12:30, time: 0.243, data_time: 0.003, memory: 1570, decode.loss_seg: 0.7088, decode.acc_seg: 52.5611, loss: 0.7088\n",
            "2022-07-20 12:19:48,911 - mmseg - INFO - Saving checkpoint at 15800 iterations\n"
          ]
        },
        {
          "output_type": "stream",
          "name": "stdout",
          "text": [
            "[>>>>>>>>>>>>>>>>>>>>>>>>>>>>>>>>>>>] 3/3, 4.0 task/s, elapsed: 1s, ETA:     0s"
          ]
        },
        {
          "output_type": "stream",
          "name": "stderr",
          "text": [
            "2022-07-20 12:19:52,995 - mmseg - INFO - per class results:\n",
            "Class                  IoU       Dice        Acc\n",
            "background           38.82      55.93     100.00\n",
            "powerline             0.00       0.00       0.00\n",
            "Summary:\n",
            "Scope                 mIoU      mDice       mAcc       Powerline Dice      Background Dice       aAcc        TPR        TNR        FDR  Precision\n",
            "global               19.41      27.96      50.00                 0.00                55.93      38.82       0.00     100.00       0.00       0.00\n",
            "\n",
            "2022-07-20 12:19:53,002 - mmseg - INFO - Iter(val) [15800]\tmIoU: 0.1941, mDice: 0.2796, mAcc: 0.5000, plDice: 0.0000, bgDice: 55.9288, aAcc: 0.3882, TPR: 0.0000, TNR: 1.0000, FDR: 0, Precision: 0\n",
            "2022-07-20 12:20:05,448 - mmseg - INFO - Iter [15850/20000]\tlr: 3.186e-04, eta: 0:12:11, time: 0.303, data_time: 0.057, memory: 1570, decode.loss_seg: 0.7083, decode.acc_seg: 48.8280, loss: 0.7083\n",
            "2022-07-20 12:20:17,561 - mmseg - INFO - Iter [15900/20000]\tlr: 3.162e-04, eta: 0:12:03, time: 0.242, data_time: 0.003, memory: 1570, decode.loss_seg: 0.7081, decode.acc_seg: 50.7206, loss: 0.7081\n",
            "2022-07-20 12:20:29,894 - mmseg - INFO - Iter [15950/20000]\tlr: 3.139e-04, eta: 0:11:55, time: 0.247, data_time: 0.003, memory: 1570, decode.loss_seg: 0.7082, decode.acc_seg: 51.2149, loss: 0.7082\n",
            "2022-07-20 12:20:42,277 - mmseg - INFO - Saving checkpoint at 16000 iterations\n"
          ]
        },
        {
          "output_type": "stream",
          "name": "stdout",
          "text": [
            "[>>>>>>>>>>>>>>>>>>>>>>>>>>>>>>>>>>>] 3/3, 3.9 task/s, elapsed: 1s, ETA:     0s"
          ]
        },
        {
          "output_type": "stream",
          "name": "stderr",
          "text": [
            "2022-07-20 12:20:46,372 - mmseg - INFO - per class results:\n",
            "Class                  IoU       Dice        Acc\n",
            "background           38.82      55.93     100.00\n",
            "powerline             0.00       0.00       0.00\n",
            "Summary:\n",
            "Scope                 mIoU      mDice       mAcc       Powerline Dice      Background Dice       aAcc        TPR        TNR        FDR  Precision\n",
            "global               19.41      27.96      50.00                 0.00                55.93      38.82       0.00     100.00       0.00       0.00\n",
            "\n",
            "2022-07-20 12:20:46,378 - mmseg - INFO - Exp name: fcn_vanilla_unet_s5-d16_256x256_40k_hrf.py\n",
            "2022-07-20 12:20:46,383 - mmseg - INFO - Iter(val) [16000]\tmIoU: 0.1941, mDice: 0.2796, mAcc: 0.5000, plDice: 0.0000, bgDice: 55.9288, aAcc: 0.3882, TPR: 0.0000, TNR: 1.0000, FDR: 0, Precision: 0\n",
            "2022-07-20 12:20:58,599 - mmseg - INFO - Iter [16050/20000]\tlr: 3.091e-04, eta: 0:11:37, time: 0.300, data_time: 0.059, memory: 1570, decode.loss_seg: 0.7083, decode.acc_seg: 52.1978, loss: 0.7083\n",
            "2022-07-20 12:21:11,204 - mmseg - INFO - Iter [16100/20000]\tlr: 3.067e-04, eta: 0:11:29, time: 0.252, data_time: 0.003, memory: 1570, decode.loss_seg: 0.7086, decode.acc_seg: 52.2520, loss: 0.7086\n",
            "2022-07-20 12:21:23,735 - mmseg - INFO - Iter [16150/20000]\tlr: 3.043e-04, eta: 0:11:21, time: 0.251, data_time: 0.003, memory: 1570, decode.loss_seg: 0.7086, decode.acc_seg: 51.8162, loss: 0.7086\n",
            "2022-07-20 12:21:35,916 - mmseg - INFO - Saving checkpoint at 16200 iterations\n"
          ]
        },
        {
          "output_type": "stream",
          "name": "stdout",
          "text": [
            "[>>>>>>>>>>>>>>>>>>>>>>>>>>>>>>>>>>>] 3/3, 4.1 task/s, elapsed: 1s, ETA:     0s"
          ]
        },
        {
          "output_type": "stream",
          "name": "stderr",
          "text": [
            "2022-07-20 12:21:40,047 - mmseg - INFO - per class results:\n",
            "Class                  IoU       Dice        Acc\n",
            "background           38.82      55.93     100.00\n",
            "powerline             0.00       0.00       0.00\n",
            "Summary:\n",
            "Scope                 mIoU      mDice       mAcc       Powerline Dice      Background Dice       aAcc        TPR        TNR        FDR  Precision\n",
            "global               19.41      27.96      50.00                 0.00                55.93      38.82       0.00     100.00       0.00       0.00\n",
            "\n",
            "2022-07-20 12:21:40,055 - mmseg - INFO - Iter(val) [16200]\tmIoU: 0.1941, mDice: 0.2796, mAcc: 0.5000, plDice: 0.0000, bgDice: 55.9288, aAcc: 0.3882, TPR: 0.0000, TNR: 1.0000, FDR: 0, Precision: 0\n",
            "2022-07-20 12:21:52,707 - mmseg - INFO - Iter [16250/20000]\tlr: 2.995e-04, eta: 0:11:03, time: 0.308, data_time: 0.059, memory: 1570, decode.loss_seg: 0.7094, decode.acc_seg: 53.7948, loss: 0.7094\n",
            "2022-07-20 12:22:05,137 - mmseg - INFO - Iter [16300/20000]\tlr: 2.972e-04, eta: 0:10:55, time: 0.249, data_time: 0.003, memory: 1570, decode.loss_seg: 0.7089, decode.acc_seg: 54.3586, loss: 0.7089\n",
            "2022-07-20 12:22:17,641 - mmseg - INFO - Iter [16350/20000]\tlr: 2.948e-04, eta: 0:10:47, time: 0.250, data_time: 0.003, memory: 1570, decode.loss_seg: 0.7085, decode.acc_seg: 52.3260, loss: 0.7085\n",
            "2022-07-20 12:22:30,398 - mmseg - INFO - Saving checkpoint at 16400 iterations\n"
          ]
        },
        {
          "output_type": "stream",
          "name": "stdout",
          "text": [
            "[>>>>>>>>>>>>>>>>>>>>>>>>>>>>>>>>>>>] 3/3, 3.9 task/s, elapsed: 1s, ETA:     0s"
          ]
        },
        {
          "output_type": "stream",
          "name": "stderr",
          "text": [
            "2022-07-20 12:22:34,161 - mmseg - INFO - per class results:\n",
            "Class                  IoU       Dice        Acc\n",
            "background            0.00       0.00       0.00\n",
            "powerline            53.72      69.89      92.06\n",
            "Summary:\n",
            "Scope                 mIoU      mDice       mAcc       Powerline Dice      Background Dice       aAcc        TPR        TNR        FDR  Precision\n",
            "global               26.86      34.95      46.03                69.89                 0.00      56.32     100.00       0.00      40.80      59.20\n",
            "\n",
            "2022-07-20 12:22:34,166 - mmseg - INFO - Iter(val) [16400]\tmIoU: 0.2686, mDice: 0.3495, mAcc: 0.4603, plDice: 69.8903, bgDice: 0.0000, aAcc: 0.5632, TPR: 1.0000, TNR: 0.0000, FDR: 0.4080, Precision: 0.5920\n",
            "2022-07-20 12:22:46,804 - mmseg - INFO - Iter [16450/20000]\tlr: 2.899e-04, eta: 0:10:28, time: 0.301, data_time: 0.051, memory: 1570, decode.loss_seg: 0.7093, decode.acc_seg: 50.5782, loss: 0.7093\n",
            "2022-07-20 12:22:59,116 - mmseg - INFO - Iter [16500/20000]\tlr: 2.875e-04, eta: 0:10:20, time: 0.246, data_time: 0.003, memory: 1570, decode.loss_seg: 0.7085, decode.acc_seg: 52.7440, loss: 0.7085\n",
            "2022-07-20 12:23:11,699 - mmseg - INFO - Iter [16550/20000]\tlr: 2.851e-04, eta: 0:10:12, time: 0.252, data_time: 0.003, memory: 1570, decode.loss_seg: 0.7075, decode.acc_seg: 49.4471, loss: 0.7075\n",
            "2022-07-20 12:23:24,168 - mmseg - INFO - Saving checkpoint at 16600 iterations\n"
          ]
        },
        {
          "output_type": "stream",
          "name": "stdout",
          "text": [
            "[>>>>>>>>>>>>>>>>>>>>>>>>>>>>>>>>>>>] 3/3, 4.0 task/s, elapsed: 1s, ETA:     0s"
          ]
        },
        {
          "output_type": "stream",
          "name": "stderr",
          "text": [
            "2022-07-20 12:23:28,285 - mmseg - INFO - per class results:\n",
            "Class                  IoU       Dice        Acc\n",
            "background           38.82      55.93     100.00\n",
            "powerline             0.00       0.00       0.00\n",
            "Summary:\n",
            "Scope                 mIoU      mDice       mAcc       Powerline Dice      Background Dice       aAcc        TPR        TNR        FDR  Precision\n",
            "global               19.41      27.96      50.00                 0.00                55.93      38.82       0.00     100.00       0.00       0.00\n",
            "\n",
            "2022-07-20 12:23:28,292 - mmseg - INFO - Iter(val) [16600]\tmIoU: 0.1941, mDice: 0.2796, mAcc: 0.5000, plDice: 0.0000, bgDice: 55.9288, aAcc: 0.3882, TPR: 0.0000, TNR: 1.0000, FDR: 0, Precision: 0\n",
            "2022-07-20 12:23:40,685 - mmseg - INFO - Iter [16650/20000]\tlr: 2.803e-04, eta: 0:09:54, time: 0.303, data_time: 0.058, memory: 1570, decode.loss_seg: 0.7091, decode.acc_seg: 54.2796, loss: 0.7091\n",
            "2022-07-20 12:23:53,335 - mmseg - INFO - Iter [16700/20000]\tlr: 2.779e-04, eta: 0:09:46, time: 0.253, data_time: 0.003, memory: 1570, decode.loss_seg: 0.7092, decode.acc_seg: 53.6136, loss: 0.7092\n",
            "2022-07-20 12:24:05,999 - mmseg - INFO - Iter [16750/20000]\tlr: 2.754e-04, eta: 0:09:38, time: 0.253, data_time: 0.003, memory: 1570, decode.loss_seg: 0.7089, decode.acc_seg: 52.3296, loss: 0.7089\n",
            "2022-07-20 12:24:18,228 - mmseg - INFO - Saving checkpoint at 16800 iterations\n"
          ]
        },
        {
          "output_type": "stream",
          "name": "stdout",
          "text": [
            "[>>>>>>>>>>>>>>>>>>>>>>>>>>>>>>>>>>>] 3/3, 4.0 task/s, elapsed: 1s, ETA:     0s"
          ]
        },
        {
          "output_type": "stream",
          "name": "stderr",
          "text": [
            "2022-07-20 12:24:22,436 - mmseg - INFO - per class results:\n",
            "Class                  IoU       Dice        Acc\n",
            "background           38.82      55.93     100.00\n",
            "powerline             0.00       0.00       0.00\n",
            "Summary:\n",
            "Scope                 mIoU      mDice       mAcc       Powerline Dice      Background Dice       aAcc        TPR        TNR        FDR  Precision\n",
            "global               19.41      27.96      50.00                 0.00                55.93      38.82       0.00     100.00       0.00       0.00\n",
            "\n",
            "2022-07-20 12:24:22,442 - mmseg - INFO - Iter(val) [16800]\tmIoU: 0.1941, mDice: 0.2796, mAcc: 0.5000, plDice: 0.0000, bgDice: 55.9288, aAcc: 0.3882, TPR: 0.0000, TNR: 1.0000, FDR: 0, Precision: 0\n",
            "2022-07-20 12:24:35,218 - mmseg - INFO - Iter [16850/20000]\tlr: 2.706e-04, eta: 0:09:19, time: 0.312, data_time: 0.060, memory: 1570, decode.loss_seg: 0.7085, decode.acc_seg: 48.1804, loss: 0.7085\n",
            "2022-07-20 12:24:47,776 - mmseg - INFO - Iter [16900/20000]\tlr: 2.681e-04, eta: 0:09:11, time: 0.251, data_time: 0.003, memory: 1570, decode.loss_seg: 0.7087, decode.acc_seg: 49.4628, loss: 0.7087\n",
            "2022-07-20 12:25:00,108 - mmseg - INFO - Iter [16950/20000]\tlr: 2.657e-04, eta: 0:09:03, time: 0.246, data_time: 0.003, memory: 1570, decode.loss_seg: 0.7091, decode.acc_seg: 53.0402, loss: 0.7091\n",
            "2022-07-20 12:25:12,704 - mmseg - INFO - Saving checkpoint at 17000 iterations\n"
          ]
        },
        {
          "output_type": "stream",
          "name": "stdout",
          "text": [
            "[>>>>>>>>>>>>>>>>>>>>>>>>>>>>>>>>>>>] 3/3, 4.1 task/s, elapsed: 1s, ETA:     0s"
          ]
        },
        {
          "output_type": "stream",
          "name": "stderr",
          "text": [
            "2022-07-20 12:25:16,808 - mmseg - INFO - per class results:\n",
            "Class                  IoU       Dice        Acc\n",
            "background           38.82      55.93     100.00\n",
            "powerline             0.00       0.00       0.00\n",
            "Summary:\n",
            "Scope                 mIoU      mDice       mAcc       Powerline Dice      Background Dice       aAcc        TPR        TNR        FDR  Precision\n",
            "global               19.41      27.96      50.00                 0.00                55.93      38.82       0.00     100.00       0.00       0.00\n",
            "\n",
            "2022-07-20 12:25:16,814 - mmseg - INFO - Exp name: fcn_vanilla_unet_s5-d16_256x256_40k_hrf.py\n",
            "2022-07-20 12:25:16,816 - mmseg - INFO - Iter(val) [17000]\tmIoU: 0.1941, mDice: 0.2796, mAcc: 0.5000, plDice: 0.0000, bgDice: 55.9288, aAcc: 0.3882, TPR: 0.0000, TNR: 1.0000, FDR: 0, Precision: 0\n",
            "2022-07-20 12:25:29,536 - mmseg - INFO - Iter [17050/20000]\tlr: 2.608e-04, eta: 0:08:45, time: 0.309, data_time: 0.058, memory: 1570, decode.loss_seg: 0.7088, decode.acc_seg: 51.6350, loss: 0.7088\n",
            "2022-07-20 12:25:41,936 - mmseg - INFO - Iter [17100/20000]\tlr: 2.583e-04, eta: 0:08:36, time: 0.248, data_time: 0.003, memory: 1570, decode.loss_seg: 0.7091, decode.acc_seg: 50.0833, loss: 0.7091\n",
            "2022-07-20 12:25:54,880 - mmseg - INFO - Iter [17150/20000]\tlr: 2.559e-04, eta: 0:08:28, time: 0.259, data_time: 0.003, memory: 1570, decode.loss_seg: 0.7096, decode.acc_seg: 54.5492, loss: 0.7096\n",
            "2022-07-20 12:26:07,452 - mmseg - INFO - Saving checkpoint at 17200 iterations\n"
          ]
        },
        {
          "output_type": "stream",
          "name": "stdout",
          "text": [
            "[>>>>>>>>>>>>>>>>>>>>>>>>>>>>>>>>>>>] 3/3, 3.9 task/s, elapsed: 1s, ETA:     0s"
          ]
        },
        {
          "output_type": "stream",
          "name": "stderr",
          "text": [
            "2022-07-20 12:26:11,601 - mmseg - INFO - per class results:\n",
            "Class                  IoU       Dice        Acc\n",
            "background           38.82      55.93     100.00\n",
            "powerline             0.00       0.00       0.00\n",
            "Summary:\n",
            "Scope                 mIoU      mDice       mAcc       Powerline Dice      Background Dice       aAcc        TPR        TNR        FDR  Precision\n",
            "global               19.41      27.96      50.00                 0.00                55.93      38.82       0.00     100.00       0.00       0.00\n",
            "\n",
            "2022-07-20 12:26:11,610 - mmseg - INFO - Iter(val) [17200]\tmIoU: 0.1941, mDice: 0.2796, mAcc: 0.5000, plDice: 0.0000, bgDice: 55.9288, aAcc: 0.3882, TPR: 0.0000, TNR: 1.0000, FDR: 0, Precision: 0\n",
            "2022-07-20 12:26:23,939 - mmseg - INFO - Iter [17250/20000]\tlr: 2.510e-04, eta: 0:08:10, time: 0.302, data_time: 0.059, memory: 1570, decode.loss_seg: 0.7088, decode.acc_seg: 50.7285, loss: 0.7088\n",
            "2022-07-20 12:26:36,778 - mmseg - INFO - Iter [17300/20000]\tlr: 2.485e-04, eta: 0:08:02, time: 0.257, data_time: 0.003, memory: 1570, decode.loss_seg: 0.7082, decode.acc_seg: 51.6095, loss: 0.7082\n",
            "2022-07-20 12:26:49,369 - mmseg - INFO - Iter [17350/20000]\tlr: 2.460e-04, eta: 0:07:53, time: 0.252, data_time: 0.003, memory: 1570, decode.loss_seg: 0.7084, decode.acc_seg: 49.5213, loss: 0.7084\n",
            "2022-07-20 12:27:01,649 - mmseg - INFO - Saving checkpoint at 17400 iterations\n"
          ]
        },
        {
          "output_type": "stream",
          "name": "stdout",
          "text": [
            "[>>>>>>>>>>>>>>>>>>>>>>>>>>>>>>>>>>>] 3/3, 3.9 task/s, elapsed: 1s, ETA:     0s"
          ]
        },
        {
          "output_type": "stream",
          "name": "stderr",
          "text": [
            "2022-07-20 12:27:05,747 - mmseg - INFO - per class results:\n",
            "Class                  IoU       Dice        Acc\n",
            "background           38.82      55.93     100.00\n",
            "powerline             0.00       0.00       0.00\n",
            "Summary:\n",
            "Scope                 mIoU      mDice       mAcc       Powerline Dice      Background Dice       aAcc        TPR        TNR        FDR  Precision\n",
            "global               19.41      27.96      50.00                 0.00                55.93      38.82       0.00     100.00       0.00       0.00\n",
            "\n",
            "2022-07-20 12:27:05,754 - mmseg - INFO - Iter(val) [17400]\tmIoU: 0.1941, mDice: 0.2796, mAcc: 0.5000, plDice: 0.0000, bgDice: 55.9288, aAcc: 0.3882, TPR: 0.0000, TNR: 1.0000, FDR: 0, Precision: 0\n",
            "2022-07-20 12:27:18,703 - mmseg - INFO - Iter [17450/20000]\tlr: 2.410e-04, eta: 0:07:35, time: 0.314, data_time: 0.058, memory: 1570, decode.loss_seg: 0.7087, decode.acc_seg: 52.2999, loss: 0.7087\n",
            "2022-07-20 12:27:31,517 - mmseg - INFO - Iter [17500/20000]\tlr: 2.386e-04, eta: 0:07:27, time: 0.257, data_time: 0.003, memory: 1570, decode.loss_seg: 0.7085, decode.acc_seg: 52.5218, loss: 0.7085\n",
            "2022-07-20 12:27:44,081 - mmseg - INFO - Iter [17550/20000]\tlr: 2.361e-04, eta: 0:07:18, time: 0.251, data_time: 0.003, memory: 1570, decode.loss_seg: 0.7094, decode.acc_seg: 49.8805, loss: 0.7094\n",
            "2022-07-20 12:27:57,002 - mmseg - INFO - Saving checkpoint at 17600 iterations\n"
          ]
        },
        {
          "output_type": "stream",
          "name": "stdout",
          "text": [
            "[>>>>>>>>>>>>>>>>>>>>>>>>>>>>>>>>>>>] 3/3, 3.7 task/s, elapsed: 1s, ETA:     0s"
          ]
        },
        {
          "output_type": "stream",
          "name": "stderr",
          "text": [
            "2022-07-20 12:28:00,739 - mmseg - INFO - per class results:\n",
            "Class                  IoU       Dice        Acc\n",
            "background            0.00       0.00       0.00\n",
            "powerline            53.72      69.89      92.06\n",
            "Summary:\n",
            "Scope                 mIoU      mDice       mAcc       Powerline Dice      Background Dice       aAcc        TPR        TNR        FDR  Precision\n",
            "global               26.86      34.95      46.03                69.89                 0.00      56.32     100.00       0.00      40.80      59.20\n",
            "\n",
            "2022-07-20 12:28:00,746 - mmseg - INFO - Iter(val) [17600]\tmIoU: 0.2686, mDice: 0.3495, mAcc: 0.4603, plDice: 69.8903, bgDice: 0.0000, aAcc: 0.5632, TPR: 1.0000, TNR: 0.0000, FDR: 0.4080, Precision: 0.5920\n",
            "2022-07-20 12:28:13,583 - mmseg - INFO - Iter [17650/20000]\tlr: 2.311e-04, eta: 0:07:00, time: 0.305, data_time: 0.051, memory: 1570, decode.loss_seg: 0.7082, decode.acc_seg: 49.6976, loss: 0.7082\n",
            "2022-07-20 12:28:26,047 - mmseg - INFO - Iter [17700/20000]\tlr: 2.285e-04, eta: 0:06:51, time: 0.249, data_time: 0.003, memory: 1570, decode.loss_seg: 0.7085, decode.acc_seg: 53.2454, loss: 0.7085\n",
            "2022-07-20 12:28:38,839 - mmseg - INFO - Iter [17750/20000]\tlr: 2.260e-04, eta: 0:06:43, time: 0.256, data_time: 0.003, memory: 1570, decode.loss_seg: 0.7082, decode.acc_seg: 53.9484, loss: 0.7082\n",
            "2022-07-20 12:28:51,586 - mmseg - INFO - Saving checkpoint at 17800 iterations\n"
          ]
        },
        {
          "output_type": "stream",
          "name": "stdout",
          "text": [
            "[>>>>>>>>>>>>>>>>>>>>>>>>>>>>>>>>>>>] 3/3, 3.9 task/s, elapsed: 1s, ETA:     0s"
          ]
        },
        {
          "output_type": "stream",
          "name": "stderr",
          "text": [
            "2022-07-20 12:28:55,645 - mmseg - INFO - per class results:\n",
            "Class                  IoU       Dice        Acc\n",
            "background           38.82      55.93     100.00\n",
            "powerline             0.00       0.00       0.00\n",
            "Summary:\n",
            "Scope                 mIoU      mDice       mAcc       Powerline Dice      Background Dice       aAcc        TPR        TNR        FDR  Precision\n",
            "global               19.41      27.96      50.00                 0.00                55.93      38.82       0.00     100.00       0.00       0.00\n",
            "\n",
            "2022-07-20 12:28:55,649 - mmseg - INFO - Iter(val) [17800]\tmIoU: 0.1941, mDice: 0.2796, mAcc: 0.5000, plDice: 0.0000, bgDice: 55.9288, aAcc: 0.3882, TPR: 0.0000, TNR: 1.0000, FDR: 0, Precision: 0\n",
            "2022-07-20 12:29:08,321 - mmseg - INFO - Iter [17850/20000]\tlr: 2.210e-04, eta: 0:06:25, time: 0.308, data_time: 0.058, memory: 1570, decode.loss_seg: 0.7089, decode.acc_seg: 51.7672, loss: 0.7089\n",
            "2022-07-20 12:29:21,186 - mmseg - INFO - Iter [17900/20000]\tlr: 2.184e-04, eta: 0:06:16, time: 0.257, data_time: 0.003, memory: 1570, decode.loss_seg: 0.7087, decode.acc_seg: 52.6097, loss: 0.7087\n",
            "2022-07-20 12:29:34,098 - mmseg - INFO - Iter [17950/20000]\tlr: 2.159e-04, eta: 0:06:08, time: 0.258, data_time: 0.003, memory: 1570, decode.loss_seg: 0.7083, decode.acc_seg: 50.9322, loss: 0.7083\n",
            "2022-07-20 12:29:46,620 - mmseg - INFO - Saving checkpoint at 18000 iterations\n"
          ]
        },
        {
          "output_type": "stream",
          "name": "stdout",
          "text": [
            "[>>>>>>>>>>>>>>>>>>>>>>>>>>>>>>>>>>>] 3/3, 3.8 task/s, elapsed: 1s, ETA:     0s"
          ]
        },
        {
          "output_type": "stream",
          "name": "stderr",
          "text": [
            "2022-07-20 12:29:50,775 - mmseg - INFO - per class results:\n",
            "Class                  IoU       Dice        Acc\n",
            "background           38.82      55.93     100.00\n",
            "powerline             0.00       0.00       0.00\n",
            "Summary:\n",
            "Scope                 mIoU      mDice       mAcc       Powerline Dice      Background Dice       aAcc        TPR        TNR        FDR  Precision\n",
            "global               19.41      27.96      50.00                 0.00                55.93      38.82       0.00     100.00       0.00       0.00\n",
            "\n",
            "2022-07-20 12:29:50,780 - mmseg - INFO - Exp name: fcn_vanilla_unet_s5-d16_256x256_40k_hrf.py\n",
            "2022-07-20 12:29:50,786 - mmseg - INFO - Iter(val) [18000]\tmIoU: 0.1941, mDice: 0.2796, mAcc: 0.5000, plDice: 0.0000, bgDice: 55.9288, aAcc: 0.3882, TPR: 0.0000, TNR: 1.0000, FDR: 0, Precision: 0\n",
            "2022-07-20 12:30:03,800 - mmseg - INFO - Iter [18050/20000]\tlr: 2.108e-04, eta: 0:05:50, time: 0.316, data_time: 0.059, memory: 1570, decode.loss_seg: 0.7085, decode.acc_seg: 53.8077, loss: 0.7085\n",
            "2022-07-20 12:30:16,766 - mmseg - INFO - Iter [18100/20000]\tlr: 2.082e-04, eta: 0:05:41, time: 0.259, data_time: 0.003, memory: 1570, decode.loss_seg: 0.7082, decode.acc_seg: 52.7031, loss: 0.7082\n",
            "2022-07-20 12:30:29,364 - mmseg - INFO - Iter [18150/20000]\tlr: 2.057e-04, eta: 0:05:32, time: 0.252, data_time: 0.003, memory: 1570, decode.loss_seg: 0.7086, decode.acc_seg: 52.1057, loss: 0.7086\n",
            "2022-07-20 12:30:42,136 - mmseg - INFO - Saving checkpoint at 18200 iterations\n"
          ]
        },
        {
          "output_type": "stream",
          "name": "stdout",
          "text": [
            "[>>>>>>>>>>>>>>>>>>>>>>>>>>>>>>>>>>>] 3/3, 3.7 task/s, elapsed: 1s, ETA:     0s"
          ]
        },
        {
          "output_type": "stream",
          "name": "stderr",
          "text": [
            "2022-07-20 12:30:46,250 - mmseg - INFO - per class results:\n",
            "Class                  IoU       Dice        Acc\n",
            "background           38.82      55.93     100.00\n",
            "powerline             0.00       0.00       0.00\n",
            "Summary:\n",
            "Scope                 mIoU      mDice       mAcc       Powerline Dice      Background Dice       aAcc        TPR        TNR        FDR  Precision\n",
            "global               19.41      27.96      50.00                 0.00                55.93      38.82       0.00     100.00       0.00       0.00\n",
            "\n",
            "2022-07-20 12:30:46,255 - mmseg - INFO - Iter(val) [18200]\tmIoU: 0.1941, mDice: 0.2796, mAcc: 0.5000, plDice: 0.0000, bgDice: 55.9288, aAcc: 0.3882, TPR: 0.0000, TNR: 1.0000, FDR: 0, Precision: 0\n",
            "2022-07-20 12:30:59,054 - mmseg - INFO - Iter [18250/20000]\tlr: 2.005e-04, eta: 0:05:14, time: 0.312, data_time: 0.059, memory: 1570, decode.loss_seg: 0.7086, decode.acc_seg: 51.4955, loss: 0.7086\n",
            "2022-07-20 12:31:11,439 - mmseg - INFO - Iter [18300/20000]\tlr: 1.979e-04, eta: 0:05:05, time: 0.248, data_time: 0.003, memory: 1570, decode.loss_seg: 0.7105, decode.acc_seg: 52.6341, loss: 0.7105\n",
            "2022-07-20 12:31:24,298 - mmseg - INFO - Iter [18350/20000]\tlr: 1.953e-04, eta: 0:04:57, time: 0.257, data_time: 0.003, memory: 1570, decode.loss_seg: 0.7096, decode.acc_seg: 53.6881, loss: 0.7096\n",
            "2022-07-20 12:31:37,128 - mmseg - INFO - Saving checkpoint at 18400 iterations\n"
          ]
        },
        {
          "output_type": "stream",
          "name": "stdout",
          "text": [
            "[>>>>>>>>>>>>>>>>>>>>>>>>>>>>>>>>>>>] 3/3, 4.0 task/s, elapsed: 1s, ETA:     0s"
          ]
        },
        {
          "output_type": "stream",
          "name": "stderr",
          "text": [
            "2022-07-20 12:31:41,246 - mmseg - INFO - per class results:\n",
            "Class                  IoU       Dice        Acc\n",
            "background           38.82      55.93     100.00\n",
            "powerline             0.00       0.00       0.00\n",
            "Summary:\n",
            "Scope                 mIoU      mDice       mAcc       Powerline Dice      Background Dice       aAcc        TPR        TNR        FDR  Precision\n",
            "global               19.41      27.96      50.00                 0.00                55.93      38.82       0.00     100.00       0.00       0.00\n",
            "\n",
            "2022-07-20 12:31:41,249 - mmseg - INFO - Iter(val) [18400]\tmIoU: 0.1941, mDice: 0.2796, mAcc: 0.5000, plDice: 0.0000, bgDice: 55.9288, aAcc: 0.3882, TPR: 0.0000, TNR: 1.0000, FDR: 0, Precision: 0\n",
            "2022-07-20 12:31:53,903 - mmseg - INFO - Iter [18450/20000]\tlr: 1.901e-04, eta: 0:04:39, time: 0.308, data_time: 0.058, memory: 1570, decode.loss_seg: 0.7086, decode.acc_seg: 48.4448, loss: 0.7086\n",
            "2022-07-20 12:32:06,731 - mmseg - INFO - Iter [18500/20000]\tlr: 1.875e-04, eta: 0:04:30, time: 0.257, data_time: 0.003, memory: 1570, decode.loss_seg: 0.7089, decode.acc_seg: 51.4024, loss: 0.7089\n",
            "2022-07-20 12:32:19,532 - mmseg - INFO - Iter [18550/20000]\tlr: 1.849e-04, eta: 0:04:21, time: 0.256, data_time: 0.003, memory: 1570, decode.loss_seg: 0.7099, decode.acc_seg: 53.8489, loss: 0.7099\n",
            "2022-07-20 12:32:31,942 - mmseg - INFO - Saving checkpoint at 18600 iterations\n"
          ]
        },
        {
          "output_type": "stream",
          "name": "stdout",
          "text": [
            "[>>>>>>>>>>>>>>>>>>>>>>>>>>>>>>>>>>>] 3/3, 3.8 task/s, elapsed: 1s, ETA:     0s"
          ]
        },
        {
          "output_type": "stream",
          "name": "stderr",
          "text": [
            "2022-07-20 12:32:36,057 - mmseg - INFO - per class results:\n",
            "Class                  IoU       Dice        Acc\n",
            "background           38.82      55.93     100.00\n",
            "powerline             0.00       0.00       0.00\n",
            "Summary:\n",
            "Scope                 mIoU      mDice       mAcc       Powerline Dice      Background Dice       aAcc        TPR        TNR        FDR  Precision\n",
            "global               19.41      27.96      50.00                 0.00                55.93      38.82       0.00     100.00       0.00       0.00\n",
            "\n",
            "2022-07-20 12:32:36,062 - mmseg - INFO - Iter(val) [18600]\tmIoU: 0.1941, mDice: 0.2796, mAcc: 0.5000, plDice: 0.0000, bgDice: 55.9288, aAcc: 0.3882, TPR: 0.0000, TNR: 1.0000, FDR: 0, Precision: 0\n",
            "2022-07-20 12:32:49,140 - mmseg - INFO - Iter [18650/20000]\tlr: 1.796e-04, eta: 0:04:03, time: 0.317, data_time: 0.059, memory: 1570, decode.loss_seg: 0.7079, decode.acc_seg: 52.7354, loss: 0.7079\n",
            "2022-07-20 12:33:02,146 - mmseg - INFO - Iter [18700/20000]\tlr: 1.769e-04, eta: 0:03:54, time: 0.260, data_time: 0.003, memory: 1570, decode.loss_seg: 0.7090, decode.acc_seg: 51.2782, loss: 0.7090\n",
            "2022-07-20 12:33:14,718 - mmseg - INFO - Iter [18750/20000]\tlr: 1.743e-04, eta: 0:03:45, time: 0.251, data_time: 0.003, memory: 1570, decode.loss_seg: 0.7100, decode.acc_seg: 52.8823, loss: 0.7100\n",
            "2022-07-20 12:33:27,609 - mmseg - INFO - Saving checkpoint at 18800 iterations\n"
          ]
        },
        {
          "output_type": "stream",
          "name": "stdout",
          "text": [
            "[>>>>>>>>>>>>>>>>>>>>>>>>>>>>>>>>>>>] 3/3, 3.9 task/s, elapsed: 1s, ETA:     0s"
          ]
        },
        {
          "output_type": "stream",
          "name": "stderr",
          "text": [
            "2022-07-20 12:33:31,717 - mmseg - INFO - per class results:\n",
            "Class                  IoU       Dice        Acc\n",
            "background           38.82      55.93     100.00\n",
            "powerline             0.00       0.00       0.00\n",
            "Summary:\n",
            "Scope                 mIoU      mDice       mAcc       Powerline Dice      Background Dice       aAcc        TPR        TNR        FDR  Precision\n",
            "global               19.41      27.96      50.00                 0.00                55.93      38.82       0.00     100.00       0.00       0.00\n",
            "\n",
            "2022-07-20 12:33:31,721 - mmseg - INFO - Iter(val) [18800]\tmIoU: 0.1941, mDice: 0.2796, mAcc: 0.5000, plDice: 0.0000, bgDice: 55.9288, aAcc: 0.3882, TPR: 0.0000, TNR: 1.0000, FDR: 0, Precision: 0\n",
            "2022-07-20 12:33:44,758 - mmseg - INFO - Iter [18850/20000]\tlr: 1.689e-04, eta: 0:03:27, time: 0.316, data_time: 0.058, memory: 1570, decode.loss_seg: 0.7077, decode.acc_seg: 51.3499, loss: 0.7077\n",
            "2022-07-20 12:33:57,279 - mmseg - INFO - Iter [18900/20000]\tlr: 1.662e-04, eta: 0:03:18, time: 0.250, data_time: 0.003, memory: 1570, decode.loss_seg: 0.7079, decode.acc_seg: 53.9821, loss: 0.7079\n",
            "2022-07-20 12:34:10,219 - mmseg - INFO - Iter [18950/20000]\tlr: 1.635e-04, eta: 0:03:10, time: 0.259, data_time: 0.003, memory: 1570, decode.loss_seg: 0.7090, decode.acc_seg: 55.2025, loss: 0.7090\n",
            "2022-07-20 12:34:23,211 - mmseg - INFO - Saving checkpoint at 19000 iterations\n"
          ]
        },
        {
          "output_type": "stream",
          "name": "stdout",
          "text": [
            "[>>>>>>>>>>>>>>>>>>>>>>>>>>>>>>>>>>>] 3/3, 2.4 task/s, elapsed: 1s, ETA:     0s"
          ]
        },
        {
          "output_type": "stream",
          "name": "stderr",
          "text": [
            "2022-07-20 12:34:27,872 - mmseg - INFO - per class results:\n",
            "Class                  IoU       Dice        Acc\n",
            "background           38.82      55.93     100.00\n",
            "powerline             0.00       0.00       0.00\n",
            "Summary:\n",
            "Scope                 mIoU      mDice       mAcc       Powerline Dice      Background Dice       aAcc        TPR        TNR        FDR  Precision\n",
            "global               19.41      27.96      50.00                 0.00                55.93      38.82       0.00     100.00       0.00       0.00\n",
            "\n",
            "2022-07-20 12:34:27,875 - mmseg - INFO - Exp name: fcn_vanilla_unet_s5-d16_256x256_40k_hrf.py\n",
            "2022-07-20 12:34:27,877 - mmseg - INFO - Iter(val) [19000]\tmIoU: 0.1941, mDice: 0.2796, mAcc: 0.5000, plDice: 0.0000, bgDice: 55.9288, aAcc: 0.3882, TPR: 0.0000, TNR: 1.0000, FDR: 0, Precision: 0\n",
            "2022-07-20 12:34:40,614 - mmseg - INFO - Iter [19050/20000]\tlr: 1.580e-04, eta: 0:02:51, time: 0.321, data_time: 0.069, memory: 1570, decode.loss_seg: 0.7081, decode.acc_seg: 51.1645, loss: 0.7081\n",
            "2022-07-20 12:34:53,734 - mmseg - INFO - Iter [19100/20000]\tlr: 1.553e-04, eta: 0:02:43, time: 0.262, data_time: 0.003, memory: 1570, decode.loss_seg: 0.7079, decode.acc_seg: 54.2086, loss: 0.7079\n",
            "2022-07-20 12:35:06,780 - mmseg - INFO - Iter [19150/20000]\tlr: 1.525e-04, eta: 0:02:34, time: 0.261, data_time: 0.003, memory: 1570, decode.loss_seg: 0.7095, decode.acc_seg: 52.5139, loss: 0.7095\n",
            "2022-07-20 12:35:19,292 - mmseg - INFO - Saving checkpoint at 19200 iterations\n"
          ]
        },
        {
          "output_type": "stream",
          "name": "stdout",
          "text": [
            "[>>>>>>>>>>>>>>>>>>>>>>>>>>>>>>>>>>>] 3/3, 3.8 task/s, elapsed: 1s, ETA:     0s"
          ]
        },
        {
          "output_type": "stream",
          "name": "stderr",
          "text": [
            "2022-07-20 12:35:23,462 - mmseg - INFO - per class results:\n",
            "Class                  IoU       Dice        Acc\n",
            "background           38.82      55.93     100.00\n",
            "powerline             0.00       0.00       0.00\n",
            "Summary:\n",
            "Scope                 mIoU      mDice       mAcc       Powerline Dice      Background Dice       aAcc        TPR        TNR        FDR  Precision\n",
            "global               19.41      27.96      50.00                 0.00                55.93      38.82       0.00     100.00       0.00       0.00\n",
            "\n",
            "2022-07-20 12:35:23,466 - mmseg - INFO - Iter(val) [19200]\tmIoU: 0.1941, mDice: 0.2796, mAcc: 0.5000, plDice: 0.0000, bgDice: 55.9288, aAcc: 0.3882, TPR: 0.0000, TNR: 1.0000, FDR: 0, Precision: 0\n",
            "2022-07-20 12:35:36,693 - mmseg - INFO - Iter [19250/20000]\tlr: 1.469e-04, eta: 0:02:15, time: 0.321, data_time: 0.059, memory: 1570, decode.loss_seg: 0.7087, decode.acc_seg: 54.7785, loss: 0.7087\n",
            "2022-07-20 12:35:49,744 - mmseg - INFO - Iter [19300/20000]\tlr: 1.441e-04, eta: 0:02:07, time: 0.261, data_time: 0.003, memory: 1570, decode.loss_seg: 0.7084, decode.acc_seg: 50.5800, loss: 0.7084\n",
            "2022-07-20 12:36:02,411 - mmseg - INFO - Iter [19350/20000]\tlr: 1.413e-04, eta: 0:01:58, time: 0.253, data_time: 0.003, memory: 1570, decode.loss_seg: 0.7089, decode.acc_seg: 52.4145, loss: 0.7089\n",
            "2022-07-20 12:36:15,448 - mmseg - INFO - Saving checkpoint at 19400 iterations\n"
          ]
        },
        {
          "output_type": "stream",
          "name": "stdout",
          "text": [
            "[>>>>>>>>>>>>>>>>>>>>>>>>>>>>>>>>>>>] 3/3, 3.8 task/s, elapsed: 1s, ETA:     0s"
          ]
        },
        {
          "output_type": "stream",
          "name": "stderr",
          "text": [
            "2022-07-20 12:36:19,663 - mmseg - INFO - per class results:\n",
            "Class                  IoU       Dice        Acc\n",
            "background           38.82      55.93     100.00\n",
            "powerline             0.00       0.00       0.00\n",
            "Summary:\n",
            "Scope                 mIoU      mDice       mAcc       Powerline Dice      Background Dice       aAcc        TPR        TNR        FDR  Precision\n",
            "global               19.41      27.96      50.00                 0.00                55.93      38.82       0.00     100.00       0.00       0.00\n",
            "\n",
            "2022-07-20 12:36:19,667 - mmseg - INFO - Iter(val) [19400]\tmIoU: 0.1941, mDice: 0.2796, mAcc: 0.5000, plDice: 0.0000, bgDice: 55.9288, aAcc: 0.3882, TPR: 0.0000, TNR: 1.0000, FDR: 0, Precision: 0\n",
            "2022-07-20 12:36:32,708 - mmseg - INFO - Iter [19450/20000]\tlr: 1.355e-04, eta: 0:01:39, time: 0.317, data_time: 0.059, memory: 1570, decode.loss_seg: 0.7089, decode.acc_seg: 53.5210, loss: 0.7089\n",
            "2022-07-20 12:36:45,328 - mmseg - INFO - Iter [19500/20000]\tlr: 1.326e-04, eta: 0:01:30, time: 0.252, data_time: 0.003, memory: 1570, decode.loss_seg: 0.7080, decode.acc_seg: 52.5895, loss: 0.7080\n",
            "2022-07-20 12:36:58,448 - mmseg - INFO - Iter [19550/20000]\tlr: 1.297e-04, eta: 0:01:21, time: 0.262, data_time: 0.003, memory: 1570, decode.loss_seg: 0.7083, decode.acc_seg: 51.0790, loss: 0.7083\n",
            "2022-07-20 12:37:11,456 - mmseg - INFO - Saving checkpoint at 19600 iterations\n"
          ]
        },
        {
          "output_type": "stream",
          "name": "stdout",
          "text": [
            "[>>>>>>>>>>>>>>>>>>>>>>>>>>>>>>>>>>>] 3/3, 3.7 task/s, elapsed: 1s, ETA:     0s"
          ]
        },
        {
          "output_type": "stream",
          "name": "stderr",
          "text": [
            "2022-07-20 12:37:15,656 - mmseg - INFO - per class results:\n",
            "Class                  IoU       Dice        Acc\n",
            "background           38.82      55.93     100.00\n",
            "powerline             0.00       0.00       0.00\n",
            "Summary:\n",
            "Scope                 mIoU      mDice       mAcc       Powerline Dice      Background Dice       aAcc        TPR        TNR        FDR  Precision\n",
            "global               19.41      27.96      50.00                 0.00                55.93      38.82       0.00     100.00       0.00       0.00\n",
            "\n",
            "2022-07-20 12:37:15,659 - mmseg - INFO - Iter(val) [19600]\tmIoU: 0.1941, mDice: 0.2796, mAcc: 0.5000, plDice: 0.0000, bgDice: 55.9288, aAcc: 0.3882, TPR: 0.0000, TNR: 1.0000, FDR: 0, Precision: 0\n",
            "2022-07-20 12:37:28,514 - mmseg - INFO - Iter [19650/20000]\tlr: 1.237e-04, eta: 0:01:03, time: 0.313, data_time: 0.059, memory: 1570, decode.loss_seg: 0.7085, decode.acc_seg: 51.8203, loss: 0.7085\n",
            "2022-07-20 12:37:41,740 - mmseg - INFO - Iter [19700/20000]\tlr: 1.206e-04, eta: 0:00:54, time: 0.264, data_time: 0.003, memory: 1570, decode.loss_seg: 0.7096, decode.acc_seg: 52.6386, loss: 0.7096\n",
            "2022-07-20 12:37:54,800 - mmseg - INFO - Iter [19750/20000]\tlr: 1.175e-04, eta: 0:00:45, time: 0.261, data_time: 0.003, memory: 1570, decode.loss_seg: 0.7085, decode.acc_seg: 51.7997, loss: 0.7085\n",
            "2022-07-20 12:38:07,455 - mmseg - INFO - Saving checkpoint at 19800 iterations\n"
          ]
        },
        {
          "output_type": "stream",
          "name": "stdout",
          "text": [
            "[>>>>>>>>>>>>>>>>>>>>>>>>>>>>>>>>>>>] 3/3, 3.7 task/s, elapsed: 1s, ETA:     0s"
          ]
        },
        {
          "output_type": "stream",
          "name": "stderr",
          "text": [
            "2022-07-20 12:38:11,641 - mmseg - INFO - per class results:\n",
            "Class                  IoU       Dice        Acc\n",
            "background           38.82      55.93     100.00\n",
            "powerline             0.00       0.00       0.00\n",
            "Summary:\n",
            "Scope                 mIoU      mDice       mAcc       Powerline Dice      Background Dice       aAcc        TPR        TNR        FDR  Precision\n",
            "global               19.41      27.96      50.00                 0.00                55.93      38.82       0.00     100.00       0.00       0.00\n",
            "\n",
            "2022-07-20 12:38:11,644 - mmseg - INFO - Iter(val) [19800]\tmIoU: 0.1941, mDice: 0.2796, mAcc: 0.5000, plDice: 0.0000, bgDice: 55.9288, aAcc: 0.3882, TPR: 0.0000, TNR: 1.0000, FDR: 0, Precision: 0\n",
            "2022-07-20 12:38:24,983 - mmseg - INFO - Iter [19850/20000]\tlr: 1.111e-04, eta: 0:00:27, time: 0.323, data_time: 0.060, memory: 1570, decode.loss_seg: 0.7087, decode.acc_seg: 55.1633, loss: 0.7087\n",
            "2022-07-20 12:38:38,144 - mmseg - INFO - Iter [19900/20000]\tlr: 1.077e-04, eta: 0:00:18, time: 0.263, data_time: 0.003, memory: 1570, decode.loss_seg: 0.7087, decode.acc_seg: 51.3068, loss: 0.7087\n",
            "2022-07-20 12:38:50,848 - mmseg - INFO - Iter [19950/20000]\tlr: 1.042e-04, eta: 0:00:09, time: 0.254, data_time: 0.003, memory: 1570, decode.loss_seg: 0.7096, decode.acc_seg: 51.4920, loss: 0.7096\n",
            "2022-07-20 12:39:04,031 - mmseg - INFO - Saving checkpoint at 20000 iterations\n"
          ]
        },
        {
          "output_type": "stream",
          "name": "stdout",
          "text": [
            "[>>>>>>>>>>>>>>>>>>>>>>>>>>>>>>>>>>>] 3/3, 3.8 task/s, elapsed: 1s, ETA:     0s"
          ]
        },
        {
          "output_type": "stream",
          "name": "stderr",
          "text": [
            "2022-07-20 12:39:08,084 - mmseg - INFO - per class results:\n",
            "Class                  IoU       Dice        Acc\n",
            "background           38.82      55.93     100.00\n",
            "powerline             0.00       0.00       0.00\n",
            "Summary:\n",
            "Scope                 mIoU      mDice       mAcc       Powerline Dice      Background Dice       aAcc        TPR        TNR        FDR  Precision\n",
            "global               19.41      27.96      50.00                 0.00                55.93      38.82       0.00     100.00       0.00       0.00\n",
            "\n",
            "2022-07-20 12:39:08,088 - mmseg - INFO - Exp name: fcn_vanilla_unet_s5-d16_256x256_40k_hrf.py\n",
            "2022-07-20 12:39:08,095 - mmseg - INFO - Iter(val) [20000]\tmIoU: 0.1941, mDice: 0.2796, mAcc: 0.5000, plDice: 0.0000, bgDice: 55.9288, aAcc: 0.3882, TPR: 0.0000, TNR: 1.0000, FDR: 0, Precision: 0\n"
          ]
        }
      ]
    },
    {
      "cell_type": "markdown",
      "source": [
        "#Inference with Trained Model"
      ],
      "metadata": {
        "id": "dQvA7EJWotN6"
      }
    },
    {
      "cell_type": "code",
      "source": [
        "#create direcrtory for storing results\n",
        "!mkdir /content/focal_phi_loss_mmsegmentation/data/work_dirs/results\n",
        "!mkdir /content/focal_phi_loss_mmsegmentation/data/work_dirs/results/masks\n",
        "!mkdir /content/focal_phi_loss_mmsegmentation/data/work_dirs/results/overlays"
      ],
      "metadata": {
        "id": "bjCH1IUXzIY0"
      },
      "execution_count": 24,
      "outputs": []
    },
    {
      "cell_type": "code",
      "source": [
        "from mmseg.apis import inference_segmentor, init_segmentor, show_result_pyplot\n",
        "import mmcv\n",
        "import matplotlib.pyplot as plt\n",
        "from google.colab.patches import cv2_imshow\n",
        "import numpy as np\n",
        "import os\n",
        "import glob\n",
        "import zipfile\n",
        "\n",
        "PATH_TO_TEST_IMAGES_DIR= data_root+dataset+\"/img_dir/val\"\n",
        "PATH_TO_LABEL_IMAGES_DIR= data_root+dataset+\"/ann_dir/val\"\n",
        "TEST_IMAGE_PATHS = glob.glob(os.path.join(PATH_TO_TEST_IMAGES_DIR, \"*.jpg\"))\n",
        "LABEL_PATHS= glob.glob(os.path.join(PATH_TO_LABEL_IMAGES_DIR, \"*.png\"))\n",
        "\n",
        "TEST_IMAGE_PATHS.sort()\n",
        "LABEL_PATHS.sort()\n",
        "\n",
        "checkpoint= root_dir+'/work_dirs/tutorial/iter_19200.pth' #checkpoint path\n",
        "model = init_segmentor(cfg, checkpoint, device='cuda:0')\n",
        "palette = [[120, 120, 120], [6, 230, 230]] #dataset palette\n",
        "print(len(TEST_IMAGE_PATHS))\n",
        "\n",
        "for i in range(0, len(TEST_IMAGE_PATHS)):\n",
        "  img = mmcv.imread(TEST_IMAGE_PATHS[i])\n",
        "  label = mmcv.imread(LABEL_PATHS[i])\n",
        "  result = inference_segmentor(model, img)\n",
        "  img_name= LABEL_PATHS[i].split(\"/\")[7] #FOR MASK\n",
        "  # img_name= TEST_IMAGE_PATHS[i].split(\"/\")[7] #for overlay\n",
        "\n",
        "  #prediction mask\n",
        "  arr= np.array(result)\n",
        "  arr=np.squeeze(arr)\n",
        "\n",
        "  #overlay image\n",
        "  # overlay = model.show_result(img, result, palette=palette, show=False)\n",
        "\n",
        "  # plt.subplot(1, 7 , 1)\n",
        "  # plt.imshow(img)\n",
        "  # plt.title(\"Input image\")\n",
        "\n",
        "  # plt.subplot(1, 7,  3)\n",
        "  # plt.imshow(label)\n",
        "  # plt.title(\"Ground Truth\")\n",
        "\n",
        "  # plt.subplot(1, 7,  5)\n",
        "  plt.imshow(arr)\n",
        "  plt.title(\"Prediction\")\n",
        "\n",
        "  # plt.subplot(1, 7,  7)\n",
        "  # plt.imshow(mmcv.bgr2rgb(overlay))\n",
        "  # plt.title(\"Overlay\")\n",
        "\n",
        "  # show_result_pyplot(model, img, result,palette)\n",
        "\n",
        "  image_file_name= root_dir+\"/work_dirs/results/masks/\"+img_name\n",
        "  plt.savefig(image_file_name)\n",
        "  print(\"saving \"+img_name)\n",
        "  i= i+1\n",
        "\n",
        "# plt.figure(figsize=(8, 6))\n",
        "# show_result_pyplot(model, img, result,palette)"
      ],
      "metadata": {
        "colab": {
          "base_uri": "https://localhost:8080/",
          "height": 350
        },
        "id": "1uWuUs-to_eK",
        "outputId": "606d3e9d-fd55-4777-97eb-00556250b405"
      },
      "execution_count": 26,
      "outputs": [
        {
          "output_type": "stream",
          "name": "stdout",
          "text": [
            "3\n",
            "saving val\n",
            "saving val\n",
            "saving val\n"
          ]
        },
        {
          "output_type": "display_data",
          "data": {
            "text/plain": [
              "<Figure size 432x288 with 1 Axes>"
            ],
            "image/png": "[encoded data removed]"
          },
          "metadata": {
            "needs_background": "light"
          }
        }
      ]
    },
    {
      "cell_type": "markdown",
      "source": [
        "#Downloading Inference Results"
      ],
      "metadata": {
        "id": "0zy5U3pUqCBh"
      }
    },
    {
      "cell_type": "code",
      "source": [
        "from google.colab import files\n",
        "#mask results\n",
        "!zip -r /content/focal_phi_loss_mmsegmentation/data/work_dirs/results/masks /content/focal_phi_loss_mmsegmentation/data/work_dirs/results/masks\n",
        "files.download(\"/content/focal_phi_loss_mmsegmentation/data/work_dirs/results/masks.zip\")"
      ],
      "metadata": {
        "colab": {
          "base_uri": "https://localhost:8080/",
          "height": 52
        },
        "id": "D3V-owNCqC7q",
        "outputId": "e89ba9b0-ac87-40a2-f95b-8e49207302bd"
      },
      "execution_count": 28,
      "outputs": [
        {
          "output_type": "stream",
          "name": "stdout",
          "text": [
            "  adding: content/focal_phi_loss_mmsegmentation/data/work_dirs/results/masks/ (stored 0%)\n",
            "  adding: content/focal_phi_loss_mmsegmentation/data/work_dirs/results/masks/val.png (deflated 20%)\n"
          ]
        },
        {
          "output_type": "display_data",
          "data": {
            "text/plain": [
              "<IPython.core.display.Javascript object>"
            ],
            "application/javascript": [
              "\n",
              "    async function download(id, filename, size) {\n",
              "      if (!google.colab.kernel.accessAllowed) {\n",
              "        return;\n",
              "      }\n",
              "      const div = document.createElement('div');\n",
              "      const label = document.createElement('label');\n",
              "      label.textContent = `Downloading \"${filename}\": `;\n",
              "      div.appendChild(label);\n",
              "      const progress = document.createElement('progress');\n",
              "      progress.max = size;\n",
              "      div.appendChild(progress);\n",
              "      document.body.appendChild(div);\n",
              "\n",
              "      const buffers = [];\n",
              "      let downloaded = 0;\n",
              "\n",
              "      const channel = await google.colab.kernel.comms.open(id);\n",
              "      // Send a message to notify the kernel that we're ready.\n",
              "      channel.send({})\n",
              "\n",
              "      for await (const message of channel.messages) {\n",
              "        // Send a message to notify the kernel that we're ready.\n",
              "        channel.send({})\n",
              "        if (message.buffers) {\n",
              "          for (const buffer of message.buffers) {\n",
              "            buffers.push(buffer);\n",
              "            downloaded += buffer.byteLength;\n",
              "            progress.value = downloaded;\n",
              "          }\n",
              "        }\n",
              "      }\n",
              "      const blob = new Blob(buffers, {type: 'application/binary'});\n",
              "      const a = document.createElement('a');\n",
              "      a.href = window.URL.createObjectURL(blob);\n",
              "      a.download = filename;\n",
              "      div.appendChild(a);\n",
              "      a.click();\n",
              "      div.remove();\n",
              "    }\n",
              "  "
            ]
          },
          "metadata": {}
        },
        {
          "output_type": "display_data",
          "data": {
            "text/plain": [
              "<IPython.core.display.Javascript object>"
            ],
            "application/javascript": [
              "download(\"download_423fa89c-b0c0-412d-ae25-ea62de8d94ed\", \"masks.zip\", 6495)"
            ]
          },
          "metadata": {}
        }
      ]
    },
    {
      "cell_type": "code",
      "source": [
        "#overlay results\n",
        "!zip -r /content/focal_phi_loss_mmsegmentation/data/work_dirs/results/overlays /content/focal_phi_loss_mmsegmentation/data/work_dirs/results/overlays\n",
        "files.download(\"/content/focal_phi_loss_mmsegmentation/data/work_dirs/results/overlays.zip\")"
      ],
      "metadata": {
        "colab": {
          "base_uri": "https://localhost:8080/",
          "height": 34
        },
        "id": "BHt2T-pSqSDa",
        "outputId": "b5210568-c39a-4c7c-fff2-3ae883cb4969"
      },
      "execution_count": 31,
      "outputs": [
        {
          "output_type": "stream",
          "name": "stdout",
          "text": [
            "  adding: content/focal_phi_loss_mmsegmentation/data/work_dirs/results/overlays/ (stored 0%)\n"
          ]
        },
        {
          "output_type": "display_data",
          "data": {
            "text/plain": [
              "<IPython.core.display.Javascript object>"
            ],
            "application/javascript": [
              "\n",
              "    async function download(id, filename, size) {\n",
              "      if (!google.colab.kernel.accessAllowed) {\n",
              "        return;\n",
              "      }\n",
              "      const div = document.createElement('div');\n",
              "      const label = document.createElement('label');\n",
              "      label.textContent = `Downloading \"${filename}\": `;\n",
              "      div.appendChild(label);\n",
              "      const progress = document.createElement('progress');\n",
              "      progress.max = size;\n",
              "      div.appendChild(progress);\n",
              "      document.body.appendChild(div);\n",
              "\n",
              "      const buffers = [];\n",
              "      let downloaded = 0;\n",
              "\n",
              "      const channel = await google.colab.kernel.comms.open(id);\n",
              "      // Send a message to notify the kernel that we're ready.\n",
              "      channel.send({})\n",
              "\n",
              "      for await (const message of channel.messages) {\n",
              "        // Send a message to notify the kernel that we're ready.\n",
              "        channel.send({})\n",
              "        if (message.buffers) {\n",
              "          for (const buffer of message.buffers) {\n",
              "            buffers.push(buffer);\n",
              "            downloaded += buffer.byteLength;\n",
              "            progress.value = downloaded;\n",
              "          }\n",
              "        }\n",
              "      }\n",
              "      const blob = new Blob(buffers, {type: 'application/binary'});\n",
              "      const a = document.createElement('a');\n",
              "      a.href = window.URL.createObjectURL(blob);\n",
              "      a.download = filename;\n",
              "      div.appendChild(a);\n",
              "      a.click();\n",
              "      div.remove();\n",
              "    }\n",
              "  "
            ]
          },
          "metadata": {}
        },
        {
          "output_type": "display_data",
          "data": {
            "text/plain": [
              "<IPython.core.display.Javascript object>"
            ],
            "application/javascript": [
              "download(\"download_7a024b6b-38bb-40b3-9e56-f54bdeddd1a5\", \"overlays.zip\", 290)"
            ]
          },
          "metadata": {}
        }
      ]
    },
    {
      "cell_type": "code",
      "source": [
        ""
      ],
      "metadata": {
        "id": "sODJn-1tqZvH"
      },
      "execution_count": null,
      "outputs": []
    }
  ]
}