{
  "nbformat": 4,
  "nbformat_minor": 0,
  "metadata": {
    "colab": {
      "name": "focal_phi_loss_20Temmuz_oneClass_Calisiyor.ipynb",
      "provenance": []
    },
    "kernelspec": {
      "name": "python3",
      "display_name": "Python 3"
    },
    "language_info": {
      "name": "python"
    },
    "accelerator": "GPU",
    "gpuClass": "standard"
  },
  "cells": [
    {
      "cell_type": "code",
      "execution_count": 1,
      "metadata": {
        "colab": {
          "base_uri": "https://localhost:8080/"
        },
        "id": "-58iePtmZUIg",
        "outputId": "ab3e3d0f-e4bf-4819-d827-f9006db4d6a6"
      },
      "outputs": [
        {
          "output_type": "stream",
          "name": "stdout",
          "text": [
            "nvcc: NVIDIA (R) Cuda compiler driver\n",
            "Copyright (c) 2005-2020 NVIDIA Corporation\n",
            "Built on Mon_Oct_12_20:09:46_PDT_2020\n",
            "Cuda compilation tools, release 11.1, V11.1.105\n",
            "Build cuda_11.1.TC455_06.29190527_0\n",
            "Looking in indexes: https://pypi.org/simple, https://us-python.pkg.dev/colab-wheels/public/simple/\n",
            "Looking in links: https://download.pytorch.org/whl/torch_stable.html\n",
            "Collecting torch==1.7.0+cu101\n",
            "  Downloading https://download.pytorch.org/whl/cu101/torch-1.7.0%2Bcu101-cp37-cp37m-linux_x86_64.whl (735.3 MB)\n",
            "\u001b[K     |████████████████████████████████| 735.3 MB 24 kB/s \n",
            "\u001b[?25hCollecting torchvision==0.8.1+cu101\n",
            "  Downloading https://download.pytorch.org/whl/cu101/torchvision-0.8.1%2Bcu101-cp37-cp37m-linux_x86_64.whl (12.7 MB)\n",
            "\u001b[K     |████████████████████████████████| 12.7 MB 37.0 MB/s \n",
            "\u001b[?25hCollecting torchaudio==0.7.0\n",
            "  Downloading torchaudio-0.7.0-cp37-cp37m-manylinux1_x86_64.whl (7.6 MB)\n",
            "\u001b[K     |████████████████████████████████| 7.6 MB 23.6 MB/s \n",
            "\u001b[?25hCollecting dataclasses\n",
            "  Downloading dataclasses-0.6-py3-none-any.whl (14 kB)\n",
            "Requirement already satisfied: typing-extensions in /usr/local/lib/python3.7/dist-packages (from torch==1.7.0+cu101) (4.1.1)\n",
            "Requirement already satisfied: future in /usr/local/lib/python3.7/dist-packages (from torch==1.7.0+cu101) (0.16.0)\n",
            "Requirement already satisfied: numpy in /usr/local/lib/python3.7/dist-packages (from torch==1.7.0+cu101) (1.21.6)\n",
            "Requirement already satisfied: pillow>=4.1.1 in /usr/local/lib/python3.7/dist-packages (from torchvision==0.8.1+cu101) (7.1.2)\n",
            "Installing collected packages: dataclasses, torch, torchvision, torchaudio\n",
            "  Attempting uninstall: torch\n",
            "    Found existing installation: torch 1.12.0+cu113\n",
            "    Uninstalling torch-1.12.0+cu113:\n",
            "      Successfully uninstalled torch-1.12.0+cu113\n",
            "  Attempting uninstall: torchvision\n",
            "    Found existing installation: torchvision 0.13.0+cu113\n",
            "    Uninstalling torchvision-0.13.0+cu113:\n",
            "      Successfully uninstalled torchvision-0.13.0+cu113\n",
            "  Attempting uninstall: torchaudio\n",
            "    Found existing installation: torchaudio 0.12.0+cu113\n",
            "    Uninstalling torchaudio-0.12.0+cu113:\n",
            "      Successfully uninstalled torchaudio-0.12.0+cu113\n",
            "\u001b[31mERROR: pip's dependency resolver does not currently take into account all the packages that are installed. This behaviour is the source of the following dependency conflicts.\n",
            "torchtext 0.13.0 requires torch==1.12.0, but you have torch 1.7.0+cu101 which is incompatible.\n",
            "fastai 2.7.6 requires torchvision>=0.8.2, but you have torchvision 0.8.1+cu101 which is incompatible.\u001b[0m\n",
            "Successfully installed dataclasses-0.6 torch-1.7.0+cu101 torchaudio-0.7.0 torchvision-0.8.1+cu101\n",
            "Looking in indexes: https://pypi.org/simple, https://us-python.pkg.dev/colab-wheels/public/simple/\n",
            "Collecting mmcv-full==1.1.4\n",
            "  Downloading mmcv-full-1.1.4.tar.gz (239 kB)\n",
            "\u001b[K     |████████████████████████████████| 239 kB 36.0 MB/s \n",
            "\u001b[?25hCollecting addict\n",
            "  Downloading addict-2.4.0-py3-none-any.whl (3.8 kB)\n",
            "Requirement already satisfied: numpy in /usr/local/lib/python3.7/dist-packages (from mmcv-full==1.1.4) (1.21.6)\n",
            "Requirement already satisfied: pyyaml in /usr/local/lib/python3.7/dist-packages (from mmcv-full==1.1.4) (3.13)\n",
            "Collecting yapf\n",
            "  Downloading yapf-0.32.0-py2.py3-none-any.whl (190 kB)\n",
            "\u001b[K     |████████████████████████████████| 190 kB 31.1 MB/s \n",
            "\u001b[?25hRequirement already satisfied: opencv-python>=3 in /usr/local/lib/python3.7/dist-packages (from mmcv-full==1.1.4) (4.1.2.30)\n",
            "Building wheels for collected packages: mmcv-full\n",
            "  Building wheel for mmcv-full (setup.py) ... \u001b[?25l\u001b[?25hdone\n",
            "  Created wheel for mmcv-full: filename=mmcv_full-1.1.4-cp37-cp37m-linux_x86_64.whl size=17265084 sha256=ef79b2162c245a32ec09a37ce61c6a65cea7c10db985cee46af51b68626585e5\n",
            "  Stored in directory: /root/.cache/pip/wheels/03/ee/14/19a07c6fea423e998f2159c4deac1b7a440c7d7f00bdcc48d4\n",
            "Successfully built mmcv-full\n",
            "Installing collected packages: yapf, addict, mmcv-full\n",
            "Successfully installed addict-2.4.0 mmcv-full-1.1.4 yapf-0.32.0\n",
            "Cloning into 'focal_phi_loss_mmsegmentation'...\n",
            "remote: Enumerating objects: 2112, done.\u001b[K\n",
            "remote: Counting objects: 100% (37/37), done.\u001b[K\n",
            "remote: Compressing objects: 100% (37/37), done.\u001b[K\n",
            "remote: Total 2112 (delta 19), reused 0 (delta 0), pack-reused 2075\u001b[K\n",
            "Receiving objects: 100% (2112/2112), 37.44 MiB | 12.35 MiB/s, done.\n",
            "Resolving deltas: 100% (1489/1489), done.\n",
            "\u001b[K     |████████████████████████████████| 472 kB 38.2 MB/s \n",
            "\u001b[K     |████████████████████████████████| 64 kB 2.7 MB/s \n",
            "\u001b[K     |████████████████████████████████| 45 kB 3.4 MB/s \n",
            "\u001b[K     |████████████████████████████████| 42 kB 890 kB/s \n",
            "\u001b[K     |████████████████████████████████| 130 kB 75.6 MB/s \n",
            "\u001b[K     |████████████████████████████████| 46 kB 4.3 MB/s \n",
            "\u001b[K     |████████████████████████████████| 78 kB 8.7 MB/s \n",
            "\u001b[K     |████████████████████████████████| 69 kB 8.7 MB/s \n",
            "\u001b[K     |████████████████████████████████| 42 kB 1.0 MB/s \n",
            "\u001b[K     |████████████████████████████████| 86 kB 2.0 MB/s \n",
            "\u001b[?25h  Building wheel for typing (setup.py) ... \u001b[?25l\u001b[?25hdone\n",
            "\u001b[31mERROR: pip's dependency resolver does not currently take into account all the packages that are installed. This behaviour is the source of the following dependency conflicts.\n",
            "markdown 3.3.7 requires importlib-metadata>=4.4; python_version < \"3.10\", but you have importlib-metadata 4.2.0 which is incompatible.\u001b[0m\n",
            "/content/focal_phi_loss_mmsegmentation\n",
            "running develop\n",
            "running egg_info\n",
            "creating mmsegmentation.egg-info\n",
            "writing mmsegmentation.egg-info/PKG-INFO\n",
            "writing dependency_links to mmsegmentation.egg-info/dependency_links.txt\n",
            "writing requirements to mmsegmentation.egg-info/requires.txt\n",
            "writing top-level names to mmsegmentation.egg-info/top_level.txt\n",
            "writing manifest file 'mmsegmentation.egg-info/SOURCES.txt'\n",
            "adding license file 'LICENSE'\n",
            "writing manifest file 'mmsegmentation.egg-info/SOURCES.txt'\n",
            "running build_ext\n",
            "Creating /usr/local/lib/python3.7/dist-packages/mmsegmentation.egg-link (link to .)\n",
            "Adding mmsegmentation 0.8.0 to easy-install.pth file\n",
            "\n",
            "Installed /content/focal_phi_loss_mmsegmentation\n",
            "Processing dependencies for mmsegmentation==0.8.0\n",
            "Searching for numpy==1.21.6\n",
            "Best match: numpy 1.21.6\n",
            "Adding numpy 1.21.6 to easy-install.pth file\n",
            "Installing f2py script to /usr/local/bin\n",
            "Installing f2py3 script to /usr/local/bin\n",
            "Installing f2py3.7 script to /usr/local/bin\n",
            "\n",
            "Using /usr/local/lib/python3.7/dist-packages\n",
            "Searching for matplotlib==3.2.2\n",
            "Best match: matplotlib 3.2.2\n",
            "Adding matplotlib 3.2.2 to easy-install.pth file\n",
            "\n",
            "Using /usr/local/lib/python3.7/dist-packages\n",
            "Searching for cycler==0.11.0\n",
            "Best match: cycler 0.11.0\n",
            "Adding cycler 0.11.0 to easy-install.pth file\n",
            "\n",
            "Using /usr/local/lib/python3.7/dist-packages\n",
            "Searching for pyparsing==3.0.9\n",
            "Best match: pyparsing 3.0.9\n",
            "Adding pyparsing 3.0.9 to easy-install.pth file\n",
            "\n",
            "Using /usr/local/lib/python3.7/dist-packages\n",
            "Searching for python-dateutil==2.8.2\n",
            "Best match: python-dateutil 2.8.2\n",
            "Adding python-dateutil 2.8.2 to easy-install.pth file\n",
            "\n",
            "Using /usr/local/lib/python3.7/dist-packages\n",
            "Searching for kiwisolver==1.4.3\n",
            "Best match: kiwisolver 1.4.3\n",
            "Adding kiwisolver 1.4.3 to easy-install.pth file\n",
            "\n",
            "Using /usr/local/lib/python3.7/dist-packages\n",
            "Searching for six==1.15.0\n",
            "Best match: six 1.15.0\n",
            "Adding six 1.15.0 to easy-install.pth file\n",
            "\n",
            "Using /usr/local/lib/python3.7/dist-packages\n",
            "Searching for typing-extensions==4.1.1\n",
            "Best match: typing-extensions 4.1.1\n",
            "Adding typing-extensions 4.1.1 to easy-install.pth file\n",
            "\n",
            "Using /usr/local/lib/python3.7/dist-packages\n",
            "Finished processing dependencies for mmsegmentation==0.8.0\n"
          ]
        }
      ],
      "source": [
        "#check cuda version \n",
        "!nvcc --version \n",
        "# install pytorch according to the cuda version from the pytorch website\n",
        "!pip install torch==1.7.0+cu101 torchvision==0.8.1+cu101 torchaudio==0.7.0 -f https://download.pytorch.org/whl/torch_stable.html\n",
        "# install mmcv\n",
        "!pip install mmcv-full==1.1.4\n",
        "#clone github repository\n",
        "!git clone https://github.com/rubeea/focal_phi_loss_mmsegmentation.git \n",
        "#install all requirements\n",
        "!pip install -qr focal_phi_loss_mmsegmentation/requirements.txt \n",
        "%cd /content/focal_phi_loss_mmsegmentation\n",
        "#install mmsegmentation in develop mode\n",
        "!python setup.py develop "
      ]
    },
    {
      "cell_type": "markdown",
      "source": [
        "# Make data directories and upload the data in them"
      ],
      "metadata": {
        "id": "ewZ8O9WTbWVq"
      }
    },
    {
      "cell_type": "code",
      "source": [
        "#declare global variables\n",
        "root_dir= '/content/focal_phi_loss_mmsegmentation/data/'\n",
        "data_root= \"/content/drive/MyDrive/Colab_Dataset/\"\n",
        "dataset= \"ground_truth4_renksiz_oneClass\"\n",
        "#dataset= \"mendeley\""
      ],
      "metadata": {
        "id": "5KUZvormbW7i"
      },
      "execution_count": 6,
      "outputs": []
    },
    {
      "cell_type": "code",
      "source": [
        "import os\n",
        "\n",
        "#script to extract data from zip files and create the directory structure for mendeley\n",
        "#!python /content/focal_phi_loss_mmsegmentation/tools/convert_datasets/mendeley.py /content/focal_phi_loss_mmsegmentation/dataset_files/mendeley/train_imgs.zip /content/focal_phi_loss_mmsegmentation/dataset_files/mendeley/train_gt.zip /content/focal_phi_loss_mmsegmentation/dataset_files/mendeley/val_imgs.zip /content/focal_phi_loss_mmsegmentation/dataset_files/mendeley/val_gt.zip \n",
        "\n",
        "#check file counts\n",
        "train_imgs= data_root + dataset+'/img_dir/train'\n",
        "val_imgs= data_root + dataset +'/img_dir/val'\n",
        "train_gt= data_root + dataset+'/ann_dir/train'\n",
        "val_gt= data_root + dataset+'/ann_dir/val'\n",
        "\n",
        "#print the file count\n",
        "print(len(os.listdir(train_imgs)))\n",
        "print(len(os.listdir(val_imgs)))\n",
        "print(len(os.listdir(train_gt)))\n",
        "print(len(os.listdir(val_gt)))"
      ],
      "metadata": {
        "colab": {
          "base_uri": "https://localhost:8080/"
        },
        "id": "viS6CnVSbZdC",
        "outputId": "08369f2a-ef52-4f4f-c47a-d60d268a06f1"
      },
      "execution_count": 7,
      "outputs": [
        {
          "output_type": "stream",
          "name": "stdout",
          "text": [
            "7\n",
            "3\n",
            "7\n",
            "3\n"
          ]
        }
      ]
    },
    {
      "cell_type": "markdown",
      "source": [
        "#Visualize training and mask images\n"
      ],
      "metadata": {
        "id": "HHoqNiiZbij5"
      }
    },
    {
      "cell_type": "code",
      "source": [
        "import mmcv\n",
        "import matplotlib.pyplot as plt\n",
        "from google.colab.patches import cv2_imshow\n",
        "import numpy as np\n",
        "import os\n",
        "import glob\n",
        "\n",
        "\n",
        "PATH_TO_TRAIN_IMAGES_DIR= data_root+dataset+\"/img_dir/train\"\n",
        "PATH_TO_LABEL_IMAGES_DIR= data_root+dataset+\"/ann_dir/train\"\n",
        "TRAIN_IMAGE_PATHS = glob.glob(os.path.join(PATH_TO_TRAIN_IMAGES_DIR, \"*.jpg\"))\n",
        "LABEL_PATHS= glob.glob(os.path.join(PATH_TO_LABEL_IMAGES_DIR, \"*.png\"))\n",
        "\n",
        "TRAIN_IMAGE_PATHS.sort()\n",
        "LABEL_PATHS.sort()\n",
        "\n",
        "palette = [[120, 120, 120], [6, 230, 230]] #dataset palette\n",
        "\n",
        "display_num = 5\n",
        "r_choices = np.random.choice(len(TRAIN_IMAGE_PATHS), display_num)\n",
        "\n",
        "#visualize any 5 random images and their mask images\n",
        "plt.figure(figsize=(10, 15))\n",
        "for i in range(0, display_num, 2):\n",
        "  img_num = r_choices[i // 2]\n",
        "  img = mmcv.imread(TRAIN_IMAGE_PATHS[img_num])\n",
        "  label = mmcv.imread(LABEL_PATHS[img_num])\n",
        "\n",
        "  plt.subplot(display_num, 2, i + 1)\n",
        "  plt.imshow(img)\n",
        "  plt.title(\"Input image\")\n",
        "\n",
        "  plt.subplot(display_num, 2, i + 2)\n",
        "  plt.imshow(label)\n",
        "  plt.title(\"Ground Truth\")\n",
        "\n",
        "\n",
        "plt.suptitle(\"Examples of Images and their Masks\")\n",
        "plt.show()"
      ],
      "metadata": {
        "colab": {
          "base_uri": "https://localhost:8080/",
          "height": 634
        },
        "id": "RI4d7-EibjM1",
        "outputId": "a10f1895-7af1-4ad1-f0d8-96f3756c0aa2"
      },
      "execution_count": 8,
      "outputs": [
        {
          "output_type": "display_data",
          "data": {
            "text/plain": [
              "<Figure size 720x1080 with 6 Axes>"
            ],
            "image/png": "[encoded data removed]"
          },
          "metadata": {
            "needs_background": "light"
          }
        }
      ]
    },
    {
      "cell_type": "markdown",
      "source": [
        "#Create a config file\n"
      ],
      "metadata": {
        "id": "NOdhNFgRcQlC"
      }
    },
    {
      "cell_type": "code",
      "source": [
        "#config for ACU-Net\n",
        "from mmcv import Config\n",
        "cfg = Config.fromfile('/content/focal_phi_loss_mmsegmentation/configs/unet/fcn_vanilla_unet_s5-d16_256x256_40k_hrf.py')"
      ],
      "metadata": {
        "id": "QyrFD_a0blrK"
      },
      "execution_count": 9,
      "outputs": []
    },
    {
      "cell_type": "code",
      "source": [
        "from mmseg.apis import set_random_seed\n",
        "import torch\n",
        "\n",
        "cfg_data_root = data_root+dataset\n",
        "train_img_dir = 'img_dir/train'\n",
        "train_ann_dir = 'ann_dir/train'\n",
        "val_img_dir = 'img_dir/val'\n",
        "val_ann_dir = 'ann_dir/val'\n",
        "\n",
        "# Since we use ony one GPU, BN is used instead of SyncBN\n",
        "cfg.norm_cfg = dict(type='BN', requires_grad=True)\n",
        "cfg.model.backbone.norm_cfg = cfg.norm_cfg\n",
        "\n",
        "cfg.model.decode_head.norm_cfg = cfg.norm_cfg\n",
        "\n",
        "# modify num classes of the model in decode head\n",
        "cfg.model.decode_head.num_classes = 2\n",
        "\n",
        "# Modify dataset type and path\n",
        "cfg.dataset_type = 'MendeleyDataset'\n",
        "cfg.data_root = cfg_data_root\n",
        "\n",
        "#batch size\n",
        "cfg.data.samples_per_gpu = 2\n",
        "cfg.data.workers_per_gpu=2\n",
        "\n",
        "\n",
        "#Balanced CE loss\n",
        "#assign class weights to tackle the imbalanced nature of the dataset in balanced CE loss\n",
        "# weights = [0.02, 0.98]\n",
        "# cfg.model.decode_head.loss_decode=dict(type='CrossEntropyLoss', use_sigmoid=False, \n",
        "#                                             loss_weight=1.0, class_weight= weights)\n",
        "\n",
        "#Dice Loss\n",
        "# cfg.model.decode_head.loss_decode=dict(type='TverskyLoss',  alpha=0.5, beta=0.5, gamma=1.0, use_focal=False, loss_weight=1.0)\n",
        "\n",
        "#Tversky Loss\n",
        "# cfg.model.decode_head.loss_decode=dict(type='TverskyLoss',  alpha=0.3, beta=0.7, gamma=1.0, use_focal=False, loss_weight=1.0)\n",
        "\n",
        "#Focal Tversky Loss\n",
        "# cfg.model.decode_head.loss_decode=dict(type='TverskyLoss',  alpha=0.3, beta=0.7, gamma=0.75, use_focal=True, loss_weight=1.0)\n",
        "\n",
        "#MCC loss\n",
        "# cfg.model.decode_head.loss_decode=dict(type='PhiLoss', loss_weight=1.0, gamma=1.0)\n",
        "\n",
        "#Focal Phi Loss\n",
        "cfg.model.decode_head.loss_decode=dict(type='PhiLoss', loss_weight=1.0, gamma=0.5)\n",
        "\n",
        "#normalizing the dataset\n",
        "cfg.img_norm_cfg = dict(\n",
        "    mean= [142.393, 137.978, 83.073], std= [23.228, 20.046, 21.623], to_rgb=True) #for mendeley dataset\n",
        "\n",
        "cfg.crop_size = (256, 256)\n",
        "\n",
        "#dataset config\n",
        "cfg.train_pipeline = [\n",
        "    dict(type='LoadImageFromFile'),\n",
        "    dict(type='LoadAnnotations'),\n",
        "    dict(type='Resize', img_scale=(512, 512), ratio_range=(0.5, 1.5)), #for mendeley dataset\n",
        "    dict(type='RandomRotate', prob=0.5, degree=(45.0,315.0),pad_val=0,seg_pad_val=255), #for pldu and mendeley dataset\n",
        "    dict(type='RandomCrop', crop_size=cfg.crop_size, cat_max_ratio=0.75),\n",
        "    dict(type='RandomFlip', flip_ratio=0.5),\n",
        "    dict(type='PhotoMetricDistortion'),\n",
        "    dict(type='Normalize', **cfg.img_norm_cfg),\n",
        "    dict(type='Pad', size=cfg.crop_size, pad_val=0, seg_pad_val=255),\n",
        "    dict(type='DefaultFormatBundle'),\n",
        "    dict(type='Collect', keys=['img', 'gt_semantic_seg']),\n",
        "]\n",
        "\n",
        "cfg.test_pipeline = [\n",
        "    dict(type='LoadImageFromFile'),\n",
        "    dict(\n",
        "        type='MultiScaleFlipAug',\n",
        "        img_scale= (512, 512), #for mendeley dataset\n",
        "        flip=False,\n",
        "        transforms=[\n",
        "            dict(type='Resize', keep_ratio=True),\n",
        "            dict(type='RandomFlip'),\n",
        "            dict(type='Normalize', **cfg.img_norm_cfg),\n",
        "            dict(type='ImageToTensor', keys=['img']),\n",
        "            dict(type='Collect', keys=['img']),\n",
        "        ])\n",
        "]\n",
        "\n",
        "\n",
        "cfg.data.train.type = cfg.dataset_type\n",
        "cfg.data.train.data_root = cfg.data_root\n",
        "cfg.data.train.img_dir = train_img_dir\n",
        "cfg.data.train.ann_dir = train_ann_dir\n",
        "cfg.data.train.pipeline = cfg.train_pipeline\n",
        "cfg.data.train.split = None\n",
        "\n",
        "cfg.data.val.type = cfg.dataset_type\n",
        "cfg.data.val.data_root = cfg.data_root\n",
        "cfg.data.val.img_dir = val_img_dir\n",
        "cfg.data.val.ann_dir = val_ann_dir\n",
        "cfg.data.val.pipeline = cfg.test_pipeline\n",
        "cfg.data.val.split = None\n",
        "\n",
        "cfg.data.test.type = cfg.dataset_type\n",
        "cfg.data.test.data_root = cfg.data_root\n",
        "cfg.data.test.img_dir = val_img_dir\n",
        "cfg.data.test.ann_dir = val_ann_dir\n",
        "cfg.data.test.pipeline = cfg.test_pipeline\n",
        "cfg.data.test.split = None\n",
        "\n",
        "\n",
        "# Set up working dir to save files and logs.\n",
        "cfg.work_dir = root_dir+'/work_dirs/tutorial'\n",
        "\n",
        "cfg.total_iters = 160\n",
        "cfg.log_config.interval = 50\n",
        "cfg.evaluation.interval = 200 #validation at every 200 iterations\n",
        "cfg.checkpoint_config.interval = 200\n",
        "\n",
        "# Set seed to facilitate reproducing the result\n",
        "cfg.seed = 0\n",
        "set_random_seed(0, deterministic=False)\n",
        "cfg.gpu_ids = range(1)\n",
        "\n",
        "#for Dice Loss, Tversky Loss and Focal Tversky Loss on Mendeley dataset use the following learning rates with Adam:\n",
        "# lr = 5e-5\n",
        "\n",
        "cfg.optimizer = dict(type='Adam', lr=1e-3, weight_decay=0.0001,\n",
        "                     paramwise_cfg = dict(\n",
        "                        custom_keys={\n",
        "                            'head': dict(lr_mult=10.)\n",
        "                        }\n",
        "                        ))\n",
        "\n",
        "\n",
        "# Let's have a look at the final config used for training\n",
        "print(f'Config:\\n{cfg.pretty_text}')"
      ],
      "metadata": {
        "colab": {
          "base_uri": "https://localhost:8080/"
        },
        "id": "MUcNyzIicWQj",
        "outputId": "129c27ba-81f2-49bb-ea3d-d46b4dd20758"
      },
      "execution_count": 10,
      "outputs": [
        {
          "output_type": "stream",
          "name": "stderr",
          "text": [
            "/usr/local/lib/python3.7/dist-packages/mmcv/utils/registry.py:64: UserWarning: The old API of register_module(module, force=False) is deprecated and will be removed, please use the new API register_module(name=None, force=False, module=None) instead.\n",
            "  'The old API of register_module(module, force=False) '\n"
          ]
        },
        {
          "output_type": "stream",
          "name": "stdout",
          "text": [
            "Config:\n",
            "norm_cfg = dict(type='BN', requires_grad=True)\n",
            "model = dict(\n",
            "    type='EncoderDecoder',\n",
            "    pretrained=None,\n",
            "    backbone=dict(\n",
            "        type='UNet',\n",
            "        in_channels=3,\n",
            "        base_channels=64,\n",
            "        num_stages=5,\n",
            "        strides=(1, 1, 1, 1, 1),\n",
            "        enc_num_convs=(2, 2, 2, 2, 2),\n",
            "        dec_num_convs=(2, 2, 2, 2),\n",
            "        downsamples=(True, True, True, True),\n",
            "        enc_dilations=(1, 1, 1, 1, 1),\n",
            "        dec_dilations=(1, 1, 1, 1),\n",
            "        with_cp=False,\n",
            "        conv_cfg=None,\n",
            "        norm_cfg=dict(type='BN', requires_grad=True),\n",
            "        act_cfg=dict(type='ReLU'),\n",
            "        upsample_cfg=dict(type='InterpConv'),\n",
            "        norm_eval=False),\n",
            "    decode_head=dict(\n",
            "        type='FCNHead',\n",
            "        in_channels=64,\n",
            "        in_index=4,\n",
            "        channels=64,\n",
            "        num_convs=1,\n",
            "        concat_input=False,\n",
            "        dropout_ratio=0.1,\n",
            "        num_classes=2,\n",
            "        norm_cfg=dict(type='BN', requires_grad=True),\n",
            "        align_corners=False,\n",
            "        loss_decode=dict(type='PhiLoss', loss_weight=1.0, gamma=0.5)))\n",
            "train_cfg = dict()\n",
            "test_cfg = dict(mode='slide', crop_size=(256, 256), stride=(170, 170))\n",
            "dataset_type = 'MendeleyDataset'\n",
            "data_root = '/content/drive/MyDrive/Colab_Dataset/ground_truth4_renksiz_oneClass'\n",
            "img_norm_cfg = dict(\n",
            "    mean=[142.393, 137.978, 83.073], std=[23.228, 20.046, 21.623], to_rgb=True)\n",
            "crop_size = (256, 256)\n",
            "train_pipeline = [\n",
            "    dict(type='LoadImageFromFile'),\n",
            "    dict(type='LoadAnnotations'),\n",
            "    dict(type='Resize', img_scale=(512, 512), ratio_range=(0.5, 1.5)),\n",
            "    dict(\n",
            "        type='RandomRotate',\n",
            "        prob=0.5,\n",
            "        degree=(45.0, 315.0),\n",
            "        pad_val=0,\n",
            "        seg_pad_val=255),\n",
            "    dict(type='RandomCrop', crop_size=(256, 256), cat_max_ratio=0.75),\n",
            "    dict(type='RandomFlip', flip_ratio=0.5),\n",
            "    dict(type='PhotoMetricDistortion'),\n",
            "    dict(\n",
            "        type='Normalize',\n",
            "        mean=[142.393, 137.978, 83.073],\n",
            "        std=[23.228, 20.046, 21.623],\n",
            "        to_rgb=True),\n",
            "    dict(type='Pad', size=(256, 256), pad_val=0, seg_pad_val=255),\n",
            "    dict(type='DefaultFormatBundle'),\n",
            "    dict(type='Collect', keys=['img', 'gt_semantic_seg'])\n",
            "]\n",
            "test_pipeline = [\n",
            "    dict(type='LoadImageFromFile'),\n",
            "    dict(\n",
            "        type='MultiScaleFlipAug',\n",
            "        img_scale=(512, 512),\n",
            "        flip=False,\n",
            "        transforms=[\n",
            "            dict(type='Resize', keep_ratio=True),\n",
            "            dict(type='RandomFlip'),\n",
            "            dict(\n",
            "                type='Normalize',\n",
            "                mean=[142.393, 137.978, 83.073],\n",
            "                std=[23.228, 20.046, 21.623],\n",
            "                to_rgb=True),\n",
            "            dict(type='ImageToTensor', keys=['img']),\n",
            "            dict(type='Collect', keys=['img'])\n",
            "        ])\n",
            "]\n",
            "data = dict(\n",
            "    samples_per_gpu=2,\n",
            "    workers_per_gpu=2,\n",
            "    train=dict(\n",
            "        type='MendeleyDataset',\n",
            "        data_root=\n",
            "        '/content/drive/MyDrive/Colab_Dataset/ground_truth4_renksiz_oneClass',\n",
            "        img_dir='img_dir/train',\n",
            "        ann_dir='ann_dir/train',\n",
            "        split=None,\n",
            "        pipeline=[\n",
            "            dict(type='LoadImageFromFile'),\n",
            "            dict(type='LoadAnnotations'),\n",
            "            dict(type='Resize', img_scale=(512, 512), ratio_range=(0.5, 1.5)),\n",
            "            dict(\n",
            "                type='RandomRotate',\n",
            "                prob=0.5,\n",
            "                degree=(45.0, 315.0),\n",
            "                pad_val=0,\n",
            "                seg_pad_val=255),\n",
            "            dict(type='RandomCrop', crop_size=(256, 256), cat_max_ratio=0.75),\n",
            "            dict(type='RandomFlip', flip_ratio=0.5),\n",
            "            dict(type='PhotoMetricDistortion'),\n",
            "            dict(\n",
            "                type='Normalize',\n",
            "                mean=[142.393, 137.978, 83.073],\n",
            "                std=[23.228, 20.046, 21.623],\n",
            "                to_rgb=True),\n",
            "            dict(type='Pad', size=(256, 256), pad_val=0, seg_pad_val=255),\n",
            "            dict(type='DefaultFormatBundle'),\n",
            "            dict(type='Collect', keys=['img', 'gt_semantic_seg'])\n",
            "        ]),\n",
            "    val=dict(\n",
            "        type='MendeleyDataset',\n",
            "        data_root=\n",
            "        '/content/drive/MyDrive/Colab_Dataset/ground_truth4_renksiz_oneClass',\n",
            "        img_dir='img_dir/val',\n",
            "        ann_dir='ann_dir/val',\n",
            "        split=None,\n",
            "        pipeline=[\n",
            "            dict(type='LoadImageFromFile'),\n",
            "            dict(\n",
            "                type='MultiScaleFlipAug',\n",
            "                img_scale=(512, 512),\n",
            "                flip=False,\n",
            "                transforms=[\n",
            "                    dict(type='Resize', keep_ratio=True),\n",
            "                    dict(type='RandomFlip'),\n",
            "                    dict(\n",
            "                        type='Normalize',\n",
            "                        mean=[142.393, 137.978, 83.073],\n",
            "                        std=[23.228, 20.046, 21.623],\n",
            "                        to_rgb=True),\n",
            "                    dict(type='ImageToTensor', keys=['img']),\n",
            "                    dict(type='Collect', keys=['img'])\n",
            "                ])\n",
            "        ]),\n",
            "    test=dict(\n",
            "        type='MendeleyDataset',\n",
            "        data_root=\n",
            "        '/content/drive/MyDrive/Colab_Dataset/ground_truth4_renksiz_oneClass',\n",
            "        img_dir='img_dir/val',\n",
            "        ann_dir='ann_dir/val',\n",
            "        split=None,\n",
            "        pipeline=[\n",
            "            dict(type='LoadImageFromFile'),\n",
            "            dict(\n",
            "                type='MultiScaleFlipAug',\n",
            "                img_scale=(512, 512),\n",
            "                flip=False,\n",
            "                transforms=[\n",
            "                    dict(type='Resize', keep_ratio=True),\n",
            "                    dict(type='RandomFlip'),\n",
            "                    dict(\n",
            "                        type='Normalize',\n",
            "                        mean=[142.393, 137.978, 83.073],\n",
            "                        std=[23.228, 20.046, 21.623],\n",
            "                        to_rgb=True),\n",
            "                    dict(type='ImageToTensor', keys=['img']),\n",
            "                    dict(type='Collect', keys=['img'])\n",
            "                ])\n",
            "        ]))\n",
            "log_config = dict(\n",
            "    interval=50,\n",
            "    hooks=[\n",
            "        dict(type='TextLoggerHook', by_epoch=False),\n",
            "        dict(type='TensorboardLoggerHook')\n",
            "    ])\n",
            "dist_params = dict(backend='nccl')\n",
            "log_level = 'INFO'\n",
            "load_from = None\n",
            "resume_from = None\n",
            "workflow = [('train', 1)]\n",
            "cudnn_benchmark = True\n",
            "optimizer = dict(\n",
            "    type='Adam',\n",
            "    lr=0.001,\n",
            "    weight_decay=0.0001,\n",
            "    paramwise_cfg=dict(custom_keys=dict(head=dict(lr_mult=10.0))))\n",
            "optimizer_config = dict()\n",
            "lr_config = dict(policy='poly', power=0.9, min_lr=0.0001, by_epoch=False)\n",
            "runner = dict(type='IterBasedRunner', max_iters=20000)\n",
            "checkpoint_config = dict(by_epoch=False, interval=200)\n",
            "evaluation = dict(interval=200, metric='mIoU')\n",
            "work_dir = '/content/focal_phi_loss_mmsegmentation/data//work_dirs/tutorial'\n",
            "total_iters = 160\n",
            "seed = 0\n",
            "gpu_ids = range(0, 1)\n",
            "\n"
          ]
        }
      ]
    },
    {
      "cell_type": "markdown",
      "source": [
        "#Train the model according to the config\n"
      ],
      "metadata": {
        "id": "DTZ0XdLWcZXV"
      }
    },
    {
      "cell_type": "code",
      "source": [
        "from mmseg.datasets import build_dataset\n",
        "from mmseg.models import build_segmentor\n",
        "from mmseg.apis import train_segmentor\n",
        "from mmseg.utils import collect_env, get_root_logger\n",
        "import mmcv\n",
        "import os.path as osp\n",
        "\n",
        "# Build the dataset\n",
        "datasets = [build_dataset(cfg.data.train)]\n",
        "\n",
        "\n",
        "meta = dict()\n",
        "    # log env info\n",
        "env_info_dict = collect_env()\n",
        "env_info = '\\n'.join([f'{k}: {v}' for k, v in env_info_dict.items()])\n",
        "meta['env_info'] = env_info\n",
        "\n",
        "meta['seed'] = cfg.seed\n",
        "meta['exp_name'] = osp.basename(cfg.filename)\n",
        "cfg.checkpoint_config.meta = dict(\n",
        "            CLASSES=datasets[0].CLASSES,\n",
        "            PALETTE=datasets[0].PALETTE)\n",
        "\n",
        "# Build the detector\n",
        "model = build_segmentor(\n",
        "    cfg.model, train_cfg=cfg.train_cfg, test_cfg=cfg.test_cfg)\n",
        "# Add an attribute for visualization convenience\n",
        "model.CLASSES = datasets[0].CLASSES\n",
        "\n",
        "# Create work_dir\n",
        "mmcv.mkdir_or_exist(osp.abspath(cfg.work_dir))\n",
        "train_segmentor(model, datasets, cfg, distributed=False, validate=True, \n",
        "                meta=meta)"
      ],
      "metadata": {
        "colab": {
          "base_uri": "https://localhost:8080/"
        },
        "id": "dHUkPs21cZ2K",
        "outputId": "5696e00d-6cc1-4f64-c83e-d150e4ba831b"
      },
      "execution_count": 11,
      "outputs": [
        {
          "output_type": "stream",
          "name": "stderr",
          "text": [
            "/usr/local/lib/python3.7/dist-packages/mmcv/utils/misc.py:304: UserWarning: \"flip_ratio\" is deprecated in `RandomFlip.__init__`, please use \"prob\" instead\n",
            "  f'\"{src_arg_name}\" is deprecated in '\n",
            "2022-07-20 14:13:55,540 - mmseg - INFO - Loaded 7 images\n",
            "2022-07-20 14:13:59,365 - mmseg - INFO - Loaded 3 images\n",
            "2022-07-20 14:13:59,372 - mmseg - INFO - Start running, host: root@d277b3e9d56d, work_dir: /content/focal_phi_loss_mmsegmentation/data/work_dirs/tutorial\n",
            "2022-07-20 14:13:59,373 - mmseg - INFO - workflow: [('train', 1)], max: 20000 iters\n",
            "2022-07-20 14:14:18,377 - mmseg - INFO - Iter [50/20000]\tlr: 9.980e-04, eta: 1:34:27, time: 0.284, data_time: 0.001, memory: 1552, decode.loss_seg: 0.7430, decode.acc_seg: 51.0361, loss: 0.7430\n",
            "2022-07-20 14:14:27,797 - mmseg - INFO - Iter [100/20000]\tlr: 9.960e-04, eta: 1:18:22, time: 0.189, data_time: 0.003, memory: 1552, decode.loss_seg: 0.7082, decode.acc_seg: 48.5919, loss: 0.7082\n",
            "2022-07-20 14:14:37,032 - mmseg - INFO - Iter [150/20000]\tlr: 9.940e-04, eta: 1:12:27, time: 0.184, data_time: 0.003, memory: 1552, decode.loss_seg: 0.7105, decode.acc_seg: 49.5547, loss: 0.7105\n",
            "2022-07-20 14:14:46,505 - mmseg - INFO - Saving checkpoint at 200 iterations\n"
          ]
        },
        {
          "output_type": "stream",
          "name": "stdout",
          "text": [
            "[>>>>>>>>>>>>>>>>>>>>>>>>>>>>>>>>>>>] 3/3, 0.7 task/s, elapsed: 4s, ETA:     0s"
          ]
        },
        {
          "output_type": "stream",
          "name": "stderr",
          "text": [
            "2022-07-20 14:14:55,901 - mmseg - INFO - per class results:\n",
            "Class                  IoU       Dice        Acc\n",
            "background           38.80      55.91      99.92\n",
            "powerline             0.04       0.07       0.04\n",
            "Summary:\n",
            "Scope                 mIoU      mDice       mAcc       Powerline Dice      Background Dice       aAcc        TPR        TNR        FDR  Precision\n",
            "global               19.42      27.99      49.98                 0.07                55.91      38.81       0.04      99.92      57.24      42.76\n",
            "\n",
            "2022-07-20 14:14:55,906 - mmseg - INFO - Iter(val) [200]\tmIoU: 0.1942, mDice: 0.2799, mAcc: 0.4998, plDice: 0.0731, bgDice: 55.9128, aAcc: 0.3881, TPR: 0.0004, TNR: 0.9992, FDR: 0.5724, Precision: 0.4276\n",
            "2022-07-20 14:15:05,417 - mmseg - INFO - Iter [250/20000]\tlr: 9.899e-04, eta: 1:06:22, time: 0.351, data_time: 0.164, memory: 1552, decode.loss_seg: 0.7093, decode.acc_seg: 50.3400, loss: 0.7093\n",
            "2022-07-20 14:15:14,750 - mmseg - INFO - Iter [300/20000]\tlr: 9.879e-04, eta: 1:05:23, time: 0.187, data_time: 0.003, memory: 1552, decode.loss_seg: 0.7093, decode.acc_seg: 52.0952, loss: 0.7093\n",
            "2022-07-20 14:15:24,352 - mmseg - INFO - Iter [350/20000]\tlr: 9.859e-04, eta: 1:04:53, time: 0.192, data_time: 0.003, memory: 1552, decode.loss_seg: 0.7089, decode.acc_seg: 52.3299, loss: 0.7089\n",
            "2022-07-20 14:15:33,768 - mmseg - INFO - Saving checkpoint at 400 iterations\n"
          ]
        },
        {
          "output_type": "stream",
          "name": "stdout",
          "text": [
            "[>>>>>>>>>>>>>>>>>>>>>>>>>>>>>>>>>>>] 3/3, 5.0 task/s, elapsed: 1s, ETA:     0s"
          ]
        },
        {
          "output_type": "stream",
          "name": "stderr",
          "text": [
            "2022-07-20 14:15:37,485 - mmseg - INFO - per class results:\n",
            "Class                  IoU       Dice        Acc\n",
            "background           38.82      55.93     100.00\n",
            "powerline             0.00       0.00       0.00\n",
            "Summary:\n",
            "Scope                 mIoU      mDice       mAcc       Powerline Dice      Background Dice       aAcc        TPR        TNR        FDR  Precision\n",
            "global               19.41      27.96      50.00                 0.00                55.93      38.82       0.00     100.00       0.00       0.00\n",
            "\n",
            "2022-07-20 14:15:37,487 - mmseg - INFO - Iter(val) [400]\tmIoU: 0.1941, mDice: 0.2796, mAcc: 0.5000, plDice: 0.0000, bgDice: 55.9288, aAcc: 0.3882, TPR: 0.0000, TNR: 1.0000, FDR: 0, Precision: 0\n",
            "2022-07-20 14:15:47,106 - mmseg - INFO - Iter [450/20000]\tlr: 9.818e-04, eta: 0:58:57, time: 0.242, data_time: 0.052, memory: 1552, decode.loss_seg: 0.7081, decode.acc_seg: 54.0166, loss: 0.7081\n",
            "2022-07-20 14:15:56,865 - mmseg - INFO - Iter [500/20000]\tlr: 9.798e-04, eta: 0:59:16, time: 0.195, data_time: 0.003, memory: 1552, decode.loss_seg: 0.7083, decode.acc_seg: 53.0080, loss: 0.7083\n",
            "2022-07-20 14:16:06,581 - mmseg - INFO - Iter [550/20000]\tlr: 9.777e-04, eta: 0:59:28, time: 0.194, data_time: 0.003, memory: 1552, decode.loss_seg: 0.7087, decode.acc_seg: 50.7183, loss: 0.7087\n",
            "2022-07-20 14:16:16,175 - mmseg - INFO - Saving checkpoint at 600 iterations\n"
          ]
        },
        {
          "output_type": "stream",
          "name": "stdout",
          "text": [
            "[>>>>>>>>>>>>>>>>>>>>>>>>>>>>>>>>>>>] 3/3, 5.0 task/s, elapsed: 1s, ETA:     0s"
          ]
        },
        {
          "output_type": "stream",
          "name": "stderr",
          "text": [
            "2022-07-20 14:16:20,284 - mmseg - INFO - per class results:\n",
            "Class                  IoU       Dice        Acc\n",
            "background           38.82      55.93     100.00\n",
            "powerline             0.00       0.00       0.00\n",
            "Summary:\n",
            "Scope                 mIoU      mDice       mAcc       Powerline Dice      Background Dice       aAcc        TPR        TNR        FDR  Precision\n",
            "global               19.41      27.96      50.00                 0.00                55.93      38.82       0.00     100.00       0.00       0.00\n",
            "\n",
            "2022-07-20 14:16:20,287 - mmseg - INFO - Iter(val) [600]\tmIoU: 0.1941, mDice: 0.2796, mAcc: 0.5000, plDice: 0.0000, bgDice: 55.9288, aAcc: 0.3882, TPR: 0.0000, TNR: 1.0000, FDR: 0, Precision: 0\n",
            "2022-07-20 14:16:30,400 - mmseg - INFO - Iter [650/20000]\tlr: 9.737e-04, eta: 0:56:20, time: 0.253, data_time: 0.054, memory: 1552, decode.loss_seg: 0.7093, decode.acc_seg: 54.4251, loss: 0.7093\n",
            "2022-07-20 14:16:40,262 - mmseg - INFO - Iter [700/20000]\tlr: 9.716e-04, eta: 0:56:42, time: 0.197, data_time: 0.003, memory: 1552, decode.loss_seg: 0.7090, decode.acc_seg: 53.2035, loss: 0.7090\n",
            "2022-07-20 14:16:50,003 - mmseg - INFO - Iter [750/20000]\tlr: 9.696e-04, eta: 0:56:57, time: 0.195, data_time: 0.003, memory: 1552, decode.loss_seg: 0.7089, decode.acc_seg: 51.9140, loss: 0.7089\n",
            "2022-07-20 14:16:59,860 - mmseg - INFO - Saving checkpoint at 800 iterations\n"
          ]
        },
        {
          "output_type": "stream",
          "name": "stdout",
          "text": [
            "[>>>>>>>>>>>>>>>>>>>>>>>>>>>>>>>>>>>] 3/3, 4.7 task/s, elapsed: 1s, ETA:     0s"
          ]
        },
        {
          "output_type": "stream",
          "name": "stderr",
          "text": [
            "2022-07-20 14:17:03,605 - mmseg - INFO - per class results:\n",
            "Class                  IoU       Dice        Acc\n",
            "background           38.82      55.93     100.00\n",
            "powerline             0.00       0.00       0.00\n",
            "Summary:\n",
            "Scope                 mIoU      mDice       mAcc       Powerline Dice      Background Dice       aAcc        TPR        TNR        FDR  Precision\n",
            "global               19.41      27.96      50.00                 0.00                55.93      38.82       0.00     100.00       0.00       0.00\n",
            "\n",
            "2022-07-20 14:17:03,608 - mmseg - INFO - Iter(val) [800]\tmIoU: 0.1941, mDice: 0.2796, mAcc: 0.5000, plDice: 0.0000, bgDice: 55.9288, aAcc: 0.3882, TPR: 0.0000, TNR: 1.0000, FDR: 0, Precision: 0\n",
            "2022-07-20 14:17:13,574 - mmseg - INFO - Iter [850/20000]\tlr: 9.655e-04, eta: 0:54:40, time: 0.249, data_time: 0.052, memory: 1552, decode.loss_seg: 0.7082, decode.acc_seg: 53.4292, loss: 0.7082\n",
            "2022-07-20 14:17:23,384 - mmseg - INFO - Iter [900/20000]\tlr: 9.635e-04, eta: 0:54:58, time: 0.196, data_time: 0.003, memory: 1552, decode.loss_seg: 0.7084, decode.acc_seg: 54.2719, loss: 0.7084\n",
            "2022-07-20 14:17:33,391 - mmseg - INFO - Iter [950/20000]\tlr: 9.615e-04, eta: 0:55:16, time: 0.200, data_time: 0.003, memory: 1552, decode.loss_seg: 0.7098, decode.acc_seg: 53.2966, loss: 0.7098\n",
            "2022-07-20 14:17:43,229 - mmseg - INFO - Saving checkpoint at 1000 iterations\n"
          ]
        },
        {
          "output_type": "stream",
          "name": "stdout",
          "text": [
            "[>>>>>>>>>>>>>>>>>>>>>>>>>>>>>>>>>>>] 3/3, 4.2 task/s, elapsed: 1s, ETA:     0s"
          ]
        },
        {
          "output_type": "stream",
          "name": "stderr",
          "text": [
            "2022-07-20 14:17:47,334 - mmseg - INFO - per class results:\n",
            "Class                  IoU       Dice        Acc\n",
            "background           38.82      55.93     100.00\n",
            "powerline             0.00       0.00       0.00\n",
            "Summary:\n",
            "Scope                 mIoU      mDice       mAcc       Powerline Dice      Background Dice       aAcc        TPR        TNR        FDR  Precision\n",
            "global               19.41      27.96      50.00                 0.00                55.93      38.82       0.00     100.00       0.00       0.00\n",
            "\n",
            "2022-07-20 14:17:47,337 - mmseg - INFO - Exp name: fcn_vanilla_unet_s5-d16_256x256_40k_hrf.py\n",
            "2022-07-20 14:17:47,338 - mmseg - INFO - Iter(val) [1000]\tmIoU: 0.1941, mDice: 0.2796, mAcc: 0.5000, plDice: 0.0000, bgDice: 55.9288, aAcc: 0.3882, TPR: 0.0000, TNR: 1.0000, FDR: 0, Precision: 0\n",
            "2022-07-20 14:17:57,128 - mmseg - INFO - Iter [1050/20000]\tlr: 9.574e-04, eta: 0:53:28, time: 0.248, data_time: 0.055, memory: 1552, decode.loss_seg: 0.7084, decode.acc_seg: 54.7549, loss: 0.7084\n",
            "2022-07-20 14:18:07,051 - mmseg - INFO - Iter [1100/20000]\tlr: 9.554e-04, eta: 0:53:45, time: 0.198, data_time: 0.003, memory: 1552, decode.loss_seg: 0.7083, decode.acc_seg: 49.5684, loss: 0.7083\n",
            "2022-07-20 14:18:16,836 - mmseg - INFO - Iter [1150/20000]\tlr: 9.533e-04, eta: 0:53:57, time: 0.196, data_time: 0.003, memory: 1552, decode.loss_seg: 0.7083, decode.acc_seg: 52.4138, loss: 0.7083\n",
            "2022-07-20 14:18:26,382 - mmseg - INFO - Saving checkpoint at 1200 iterations\n"
          ]
        },
        {
          "output_type": "stream",
          "name": "stdout",
          "text": [
            "[>>>>>>>>>>>>>>>>>>>>>>>>>>>>>>>>>>>] 3/3, 4.7 task/s, elapsed: 1s, ETA:     0s"
          ]
        },
        {
          "output_type": "stream",
          "name": "stderr",
          "text": [
            "2022-07-20 14:18:30,361 - mmseg - INFO - per class results:\n",
            "Class                  IoU       Dice        Acc\n",
            "background           38.82      55.93     100.00\n",
            "powerline             0.00       0.00       0.00\n",
            "Summary:\n",
            "Scope                 mIoU      mDice       mAcc       Powerline Dice      Background Dice       aAcc        TPR        TNR        FDR  Precision\n",
            "global               19.41      27.96      50.00                 0.00                55.93      38.82       0.00     100.00       0.00       0.00\n",
            "\n",
            "2022-07-20 14:18:30,364 - mmseg - INFO - Iter(val) [1200]\tmIoU: 0.1941, mDice: 0.2796, mAcc: 0.5000, plDice: 0.0000, bgDice: 55.9288, aAcc: 0.3882, TPR: 0.0000, TNR: 1.0000, FDR: 0, Precision: 0\n",
            "2022-07-20 14:18:40,353 - mmseg - INFO - Iter [1250/20000]\tlr: 9.493e-04, eta: 0:52:30, time: 0.250, data_time: 0.054, memory: 1552, decode.loss_seg: 0.7088, decode.acc_seg: 52.7525, loss: 0.7088\n",
            "2022-07-20 14:18:50,151 - mmseg - INFO - Iter [1300/20000]\tlr: 9.472e-04, eta: 0:52:42, time: 0.196, data_time: 0.003, memory: 1552, decode.loss_seg: 0.7104, decode.acc_seg: 53.4765, loss: 0.7104\n",
            "2022-07-20 14:18:59,780 - mmseg - INFO - Iter [1350/20000]\tlr: 9.452e-04, eta: 0:52:49, time: 0.193, data_time: 0.003, memory: 1552, decode.loss_seg: 0.7080, decode.acc_seg: 51.8481, loss: 0.7080\n",
            "2022-07-20 14:19:09,591 - mmseg - INFO - Saving checkpoint at 1400 iterations\n"
          ]
        },
        {
          "output_type": "stream",
          "name": "stdout",
          "text": [
            "[>>>>>>>>>>>>>>>>>>>>>>>>>>>>>>>>>>>] 3/3, 5.1 task/s, elapsed: 1s, ETA:     0s"
          ]
        },
        {
          "output_type": "stream",
          "name": "stderr",
          "text": [
            "2022-07-20 14:19:13,531 - mmseg - INFO - per class results:\n",
            "Class                  IoU       Dice        Acc\n",
            "background           38.82      55.93     100.00\n",
            "powerline             0.00       0.00       0.00\n",
            "Summary:\n",
            "Scope                 mIoU      mDice       mAcc       Powerline Dice      Background Dice       aAcc        TPR        TNR        FDR  Precision\n",
            "global               19.41      27.96      50.00                 0.00                55.93      38.82       0.00     100.00       0.00       0.00\n",
            "\n",
            "2022-07-20 14:19:13,535 - mmseg - INFO - Iter(val) [1400]\tmIoU: 0.1941, mDice: 0.2796, mAcc: 0.5000, plDice: 0.0000, bgDice: 55.9288, aAcc: 0.3882, TPR: 0.0000, TNR: 1.0000, FDR: 0, Precision: 0\n",
            "2022-07-20 14:19:23,443 - mmseg - INFO - Iter [1450/20000]\tlr: 9.411e-04, eta: 0:51:34, time: 0.249, data_time: 0.054, memory: 1552, decode.loss_seg: 0.7092, decode.acc_seg: 52.7245, loss: 0.7092\n",
            "2022-07-20 14:19:33,057 - mmseg - INFO - Iter [1500/20000]\tlr: 9.391e-04, eta: 0:51:41, time: 0.192, data_time: 0.003, memory: 1552, decode.loss_seg: 0.7086, decode.acc_seg: 51.6749, loss: 0.7086\n",
            "2022-07-20 14:19:42,953 - mmseg - INFO - Iter [1550/20000]\tlr: 9.370e-04, eta: 0:51:51, time: 0.198, data_time: 0.003, memory: 1552, decode.loss_seg: 0.7085, decode.acc_seg: 51.3985, loss: 0.7085\n",
            "2022-07-20 14:19:52,608 - mmseg - INFO - Saving checkpoint at 1600 iterations\n"
          ]
        },
        {
          "output_type": "stream",
          "name": "stdout",
          "text": [
            "[>>>>>>>>>>>>>>>>>>>>>>>>>>>>>>>>>>>] 3/3, 4.9 task/s, elapsed: 1s, ETA:     0s"
          ]
        },
        {
          "output_type": "stream",
          "name": "stderr",
          "text": [
            "2022-07-20 14:19:56,547 - mmseg - INFO - per class results:\n",
            "Class                  IoU       Dice        Acc\n",
            "background           38.82      55.93     100.00\n",
            "powerline             0.00       0.00       0.00\n",
            "Summary:\n",
            "Scope                 mIoU      mDice       mAcc       Powerline Dice      Background Dice       aAcc        TPR        TNR        FDR  Precision\n",
            "global               19.41      27.96      50.00                 0.00                55.93      38.82       0.00     100.00       0.00       0.00\n",
            "\n",
            "2022-07-20 14:19:56,550 - mmseg - INFO - Iter(val) [1600]\tmIoU: 0.1941, mDice: 0.2796, mAcc: 0.5000, plDice: 0.0000, bgDice: 55.9288, aAcc: 0.3882, TPR: 0.0000, TNR: 1.0000, FDR: 0, Precision: 0\n",
            "2022-07-20 14:20:06,184 - mmseg - INFO - Iter [1650/20000]\tlr: 9.329e-04, eta: 0:50:42, time: 0.244, data_time: 0.054, memory: 1552, decode.loss_seg: 0.7099, decode.acc_seg: 54.5899, loss: 0.7099\n",
            "2022-07-20 14:20:15,932 - mmseg - INFO - Iter [1700/20000]\tlr: 9.309e-04, eta: 0:50:50, time: 0.195, data_time: 0.003, memory: 1552, decode.loss_seg: 0.7091, decode.acc_seg: 54.4591, loss: 0.7091\n",
            "2022-07-20 14:20:25,613 - mmseg - INFO - Iter [1750/20000]\tlr: 9.288e-04, eta: 0:50:55, time: 0.194, data_time: 0.003, memory: 1552, decode.loss_seg: 0.7081, decode.acc_seg: 51.5767, loss: 0.7081\n",
            "2022-07-20 14:20:35,052 - mmseg - INFO - Saving checkpoint at 1800 iterations\n"
          ]
        },
        {
          "output_type": "stream",
          "name": "stdout",
          "text": [
            "[>>>>>>>>>>>>>>>>>>>>>>>>>>>>>>>>>>>] 3/3, 5.1 task/s, elapsed: 1s, ETA:     0s"
          ]
        },
        {
          "output_type": "stream",
          "name": "stderr",
          "text": [
            "2022-07-20 14:20:38,899 - mmseg - INFO - per class results:\n",
            "Class                  IoU       Dice        Acc\n",
            "background           38.82      55.93     100.00\n",
            "powerline             0.00       0.00       0.00\n",
            "Summary:\n",
            "Scope                 mIoU      mDice       mAcc       Powerline Dice      Background Dice       aAcc        TPR        TNR        FDR  Precision\n",
            "global               19.41      27.96      50.00                 0.00                55.93      38.82       0.00     100.00       0.00       0.00\n",
            "\n",
            "2022-07-20 14:20:38,906 - mmseg - INFO - Iter(val) [1800]\tmIoU: 0.1941, mDice: 0.2796, mAcc: 0.5000, plDice: 0.0000, bgDice: 55.9288, aAcc: 0.3882, TPR: 0.0000, TNR: 1.0000, FDR: 0, Precision: 0\n",
            "2022-07-20 14:20:48,653 - mmseg - INFO - Iter [1850/20000]\tlr: 9.248e-04, eta: 0:49:55, time: 0.246, data_time: 0.054, memory: 1552, decode.loss_seg: 0.7084, decode.acc_seg: 51.2130, loss: 0.7084\n",
            "2022-07-20 14:20:58,192 - mmseg - INFO - Iter [1900/20000]\tlr: 9.227e-04, eta: 0:49:59, time: 0.191, data_time: 0.003, memory: 1552, decode.loss_seg: 0.7083, decode.acc_seg: 52.3883, loss: 0.7083\n",
            "2022-07-20 14:21:07,629 - mmseg - INFO - Iter [1950/20000]\tlr: 9.207e-04, eta: 0:50:01, time: 0.189, data_time: 0.003, memory: 1552, decode.loss_seg: 0.7094, decode.acc_seg: 52.7862, loss: 0.7094\n",
            "2022-07-20 14:21:17,200 - mmseg - INFO - Saving checkpoint at 2000 iterations\n"
          ]
        },
        {
          "output_type": "stream",
          "name": "stdout",
          "text": [
            "[>>>>>>>>>>>>>>>>>>>>>>>>>>>>>>>>>>>] 3/3, 5.3 task/s, elapsed: 1s, ETA:     0s"
          ]
        },
        {
          "output_type": "stream",
          "name": "stderr",
          "text": [
            "2022-07-20 14:21:21,055 - mmseg - INFO - per class results:\n",
            "Class                  IoU       Dice        Acc\n",
            "background           38.82      55.93     100.00\n",
            "powerline             0.00       0.00       0.00\n",
            "Summary:\n",
            "Scope                 mIoU      mDice       mAcc       Powerline Dice      Background Dice       aAcc        TPR        TNR        FDR  Precision\n",
            "global               19.41      27.96      50.00                 0.00                55.93      38.82       0.00     100.00       0.00       0.00\n",
            "\n",
            "2022-07-20 14:21:21,058 - mmseg - INFO - Exp name: fcn_vanilla_unet_s5-d16_256x256_40k_hrf.py\n",
            "2022-07-20 14:21:21,063 - mmseg - INFO - Iter(val) [2000]\tmIoU: 0.1941, mDice: 0.2796, mAcc: 0.5000, plDice: 0.0000, bgDice: 55.9288, aAcc: 0.3882, TPR: 0.0000, TNR: 1.0000, FDR: 0, Precision: 0\n",
            "2022-07-20 14:21:30,729 - mmseg - INFO - Iter [2050/20000]\tlr: 9.166e-04, eta: 0:49:06, time: 0.244, data_time: 0.053, memory: 1552, decode.loss_seg: 0.7090, decode.acc_seg: 53.5724, loss: 0.7090\n",
            "2022-07-20 14:21:40,170 - mmseg - INFO - Iter [2100/20000]\tlr: 9.145e-04, eta: 0:49:08, time: 0.189, data_time: 0.003, memory: 1552, decode.loss_seg: 0.7095, decode.acc_seg: 53.9258, loss: 0.7095\n",
            "2022-07-20 14:21:49,866 - mmseg - INFO - Iter [2150/20000]\tlr: 9.125e-04, eta: 0:49:12, time: 0.194, data_time: 0.003, memory: 1552, decode.loss_seg: 0.7088, decode.acc_seg: 53.0750, loss: 0.7088\n",
            "2022-07-20 14:21:59,379 - mmseg - INFO - Saving checkpoint at 2200 iterations\n"
          ]
        },
        {
          "output_type": "stream",
          "name": "stdout",
          "text": [
            "[>>>>>>>>>>>>>>>>>>>>>>>>>>>>>>>>>>>] 3/3, 4.9 task/s, elapsed: 1s, ETA:     0s"
          ]
        },
        {
          "output_type": "stream",
          "name": "stderr",
          "text": [
            "2022-07-20 14:22:03,224 - mmseg - INFO - per class results:\n",
            "Class                  IoU       Dice        Acc\n",
            "background           38.82      55.93     100.00\n",
            "powerline             0.00       0.00       0.00\n",
            "Summary:\n",
            "Scope                 mIoU      mDice       mAcc       Powerline Dice      Background Dice       aAcc        TPR        TNR        FDR  Precision\n",
            "global               19.41      27.96      50.00                 0.00                55.93      38.82       0.00     100.00       0.00       0.00\n",
            "\n",
            "2022-07-20 14:22:03,226 - mmseg - INFO - Iter(val) [2200]\tmIoU: 0.1941, mDice: 0.2796, mAcc: 0.5000, plDice: 0.0000, bgDice: 55.9288, aAcc: 0.3882, TPR: 0.0000, TNR: 1.0000, FDR: 0, Precision: 0\n",
            "2022-07-20 14:22:12,770 - mmseg - INFO - Iter [2250/20000]\tlr: 9.084e-04, eta: 0:48:20, time: 0.242, data_time: 0.054, memory: 1552, decode.loss_seg: 0.7085, decode.acc_seg: 53.1135, loss: 0.7085\n",
            "2022-07-20 14:22:22,511 - mmseg - INFO - Iter [2300/20000]\tlr: 9.063e-04, eta: 0:48:24, time: 0.195, data_time: 0.003, memory: 1552, decode.loss_seg: 0.7082, decode.acc_seg: 54.1926, loss: 0.7082\n",
            "2022-07-20 14:22:32,129 - mmseg - INFO - Iter [2350/20000]\tlr: 9.043e-04, eta: 0:48:27, time: 0.192, data_time: 0.003, memory: 1552, decode.loss_seg: 0.7084, decode.acc_seg: 51.7242, loss: 0.7084\n",
            "2022-07-20 14:22:41,528 - mmseg - INFO - Saving checkpoint at 2400 iterations\n"
          ]
        },
        {
          "output_type": "stream",
          "name": "stdout",
          "text": [
            "[>>>>>>>>>>>>>>>>>>>>>>>>>>>>>>>>>>>] 3/3, 5.3 task/s, elapsed: 1s, ETA:     0s"
          ]
        },
        {
          "output_type": "stream",
          "name": "stderr",
          "text": [
            "2022-07-20 14:22:45,336 - mmseg - INFO - per class results:\n",
            "Class                  IoU       Dice        Acc\n",
            "background           38.82      55.93     100.00\n",
            "powerline             0.00       0.00       0.00\n",
            "Summary:\n",
            "Scope                 mIoU      mDice       mAcc       Powerline Dice      Background Dice       aAcc        TPR        TNR        FDR  Precision\n",
            "global               19.41      27.96      50.00                 0.00                55.93      38.82       0.00     100.00       0.00       0.00\n",
            "\n",
            "2022-07-20 14:22:45,338 - mmseg - INFO - Iter(val) [2400]\tmIoU: 0.1941, mDice: 0.2796, mAcc: 0.5000, plDice: 0.0000, bgDice: 55.9288, aAcc: 0.3882, TPR: 0.0000, TNR: 1.0000, FDR: 0, Precision: 0\n",
            "2022-07-20 14:22:55,089 - mmseg - INFO - Iter [2450/20000]\tlr: 9.002e-04, eta: 0:47:40, time: 0.245, data_time: 0.053, memory: 1552, decode.loss_seg: 0.7092, decode.acc_seg: 50.2541, loss: 0.7092\n",
            "2022-07-20 14:23:04,782 - mmseg - INFO - Iter [2500/20000]\tlr: 8.981e-04, eta: 0:47:43, time: 0.194, data_time: 0.003, memory: 1552, decode.loss_seg: 0.7090, decode.acc_seg: 52.0528, loss: 0.7090\n",
            "2022-07-20 14:23:14,269 - mmseg - INFO - Iter [2550/20000]\tlr: 8.961e-04, eta: 0:47:43, time: 0.190, data_time: 0.003, memory: 1552, decode.loss_seg: 0.7081, decode.acc_seg: 52.2535, loss: 0.7081\n",
            "2022-07-20 14:23:23,920 - mmseg - INFO - Saving checkpoint at 2600 iterations\n"
          ]
        },
        {
          "output_type": "stream",
          "name": "stdout",
          "text": [
            "[>>>>>>>>>>>>>>>>>>>>>>>>>>>>>>>>>>>] 3/3, 5.2 task/s, elapsed: 1s, ETA:     0s"
          ]
        },
        {
          "output_type": "stream",
          "name": "stderr",
          "text": [
            "2022-07-20 14:23:27,721 - mmseg - INFO - per class results:\n",
            "Class                  IoU       Dice        Acc\n",
            "background           38.82      55.93     100.00\n",
            "powerline             0.00       0.00       0.00\n",
            "Summary:\n",
            "Scope                 mIoU      mDice       mAcc       Powerline Dice      Background Dice       aAcc        TPR        TNR        FDR  Precision\n",
            "global               19.41      27.96      50.00                 0.00                55.93      38.82       0.00     100.00       0.00       0.00\n",
            "\n",
            "2022-07-20 14:23:27,724 - mmseg - INFO - Iter(val) [2600]\tmIoU: 0.1941, mDice: 0.2796, mAcc: 0.5000, plDice: 0.0000, bgDice: 55.9288, aAcc: 0.3882, TPR: 0.0000, TNR: 1.0000, FDR: 0, Precision: 0\n",
            "2022-07-20 14:23:37,372 - mmseg - INFO - Iter [2650/20000]\tlr: 8.920e-04, eta: 0:46:59, time: 0.243, data_time: 0.053, memory: 1552, decode.loss_seg: 0.7087, decode.acc_seg: 52.3038, loss: 0.7087\n",
            "2022-07-20 14:23:46,818 - mmseg - INFO - Iter [2700/20000]\tlr: 8.899e-04, eta: 0:46:59, time: 0.189, data_time: 0.003, memory: 1552, decode.loss_seg: 0.7088, decode.acc_seg: 52.6210, loss: 0.7088\n",
            "2022-07-20 14:23:56,525 - mmseg - INFO - Iter [2750/20000]\tlr: 8.879e-04, eta: 0:47:01, time: 0.194, data_time: 0.003, memory: 1552, decode.loss_seg: 0.7085, decode.acc_seg: 53.6562, loss: 0.7085\n",
            "2022-07-20 14:24:06,018 - mmseg - INFO - Saving checkpoint at 2800 iterations\n"
          ]
        },
        {
          "output_type": "stream",
          "name": "stdout",
          "text": [
            "[>>>>>>>>>>>>>>>>>>>>>>>>>>>>>>>>>>>] 3/3, 5.2 task/s, elapsed: 1s, ETA:     0s"
          ]
        },
        {
          "output_type": "stream",
          "name": "stderr",
          "text": [
            "2022-07-20 14:24:09,795 - mmseg - INFO - per class results:\n",
            "Class                  IoU       Dice        Acc\n",
            "background           38.82      55.93     100.00\n",
            "powerline             0.00       0.00       0.00\n",
            "Summary:\n",
            "Scope                 mIoU      mDice       mAcc       Powerline Dice      Background Dice       aAcc        TPR        TNR        FDR  Precision\n",
            "global               19.41      27.96      50.00                 0.00                55.93      38.82       0.00     100.00       0.00       0.00\n",
            "\n",
            "2022-07-20 14:24:09,797 - mmseg - INFO - Iter(val) [2800]\tmIoU: 0.1941, mDice: 0.2796, mAcc: 0.5000, plDice: 0.0000, bgDice: 55.9288, aAcc: 0.3882, TPR: 0.0000, TNR: 1.0000, FDR: 0, Precision: 0\n",
            "2022-07-20 14:24:19,379 - mmseg - INFO - Iter [2850/20000]\tlr: 8.837e-04, eta: 0:46:19, time: 0.240, data_time: 0.052, memory: 1552, decode.loss_seg: 0.7088, decode.acc_seg: 51.5866, loss: 0.7088\n",
            "2022-07-20 14:24:29,187 - mmseg - INFO - Iter [2900/20000]\tlr: 8.817e-04, eta: 0:46:20, time: 0.196, data_time: 0.003, memory: 1552, decode.loss_seg: 0.7093, decode.acc_seg: 53.9788, loss: 0.7093\n",
            "2022-07-20 14:24:38,836 - mmseg - INFO - Iter [2950/20000]\tlr: 8.796e-04, eta: 0:46:21, time: 0.193, data_time: 0.003, memory: 1552, decode.loss_seg: 0.7095, decode.acc_seg: 52.5533, loss: 0.7095\n",
            "2022-07-20 14:24:48,248 - mmseg - INFO - Saving checkpoint at 3000 iterations\n"
          ]
        },
        {
          "output_type": "stream",
          "name": "stdout",
          "text": [
            "[>>>>>>>>>>>>>>>>>>>>>>>>>>>>>>>>>>>] 3/3, 5.1 task/s, elapsed: 1s, ETA:     0s"
          ]
        },
        {
          "output_type": "stream",
          "name": "stderr",
          "text": [
            "2022-07-20 14:24:52,079 - mmseg - INFO - per class results:\n",
            "Class                  IoU       Dice        Acc\n",
            "background           38.82      55.93     100.00\n",
            "powerline             0.00       0.00       0.00\n",
            "Summary:\n",
            "Scope                 mIoU      mDice       mAcc       Powerline Dice      Background Dice       aAcc        TPR        TNR        FDR  Precision\n",
            "global               19.41      27.96      50.00                 0.00                55.93      38.82       0.00     100.00       0.00       0.00\n",
            "\n",
            "2022-07-20 14:24:52,085 - mmseg - INFO - Exp name: fcn_vanilla_unet_s5-d16_256x256_40k_hrf.py\n",
            "2022-07-20 14:24:52,089 - mmseg - INFO - Iter(val) [3000]\tmIoU: 0.1941, mDice: 0.2796, mAcc: 0.5000, plDice: 0.0000, bgDice: 55.9288, aAcc: 0.3882, TPR: 0.0000, TNR: 1.0000, FDR: 0, Precision: 0\n",
            "2022-07-20 14:25:01,895 - mmseg - INFO - Iter [3050/20000]\tlr: 8.755e-04, eta: 0:45:43, time: 0.246, data_time: 0.053, memory: 1552, decode.loss_seg: 0.7079, decode.acc_seg: 52.9907, loss: 0.7079\n",
            "2022-07-20 14:25:11,547 - mmseg - INFO - Iter [3100/20000]\tlr: 8.735e-04, eta: 0:45:43, time: 0.193, data_time: 0.003, memory: 1552, decode.loss_seg: 0.7083, decode.acc_seg: 51.3467, loss: 0.7083\n",
            "2022-07-20 14:25:21,017 - mmseg - INFO - Iter [3150/20000]\tlr: 8.714e-04, eta: 0:45:42, time: 0.189, data_time: 0.003, memory: 1552, decode.loss_seg: 0.7083, decode.acc_seg: 52.7766, loss: 0.7083\n",
            "2022-07-20 14:25:30,691 - mmseg - INFO - Saving checkpoint at 3200 iterations\n"
          ]
        },
        {
          "output_type": "stream",
          "name": "stdout",
          "text": [
            "[>>>>>>>>>>>>>>>>>>>>>>>>>>>>>>>>>>>] 3/3, 4.5 task/s, elapsed: 1s, ETA:     0s"
          ]
        },
        {
          "output_type": "stream",
          "name": "stderr",
          "text": [
            "2022-07-20 14:25:34,688 - mmseg - INFO - per class results:\n",
            "Class                  IoU       Dice        Acc\n",
            "background           38.82      55.93     100.00\n",
            "powerline             0.00       0.00       0.00\n",
            "Summary:\n",
            "Scope                 mIoU      mDice       mAcc       Powerline Dice      Background Dice       aAcc        TPR        TNR        FDR  Precision\n",
            "global               19.41      27.96      50.00                 0.00                55.93      38.82       0.00     100.00       0.00       0.00\n",
            "\n",
            "2022-07-20 14:25:34,690 - mmseg - INFO - Iter(val) [3200]\tmIoU: 0.1941, mDice: 0.2796, mAcc: 0.5000, plDice: 0.0000, bgDice: 55.9288, aAcc: 0.3882, TPR: 0.0000, TNR: 1.0000, FDR: 0, Precision: 0\n",
            "2022-07-20 14:25:44,494 - mmseg - INFO - Iter [3250/20000]\tlr: 8.673e-04, eta: 0:45:06, time: 0.247, data_time: 0.054, memory: 1552, decode.loss_seg: 0.7086, decode.acc_seg: 52.0497, loss: 0.7086\n",
            "2022-07-20 14:25:54,116 - mmseg - INFO - Iter [3300/20000]\tlr: 8.652e-04, eta: 0:45:05, time: 0.192, data_time: 0.003, memory: 1552, decode.loss_seg: 0.7102, decode.acc_seg: 52.0335, loss: 0.7102\n",
            "2022-07-20 14:26:03,926 - mmseg - INFO - Iter [3350/20000]\tlr: 8.632e-04, eta: 0:45:06, time: 0.196, data_time: 0.003, memory: 1552, decode.loss_seg: 0.7089, decode.acc_seg: 53.2231, loss: 0.7089\n",
            "2022-07-20 14:26:13,530 - mmseg - INFO - Saving checkpoint at 3400 iterations\n"
          ]
        },
        {
          "output_type": "stream",
          "name": "stdout",
          "text": [
            "[>>>>>>>>>>>>>>>>>>>>>>>>>>>>>>>>>>>] 3/3, 5.3 task/s, elapsed: 1s, ETA:     0s"
          ]
        },
        {
          "output_type": "stream",
          "name": "stderr",
          "text": [
            "2022-07-20 14:26:17,373 - mmseg - INFO - per class results:\n",
            "Class                  IoU       Dice        Acc\n",
            "background           38.82      55.93     100.00\n",
            "powerline             0.00       0.00       0.00\n",
            "Summary:\n",
            "Scope                 mIoU      mDice       mAcc       Powerline Dice      Background Dice       aAcc        TPR        TNR        FDR  Precision\n",
            "global               19.41      27.96      50.00                 0.00                55.93      38.82       0.00     100.00       0.00       0.00\n",
            "\n",
            "2022-07-20 14:26:17,375 - mmseg - INFO - Iter(val) [3400]\tmIoU: 0.1941, mDice: 0.2796, mAcc: 0.5000, plDice: 0.0000, bgDice: 55.9288, aAcc: 0.3882, TPR: 0.0000, TNR: 1.0000, FDR: 0, Precision: 0\n",
            "2022-07-20 14:26:26,890 - mmseg - INFO - Iter [3450/20000]\tlr: 8.590e-04, eta: 0:44:29, time: 0.241, data_time: 0.053, memory: 1552, decode.loss_seg: 0.7094, decode.acc_seg: 54.4346, loss: 0.7094\n",
            "2022-07-20 14:26:36,572 - mmseg - INFO - Iter [3500/20000]\tlr: 8.570e-04, eta: 0:44:29, time: 0.194, data_time: 0.003, memory: 1552, decode.loss_seg: 0.7082, decode.acc_seg: 54.6933, loss: 0.7082\n",
            "2022-07-20 14:26:46,197 - mmseg - INFO - Iter [3550/20000]\tlr: 8.549e-04, eta: 0:44:28, time: 0.193, data_time: 0.003, memory: 1552, decode.loss_seg: 0.7091, decode.acc_seg: 50.8299, loss: 0.7091\n",
            "2022-07-20 14:26:55,570 - mmseg - INFO - Saving checkpoint at 3600 iterations\n"
          ]
        },
        {
          "output_type": "stream",
          "name": "stdout",
          "text": [
            "[>>>>>>>>>>>>>>>>>>>>>>>>>>>>>>>>>>>] 3/3, 5.1 task/s, elapsed: 1s, ETA:     0s"
          ]
        },
        {
          "output_type": "stream",
          "name": "stderr",
          "text": [
            "2022-07-20 14:26:59,509 - mmseg - INFO - per class results:\n",
            "Class                  IoU       Dice        Acc\n",
            "background           38.82      55.93     100.00\n",
            "powerline             0.00       0.00       0.00\n",
            "Summary:\n",
            "Scope                 mIoU      mDice       mAcc       Powerline Dice      Background Dice       aAcc        TPR        TNR        FDR  Precision\n",
            "global               19.41      27.96      50.00                 0.00                55.93      38.82       0.00     100.00       0.00       0.00\n",
            "\n",
            "2022-07-20 14:26:59,512 - mmseg - INFO - Iter(val) [3600]\tmIoU: 0.1941, mDice: 0.2796, mAcc: 0.5000, plDice: 0.0000, bgDice: 55.9288, aAcc: 0.3882, TPR: 0.0000, TNR: 1.0000, FDR: 0, Precision: 0\n",
            "2022-07-20 14:27:09,418 - mmseg - INFO - Iter [3650/20000]\tlr: 8.508e-04, eta: 0:43:55, time: 0.249, data_time: 0.054, memory: 1552, decode.loss_seg: 0.7095, decode.acc_seg: 52.8550, loss: 0.7095\n",
            "2022-07-20 14:27:19,174 - mmseg - INFO - Iter [3700/20000]\tlr: 8.487e-04, eta: 0:43:54, time: 0.195, data_time: 0.003, memory: 1552, decode.loss_seg: 0.7086, decode.acc_seg: 52.5124, loss: 0.7086\n",
            "2022-07-20 14:27:28,599 - mmseg - INFO - Iter [3750/20000]\tlr: 8.466e-04, eta: 0:43:52, time: 0.188, data_time: 0.003, memory: 1552, decode.loss_seg: 0.7077, decode.acc_seg: 50.9107, loss: 0.7077\n",
            "2022-07-20 14:27:38,307 - mmseg - INFO - Saving checkpoint at 3800 iterations\n"
          ]
        },
        {
          "output_type": "stream",
          "name": "stdout",
          "text": [
            "[>>>>>>>>>>>>>>>>>>>>>>>>>>>>>>>>>>>] 3/3, 5.1 task/s, elapsed: 1s, ETA:     0s"
          ]
        },
        {
          "output_type": "stream",
          "name": "stderr",
          "text": [
            "2022-07-20 14:27:42,170 - mmseg - INFO - per class results:\n",
            "Class                  IoU       Dice        Acc\n",
            "background           38.82      55.93     100.00\n",
            "powerline             0.00       0.00       0.00\n",
            "Summary:\n",
            "Scope                 mIoU      mDice       mAcc       Powerline Dice      Background Dice       aAcc        TPR        TNR        FDR  Precision\n",
            "global               19.41      27.96      50.00                 0.00                55.93      38.82       0.00     100.00       0.00       0.00\n",
            "\n",
            "2022-07-20 14:27:42,172 - mmseg - INFO - Iter(val) [3800]\tmIoU: 0.1941, mDice: 0.2796, mAcc: 0.5000, plDice: 0.0000, bgDice: 55.9288, aAcc: 0.3882, TPR: 0.0000, TNR: 1.0000, FDR: 0, Precision: 0\n",
            "2022-07-20 14:27:51,953 - mmseg - INFO - Iter [3850/20000]\tlr: 8.425e-04, eta: 0:43:19, time: 0.246, data_time: 0.053, memory: 1552, decode.loss_seg: 0.7084, decode.acc_seg: 52.9269, loss: 0.7084\n",
            "2022-07-20 14:28:01,552 - mmseg - INFO - Iter [3900/20000]\tlr: 8.404e-04, eta: 0:43:18, time: 0.192, data_time: 0.003, memory: 1552, decode.loss_seg: 0.7083, decode.acc_seg: 54.0446, loss: 0.7083\n",
            "2022-07-20 14:28:11,372 - mmseg - INFO - Iter [3950/20000]\tlr: 8.384e-04, eta: 0:43:17, time: 0.196, data_time: 0.003, memory: 1552, decode.loss_seg: 0.7083, decode.acc_seg: 51.6005, loss: 0.7083\n",
            "2022-07-20 14:28:21,046 - mmseg - INFO - Saving checkpoint at 4000 iterations\n"
          ]
        },
        {
          "output_type": "stream",
          "name": "stdout",
          "text": [
            "[>>>>>>>>>>>>>>>>>>>>>>>>>>>>>>>>>>>] 3/3, 4.8 task/s, elapsed: 1s, ETA:     0s"
          ]
        },
        {
          "output_type": "stream",
          "name": "stderr",
          "text": [
            "2022-07-20 14:28:24,933 - mmseg - INFO - per class results:\n",
            "Class                  IoU       Dice        Acc\n",
            "background           38.82      55.93     100.00\n",
            "powerline             0.00       0.00       0.00\n",
            "Summary:\n",
            "Scope                 mIoU      mDice       mAcc       Powerline Dice      Background Dice       aAcc        TPR        TNR        FDR  Precision\n",
            "global               19.41      27.96      50.00                 0.00                55.93      38.82       0.00     100.00       0.00       0.00\n",
            "\n",
            "2022-07-20 14:28:24,935 - mmseg - INFO - Exp name: fcn_vanilla_unet_s5-d16_256x256_40k_hrf.py\n",
            "2022-07-20 14:28:24,941 - mmseg - INFO - Iter(val) [4000]\tmIoU: 0.1941, mDice: 0.2796, mAcc: 0.5000, plDice: 0.0000, bgDice: 55.9288, aAcc: 0.3882, TPR: 0.0000, TNR: 1.0000, FDR: 0, Precision: 0\n",
            "2022-07-20 14:28:34,605 - mmseg - INFO - Iter [4050/20000]\tlr: 8.342e-04, eta: 0:42:45, time: 0.245, data_time: 0.054, memory: 1552, decode.loss_seg: 0.7078, decode.acc_seg: 50.2675, loss: 0.7078\n",
            "2022-07-20 14:28:44,461 - mmseg - INFO - Iter [4100/20000]\tlr: 8.321e-04, eta: 0:42:44, time: 0.197, data_time: 0.003, memory: 1552, decode.loss_seg: 0.7093, decode.acc_seg: 53.1403, loss: 0.7093\n",
            "2022-07-20 14:28:54,193 - mmseg - INFO - Iter [4150/20000]\tlr: 8.301e-04, eta: 0:42:42, time: 0.195, data_time: 0.003, memory: 1552, decode.loss_seg: 0.7086, decode.acc_seg: 53.3308, loss: 0.7086\n",
            "2022-07-20 14:29:03,727 - mmseg - INFO - Saving checkpoint at 4200 iterations\n"
          ]
        },
        {
          "output_type": "stream",
          "name": "stdout",
          "text": [
            "[>>>>>>>>>>>>>>>>>>>>>>>>>>>>>>>>>>>] 3/3, 5.0 task/s, elapsed: 1s, ETA:     0s"
          ]
        },
        {
          "output_type": "stream",
          "name": "stderr",
          "text": [
            "2022-07-20 14:29:07,573 - mmseg - INFO - per class results:\n",
            "Class                  IoU       Dice        Acc\n",
            "background           38.82      55.93     100.00\n",
            "powerline             0.00       0.00       0.00\n",
            "Summary:\n",
            "Scope                 mIoU      mDice       mAcc       Powerline Dice      Background Dice       aAcc        TPR        TNR        FDR  Precision\n",
            "global               19.41      27.96      50.00                 0.00                55.93      38.82       0.00     100.00       0.00       0.00\n",
            "\n",
            "2022-07-20 14:29:07,576 - mmseg - INFO - Iter(val) [4200]\tmIoU: 0.1941, mDice: 0.2796, mAcc: 0.5000, plDice: 0.0000, bgDice: 55.9288, aAcc: 0.3882, TPR: 0.0000, TNR: 1.0000, FDR: 0, Precision: 0\n",
            "2022-07-20 14:29:17,425 - mmseg - INFO - Iter [4250/20000]\tlr: 8.259e-04, eta: 0:42:12, time: 0.248, data_time: 0.053, memory: 1552, decode.loss_seg: 0.7097, decode.acc_seg: 52.2260, loss: 0.7097\n",
            "2022-07-20 14:29:27,169 - mmseg - INFO - Iter [4300/20000]\tlr: 8.239e-04, eta: 0:42:10, time: 0.195, data_time: 0.003, memory: 1552, decode.loss_seg: 0.7084, decode.acc_seg: 53.4160, loss: 0.7084\n",
            "2022-07-20 14:29:36,723 - mmseg - INFO - Iter [4350/20000]\tlr: 8.218e-04, eta: 0:42:08, time: 0.191, data_time: 0.003, memory: 1552, decode.loss_seg: 0.7083, decode.acc_seg: 51.1207, loss: 0.7083\n",
            "2022-07-20 14:29:46,526 - mmseg - INFO - Saving checkpoint at 4400 iterations\n"
          ]
        },
        {
          "output_type": "stream",
          "name": "stdout",
          "text": [
            "[>>>>>>>>>>>>>>>>>>>>>>>>>>>>>>>>>>>] 3/3, 5.1 task/s, elapsed: 1s, ETA:     0s"
          ]
        },
        {
          "output_type": "stream",
          "name": "stderr",
          "text": [
            "2022-07-20 14:29:50,354 - mmseg - INFO - per class results:\n",
            "Class                  IoU       Dice        Acc\n",
            "background           38.82      55.93     100.00\n",
            "powerline             0.00       0.00       0.00\n",
            "Summary:\n",
            "Scope                 mIoU      mDice       mAcc       Powerline Dice      Background Dice       aAcc        TPR        TNR        FDR  Precision\n",
            "global               19.41      27.96      50.00                 0.00                55.93      38.82       0.00     100.00       0.00       0.00\n",
            "\n",
            "2022-07-20 14:29:50,357 - mmseg - INFO - Iter(val) [4400]\tmIoU: 0.1941, mDice: 0.2796, mAcc: 0.5000, plDice: 0.0000, bgDice: 55.9288, aAcc: 0.3882, TPR: 0.0000, TNR: 1.0000, FDR: 0, Precision: 0\n",
            "2022-07-20 14:30:00,136 - mmseg - INFO - Iter [4450/20000]\tlr: 8.176e-04, eta: 0:41:38, time: 0.246, data_time: 0.053, memory: 1552, decode.loss_seg: 0.7089, decode.acc_seg: 52.1366, loss: 0.7089\n",
            "2022-07-20 14:30:09,648 - mmseg - INFO - Iter [4500/20000]\tlr: 8.155e-04, eta: 0:41:35, time: 0.190, data_time: 0.003, memory: 1552, decode.loss_seg: 0.7083, decode.acc_seg: 51.4527, loss: 0.7083\n",
            "2022-07-20 14:30:19,469 - mmseg - INFO - Iter [4550/20000]\tlr: 8.135e-04, eta: 0:41:33, time: 0.196, data_time: 0.003, memory: 1552, decode.loss_seg: 0.7092, decode.acc_seg: 51.4701, loss: 0.7092\n",
            "2022-07-20 14:30:29,143 - mmseg - INFO - Saving checkpoint at 4600 iterations\n"
          ]
        },
        {
          "output_type": "stream",
          "name": "stdout",
          "text": [
            "[>>>>>>>>>>>>>>>>>>>>>>>>>>>>>>>>>>>] 3/3, 4.9 task/s, elapsed: 1s, ETA:     0s"
          ]
        },
        {
          "output_type": "stream",
          "name": "stderr",
          "text": [
            "2022-07-20 14:30:33,036 - mmseg - INFO - per class results:\n",
            "Class                  IoU       Dice        Acc\n",
            "background           38.82      55.93     100.00\n",
            "powerline             0.00       0.00       0.00\n",
            "Summary:\n",
            "Scope                 mIoU      mDice       mAcc       Powerline Dice      Background Dice       aAcc        TPR        TNR        FDR  Precision\n",
            "global               19.41      27.96      50.00                 0.00                55.93      38.82       0.00     100.00       0.00       0.00\n",
            "\n",
            "2022-07-20 14:30:33,040 - mmseg - INFO - Iter(val) [4600]\tmIoU: 0.1941, mDice: 0.2796, mAcc: 0.5000, plDice: 0.0000, bgDice: 55.9288, aAcc: 0.3882, TPR: 0.0000, TNR: 1.0000, FDR: 0, Precision: 0\n",
            "2022-07-20 14:30:42,729 - mmseg - INFO - Iter [4650/20000]\tlr: 8.093e-04, eta: 0:41:04, time: 0.245, data_time: 0.054, memory: 1552, decode.loss_seg: 0.7085, decode.acc_seg: 51.8834, loss: 0.7085\n",
            "2022-07-20 14:30:52,485 - mmseg - INFO - Iter [4700/20000]\tlr: 8.072e-04, eta: 0:41:02, time: 0.195, data_time: 0.003, memory: 1552, decode.loss_seg: 0.7083, decode.acc_seg: 55.1137, loss: 0.7083\n",
            "2022-07-20 14:31:02,145 - mmseg - INFO - Iter [4750/20000]\tlr: 8.052e-04, eta: 0:40:59, time: 0.193, data_time: 0.003, memory: 1552, decode.loss_seg: 0.7079, decode.acc_seg: 52.6290, loss: 0.7079\n",
            "2022-07-20 14:31:11,651 - mmseg - INFO - Saving checkpoint at 4800 iterations\n"
          ]
        },
        {
          "output_type": "stream",
          "name": "stdout",
          "text": [
            "[>>>>>>>>>>>>>>>>>>>>>>>>>>>>>>>>>>>] 3/3, 5.0 task/s, elapsed: 1s, ETA:     0s"
          ]
        },
        {
          "output_type": "stream",
          "name": "stderr",
          "text": [
            "2022-07-20 14:31:15,490 - mmseg - INFO - per class results:\n",
            "Class                  IoU       Dice        Acc\n",
            "background           38.82      55.93     100.00\n",
            "powerline             0.00       0.00       0.00\n",
            "Summary:\n",
            "Scope                 mIoU      mDice       mAcc       Powerline Dice      Background Dice       aAcc        TPR        TNR        FDR  Precision\n",
            "global               19.41      27.96      50.00                 0.00                55.93      38.82       0.00     100.00       0.00       0.00\n",
            "\n",
            "2022-07-20 14:31:15,493 - mmseg - INFO - Iter(val) [4800]\tmIoU: 0.1941, mDice: 0.2796, mAcc: 0.5000, plDice: 0.0000, bgDice: 55.9288, aAcc: 0.3882, TPR: 0.0000, TNR: 1.0000, FDR: 0, Precision: 0\n",
            "2022-07-20 14:31:25,354 - mmseg - INFO - Iter [4850/20000]\tlr: 8.010e-04, eta: 0:40:31, time: 0.247, data_time: 0.053, memory: 1552, decode.loss_seg: 0.7086, decode.acc_seg: 49.9441, loss: 0.7086\n",
            "2022-07-20 14:31:35,101 - mmseg - INFO - Iter [4900/20000]\tlr: 7.989e-04, eta: 0:40:28, time: 0.195, data_time: 0.003, memory: 1552, decode.loss_seg: 0.7080, decode.acc_seg: 49.2381, loss: 0.7080\n",
            "2022-07-20 14:31:44,633 - mmseg - INFO - Iter [4950/20000]\tlr: 7.968e-04, eta: 0:40:25, time: 0.191, data_time: 0.003, memory: 1552, decode.loss_seg: 0.7089, decode.acc_seg: 50.0466, loss: 0.7089\n",
            "2022-07-20 14:31:54,307 - mmseg - INFO - Saving checkpoint at 5000 iterations\n"
          ]
        },
        {
          "output_type": "stream",
          "name": "stdout",
          "text": [
            "[>>>>>>>>>>>>>>>>>>>>>>>>>>>>>>>>>>>] 3/3, 4.9 task/s, elapsed: 1s, ETA:     0s"
          ]
        },
        {
          "output_type": "stream",
          "name": "stderr",
          "text": [
            "2022-07-20 14:31:58,129 - mmseg - INFO - per class results:\n",
            "Class                  IoU       Dice        Acc\n",
            "background           38.82      55.93     100.00\n",
            "powerline             0.00       0.00       0.00\n",
            "Summary:\n",
            "Scope                 mIoU      mDice       mAcc       Powerline Dice      Background Dice       aAcc        TPR        TNR        FDR  Precision\n",
            "global               19.41      27.96      50.00                 0.00                55.93      38.82       0.00     100.00       0.00       0.00\n",
            "\n",
            "2022-07-20 14:31:58,131 - mmseg - INFO - Exp name: fcn_vanilla_unet_s5-d16_256x256_40k_hrf.py\n",
            "2022-07-20 14:31:58,134 - mmseg - INFO - Iter(val) [5000]\tmIoU: 0.1941, mDice: 0.2796, mAcc: 0.5000, plDice: 0.0000, bgDice: 55.9288, aAcc: 0.3882, TPR: 0.0000, TNR: 1.0000, FDR: 0, Precision: 0\n",
            "2022-07-20 14:32:07,988 - mmseg - INFO - Iter [5050/20000]\tlr: 7.927e-04, eta: 0:39:58, time: 0.248, data_time: 0.054, memory: 1552, decode.loss_seg: 0.7094, decode.acc_seg: 54.0482, loss: 0.7094\n",
            "2022-07-20 14:32:17,563 - mmseg - INFO - Iter [5100/20000]\tlr: 7.906e-04, eta: 0:39:54, time: 0.191, data_time: 0.003, memory: 1552, decode.loss_seg: 0.7089, decode.acc_seg: 52.4104, loss: 0.7089\n",
            "2022-07-20 14:32:27,480 - mmseg - INFO - Iter [5150/20000]\tlr: 7.885e-04, eta: 0:39:51, time: 0.198, data_time: 0.003, memory: 1552, decode.loss_seg: 0.7088, decode.acc_seg: 53.0668, loss: 0.7088\n",
            "2022-07-20 14:32:37,255 - mmseg - INFO - Saving checkpoint at 5200 iterations\n"
          ]
        },
        {
          "output_type": "stream",
          "name": "stdout",
          "text": [
            "[>>>>>>>>>>>>>>>>>>>>>>>>>>>>>>>>>>>] 3/3, 4.7 task/s, elapsed: 1s, ETA:     0s"
          ]
        },
        {
          "output_type": "stream",
          "name": "stderr",
          "text": [
            "2022-07-20 14:32:41,111 - mmseg - INFO - per class results:\n",
            "Class                  IoU       Dice        Acc\n",
            "background           38.82      55.93     100.00\n",
            "powerline             0.00       0.00       0.00\n",
            "Summary:\n",
            "Scope                 mIoU      mDice       mAcc       Powerline Dice      Background Dice       aAcc        TPR        TNR        FDR  Precision\n",
            "global               19.41      27.96      50.00                 0.00                55.93      38.82       0.00     100.00       0.00       0.00\n",
            "\n",
            "2022-07-20 14:32:41,114 - mmseg - INFO - Iter(val) [5200]\tmIoU: 0.1941, mDice: 0.2796, mAcc: 0.5000, plDice: 0.0000, bgDice: 55.9288, aAcc: 0.3882, TPR: 0.0000, TNR: 1.0000, FDR: 0, Precision: 0\n",
            "2022-07-20 14:32:50,839 - mmseg - INFO - Iter [5250/20000]\tlr: 7.843e-04, eta: 0:39:25, time: 0.246, data_time: 0.054, memory: 1552, decode.loss_seg: 0.7088, decode.acc_seg: 55.3519, loss: 0.7088\n",
            "2022-07-20 14:33:00,659 - mmseg - INFO - Iter [5300/20000]\tlr: 7.822e-04, eta: 0:39:22, time: 0.196, data_time: 0.003, memory: 1552, decode.loss_seg: 0.7084, decode.acc_seg: 52.7529, loss: 0.7084\n",
            "2022-07-20 14:33:10,563 - mmseg - INFO - Iter [5350/20000]\tlr: 7.801e-04, eta: 0:39:19, time: 0.198, data_time: 0.003, memory: 1552, decode.loss_seg: 0.7085, decode.acc_seg: 49.1100, loss: 0.7085\n",
            "2022-07-20 14:33:20,140 - mmseg - INFO - Saving checkpoint at 5400 iterations\n"
          ]
        },
        {
          "output_type": "stream",
          "name": "stdout",
          "text": [
            "[>>>>>>>>>>>>>>>>>>>>>>>>>>>>>>>>>>>] 3/3, 4.8 task/s, elapsed: 1s, ETA:     0s"
          ]
        },
        {
          "output_type": "stream",
          "name": "stderr",
          "text": [
            "2022-07-20 14:33:23,498 - mmseg - INFO - per class results:\n",
            "Class                  IoU       Dice        Acc\n",
            "background            0.00       0.00       0.00\n",
            "powerline            53.72      69.89      92.06\n",
            "Summary:\n",
            "Scope                 mIoU      mDice       mAcc       Powerline Dice      Background Dice       aAcc        TPR        TNR        FDR  Precision\n",
            "global               26.86      34.95      46.03                69.89                 0.00      56.32     100.00       0.00      40.80      59.20\n",
            "\n",
            "2022-07-20 14:33:23,501 - mmseg - INFO - Iter(val) [5400]\tmIoU: 0.2686, mDice: 0.3495, mAcc: 0.4603, plDice: 69.8903, bgDice: 0.0000, aAcc: 0.5632, TPR: 1.0000, TNR: 0.0000, FDR: 0.4080, Precision: 0.5920\n",
            "2022-07-20 14:33:33,500 - mmseg - INFO - Iter [5450/20000]\tlr: 7.760e-04, eta: 0:38:52, time: 0.242, data_time: 0.045, memory: 1552, decode.loss_seg: 0.7081, decode.acc_seg: 48.0798, loss: 0.7081\n",
            "2022-07-20 14:33:43,333 - mmseg - INFO - Iter [5500/20000]\tlr: 7.739e-04, eta: 0:38:49, time: 0.197, data_time: 0.003, memory: 1552, decode.loss_seg: 0.7075, decode.acc_seg: 52.2818, loss: 0.7075\n",
            "2022-07-20 14:33:53,138 - mmseg - INFO - Iter [5550/20000]\tlr: 7.718e-04, eta: 0:38:45, time: 0.196, data_time: 0.003, memory: 1552, decode.loss_seg: 0.7094, decode.acc_seg: 50.3596, loss: 0.7094\n",
            "2022-07-20 14:34:03,050 - mmseg - INFO - Saving checkpoint at 5600 iterations\n"
          ]
        },
        {
          "output_type": "stream",
          "name": "stdout",
          "text": [
            "[>>>>>>>>>>>>>>>>>>>>>>>>>>>>>>>>>>>] 3/3, 4.9 task/s, elapsed: 1s, ETA:     0s"
          ]
        },
        {
          "output_type": "stream",
          "name": "stderr",
          "text": [
            "2022-07-20 14:34:07,025 - mmseg - INFO - per class results:\n",
            "Class                  IoU       Dice        Acc\n",
            "background           38.82      55.93     100.00\n",
            "powerline             0.00       0.00       0.00\n",
            "Summary:\n",
            "Scope                 mIoU      mDice       mAcc       Powerline Dice      Background Dice       aAcc        TPR        TNR        FDR  Precision\n",
            "global               19.41      27.96      50.00                 0.00                55.93      38.82       0.00     100.00       0.00       0.00\n",
            "\n",
            "2022-07-20 14:34:07,028 - mmseg - INFO - Iter(val) [5600]\tmIoU: 0.1941, mDice: 0.2796, mAcc: 0.5000, plDice: 0.0000, bgDice: 55.9288, aAcc: 0.3882, TPR: 0.0000, TNR: 1.0000, FDR: 0, Precision: 0\n",
            "2022-07-20 14:34:17,072 - mmseg - INFO - Iter [5650/20000]\tlr: 7.676e-04, eta: 0:38:20, time: 0.253, data_time: 0.055, memory: 1552, decode.loss_seg: 0.7080, decode.acc_seg: 51.0704, loss: 0.7080\n",
            "2022-07-20 14:34:26,929 - mmseg - INFO - Iter [5700/20000]\tlr: 7.655e-04, eta: 0:38:17, time: 0.197, data_time: 0.003, memory: 1552, decode.loss_seg: 0.7088, decode.acc_seg: 52.1977, loss: 0.7088\n",
            "2022-07-20 14:34:36,985 - mmseg - INFO - Iter [5750/20000]\tlr: 7.634e-04, eta: 0:38:14, time: 0.201, data_time: 0.003, memory: 1552, decode.loss_seg: 0.7085, decode.acc_seg: 50.5215, loss: 0.7085\n",
            "2022-07-20 14:34:46,892 - mmseg - INFO - Saving checkpoint at 5800 iterations\n"
          ]
        },
        {
          "output_type": "stream",
          "name": "stdout",
          "text": [
            "[>>>>>>>>>>>>>>>>>>>>>>>>>>>>>>>>>>>] 3/3, 5.0 task/s, elapsed: 1s, ETA:     0s"
          ]
        },
        {
          "output_type": "stream",
          "name": "stderr",
          "text": [
            "2022-07-20 14:34:50,770 - mmseg - INFO - per class results:\n",
            "Class                  IoU       Dice        Acc\n",
            "background           38.82      55.93     100.00\n",
            "powerline             0.00       0.00       0.00\n",
            "Summary:\n",
            "Scope                 mIoU      mDice       mAcc       Powerline Dice      Background Dice       aAcc        TPR        TNR        FDR  Precision\n",
            "global               19.41      27.96      50.00                 0.00                55.93      38.82       0.00     100.00       0.00       0.00\n",
            "\n",
            "2022-07-20 14:34:50,773 - mmseg - INFO - Iter(val) [5800]\tmIoU: 0.1941, mDice: 0.2796, mAcc: 0.5000, plDice: 0.0000, bgDice: 55.9288, aAcc: 0.3882, TPR: 0.0000, TNR: 1.0000, FDR: 0, Precision: 0\n",
            "2022-07-20 14:35:00,681 - mmseg - INFO - Iter [5850/20000]\tlr: 7.592e-04, eta: 0:37:49, time: 0.250, data_time: 0.055, memory: 1552, decode.loss_seg: 0.7096, decode.acc_seg: 45.8209, loss: 0.7096\n",
            "2022-07-20 14:35:10,828 - mmseg - INFO - Iter [5900/20000]\tlr: 7.571e-04, eta: 0:37:46, time: 0.203, data_time: 0.003, memory: 1552, decode.loss_seg: 0.7080, decode.acc_seg: 53.6951, loss: 0.7080\n",
            "2022-07-20 14:35:20,876 - mmseg - INFO - Iter [5950/20000]\tlr: 7.550e-04, eta: 0:37:43, time: 0.201, data_time: 0.003, memory: 1552, decode.loss_seg: 0.7080, decode.acc_seg: 53.1543, loss: 0.7080\n",
            "2022-07-20 14:35:30,574 - mmseg - INFO - Saving checkpoint at 6000 iterations\n"
          ]
        },
        {
          "output_type": "stream",
          "name": "stdout",
          "text": [
            "[>>>>>>>>>>>>>>>>>>>>>>>>>>>>>>>>>>>] 3/3, 4.9 task/s, elapsed: 1s, ETA:     0s"
          ]
        },
        {
          "output_type": "stream",
          "name": "stderr",
          "text": [
            "2022-07-20 14:35:34,865 - mmseg - INFO - per class results:\n",
            "Class                  IoU       Dice        Acc\n",
            "background           38.82      55.93     100.00\n",
            "powerline             0.00       0.00       0.00\n",
            "Summary:\n",
            "Scope                 mIoU      mDice       mAcc       Powerline Dice      Background Dice       aAcc        TPR        TNR        FDR  Precision\n",
            "global               19.41      27.96      50.00                 0.00                55.93      38.82       0.00     100.00       0.00       0.00\n",
            "\n",
            "2022-07-20 14:35:34,868 - mmseg - INFO - Exp name: fcn_vanilla_unet_s5-d16_256x256_40k_hrf.py\n",
            "2022-07-20 14:35:34,870 - mmseg - INFO - Iter(val) [6000]\tmIoU: 0.1941, mDice: 0.2796, mAcc: 0.5000, plDice: 0.0000, bgDice: 55.9288, aAcc: 0.3882, TPR: 0.0000, TNR: 1.0000, FDR: 0, Precision: 0\n",
            "2022-07-20 14:35:44,915 - mmseg - INFO - Iter [6050/20000]\tlr: 7.508e-04, eta: 0:37:19, time: 0.252, data_time: 0.054, memory: 1552, decode.loss_seg: 0.7087, decode.acc_seg: 52.2995, loss: 0.7087\n",
            "2022-07-20 14:35:54,821 - mmseg - INFO - Iter [6100/20000]\tlr: 7.487e-04, eta: 0:37:15, time: 0.198, data_time: 0.003, memory: 1552, decode.loss_seg: 0.7088, decode.acc_seg: 52.5702, loss: 0.7088\n",
            "2022-07-20 14:36:04,608 - mmseg - INFO - Iter [6150/20000]\tlr: 7.466e-04, eta: 0:37:11, time: 0.195, data_time: 0.003, memory: 1552, decode.loss_seg: 0.7088, decode.acc_seg: 52.4625, loss: 0.7088\n",
            "2022-07-20 14:36:14,663 - mmseg - INFO - Saving checkpoint at 6200 iterations\n"
          ]
        },
        {
          "output_type": "stream",
          "name": "stdout",
          "text": [
            "[>>>>>>>>>>>>>>>>>>>>>>>>>>>>>>>>>>>] 3/3, 4.9 task/s, elapsed: 1s, ETA:     0s"
          ]
        },
        {
          "output_type": "stream",
          "name": "stderr",
          "text": [
            "2022-07-20 14:36:18,556 - mmseg - INFO - per class results:\n",
            "Class                  IoU       Dice        Acc\n",
            "background           38.82      55.93     100.00\n",
            "powerline             0.00       0.00       0.00\n",
            "Summary:\n",
            "Scope                 mIoU      mDice       mAcc       Powerline Dice      Background Dice       aAcc        TPR        TNR        FDR  Precision\n",
            "global               19.41      27.96      50.00                 0.00                55.93      38.82       0.00     100.00       0.00       0.00\n",
            "\n",
            "2022-07-20 14:36:18,559 - mmseg - INFO - Iter(val) [6200]\tmIoU: 0.1941, mDice: 0.2796, mAcc: 0.5000, plDice: 0.0000, bgDice: 55.9288, aAcc: 0.3882, TPR: 0.0000, TNR: 1.0000, FDR: 0, Precision: 0\n",
            "2022-07-20 14:36:28,652 - mmseg - INFO - Iter [6250/20000]\tlr: 7.424e-04, eta: 0:36:47, time: 0.253, data_time: 0.054, memory: 1552, decode.loss_seg: 0.7086, decode.acc_seg: 54.0790, loss: 0.7086\n",
            "2022-07-20 14:36:38,484 - mmseg - INFO - Iter [6300/20000]\tlr: 7.403e-04, eta: 0:36:43, time: 0.197, data_time: 0.003, memory: 1552, decode.loss_seg: 0.7089, decode.acc_seg: 54.2130, loss: 0.7089\n",
            "2022-07-20 14:36:48,672 - mmseg - INFO - Iter [6350/20000]\tlr: 7.382e-04, eta: 0:36:40, time: 0.204, data_time: 0.003, memory: 1552, decode.loss_seg: 0.7084, decode.acc_seg: 53.9386, loss: 0.7084\n",
            "2022-07-20 14:36:58,642 - mmseg - INFO - Saving checkpoint at 6400 iterations\n"
          ]
        },
        {
          "output_type": "stream",
          "name": "stdout",
          "text": [
            "[>>>>>>>>>>>>>>>>>>>>>>>>>>>>>>>>>>>] 3/3, 4.4 task/s, elapsed: 1s, ETA:     0s"
          ]
        },
        {
          "output_type": "stream",
          "name": "stderr",
          "text": [
            "2022-07-20 14:37:02,710 - mmseg - INFO - per class results:\n",
            "Class                  IoU       Dice        Acc\n",
            "background           38.82      55.93     100.00\n",
            "powerline             0.00       0.00       0.00\n",
            "Summary:\n",
            "Scope                 mIoU      mDice       mAcc       Powerline Dice      Background Dice       aAcc        TPR        TNR        FDR  Precision\n",
            "global               19.41      27.96      50.00                 0.00                55.93      38.82       0.00     100.00       0.00       0.00\n",
            "\n",
            "2022-07-20 14:37:02,713 - mmseg - INFO - Iter(val) [6400]\tmIoU: 0.1941, mDice: 0.2796, mAcc: 0.5000, plDice: 0.0000, bgDice: 55.9288, aAcc: 0.3882, TPR: 0.0000, TNR: 1.0000, FDR: 0, Precision: 0\n",
            "2022-07-20 14:37:12,658 - mmseg - INFO - Iter [6450/20000]\tlr: 7.340e-04, eta: 0:36:16, time: 0.251, data_time: 0.055, memory: 1552, decode.loss_seg: 0.7086, decode.acc_seg: 53.4475, loss: 0.7086\n",
            "2022-07-20 14:37:22,887 - mmseg - INFO - Iter [6500/20000]\tlr: 7.319e-04, eta: 0:36:12, time: 0.205, data_time: 0.003, memory: 1552, decode.loss_seg: 0.7088, decode.acc_seg: 54.9950, loss: 0.7088\n",
            "2022-07-20 14:37:33,009 - mmseg - INFO - Iter [6550/20000]\tlr: 7.298e-04, eta: 0:36:09, time: 0.202, data_time: 0.003, memory: 1552, decode.loss_seg: 0.7079, decode.acc_seg: 54.2055, loss: 0.7079\n",
            "2022-07-20 14:37:42,842 - mmseg - INFO - Saving checkpoint at 6600 iterations\n"
          ]
        },
        {
          "output_type": "stream",
          "name": "stdout",
          "text": [
            "[>>>>>>>>>>>>>>>>>>>>>>>>>>>>>>>>>>>] 3/3, 5.0 task/s, elapsed: 1s, ETA:     0s"
          ]
        },
        {
          "output_type": "stream",
          "name": "stderr",
          "text": [
            "2022-07-20 14:37:46,679 - mmseg - INFO - per class results:\n",
            "Class                  IoU       Dice        Acc\n",
            "background           38.82      55.93     100.00\n",
            "powerline             0.00       0.00       0.00\n",
            "Summary:\n",
            "Scope                 mIoU      mDice       mAcc       Powerline Dice      Background Dice       aAcc        TPR        TNR        FDR  Precision\n",
            "global               19.41      27.96      50.00                 0.00                55.93      38.82       0.00     100.00       0.00       0.00\n",
            "\n",
            "2022-07-20 14:37:46,682 - mmseg - INFO - Iter(val) [6600]\tmIoU: 0.1941, mDice: 0.2796, mAcc: 0.5000, plDice: 0.0000, bgDice: 55.9288, aAcc: 0.3882, TPR: 0.0000, TNR: 1.0000, FDR: 0, Precision: 0\n",
            "2022-07-20 14:37:56,985 - mmseg - INFO - Iter [6650/20000]\tlr: 7.256e-04, eta: 0:35:46, time: 0.257, data_time: 0.053, memory: 1552, decode.loss_seg: 0.7080, decode.acc_seg: 49.8125, loss: 0.7080\n",
            "2022-07-20 14:38:06,995 - mmseg - INFO - Iter [6700/20000]\tlr: 7.235e-04, eta: 0:35:42, time: 0.200, data_time: 0.003, memory: 1552, decode.loss_seg: 0.7076, decode.acc_seg: 53.1640, loss: 0.7076\n",
            "2022-07-20 14:38:16,850 - mmseg - INFO - Iter [6750/20000]\tlr: 7.214e-04, eta: 0:35:37, time: 0.197, data_time: 0.003, memory: 1552, decode.loss_seg: 0.7084, decode.acc_seg: 53.5999, loss: 0.7084\n",
            "2022-07-20 14:38:26,975 - mmseg - INFO - Saving checkpoint at 6800 iterations\n"
          ]
        },
        {
          "output_type": "stream",
          "name": "stdout",
          "text": [
            "[>>>>>>>>>>>>>>>>>>>>>>>>>>>>>>>>>>>] 3/3, 4.9 task/s, elapsed: 1s, ETA:     0s"
          ]
        },
        {
          "output_type": "stream",
          "name": "stderr",
          "text": [
            "2022-07-20 14:38:30,342 - mmseg - INFO - per class results:\n",
            "Class                  IoU       Dice        Acc\n",
            "background            0.00       0.00       0.00\n",
            "powerline            53.72      69.89      92.06\n",
            "Summary:\n",
            "Scope                 mIoU      mDice       mAcc       Powerline Dice      Background Dice       aAcc        TPR        TNR        FDR  Precision\n",
            "global               26.86      34.95      46.03                69.89                 0.00      56.32     100.00       0.00      40.80      59.20\n",
            "\n",
            "2022-07-20 14:38:30,345 - mmseg - INFO - Iter(val) [6800]\tmIoU: 0.2686, mDice: 0.3495, mAcc: 0.4603, plDice: 69.8903, bgDice: 0.0000, aAcc: 0.5632, TPR: 1.0000, TNR: 0.0000, FDR: 0.4080, Precision: 0.5920\n",
            "2022-07-20 14:38:40,337 - mmseg - INFO - Iter [6850/20000]\tlr: 7.171e-04, eta: 0:35:13, time: 0.242, data_time: 0.045, memory: 1552, decode.loss_seg: 0.7078, decode.acc_seg: 53.3045, loss: 0.7078\n",
            "2022-07-20 14:38:50,255 - mmseg - INFO - Iter [6900/20000]\tlr: 7.150e-04, eta: 0:35:09, time: 0.198, data_time: 0.002, memory: 1552, decode.loss_seg: 0.7093, decode.acc_seg: 53.1248, loss: 0.7093\n",
            "2022-07-20 14:39:00,390 - mmseg - INFO - Iter [6950/20000]\tlr: 7.129e-04, eta: 0:35:05, time: 0.203, data_time: 0.003, memory: 1552, decode.loss_seg: 0.7087, decode.acc_seg: 52.8184, loss: 0.7087\n",
            "2022-07-20 14:39:10,437 - mmseg - INFO - Saving checkpoint at 7000 iterations\n"
          ]
        },
        {
          "output_type": "stream",
          "name": "stdout",
          "text": [
            "[>>>>>>>>>>>>>>>>>>>>>>>>>>>>>>>>>>>] 3/3, 4.7 task/s, elapsed: 1s, ETA:     0s"
          ]
        },
        {
          "output_type": "stream",
          "name": "stderr",
          "text": [
            "2022-07-20 14:39:14,311 - mmseg - INFO - per class results:\n",
            "Class                  IoU       Dice        Acc\n",
            "background           38.82      55.93     100.00\n",
            "powerline             0.00       0.00       0.00\n",
            "Summary:\n",
            "Scope                 mIoU      mDice       mAcc       Powerline Dice      Background Dice       aAcc        TPR        TNR        FDR  Precision\n",
            "global               19.41      27.96      50.00                 0.00                55.93      38.82       0.00     100.00       0.00       0.00\n",
            "\n",
            "2022-07-20 14:39:14,313 - mmseg - INFO - Exp name: fcn_vanilla_unet_s5-d16_256x256_40k_hrf.py\n",
            "2022-07-20 14:39:14,321 - mmseg - INFO - Iter(val) [7000]\tmIoU: 0.1941, mDice: 0.2796, mAcc: 0.5000, plDice: 0.0000, bgDice: 55.9288, aAcc: 0.3882, TPR: 0.0000, TNR: 1.0000, FDR: 0, Precision: 0\n",
            "2022-07-20 14:39:24,460 - mmseg - INFO - Iter [7050/20000]\tlr: 7.087e-04, eta: 0:34:42, time: 0.255, data_time: 0.055, memory: 1552, decode.loss_seg: 0.7094, decode.acc_seg: 53.3305, loss: 0.7094\n",
            "2022-07-20 14:39:34,678 - mmseg - INFO - Iter [7100/20000]\tlr: 7.066e-04, eta: 0:34:38, time: 0.204, data_time: 0.003, memory: 1552, decode.loss_seg: 0.7084, decode.acc_seg: 52.9831, loss: 0.7084\n",
            "2022-07-20 14:39:44,850 - mmseg - INFO - Iter [7150/20000]\tlr: 7.044e-04, eta: 0:34:34, time: 0.204, data_time: 0.003, memory: 1552, decode.loss_seg: 0.7089, decode.acc_seg: 53.4557, loss: 0.7089\n",
            "2022-07-20 14:39:54,697 - mmseg - INFO - Saving checkpoint at 7200 iterations\n"
          ]
        },
        {
          "output_type": "stream",
          "name": "stdout",
          "text": [
            "[>>>>>>>>>>>>>>>>>>>>>>>>>>>>>>>>>>>] 3/3, 4.8 task/s, elapsed: 1s, ETA:     0s"
          ]
        },
        {
          "output_type": "stream",
          "name": "stderr",
          "text": [
            "2022-07-20 14:39:58,500 - mmseg - INFO - per class results:\n",
            "Class                  IoU       Dice        Acc\n",
            "background           38.82      55.93     100.00\n",
            "powerline             0.00       0.00       0.00\n",
            "Summary:\n",
            "Scope                 mIoU      mDice       mAcc       Powerline Dice      Background Dice       aAcc        TPR        TNR        FDR  Precision\n",
            "global               19.41      27.96      50.00                 0.00                55.93      38.82       0.00     100.00       0.00       0.00\n",
            "\n",
            "2022-07-20 14:39:58,502 - mmseg - INFO - Iter(val) [7200]\tmIoU: 0.1941, mDice: 0.2796, mAcc: 0.5000, plDice: 0.0000, bgDice: 55.9288, aAcc: 0.3882, TPR: 0.0000, TNR: 1.0000, FDR: 0, Precision: 0\n",
            "2022-07-20 14:40:08,826 - mmseg - INFO - Iter [7250/20000]\tlr: 7.002e-04, eta: 0:34:12, time: 0.257, data_time: 0.054, memory: 1552, decode.loss_seg: 0.7084, decode.acc_seg: 53.8548, loss: 0.7084\n",
            "2022-07-20 14:40:19,027 - mmseg - INFO - Iter [7300/20000]\tlr: 6.981e-04, eta: 0:34:08, time: 0.204, data_time: 0.003, memory: 1552, decode.loss_seg: 0.7083, decode.acc_seg: 52.1900, loss: 0.7083\n",
            "2022-07-20 14:40:29,000 - mmseg - INFO - Iter [7350/20000]\tlr: 6.960e-04, eta: 0:34:03, time: 0.199, data_time: 0.003, memory: 1552, decode.loss_seg: 0.7080, decode.acc_seg: 48.7348, loss: 0.7080\n",
            "2022-07-20 14:40:39,218 - mmseg - INFO - Saving checkpoint at 7400 iterations\n"
          ]
        },
        {
          "output_type": "stream",
          "name": "stdout",
          "text": [
            "[>>>>>>>>>>>>>>>>>>>>>>>>>>>>>>>>>>>] 3/3, 4.6 task/s, elapsed: 1s, ETA:     0s"
          ]
        },
        {
          "output_type": "stream",
          "name": "stderr",
          "text": [
            "2022-07-20 14:40:43,046 - mmseg - INFO - per class results:\n",
            "Class                  IoU       Dice        Acc\n",
            "background           38.82      55.93     100.00\n",
            "powerline             0.00       0.00       0.00\n",
            "Summary:\n",
            "Scope                 mIoU      mDice       mAcc       Powerline Dice      Background Dice       aAcc        TPR        TNR        FDR  Precision\n",
            "global               19.41      27.96      50.00                 0.00                55.93      38.82       0.00     100.00       0.00       0.00\n",
            "\n",
            "2022-07-20 14:40:43,048 - mmseg - INFO - Iter(val) [7400]\tmIoU: 0.1941, mDice: 0.2796, mAcc: 0.5000, plDice: 0.0000, bgDice: 55.9288, aAcc: 0.3882, TPR: 0.0000, TNR: 1.0000, FDR: 0, Precision: 0\n",
            "2022-07-20 14:40:53,359 - mmseg - INFO - Iter [7450/20000]\tlr: 6.917e-04, eta: 0:33:41, time: 0.257, data_time: 0.054, memory: 1552, decode.loss_seg: 0.7086, decode.acc_seg: 48.3445, loss: 0.7086\n",
            "2022-07-20 14:41:03,654 - mmseg - INFO - Iter [7500/20000]\tlr: 6.896e-04, eta: 0:33:37, time: 0.206, data_time: 0.003, memory: 1552, decode.loss_seg: 0.7081, decode.acc_seg: 53.3606, loss: 0.7081\n",
            "2022-07-20 14:41:14,065 - mmseg - INFO - Iter [7550/20000]\tlr: 6.875e-04, eta: 0:33:33, time: 0.208, data_time: 0.003, memory: 1552, decode.loss_seg: 0.7095, decode.acc_seg: 54.1223, loss: 0.7095\n",
            "2022-07-20 14:41:24,307 - mmseg - INFO - Saving checkpoint at 7600 iterations\n"
          ]
        },
        {
          "output_type": "stream",
          "name": "stdout",
          "text": [
            "[>>>>>>>>>>>>>>>>>>>>>>>>>>>>>>>>>>>] 3/3, 4.8 task/s, elapsed: 1s, ETA:     0s"
          ]
        },
        {
          "output_type": "stream",
          "name": "stderr",
          "text": [
            "2022-07-20 14:41:28,138 - mmseg - INFO - per class results:\n",
            "Class                  IoU       Dice        Acc\n",
            "background           38.82      55.93     100.00\n",
            "powerline             0.00       0.00       0.00\n",
            "Summary:\n",
            "Scope                 mIoU      mDice       mAcc       Powerline Dice      Background Dice       aAcc        TPR        TNR        FDR  Precision\n",
            "global               19.41      27.96      50.00                 0.00                55.93      38.82       0.00     100.00       0.00       0.00\n",
            "\n",
            "2022-07-20 14:41:28,141 - mmseg - INFO - Iter(val) [7600]\tmIoU: 0.1941, mDice: 0.2796, mAcc: 0.5000, plDice: 0.0000, bgDice: 55.9288, aAcc: 0.3882, TPR: 0.0000, TNR: 1.0000, FDR: 0, Precision: 0\n",
            "2022-07-20 14:41:38,294 - mmseg - INFO - Iter [7650/20000]\tlr: 6.832e-04, eta: 0:33:11, time: 0.254, data_time: 0.054, memory: 1552, decode.loss_seg: 0.7098, decode.acc_seg: 53.5729, loss: 0.7098\n",
            "2022-07-20 14:41:48,733 - mmseg - INFO - Iter [7700/20000]\tlr: 6.811e-04, eta: 0:33:07, time: 0.209, data_time: 0.003, memory: 1552, decode.loss_seg: 0.7086, decode.acc_seg: 51.9632, loss: 0.7086\n",
            "2022-07-20 14:41:59,060 - mmseg - INFO - Iter [7750/20000]\tlr: 6.790e-04, eta: 0:33:02, time: 0.207, data_time: 0.003, memory: 1552, decode.loss_seg: 0.7081, decode.acc_seg: 51.5965, loss: 0.7081\n",
            "2022-07-20 14:42:09,091 - mmseg - INFO - Saving checkpoint at 7800 iterations\n"
          ]
        },
        {
          "output_type": "stream",
          "name": "stdout",
          "text": [
            "[>>>>>>>>>>>>>>>>>>>>>>>>>>>>>>>>>>>] 3/3, 4.8 task/s, elapsed: 1s, ETA:     0s"
          ]
        },
        {
          "output_type": "stream",
          "name": "stderr",
          "text": [
            "2022-07-20 14:42:13,047 - mmseg - INFO - per class results:\n",
            "Class                  IoU       Dice        Acc\n",
            "background           38.82      55.93     100.00\n",
            "powerline             0.00       0.00       0.00\n",
            "Summary:\n",
            "Scope                 mIoU      mDice       mAcc       Powerline Dice      Background Dice       aAcc        TPR        TNR        FDR  Precision\n",
            "global               19.41      27.96      50.00                 0.00                55.93      38.82       0.00     100.00       0.00       0.00\n",
            "\n",
            "2022-07-20 14:42:13,053 - mmseg - INFO - Iter(val) [7800]\tmIoU: 0.1941, mDice: 0.2796, mAcc: 0.5000, plDice: 0.0000, bgDice: 55.9288, aAcc: 0.3882, TPR: 0.0000, TNR: 1.0000, FDR: 0, Precision: 0\n",
            "2022-07-20 14:42:23,579 - mmseg - INFO - Iter [7850/20000]\tlr: 6.747e-04, eta: 0:32:41, time: 0.263, data_time: 0.055, memory: 1552, decode.loss_seg: 0.7079, decode.acc_seg: 50.2373, loss: 0.7079\n",
            "2022-07-20 14:42:34,004 - mmseg - INFO - Iter [7900/20000]\tlr: 6.726e-04, eta: 0:32:37, time: 0.209, data_time: 0.003, memory: 1552, decode.loss_seg: 0.7091, decode.acc_seg: 52.3716, loss: 0.7091\n",
            "2022-07-20 14:42:44,199 - mmseg - INFO - Iter [7950/20000]\tlr: 6.705e-04, eta: 0:32:32, time: 0.204, data_time: 0.003, memory: 1552, decode.loss_seg: 0.7087, decode.acc_seg: 50.4755, loss: 0.7087\n",
            "2022-07-20 14:42:54,527 - mmseg - INFO - Saving checkpoint at 8000 iterations\n"
          ]
        },
        {
          "output_type": "stream",
          "name": "stdout",
          "text": [
            "[>>>>>>>>>>>>>>>>>>>>>>>>>>>>>>>>>>>] 3/3, 4.7 task/s, elapsed: 1s, ETA:     0s"
          ]
        },
        {
          "output_type": "stream",
          "name": "stderr",
          "text": [
            "2022-07-20 14:42:58,400 - mmseg - INFO - per class results:\n",
            "Class                  IoU       Dice        Acc\n",
            "background           38.82      55.93     100.00\n",
            "powerline             0.00       0.00       0.00\n",
            "Summary:\n",
            "Scope                 mIoU      mDice       mAcc       Powerline Dice      Background Dice       aAcc        TPR        TNR        FDR  Precision\n",
            "global               19.41      27.96      50.00                 0.00                55.93      38.82       0.00     100.00       0.00       0.00\n",
            "\n",
            "2022-07-20 14:42:58,403 - mmseg - INFO - Exp name: fcn_vanilla_unet_s5-d16_256x256_40k_hrf.py\n",
            "2022-07-20 14:42:58,408 - mmseg - INFO - Iter(val) [8000]\tmIoU: 0.1941, mDice: 0.2796, mAcc: 0.5000, plDice: 0.0000, bgDice: 55.9288, aAcc: 0.3882, TPR: 0.0000, TNR: 1.0000, FDR: 0, Precision: 0\n",
            "2022-07-20 14:43:08,911 - mmseg - INFO - Iter [8050/20000]\tlr: 6.662e-04, eta: 0:32:11, time: 0.261, data_time: 0.054, memory: 1552, decode.loss_seg: 0.7086, decode.acc_seg: 53.6829, loss: 0.7086\n",
            "2022-07-20 14:43:19,144 - mmseg - INFO - Iter [8100/20000]\tlr: 6.641e-04, eta: 0:32:06, time: 0.205, data_time: 0.003, memory: 1552, decode.loss_seg: 0.7076, decode.acc_seg: 51.6501, loss: 0.7076\n",
            "2022-07-20 14:43:29,670 - mmseg - INFO - Iter [8150/20000]\tlr: 6.619e-04, eta: 0:32:02, time: 0.211, data_time: 0.003, memory: 1552, decode.loss_seg: 0.7083, decode.acc_seg: 53.1046, loss: 0.7083\n",
            "2022-07-20 14:43:40,030 - mmseg - INFO - Saving checkpoint at 8200 iterations\n"
          ]
        },
        {
          "output_type": "stream",
          "name": "stdout",
          "text": [
            "[>>>>>>>>>>>>>>>>>>>>>>>>>>>>>>>>>>>] 3/3, 4.6 task/s, elapsed: 1s, ETA:     0s"
          ]
        },
        {
          "output_type": "stream",
          "name": "stderr",
          "text": [
            "2022-07-20 14:43:43,893 - mmseg - INFO - per class results:\n",
            "Class                  IoU       Dice        Acc\n",
            "background           38.82      55.93     100.00\n",
            "powerline             0.00       0.00       0.00\n",
            "Summary:\n",
            "Scope                 mIoU      mDice       mAcc       Powerline Dice      Background Dice       aAcc        TPR        TNR        FDR  Precision\n",
            "global               19.41      27.96      50.00                 0.00                55.93      38.82       0.00     100.00       0.00       0.00\n",
            "\n",
            "2022-07-20 14:43:43,896 - mmseg - INFO - Iter(val) [8200]\tmIoU: 0.1941, mDice: 0.2796, mAcc: 0.5000, plDice: 0.0000, bgDice: 55.9288, aAcc: 0.3882, TPR: 0.0000, TNR: 1.0000, FDR: 0, Precision: 0\n",
            "2022-07-20 14:43:54,232 - mmseg - INFO - Iter [8250/20000]\tlr: 6.577e-04, eta: 0:31:41, time: 0.258, data_time: 0.055, memory: 1552, decode.loss_seg: 0.7088, decode.acc_seg: 52.8853, loss: 0.7088\n",
            "2022-07-20 14:44:04,745 - mmseg - INFO - Iter [8300/20000]\tlr: 6.555e-04, eta: 0:31:36, time: 0.210, data_time: 0.003, memory: 1552, decode.loss_seg: 0.7092, decode.acc_seg: 49.0466, loss: 0.7092\n",
            "2022-07-20 14:44:15,190 - mmseg - INFO - Iter [8350/20000]\tlr: 6.534e-04, eta: 0:31:31, time: 0.209, data_time: 0.003, memory: 1552, decode.loss_seg: 0.7096, decode.acc_seg: 53.9663, loss: 0.7096\n",
            "2022-07-20 14:44:25,374 - mmseg - INFO - Saving checkpoint at 8400 iterations\n"
          ]
        },
        {
          "output_type": "stream",
          "name": "stdout",
          "text": [
            "[>>>>>>>>>>>>>>>>>>>>>>>>>>>>>>>>>>>] 3/3, 4.6 task/s, elapsed: 1s, ETA:     0s"
          ]
        },
        {
          "output_type": "stream",
          "name": "stderr",
          "text": [
            "2022-07-20 14:44:29,570 - mmseg - INFO - per class results:\n",
            "Class                  IoU       Dice        Acc\n",
            "background           38.82      55.93     100.00\n",
            "powerline             0.00       0.00       0.00\n",
            "Summary:\n",
            "Scope                 mIoU      mDice       mAcc       Powerline Dice      Background Dice       aAcc        TPR        TNR        FDR  Precision\n",
            "global               19.41      27.96      50.00                 0.00                55.93      38.82       0.00     100.00       0.00       0.00\n",
            "\n",
            "2022-07-20 14:44:29,575 - mmseg - INFO - Iter(val) [8400]\tmIoU: 0.1941, mDice: 0.2796, mAcc: 0.5000, plDice: 0.0000, bgDice: 55.9288, aAcc: 0.3882, TPR: 0.0000, TNR: 1.0000, FDR: 0, Precision: 0\n",
            "2022-07-20 14:44:40,230 - mmseg - INFO - Iter [8450/20000]\tlr: 6.491e-04, eta: 0:31:11, time: 0.264, data_time: 0.054, memory: 1552, decode.loss_seg: 0.7084, decode.acc_seg: 52.9172, loss: 0.7084\n",
            "2022-07-20 14:44:50,737 - mmseg - INFO - Iter [8500/20000]\tlr: 6.470e-04, eta: 0:31:06, time: 0.210, data_time: 0.003, memory: 1552, decode.loss_seg: 0.7088, decode.acc_seg: 49.2036, loss: 0.7088\n",
            "2022-07-20 14:45:00,904 - mmseg - INFO - Iter [8550/20000]\tlr: 6.448e-04, eta: 0:31:01, time: 0.203, data_time: 0.003, memory: 1552, decode.loss_seg: 0.7081, decode.acc_seg: 50.9851, loss: 0.7081\n",
            "2022-07-20 14:45:11,387 - mmseg - INFO - Saving checkpoint at 8600 iterations\n"
          ]
        },
        {
          "output_type": "stream",
          "name": "stdout",
          "text": [
            "[>>>>>>>>>>>>>>>>>>>>>>>>>>>>>>>>>>>] 3/3, 4.8 task/s, elapsed: 1s, ETA:     0s"
          ]
        },
        {
          "output_type": "stream",
          "name": "stderr",
          "text": [
            "2022-07-20 14:45:15,283 - mmseg - INFO - per class results:\n",
            "Class                  IoU       Dice        Acc\n",
            "background           38.82      55.93     100.00\n",
            "powerline             0.00       0.00       0.00\n",
            "Summary:\n",
            "Scope                 mIoU      mDice       mAcc       Powerline Dice      Background Dice       aAcc        TPR        TNR        FDR  Precision\n",
            "global               19.41      27.96      50.00                 0.00                55.93      38.82       0.00     100.00       0.00       0.00\n",
            "\n",
            "2022-07-20 14:45:15,289 - mmseg - INFO - Iter(val) [8600]\tmIoU: 0.1941, mDice: 0.2796, mAcc: 0.5000, plDice: 0.0000, bgDice: 55.9288, aAcc: 0.3882, TPR: 0.0000, TNR: 1.0000, FDR: 0, Precision: 0\n",
            "2022-07-20 14:45:25,844 - mmseg - INFO - Iter [8650/20000]\tlr: 6.406e-04, eta: 0:30:40, time: 0.263, data_time: 0.055, memory: 1552, decode.loss_seg: 0.7080, decode.acc_seg: 51.6469, loss: 0.7080\n",
            "2022-07-20 14:45:36,065 - mmseg - INFO - Iter [8700/20000]\tlr: 6.384e-04, eta: 0:30:35, time: 0.204, data_time: 0.003, memory: 1552, decode.loss_seg: 0.7088, decode.acc_seg: 53.8437, loss: 0.7088\n",
            "2022-07-20 14:45:46,687 - mmseg - INFO - Iter [8750/20000]\tlr: 6.363e-04, eta: 0:30:30, time: 0.212, data_time: 0.003, memory: 1552, decode.loss_seg: 0.7100, decode.acc_seg: 53.2681, loss: 0.7100\n",
            "2022-07-20 14:45:57,171 - mmseg - INFO - Saving checkpoint at 8800 iterations\n"
          ]
        },
        {
          "output_type": "stream",
          "name": "stdout",
          "text": [
            "[>>>>>>>>>>>>>>>>>>>>>>>>>>>>>>>>>>>] 3/3, 4.6 task/s, elapsed: 1s, ETA:     0s"
          ]
        },
        {
          "output_type": "stream",
          "name": "stderr",
          "text": [
            "2022-07-20 14:46:01,067 - mmseg - INFO - per class results:\n",
            "Class                  IoU       Dice        Acc\n",
            "background           38.82      55.93     100.00\n",
            "powerline             0.00       0.00       0.00\n",
            "Summary:\n",
            "Scope                 mIoU      mDice       mAcc       Powerline Dice      Background Dice       aAcc        TPR        TNR        FDR  Precision\n",
            "global               19.41      27.96      50.00                 0.00                55.93      38.82       0.00     100.00       0.00       0.00\n",
            "\n",
            "2022-07-20 14:46:01,069 - mmseg - INFO - Iter(val) [8800]\tmIoU: 0.1941, mDice: 0.2796, mAcc: 0.5000, plDice: 0.0000, bgDice: 55.9288, aAcc: 0.3882, TPR: 0.0000, TNR: 1.0000, FDR: 0, Precision: 0\n",
            "2022-07-20 14:46:11,426 - mmseg - INFO - Iter [8850/20000]\tlr: 6.320e-04, eta: 0:30:10, time: 0.258, data_time: 0.054, memory: 1552, decode.loss_seg: 0.7079, decode.acc_seg: 52.4613, loss: 0.7079\n",
            "2022-07-20 14:46:21,930 - mmseg - INFO - Iter [8900/20000]\tlr: 6.298e-04, eta: 0:30:04, time: 0.210, data_time: 0.003, memory: 1552, decode.loss_seg: 0.7084, decode.acc_seg: 51.2997, loss: 0.7084\n",
            "2022-07-20 14:46:32,418 - mmseg - INFO - Iter [8950/20000]\tlr: 6.277e-04, eta: 0:29:59, time: 0.210, data_time: 0.003, memory: 1552, decode.loss_seg: 0.7090, decode.acc_seg: 52.1776, loss: 0.7090\n",
            "2022-07-20 14:46:42,718 - mmseg - INFO - Saving checkpoint at 9000 iterations\n"
          ]
        },
        {
          "output_type": "stream",
          "name": "stdout",
          "text": [
            "[>>>>>>>>>>>>>>>>>>>>>>>>>>>>>>>>>>>] 3/3, 4.8 task/s, elapsed: 1s, ETA:     0s"
          ]
        },
        {
          "output_type": "stream",
          "name": "stderr",
          "text": [
            "2022-07-20 14:46:46,671 - mmseg - INFO - per class results:\n",
            "Class                  IoU       Dice        Acc\n",
            "background           38.82      55.93     100.00\n",
            "powerline             0.00       0.00       0.00\n",
            "Summary:\n",
            "Scope                 mIoU      mDice       mAcc       Powerline Dice      Background Dice       aAcc        TPR        TNR        FDR  Precision\n",
            "global               19.41      27.96      50.00                 0.00                55.93      38.82       0.00     100.00       0.00       0.00\n",
            "\n",
            "2022-07-20 14:46:46,674 - mmseg - INFO - Exp name: fcn_vanilla_unet_s5-d16_256x256_40k_hrf.py\n",
            "2022-07-20 14:46:46,680 - mmseg - INFO - Iter(val) [9000]\tmIoU: 0.1941, mDice: 0.2796, mAcc: 0.5000, plDice: 0.0000, bgDice: 55.9288, aAcc: 0.3882, TPR: 0.0000, TNR: 1.0000, FDR: 0, Precision: 0\n",
            "2022-07-20 14:46:57,317 - mmseg - INFO - Iter [9050/20000]\tlr: 6.234e-04, eta: 0:29:39, time: 0.266, data_time: 0.056, memory: 1552, decode.loss_seg: 0.7085, decode.acc_seg: 49.0421, loss: 0.7085\n",
            "2022-07-20 14:47:07,903 - mmseg - INFO - Iter [9100/20000]\tlr: 6.212e-04, eta: 0:29:34, time: 0.212, data_time: 0.003, memory: 1552, decode.loss_seg: 0.7103, decode.acc_seg: 49.7548, loss: 0.7103\n",
            "2022-07-20 14:47:18,347 - mmseg - INFO - Iter [9150/20000]\tlr: 6.191e-04, eta: 0:29:29, time: 0.209, data_time: 0.003, memory: 1552, decode.loss_seg: 0.7089, decode.acc_seg: 47.0727, loss: 0.7089\n",
            "2022-07-20 14:47:29,005 - mmseg - INFO - Saving checkpoint at 9200 iterations\n"
          ]
        },
        {
          "output_type": "stream",
          "name": "stdout",
          "text": [
            "[>>>>>>>>>>>>>>>>>>>>>>>>>>>>>>>>>>>] 3/3, 4.6 task/s, elapsed: 1s, ETA:     0s"
          ]
        },
        {
          "output_type": "stream",
          "name": "stderr",
          "text": [
            "2022-07-20 14:47:32,870 - mmseg - INFO - per class results:\n",
            "Class                  IoU       Dice        Acc\n",
            "background           38.82      55.93     100.00\n",
            "powerline             0.00       0.00       0.00\n",
            "Summary:\n",
            "Scope                 mIoU      mDice       mAcc       Powerline Dice      Background Dice       aAcc        TPR        TNR        FDR  Precision\n",
            "global               19.41      27.96      50.00                 0.00                55.93      38.82       0.00     100.00       0.00       0.00\n",
            "\n",
            "2022-07-20 14:47:32,873 - mmseg - INFO - Iter(val) [9200]\tmIoU: 0.1941, mDice: 0.2796, mAcc: 0.5000, plDice: 0.0000, bgDice: 55.9288, aAcc: 0.3882, TPR: 0.0000, TNR: 1.0000, FDR: 0, Precision: 0\n",
            "2022-07-20 14:47:43,409 - mmseg - INFO - Iter [9250/20000]\tlr: 6.148e-04, eta: 0:29:09, time: 0.262, data_time: 0.054, memory: 1552, decode.loss_seg: 0.7085, decode.acc_seg: 55.6503, loss: 0.7085\n",
            "2022-07-20 14:47:53,849 - mmseg - INFO - Iter [9300/20000]\tlr: 6.126e-04, eta: 0:29:03, time: 0.209, data_time: 0.003, memory: 1552, decode.loss_seg: 0.7093, decode.acc_seg: 50.6367, loss: 0.7093\n",
            "2022-07-20 14:48:04,559 - mmseg - INFO - Iter [9350/20000]\tlr: 6.105e-04, eta: 0:28:58, time: 0.214, data_time: 0.003, memory: 1552, decode.loss_seg: 0.7092, decode.acc_seg: 50.2640, loss: 0.7092\n",
            "2022-07-20 14:48:15,154 - mmseg - INFO - Saving checkpoint at 9400 iterations\n"
          ]
        },
        {
          "output_type": "stream",
          "name": "stdout",
          "text": [
            "[>>>>>>>>>>>>>>>>>>>>>>>>>>>>>>>>>>>] 3/3, 4.7 task/s, elapsed: 1s, ETA:     0s"
          ]
        },
        {
          "output_type": "stream",
          "name": "stderr",
          "text": [
            "2022-07-20 14:48:18,556 - mmseg - INFO - per class results:\n",
            "Class                  IoU       Dice        Acc\n",
            "background            0.00       0.00       0.00\n",
            "powerline            53.72      69.89      92.06\n",
            "Summary:\n",
            "Scope                 mIoU      mDice       mAcc       Powerline Dice      Background Dice       aAcc        TPR        TNR        FDR  Precision\n",
            "global               26.86      34.95      46.03                69.89                 0.00      56.32     100.00       0.00      40.80      59.20\n",
            "\n",
            "2022-07-20 14:48:18,559 - mmseg - INFO - Iter(val) [9400]\tmIoU: 0.2686, mDice: 0.3495, mAcc: 0.4603, plDice: 69.8903, bgDice: 0.0000, aAcc: 0.5632, TPR: 1.0000, TNR: 0.0000, FDR: 0.4080, Precision: 0.5920\n",
            "2022-07-20 14:48:28,904 - mmseg - INFO - Iter [9450/20000]\tlr: 6.062e-04, eta: 0:28:37, time: 0.249, data_time: 0.045, memory: 1552, decode.loss_seg: 0.7086, decode.acc_seg: 50.6938, loss: 0.7086\n",
            "2022-07-20 14:48:39,646 - mmseg - INFO - Iter [9500/20000]\tlr: 6.040e-04, eta: 0:28:32, time: 0.215, data_time: 0.003, memory: 1552, decode.loss_seg: 0.7091, decode.acc_seg: 50.5416, loss: 0.7091\n",
            "2022-07-20 14:48:50,259 - mmseg - INFO - Iter [9550/20000]\tlr: 6.018e-04, eta: 0:28:27, time: 0.213, data_time: 0.003, memory: 1552, decode.loss_seg: 0.7087, decode.acc_seg: 53.0879, loss: 0.7087\n",
            "2022-07-20 14:49:00,640 - mmseg - INFO - Saving checkpoint at 9600 iterations\n"
          ]
        },
        {
          "output_type": "stream",
          "name": "stdout",
          "text": [
            "[>>>>>>>>>>>>>>>>>>>>>>>>>>>>>>>>>>>] 3/3, 4.0 task/s, elapsed: 1s, ETA:     0s"
          ]
        },
        {
          "output_type": "stream",
          "name": "stderr",
          "text": [
            "2022-07-20 14:49:04,633 - mmseg - INFO - per class results:\n",
            "Class                  IoU       Dice        Acc\n",
            "background           38.82      55.93     100.00\n",
            "powerline             0.00       0.00       0.00\n",
            "Summary:\n",
            "Scope                 mIoU      mDice       mAcc       Powerline Dice      Background Dice       aAcc        TPR        TNR        FDR  Precision\n",
            "global               19.41      27.96      50.00                 0.00                55.93      38.82       0.00     100.00       0.00       0.00\n",
            "\n",
            "2022-07-20 14:49:04,636 - mmseg - INFO - Iter(val) [9600]\tmIoU: 0.1941, mDice: 0.2796, mAcc: 0.5000, plDice: 0.0000, bgDice: 55.9288, aAcc: 0.3882, TPR: 0.0000, TNR: 1.0000, FDR: 0, Precision: 0\n",
            "2022-07-20 14:49:15,439 - mmseg - INFO - Iter [9650/20000]\tlr: 5.975e-04, eta: 0:28:07, time: 0.269, data_time: 0.056, memory: 1552, decode.loss_seg: 0.7088, decode.acc_seg: 50.3511, loss: 0.7088\n",
            "2022-07-20 14:49:26,164 - mmseg - INFO - Iter [9700/20000]\tlr: 5.953e-04, eta: 0:28:02, time: 0.215, data_time: 0.003, memory: 1552, decode.loss_seg: 0.7081, decode.acc_seg: 49.6585, loss: 0.7081\n",
            "2022-07-20 14:49:36,585 - mmseg - INFO - Iter [9750/20000]\tlr: 5.932e-04, eta: 0:27:56, time: 0.208, data_time: 0.003, memory: 1552, decode.loss_seg: 0.7084, decode.acc_seg: 49.4384, loss: 0.7084\n",
            "2022-07-20 14:49:47,312 - mmseg - INFO - Saving checkpoint at 9800 iterations\n"
          ]
        },
        {
          "output_type": "stream",
          "name": "stdout",
          "text": [
            "[>>>>>>>>>>>>>>>>>>>>>>>>>>>>>>>>>>>] 3/3, 4.6 task/s, elapsed: 1s, ETA:     0s"
          ]
        },
        {
          "output_type": "stream",
          "name": "stderr",
          "text": [
            "2022-07-20 14:49:51,139 - mmseg - INFO - per class results:\n",
            "Class                  IoU       Dice        Acc\n",
            "background           38.82      55.93     100.00\n",
            "powerline             0.00       0.00       0.00\n",
            "Summary:\n",
            "Scope                 mIoU      mDice       mAcc       Powerline Dice      Background Dice       aAcc        TPR        TNR        FDR  Precision\n",
            "global               19.41      27.96      50.00                 0.00                55.93      38.82       0.00     100.00       0.00       0.00\n",
            "\n",
            "2022-07-20 14:49:51,143 - mmseg - INFO - Iter(val) [9800]\tmIoU: 0.1941, mDice: 0.2796, mAcc: 0.5000, plDice: 0.0000, bgDice: 55.9288, aAcc: 0.3882, TPR: 0.0000, TNR: 1.0000, FDR: 0, Precision: 0\n",
            "2022-07-20 14:50:01,947 - mmseg - INFO - Iter [9850/20000]\tlr: 5.888e-04, eta: 0:27:37, time: 0.267, data_time: 0.054, memory: 1552, decode.loss_seg: 0.7087, decode.acc_seg: 52.9772, loss: 0.7087\n",
            "2022-07-20 14:50:12,438 - mmseg - INFO - Iter [9900/20000]\tlr: 5.867e-04, eta: 0:27:31, time: 0.210, data_time: 0.003, memory: 1552, decode.loss_seg: 0.7091, decode.acc_seg: 53.3536, loss: 0.7091\n",
            "2022-07-20 14:50:23,298 - mmseg - INFO - Iter [9950/20000]\tlr: 5.845e-04, eta: 0:27:25, time: 0.217, data_time: 0.003, memory: 1552, decode.loss_seg: 0.7090, decode.acc_seg: 49.4476, loss: 0.7090\n",
            "2022-07-20 14:50:34,049 - mmseg - INFO - Saving checkpoint at 10000 iterations\n"
          ]
        },
        {
          "output_type": "stream",
          "name": "stdout",
          "text": [
            "[>>>>>>>>>>>>>>>>>>>>>>>>>>>>>>>>>>>] 3/3, 4.5 task/s, elapsed: 1s, ETA:     0s"
          ]
        },
        {
          "output_type": "stream",
          "name": "stderr",
          "text": [
            "2022-07-20 14:50:37,985 - mmseg - INFO - per class results:\n",
            "Class                  IoU       Dice        Acc\n",
            "background           38.82      55.93     100.00\n",
            "powerline             0.00       0.00       0.00\n",
            "Summary:\n",
            "Scope                 mIoU      mDice       mAcc       Powerline Dice      Background Dice       aAcc        TPR        TNR        FDR  Precision\n",
            "global               19.41      27.96      50.00                 0.00                55.93      38.82       0.00     100.00       0.00       0.00\n",
            "\n",
            "2022-07-20 14:50:37,987 - mmseg - INFO - Exp name: fcn_vanilla_unet_s5-d16_256x256_40k_hrf.py\n",
            "2022-07-20 14:50:37,993 - mmseg - INFO - Iter(val) [10000]\tmIoU: 0.1941, mDice: 0.2796, mAcc: 0.5000, plDice: 0.0000, bgDice: 55.9288, aAcc: 0.3882, TPR: 0.0000, TNR: 1.0000, FDR: 0, Precision: 0\n",
            "2022-07-20 14:50:48,601 - mmseg - INFO - Iter [10050/20000]\tlr: 5.802e-04, eta: 0:27:06, time: 0.266, data_time: 0.056, memory: 1552, decode.loss_seg: 0.7084, decode.acc_seg: 52.6739, loss: 0.7084\n",
            "2022-07-20 14:50:59,449 - mmseg - INFO - Iter [10100/20000]\tlr: 5.780e-04, eta: 0:27:00, time: 0.217, data_time: 0.003, memory: 1552, decode.loss_seg: 0.7085, decode.acc_seg: 50.9992, loss: 0.7085\n",
            "2022-07-20 14:51:10,263 - mmseg - INFO - Iter [10150/20000]\tlr: 5.758e-04, eta: 0:26:55, time: 0.217, data_time: 0.003, memory: 1552, decode.loss_seg: 0.7094, decode.acc_seg: 52.6706, loss: 0.7094\n",
            "2022-07-20 14:51:20,753 - mmseg - INFO - Saving checkpoint at 10200 iterations\n"
          ]
        },
        {
          "output_type": "stream",
          "name": "stdout",
          "text": [
            "[>>>>>>>>>>>>>>>>>>>>>>>>>>>>>>>>>>>] 3/3, 4.7 task/s, elapsed: 1s, ETA:     0s"
          ]
        },
        {
          "output_type": "stream",
          "name": "stderr",
          "text": [
            "2022-07-20 14:51:24,568 - mmseg - INFO - per class results:\n",
            "Class                  IoU       Dice        Acc\n",
            "background           38.82      55.93     100.00\n",
            "powerline             0.00       0.00       0.00\n",
            "Summary:\n",
            "Scope                 mIoU      mDice       mAcc       Powerline Dice      Background Dice       aAcc        TPR        TNR        FDR  Precision\n",
            "global               19.41      27.96      50.00                 0.00                55.93      38.82       0.00     100.00       0.00       0.00\n",
            "\n",
            "2022-07-20 14:51:24,570 - mmseg - INFO - Iter(val) [10200]\tmIoU: 0.1941, mDice: 0.2796, mAcc: 0.5000, plDice: 0.0000, bgDice: 55.9288, aAcc: 0.3882, TPR: 0.0000, TNR: 1.0000, FDR: 0, Precision: 0\n",
            "2022-07-20 14:51:35,479 - mmseg - INFO - Iter [10250/20000]\tlr: 5.715e-04, eta: 0:26:35, time: 0.269, data_time: 0.054, memory: 1552, decode.loss_seg: 0.7100, decode.acc_seg: 50.9419, loss: 0.7100\n",
            "2022-07-20 14:51:46,434 - mmseg - INFO - Iter [10300/20000]\tlr: 5.693e-04, eta: 0:26:30, time: 0.219, data_time: 0.003, memory: 1552, decode.loss_seg: 0.7089, decode.acc_seg: 50.4997, loss: 0.7089\n",
            "2022-07-20 14:51:56,901 - mmseg - INFO - Iter [10350/20000]\tlr: 5.671e-04, eta: 0:26:24, time: 0.209, data_time: 0.003, memory: 1552, decode.loss_seg: 0.7092, decode.acc_seg: 50.9480, loss: 0.7092\n",
            "2022-07-20 14:52:07,640 - mmseg - INFO - Saving checkpoint at 10400 iterations\n"
          ]
        },
        {
          "output_type": "stream",
          "name": "stdout",
          "text": [
            "[>>>>>>>>>>>>>>>>>>>>>>>>>>>>>>>>>>>] 3/3, 4.4 task/s, elapsed: 1s, ETA:     0s"
          ]
        },
        {
          "output_type": "stream",
          "name": "stderr",
          "text": [
            "2022-07-20 14:52:11,482 - mmseg - INFO - per class results:\n",
            "Class                  IoU       Dice        Acc\n",
            "background           38.82      55.93     100.00\n",
            "powerline             0.00       0.00       0.00\n",
            "Summary:\n",
            "Scope                 mIoU      mDice       mAcc       Powerline Dice      Background Dice       aAcc        TPR        TNR        FDR  Precision\n",
            "global               19.41      27.96      50.00                 0.00                55.93      38.82       0.00     100.00       0.00       0.00\n",
            "\n",
            "2022-07-20 14:52:11,487 - mmseg - INFO - Iter(val) [10400]\tmIoU: 0.1941, mDice: 0.2796, mAcc: 0.5000, plDice: 0.0000, bgDice: 55.9288, aAcc: 0.3882, TPR: 0.0000, TNR: 1.0000, FDR: 0, Precision: 0\n",
            "2022-07-20 14:52:22,417 - mmseg - INFO - Iter [10450/20000]\tlr: 5.628e-04, eta: 0:26:05, time: 0.270, data_time: 0.054, memory: 1552, decode.loss_seg: 0.7085, decode.acc_seg: 50.7196, loss: 0.7085\n",
            "2022-07-20 14:52:33,119 - mmseg - INFO - Iter [10500/20000]\tlr: 5.606e-04, eta: 0:25:59, time: 0.214, data_time: 0.003, memory: 1552, decode.loss_seg: 0.7090, decode.acc_seg: 52.3959, loss: 0.7090\n",
            "2022-07-20 14:52:44,025 - mmseg - INFO - Iter [10550/20000]\tlr: 5.584e-04, eta: 0:25:53, time: 0.218, data_time: 0.003, memory: 1552, decode.loss_seg: 0.7088, decode.acc_seg: 52.5525, loss: 0.7088\n",
            "2022-07-20 14:52:54,678 - mmseg - INFO - Saving checkpoint at 10600 iterations\n"
          ]
        },
        {
          "output_type": "stream",
          "name": "stdout",
          "text": [
            "[>>>>>>>>>>>>>>>>>>>>>>>>>>>>>>>>>>>] 3/3, 4.6 task/s, elapsed: 1s, ETA:     0s"
          ]
        },
        {
          "output_type": "stream",
          "name": "stderr",
          "text": [
            "2022-07-20 14:52:58,559 - mmseg - INFO - per class results:\n",
            "Class                  IoU       Dice        Acc\n",
            "background           38.82      55.93     100.00\n",
            "powerline             0.00       0.00       0.00\n",
            "Summary:\n",
            "Scope                 mIoU      mDice       mAcc       Powerline Dice      Background Dice       aAcc        TPR        TNR        FDR  Precision\n",
            "global               19.41      27.96      50.00                 0.00                55.93      38.82       0.00     100.00       0.00       0.00\n",
            "\n",
            "2022-07-20 14:52:58,562 - mmseg - INFO - Iter(val) [10600]\tmIoU: 0.1941, mDice: 0.2796, mAcc: 0.5000, plDice: 0.0000, bgDice: 55.9288, aAcc: 0.3882, TPR: 0.0000, TNR: 1.0000, FDR: 0, Precision: 0\n",
            "2022-07-20 14:53:09,284 - mmseg - INFO - Iter [10650/20000]\tlr: 5.540e-04, eta: 0:25:34, time: 0.266, data_time: 0.055, memory: 1552, decode.loss_seg: 0.7096, decode.acc_seg: 51.2832, loss: 0.7096\n",
            "2022-07-20 14:53:20,163 - mmseg - INFO - Iter [10700/20000]\tlr: 5.518e-04, eta: 0:25:28, time: 0.218, data_time: 0.003, memory: 1552, decode.loss_seg: 0.7085, decode.acc_seg: 52.0242, loss: 0.7085\n",
            "2022-07-20 14:53:31,127 - mmseg - INFO - Iter [10750/20000]\tlr: 5.497e-04, eta: 0:25:22, time: 0.219, data_time: 0.003, memory: 1552, decode.loss_seg: 0.7082, decode.acc_seg: 53.2511, loss: 0.7082\n",
            "2022-07-20 14:53:41,850 - mmseg - INFO - Saving checkpoint at 10800 iterations\n"
          ]
        },
        {
          "output_type": "stream",
          "name": "stdout",
          "text": [
            "[>>>>>>>>>>>>>>>>>>>>>>>>>>>>>>>>>>>] 3/3, 4.5 task/s, elapsed: 1s, ETA:     0s"
          ]
        },
        {
          "output_type": "stream",
          "name": "stderr",
          "text": [
            "2022-07-20 14:53:45,701 - mmseg - INFO - per class results:\n",
            "Class                  IoU       Dice        Acc\n",
            "background           38.82      55.93     100.00\n",
            "powerline             0.00       0.00       0.00\n",
            "Summary:\n",
            "Scope                 mIoU      mDice       mAcc       Powerline Dice      Background Dice       aAcc        TPR        TNR        FDR  Precision\n",
            "global               19.41      27.96      50.00                 0.00                55.93      38.82       0.00     100.00       0.00       0.00\n",
            "\n",
            "2022-07-20 14:53:45,703 - mmseg - INFO - Iter(val) [10800]\tmIoU: 0.1941, mDice: 0.2796, mAcc: 0.5000, plDice: 0.0000, bgDice: 55.9288, aAcc: 0.3882, TPR: 0.0000, TNR: 1.0000, FDR: 0, Precision: 0\n",
            "2022-07-20 14:53:56,965 - mmseg - INFO - Iter [10850/20000]\tlr: 5.453e-04, eta: 0:25:03, time: 0.277, data_time: 0.055, memory: 1552, decode.loss_seg: 0.7091, decode.acc_seg: 49.7249, loss: 0.7091\n",
            "2022-07-20 14:54:08,115 - mmseg - INFO - Iter [10900/20000]\tlr: 5.431e-04, eta: 0:24:58, time: 0.223, data_time: 0.003, memory: 1552, decode.loss_seg: 0.7082, decode.acc_seg: 51.6123, loss: 0.7082\n",
            "2022-07-20 14:54:18,955 - mmseg - INFO - Iter [10950/20000]\tlr: 5.409e-04, eta: 0:24:52, time: 0.217, data_time: 0.003, memory: 1552, decode.loss_seg: 0.7089, decode.acc_seg: 51.7030, loss: 0.7089\n",
            "2022-07-20 14:54:30,065 - mmseg - INFO - Saving checkpoint at 11000 iterations\n"
          ]
        },
        {
          "output_type": "stream",
          "name": "stdout",
          "text": [
            "[>>>>>>>>>>>>>>>>>>>>>>>>>>>>>>>>>>>] 3/3, 4.6 task/s, elapsed: 1s, ETA:     0s"
          ]
        },
        {
          "output_type": "stream",
          "name": "stderr",
          "text": [
            "2022-07-20 14:54:34,052 - mmseg - INFO - per class results:\n",
            "Class                  IoU       Dice        Acc\n",
            "background           38.82      55.93     100.00\n",
            "powerline             0.00       0.00       0.00\n",
            "Summary:\n",
            "Scope                 mIoU      mDice       mAcc       Powerline Dice      Background Dice       aAcc        TPR        TNR        FDR  Precision\n",
            "global               19.41      27.96      50.00                 0.00                55.93      38.82       0.00     100.00       0.00       0.00\n",
            "\n",
            "2022-07-20 14:54:34,054 - mmseg - INFO - Exp name: fcn_vanilla_unet_s5-d16_256x256_40k_hrf.py\n",
            "2022-07-20 14:54:34,060 - mmseg - INFO - Iter(val) [11000]\tmIoU: 0.1941, mDice: 0.2796, mAcc: 0.5000, plDice: 0.0000, bgDice: 55.9288, aAcc: 0.3882, TPR: 0.0000, TNR: 1.0000, FDR: 0, Precision: 0\n",
            "2022-07-20 14:54:45,188 - mmseg - INFO - Iter [11050/20000]\tlr: 5.365e-04, eta: 0:24:33, time: 0.277, data_time: 0.057, memory: 1552, decode.loss_seg: 0.7089, decode.acc_seg: 51.9500, loss: 0.7089\n",
            "2022-07-20 14:54:56,040 - mmseg - INFO - Iter [11100/20000]\tlr: 5.343e-04, eta: 0:24:27, time: 0.217, data_time: 0.003, memory: 1552, decode.loss_seg: 0.7082, decode.acc_seg: 53.5565, loss: 0.7082\n",
            "2022-07-20 14:55:07,278 - mmseg - INFO - Iter [11150/20000]\tlr: 5.321e-04, eta: 0:24:21, time: 0.225, data_time: 0.003, memory: 1552, decode.loss_seg: 0.7092, decode.acc_seg: 52.0491, loss: 0.7092\n",
            "2022-07-20 14:55:18,299 - mmseg - INFO - Saving checkpoint at 11200 iterations\n"
          ]
        },
        {
          "output_type": "stream",
          "name": "stdout",
          "text": [
            "[>>>>>>>>>>>>>>>>>>>>>>>>>>>>>>>>>>>] 3/3, 3.7 task/s, elapsed: 1s, ETA:     0s"
          ]
        },
        {
          "output_type": "stream",
          "name": "stderr",
          "text": [
            "2022-07-20 14:55:22,318 - mmseg - INFO - per class results:\n",
            "Class                  IoU       Dice        Acc\n",
            "background           38.82      55.93     100.00\n",
            "powerline             0.00       0.00       0.00\n",
            "Summary:\n",
            "Scope                 mIoU      mDice       mAcc       Powerline Dice      Background Dice       aAcc        TPR        TNR        FDR  Precision\n",
            "global               19.41      27.96      50.00                 0.00                55.93      38.82       0.00     100.00       0.00       0.00\n",
            "\n",
            "2022-07-20 14:55:22,321 - mmseg - INFO - Iter(val) [11200]\tmIoU: 0.1941, mDice: 0.2796, mAcc: 0.5000, plDice: 0.0000, bgDice: 55.9288, aAcc: 0.3882, TPR: 0.0000, TNR: 1.0000, FDR: 0, Precision: 0\n",
            "2022-07-20 14:55:33,331 - mmseg - INFO - Iter [11250/20000]\tlr: 5.277e-04, eta: 0:24:02, time: 0.275, data_time: 0.058, memory: 1552, decode.loss_seg: 0.7092, decode.acc_seg: 52.1019, loss: 0.7092\n",
            "2022-07-20 14:55:44,696 - mmseg - INFO - Iter [11300/20000]\tlr: 5.255e-04, eta: 0:23:56, time: 0.227, data_time: 0.003, memory: 1552, decode.loss_seg: 0.7088, decode.acc_seg: 50.8839, loss: 0.7088\n",
            "2022-07-20 14:55:55,887 - mmseg - INFO - Iter [11350/20000]\tlr: 5.233e-04, eta: 0:23:50, time: 0.224, data_time: 0.003, memory: 1552, decode.loss_seg: 0.7084, decode.acc_seg: 51.2937, loss: 0.7084\n",
            "2022-07-20 14:56:06,869 - mmseg - INFO - Saving checkpoint at 11400 iterations\n"
          ]
        },
        {
          "output_type": "stream",
          "name": "stdout",
          "text": [
            "[>>>>>>>>>>>>>>>>>>>>>>>>>>>>>>>>>>>] 3/3, 4.8 task/s, elapsed: 1s, ETA:     0s"
          ]
        },
        {
          "output_type": "stream",
          "name": "stderr",
          "text": [
            "2022-07-20 14:56:10,758 - mmseg - INFO - per class results:\n",
            "Class                  IoU       Dice        Acc\n",
            "background           38.82      55.93     100.00\n",
            "powerline             0.00       0.00       0.00\n",
            "Summary:\n",
            "Scope                 mIoU      mDice       mAcc       Powerline Dice      Background Dice       aAcc        TPR        TNR        FDR  Precision\n",
            "global               19.41      27.96      50.00                 0.00                55.93      38.82       0.00     100.00       0.00       0.00\n",
            "\n",
            "2022-07-20 14:56:10,760 - mmseg - INFO - Iter(val) [11400]\tmIoU: 0.1941, mDice: 0.2796, mAcc: 0.5000, plDice: 0.0000, bgDice: 55.9288, aAcc: 0.3882, TPR: 0.0000, TNR: 1.0000, FDR: 0, Precision: 0\n",
            "2022-07-20 14:56:22,170 - mmseg - INFO - Iter [11450/20000]\tlr: 5.189e-04, eta: 0:23:32, time: 0.280, data_time: 0.054, memory: 1552, decode.loss_seg: 0.7090, decode.acc_seg: 50.9225, loss: 0.7090\n",
            "2022-07-20 14:56:33,372 - mmseg - INFO - Iter [11500/20000]\tlr: 5.167e-04, eta: 0:23:26, time: 0.224, data_time: 0.003, memory: 1552, decode.loss_seg: 0.7077, decode.acc_seg: 50.4010, loss: 0.7077\n",
            "2022-07-20 14:56:44,506 - mmseg - INFO - Iter [11550/20000]\tlr: 5.145e-04, eta: 0:23:20, time: 0.223, data_time: 0.003, memory: 1552, decode.loss_seg: 0.7088, decode.acc_seg: 54.1592, loss: 0.7088\n",
            "2022-07-20 14:56:55,746 - mmseg - INFO - Saving checkpoint at 11600 iterations\n"
          ]
        },
        {
          "output_type": "stream",
          "name": "stdout",
          "text": [
            "[>>>>>>>>>>>>>>>>>>>>>>>>>>>>>>>>>>>] 3/3, 4.4 task/s, elapsed: 1s, ETA:     0s"
          ]
        },
        {
          "output_type": "stream",
          "name": "stderr",
          "text": [
            "2022-07-20 14:56:59,632 - mmseg - INFO - per class results:\n",
            "Class                  IoU       Dice        Acc\n",
            "background           38.82      55.93     100.00\n",
            "powerline             0.00       0.00       0.00\n",
            "Summary:\n",
            "Scope                 mIoU      mDice       mAcc       Powerline Dice      Background Dice       aAcc        TPR        TNR        FDR  Precision\n",
            "global               19.41      27.96      50.00                 0.00                55.93      38.82       0.00     100.00       0.00       0.00\n",
            "\n",
            "2022-07-20 14:56:59,636 - mmseg - INFO - Iter(val) [11600]\tmIoU: 0.1941, mDice: 0.2796, mAcc: 0.5000, plDice: 0.0000, bgDice: 55.9288, aAcc: 0.3882, TPR: 0.0000, TNR: 1.0000, FDR: 0, Precision: 0\n",
            "2022-07-20 14:57:11,012 - mmseg - INFO - Iter [11650/20000]\tlr: 5.101e-04, eta: 0:23:01, time: 0.280, data_time: 0.055, memory: 1552, decode.loss_seg: 0.7095, decode.acc_seg: 53.2817, loss: 0.7095\n",
            "2022-07-20 14:57:22,055 - mmseg - INFO - Iter [11700/20000]\tlr: 5.079e-04, eta: 0:22:55, time: 0.221, data_time: 0.003, memory: 1552, decode.loss_seg: 0.7085, decode.acc_seg: 53.0799, loss: 0.7085\n",
            "2022-07-20 14:57:33,387 - mmseg - INFO - Iter [11750/20000]\tlr: 5.057e-04, eta: 0:22:49, time: 0.227, data_time: 0.003, memory: 1552, decode.loss_seg: 0.7092, decode.acc_seg: 50.5192, loss: 0.7092\n",
            "2022-07-20 14:57:44,792 - mmseg - INFO - Saving checkpoint at 11800 iterations\n"
          ]
        },
        {
          "output_type": "stream",
          "name": "stdout",
          "text": [
            "[>>>>>>>>>>>>>>>>>>>>>>>>>>>>>>>>>>>] 3/3, 4.7 task/s, elapsed: 1s, ETA:     0s"
          ]
        },
        {
          "output_type": "stream",
          "name": "stderr",
          "text": [
            "2022-07-20 14:57:48,600 - mmseg - INFO - per class results:\n",
            "Class                  IoU       Dice        Acc\n",
            "background           38.82      55.93     100.00\n",
            "powerline             0.00       0.00       0.00\n",
            "Summary:\n",
            "Scope                 mIoU      mDice       mAcc       Powerline Dice      Background Dice       aAcc        TPR        TNR        FDR  Precision\n",
            "global               19.41      27.96      50.00                 0.00                55.93      38.82       0.00     100.00       0.00       0.00\n",
            "\n",
            "2022-07-20 14:57:48,604 - mmseg - INFO - Iter(val) [11800]\tmIoU: 0.1941, mDice: 0.2796, mAcc: 0.5000, plDice: 0.0000, bgDice: 55.9288, aAcc: 0.3882, TPR: 0.0000, TNR: 1.0000, FDR: 0, Precision: 0\n",
            "2022-07-20 14:57:59,745 - mmseg - INFO - Iter [11850/20000]\tlr: 5.012e-04, eta: 0:22:30, time: 0.273, data_time: 0.053, memory: 1552, decode.loss_seg: 0.7096, decode.acc_seg: 50.5294, loss: 0.7096\n",
            "2022-07-20 14:58:11,194 - mmseg - INFO - Iter [11900/20000]\tlr: 4.990e-04, eta: 0:22:24, time: 0.229, data_time: 0.003, memory: 1552, decode.loss_seg: 0.7084, decode.acc_seg: 53.1690, loss: 0.7084\n",
            "2022-07-20 14:58:22,669 - mmseg - INFO - Iter [11950/20000]\tlr: 4.968e-04, eta: 0:22:18, time: 0.230, data_time: 0.003, memory: 1552, decode.loss_seg: 0.7076, decode.acc_seg: 50.6231, loss: 0.7076\n",
            "2022-07-20 14:58:33,672 - mmseg - INFO - Saving checkpoint at 12000 iterations\n"
          ]
        },
        {
          "output_type": "stream",
          "name": "stdout",
          "text": [
            "[>>>>>>>>>>>>>>>>>>>>>>>>>>>>>>>>>>>] 3/3, 4.5 task/s, elapsed: 1s, ETA:     0s"
          ]
        },
        {
          "output_type": "stream",
          "name": "stderr",
          "text": [
            "2022-07-20 14:58:37,582 - mmseg - INFO - per class results:\n",
            "Class                  IoU       Dice        Acc\n",
            "background           38.82      55.93     100.00\n",
            "powerline             0.00       0.00       0.00\n",
            "Summary:\n",
            "Scope                 mIoU      mDice       mAcc       Powerline Dice      Background Dice       aAcc        TPR        TNR        FDR  Precision\n",
            "global               19.41      27.96      50.00                 0.00                55.93      38.82       0.00     100.00       0.00       0.00\n",
            "\n",
            "2022-07-20 14:58:37,585 - mmseg - INFO - Exp name: fcn_vanilla_unet_s5-d16_256x256_40k_hrf.py\n",
            "2022-07-20 14:58:37,589 - mmseg - INFO - Iter(val) [12000]\tmIoU: 0.1941, mDice: 0.2796, mAcc: 0.5000, plDice: 0.0000, bgDice: 55.9288, aAcc: 0.3882, TPR: 0.0000, TNR: 1.0000, FDR: 0, Precision: 0\n",
            "2022-07-20 14:58:49,184 - mmseg - INFO - Iter [12050/20000]\tlr: 4.924e-04, eta: 0:22:00, time: 0.285, data_time: 0.056, memory: 1552, decode.loss_seg: 0.7081, decode.acc_seg: 48.7336, loss: 0.7081\n",
            "2022-07-20 14:59:00,632 - mmseg - INFO - Iter [12100/20000]\tlr: 4.901e-04, eta: 0:21:53, time: 0.229, data_time: 0.003, memory: 1552, decode.loss_seg: 0.7085, decode.acc_seg: 50.4763, loss: 0.7085\n",
            "2022-07-20 14:59:11,842 - mmseg - INFO - Iter [12150/20000]\tlr: 4.879e-04, eta: 0:21:47, time: 0.224, data_time: 0.003, memory: 1552, decode.loss_seg: 0.7080, decode.acc_seg: 50.0837, loss: 0.7080\n",
            "2022-07-20 14:59:23,284 - mmseg - INFO - Saving checkpoint at 12200 iterations\n"
          ]
        },
        {
          "output_type": "stream",
          "name": "stdout",
          "text": [
            "[>>>>>>>>>>>>>>>>>>>>>>>>>>>>>>>>>>>] 3/3, 4.5 task/s, elapsed: 1s, ETA:     0s"
          ]
        },
        {
          "output_type": "stream",
          "name": "stderr",
          "text": [
            "2022-07-20 14:59:26,821 - mmseg - INFO - per class results:\n",
            "Class                  IoU       Dice        Acc\n",
            "background            0.00       0.00       0.00\n",
            "powerline            53.72      69.89      92.06\n",
            "Summary:\n",
            "Scope                 mIoU      mDice       mAcc       Powerline Dice      Background Dice       aAcc        TPR        TNR        FDR  Precision\n",
            "global               26.86      34.95      46.03                69.89                 0.00      56.32     100.00       0.00      40.80      59.20\n",
            "\n",
            "2022-07-20 14:59:26,825 - mmseg - INFO - Iter(val) [12200]\tmIoU: 0.2686, mDice: 0.3495, mAcc: 0.4603, plDice: 69.8903, bgDice: 0.0000, aAcc: 0.5632, TPR: 1.0000, TNR: 0.0000, FDR: 0.4080, Precision: 0.5920\n",
            "2022-07-20 14:59:38,313 - mmseg - INFO - Iter [12250/20000]\tlr: 4.835e-04, eta: 0:21:28, time: 0.274, data_time: 0.047, memory: 1552, decode.loss_seg: 0.7086, decode.acc_seg: 52.4977, loss: 0.7086\n",
            "2022-07-20 14:59:49,530 - mmseg - INFO - Iter [12300/20000]\tlr: 4.812e-04, eta: 0:21:22, time: 0.224, data_time: 0.003, memory: 1552, decode.loss_seg: 0.7099, decode.acc_seg: 54.7615, loss: 0.7099\n",
            "2022-07-20 15:00:00,967 - mmseg - INFO - Iter [12350/20000]\tlr: 4.790e-04, eta: 0:21:16, time: 0.229, data_time: 0.003, memory: 1552, decode.loss_seg: 0.7082, decode.acc_seg: 49.8311, loss: 0.7082\n",
            "2022-07-20 15:00:12,469 - mmseg - INFO - Saving checkpoint at 12400 iterations\n"
          ]
        },
        {
          "output_type": "stream",
          "name": "stdout",
          "text": [
            "[>>>>>>>>>>>>>>>>>>>>>>>>>>>>>>>>>>>] 3/3, 4.3 task/s, elapsed: 1s, ETA:     0s"
          ]
        },
        {
          "output_type": "stream",
          "name": "stderr",
          "text": [
            "2022-07-20 15:00:15,985 - mmseg - INFO - per class results:\n",
            "Class                  IoU       Dice        Acc\n",
            "background            0.00       0.00       0.00\n",
            "powerline            53.72      69.89      92.06\n",
            "Summary:\n",
            "Scope                 mIoU      mDice       mAcc       Powerline Dice      Background Dice       aAcc        TPR        TNR        FDR  Precision\n",
            "global               26.86      34.95      46.03                69.89                 0.00      56.32     100.00       0.00      40.80      59.20\n",
            "\n",
            "2022-07-20 15:00:15,990 - mmseg - INFO - Iter(val) [12400]\tmIoU: 0.2686, mDice: 0.3495, mAcc: 0.4603, plDice: 69.8903, bgDice: 0.0000, aAcc: 0.5632, TPR: 1.0000, TNR: 0.0000, FDR: 0.4080, Precision: 0.5920\n",
            "2022-07-20 15:00:27,133 - mmseg - INFO - Iter [12450/20000]\tlr: 4.746e-04, eta: 0:20:57, time: 0.267, data_time: 0.048, memory: 1552, decode.loss_seg: 0.7091, decode.acc_seg: 51.0295, loss: 0.7091\n",
            "2022-07-20 15:00:38,781 - mmseg - INFO - Iter [12500/20000]\tlr: 4.723e-04, eta: 0:20:51, time: 0.233, data_time: 0.003, memory: 1552, decode.loss_seg: 0.7084, decode.acc_seg: 53.4382, loss: 0.7084\n",
            "2022-07-20 15:00:50,440 - mmseg - INFO - Iter [12550/20000]\tlr: 4.701e-04, eta: 0:20:44, time: 0.233, data_time: 0.003, memory: 1552, decode.loss_seg: 0.7078, decode.acc_seg: 51.4460, loss: 0.7078\n",
            "2022-07-20 15:01:01,637 - mmseg - INFO - Saving checkpoint at 12600 iterations\n"
          ]
        },
        {
          "output_type": "stream",
          "name": "stdout",
          "text": [
            "[>>>>>>>>>>>>>>>>>>>>>>>>>>>>>>>>>>>] 3/3, 4.4 task/s, elapsed: 1s, ETA:     0s"
          ]
        },
        {
          "output_type": "stream",
          "name": "stderr",
          "text": [
            "2022-07-20 15:01:05,535 - mmseg - INFO - per class results:\n",
            "Class                  IoU       Dice        Acc\n",
            "background           38.82      55.93     100.00\n",
            "powerline             0.00       0.00       0.00\n",
            "Summary:\n",
            "Scope                 mIoU      mDice       mAcc       Powerline Dice      Background Dice       aAcc        TPR        TNR        FDR  Precision\n",
            "global               19.41      27.96      50.00                 0.00                55.93      38.82       0.00     100.00       0.00       0.00\n",
            "\n",
            "2022-07-20 15:01:05,539 - mmseg - INFO - Iter(val) [12600]\tmIoU: 0.1941, mDice: 0.2796, mAcc: 0.5000, plDice: 0.0000, bgDice: 55.9288, aAcc: 0.3882, TPR: 0.0000, TNR: 1.0000, FDR: 0, Precision: 0\n",
            "2022-07-20 15:01:17,356 - mmseg - INFO - Iter [12650/20000]\tlr: 4.656e-04, eta: 0:20:26, time: 0.289, data_time: 0.055, memory: 1552, decode.loss_seg: 0.7092, decode.acc_seg: 50.6586, loss: 0.7092\n",
            "2022-07-20 15:01:29,025 - mmseg - INFO - Iter [12700/20000]\tlr: 4.634e-04, eta: 0:20:20, time: 0.233, data_time: 0.003, memory: 1552, decode.loss_seg: 0.7096, decode.acc_seg: 53.9447, loss: 0.7096\n",
            "2022-07-20 15:01:40,416 - mmseg - INFO - Iter [12750/20000]\tlr: 4.611e-04, eta: 0:20:13, time: 0.228, data_time: 0.003, memory: 1552, decode.loss_seg: 0.7090, decode.acc_seg: 51.7646, loss: 0.7090\n",
            "2022-07-20 15:01:52,117 - mmseg - INFO - Saving checkpoint at 12800 iterations\n"
          ]
        },
        {
          "output_type": "stream",
          "name": "stdout",
          "text": [
            "[>>>>>>>>>>>>>>>>>>>>>>>>>>>>>>>>>>>] 3/3, 4.3 task/s, elapsed: 1s, ETA:     0s"
          ]
        },
        {
          "output_type": "stream",
          "name": "stderr",
          "text": [
            "2022-07-20 15:01:56,042 - mmseg - INFO - per class results:\n",
            "Class                  IoU       Dice        Acc\n",
            "background           38.82      55.93     100.00\n",
            "powerline             0.00       0.00       0.00\n",
            "Summary:\n",
            "Scope                 mIoU      mDice       mAcc       Powerline Dice      Background Dice       aAcc        TPR        TNR        FDR  Precision\n",
            "global               19.41      27.96      50.00                 0.00                55.93      38.82       0.00     100.00       0.00       0.00\n",
            "\n",
            "2022-07-20 15:01:56,045 - mmseg - INFO - Iter(val) [12800]\tmIoU: 0.1941, mDice: 0.2796, mAcc: 0.5000, plDice: 0.0000, bgDice: 55.9288, aAcc: 0.3882, TPR: 0.0000, TNR: 1.0000, FDR: 0, Precision: 0\n",
            "2022-07-20 15:02:07,782 - mmseg - INFO - Iter [12850/20000]\tlr: 4.567e-04, eta: 0:19:55, time: 0.287, data_time: 0.055, memory: 1552, decode.loss_seg: 0.7083, decode.acc_seg: 50.0282, loss: 0.7083\n",
            "2022-07-20 15:02:19,260 - mmseg - INFO - Iter [12900/20000]\tlr: 4.544e-04, eta: 0:19:48, time: 0.230, data_time: 0.003, memory: 1552, decode.loss_seg: 0.7092, decode.acc_seg: 50.0278, loss: 0.7092\n",
            "2022-07-20 15:02:31,015 - mmseg - INFO - Iter [12950/20000]\tlr: 4.522e-04, eta: 0:19:42, time: 0.235, data_time: 0.003, memory: 1552, decode.loss_seg: 0.7081, decode.acc_seg: 51.4898, loss: 0.7081\n",
            "2022-07-20 15:02:42,679 - mmseg - INFO - Saving checkpoint at 13000 iterations\n"
          ]
        },
        {
          "output_type": "stream",
          "name": "stdout",
          "text": [
            "[>>>>>>>>>>>>>>>>>>>>>>>>>>>>>>>>>>>] 3/3, 4.5 task/s, elapsed: 1s, ETA:     0s"
          ]
        },
        {
          "output_type": "stream",
          "name": "stderr",
          "text": [
            "2022-07-20 15:02:46,641 - mmseg - INFO - per class results:\n",
            "Class                  IoU       Dice        Acc\n",
            "background           38.82      55.93     100.00\n",
            "powerline             0.00       0.00       0.00\n",
            "Summary:\n",
            "Scope                 mIoU      mDice       mAcc       Powerline Dice      Background Dice       aAcc        TPR        TNR        FDR  Precision\n",
            "global               19.41      27.96      50.00                 0.00                55.93      38.82       0.00     100.00       0.00       0.00\n",
            "\n",
            "2022-07-20 15:02:46,647 - mmseg - INFO - Exp name: fcn_vanilla_unet_s5-d16_256x256_40k_hrf.py\n",
            "2022-07-20 15:02:46,651 - mmseg - INFO - Iter(val) [13000]\tmIoU: 0.1941, mDice: 0.2796, mAcc: 0.5000, plDice: 0.0000, bgDice: 55.9288, aAcc: 0.3882, TPR: 0.0000, TNR: 1.0000, FDR: 0, Precision: 0\n",
            "2022-07-20 15:02:58,110 - mmseg - INFO - Iter [13050/20000]\tlr: 4.477e-04, eta: 0:19:24, time: 0.282, data_time: 0.056, memory: 1552, decode.loss_seg: 0.7079, decode.acc_seg: 53.9647, loss: 0.7079\n",
            "2022-07-20 15:03:09,876 - mmseg - INFO - Iter [13100/20000]\tlr: 4.454e-04, eta: 0:19:17, time: 0.235, data_time: 0.003, memory: 1552, decode.loss_seg: 0.7090, decode.acc_seg: 51.8988, loss: 0.7090\n",
            "2022-07-20 15:03:21,539 - mmseg - INFO - Iter [13150/20000]\tlr: 4.432e-04, eta: 0:19:10, time: 0.233, data_time: 0.003, memory: 1552, decode.loss_seg: 0.7086, decode.acc_seg: 50.8205, loss: 0.7086\n",
            "2022-07-20 15:03:32,919 - mmseg - INFO - Saving checkpoint at 13200 iterations\n"
          ]
        },
        {
          "output_type": "stream",
          "name": "stdout",
          "text": [
            "[>>>>>>>>>>>>>>>>>>>>>>>>>>>>>>>>>>>] 3/3, 4.4 task/s, elapsed: 1s, ETA:     0s"
          ]
        },
        {
          "output_type": "stream",
          "name": "stderr",
          "text": [
            "2022-07-20 15:03:36,899 - mmseg - INFO - per class results:\n",
            "Class                  IoU       Dice        Acc\n",
            "background           38.82      55.93     100.00\n",
            "powerline             0.00       0.00       0.00\n",
            "Summary:\n",
            "Scope                 mIoU      mDice       mAcc       Powerline Dice      Background Dice       aAcc        TPR        TNR        FDR  Precision\n",
            "global               19.41      27.96      50.00                 0.00                55.93      38.82       0.00     100.00       0.00       0.00\n",
            "\n",
            "2022-07-20 15:03:36,905 - mmseg - INFO - Iter(val) [13200]\tmIoU: 0.1941, mDice: 0.2796, mAcc: 0.5000, plDice: 0.0000, bgDice: 55.9288, aAcc: 0.3882, TPR: 0.0000, TNR: 1.0000, FDR: 0, Precision: 0\n",
            "2022-07-20 15:03:48,739 - mmseg - INFO - Iter [13250/20000]\tlr: 4.386e-04, eta: 0:18:52, time: 0.290, data_time: 0.056, memory: 1552, decode.loss_seg: 0.7081, decode.acc_seg: 49.9319, loss: 0.7081\n",
            "2022-07-20 15:04:00,395 - mmseg - INFO - Iter [13300/20000]\tlr: 4.364e-04, eta: 0:18:46, time: 0.233, data_time: 0.003, memory: 1552, decode.loss_seg: 0.7078, decode.acc_seg: 53.8535, loss: 0.7078\n",
            "2022-07-20 15:04:11,772 - mmseg - INFO - Iter [13350/20000]\tlr: 4.341e-04, eta: 0:18:39, time: 0.227, data_time: 0.003, memory: 1552, decode.loss_seg: 0.7097, decode.acc_seg: 50.1015, loss: 0.7097\n",
            "2022-07-20 15:04:23,456 - mmseg - INFO - Saving checkpoint at 13400 iterations\n"
          ]
        },
        {
          "output_type": "stream",
          "name": "stdout",
          "text": [
            "[>>>>>>>>>>>>>>>>>>>>>>>>>>>>>>>>>>>] 3/3, 4.3 task/s, elapsed: 1s, ETA:     0s"
          ]
        },
        {
          "output_type": "stream",
          "name": "stderr",
          "text": [
            "2022-07-20 15:04:27,442 - mmseg - INFO - per class results:\n",
            "Class                  IoU       Dice        Acc\n",
            "background           38.82      55.93     100.00\n",
            "powerline             0.00       0.00       0.00\n",
            "Summary:\n",
            "Scope                 mIoU      mDice       mAcc       Powerline Dice      Background Dice       aAcc        TPR        TNR        FDR  Precision\n",
            "global               19.41      27.96      50.00                 0.00                55.93      38.82       0.00     100.00       0.00       0.00\n",
            "\n",
            "2022-07-20 15:04:27,447 - mmseg - INFO - Iter(val) [13400]\tmIoU: 0.1941, mDice: 0.2796, mAcc: 0.5000, plDice: 0.0000, bgDice: 55.9288, aAcc: 0.3882, TPR: 0.0000, TNR: 1.0000, FDR: 0, Precision: 0\n",
            "2022-07-20 15:04:39,244 - mmseg - INFO - Iter [13450/20000]\tlr: 4.296e-04, eta: 0:18:21, time: 0.290, data_time: 0.056, memory: 1552, decode.loss_seg: 0.7091, decode.acc_seg: 52.5388, loss: 0.7091\n",
            "2022-07-20 15:04:50,747 - mmseg - INFO - Iter [13500/20000]\tlr: 4.273e-04, eta: 0:18:14, time: 0.230, data_time: 0.003, memory: 1552, decode.loss_seg: 0.7078, decode.acc_seg: 50.1409, loss: 0.7078\n",
            "2022-07-20 15:05:02,497 - mmseg - INFO - Iter [13550/20000]\tlr: 4.251e-04, eta: 0:18:07, time: 0.235, data_time: 0.003, memory: 1552, decode.loss_seg: 0.7104, decode.acc_seg: 54.5553, loss: 0.7104\n",
            "2022-07-20 15:05:14,225 - mmseg - INFO - Saving checkpoint at 13600 iterations\n"
          ]
        },
        {
          "output_type": "stream",
          "name": "stdout",
          "text": [
            "[>>>>>>>>>>>>>>>>>>>>>>>>>>>>>>>>>>>] 3/3, 4.2 task/s, elapsed: 1s, ETA:     0s"
          ]
        },
        {
          "output_type": "stream",
          "name": "stderr",
          "text": [
            "2022-07-20 15:05:18,227 - mmseg - INFO - per class results:\n",
            "Class                  IoU       Dice        Acc\n",
            "background           38.82      55.93     100.00\n",
            "powerline             0.00       0.00       0.00\n",
            "Summary:\n",
            "Scope                 mIoU      mDice       mAcc       Powerline Dice      Background Dice       aAcc        TPR        TNR        FDR  Precision\n",
            "global               19.41      27.96      50.00                 0.00                55.93      38.82       0.00     100.00       0.00       0.00\n",
            "\n",
            "2022-07-20 15:05:18,233 - mmseg - INFO - Iter(val) [13600]\tmIoU: 0.1941, mDice: 0.2796, mAcc: 0.5000, plDice: 0.0000, bgDice: 55.9288, aAcc: 0.3882, TPR: 0.0000, TNR: 1.0000, FDR: 0, Precision: 0\n",
            "2022-07-20 15:05:29,940 - mmseg - INFO - Iter [13650/20000]\tlr: 4.205e-04, eta: 0:17:49, time: 0.288, data_time: 0.057, memory: 1552, decode.loss_seg: 0.7086, decode.acc_seg: 48.6880, loss: 0.7086\n",
            "2022-07-20 15:05:41,833 - mmseg - INFO - Iter [13700/20000]\tlr: 4.183e-04, eta: 0:17:42, time: 0.238, data_time: 0.003, memory: 1552, decode.loss_seg: 0.7088, decode.acc_seg: 50.8266, loss: 0.7088\n",
            "2022-07-20 15:05:53,641 - mmseg - INFO - Iter [13750/20000]\tlr: 4.160e-04, eta: 0:17:35, time: 0.236, data_time: 0.003, memory: 1552, decode.loss_seg: 0.7087, decode.acc_seg: 49.1940, loss: 0.7087\n",
            "2022-07-20 15:06:05,089 - mmseg - INFO - Saving checkpoint at 13800 iterations\n"
          ]
        },
        {
          "output_type": "stream",
          "name": "stdout",
          "text": [
            "[>>>>>>>>>>>>>>>>>>>>>>>>>>>>>>>>>>>] 3/3, 4.4 task/s, elapsed: 1s, ETA:     0s"
          ]
        },
        {
          "output_type": "stream",
          "name": "stderr",
          "text": [
            "2022-07-20 15:06:08,989 - mmseg - INFO - per class results:\n",
            "Class                  IoU       Dice        Acc\n",
            "background           38.82      55.93     100.00\n",
            "powerline             0.00       0.00       0.00\n",
            "Summary:\n",
            "Scope                 mIoU      mDice       mAcc       Powerline Dice      Background Dice       aAcc        TPR        TNR        FDR  Precision\n",
            "global               19.41      27.96      50.00                 0.00                55.93      38.82       0.00     100.00       0.00       0.00\n",
            "\n",
            "2022-07-20 15:06:08,996 - mmseg - INFO - Iter(val) [13800]\tmIoU: 0.1941, mDice: 0.2796, mAcc: 0.5000, plDice: 0.0000, bgDice: 55.9288, aAcc: 0.3882, TPR: 0.0000, TNR: 1.0000, FDR: 0, Precision: 0\n",
            "2022-07-20 15:06:21,010 - mmseg - INFO - Iter [13850/20000]\tlr: 4.114e-04, eta: 0:17:17, time: 0.292, data_time: 0.054, memory: 1552, decode.loss_seg: 0.7099, decode.acc_seg: 51.8476, loss: 0.7099\n",
            "2022-07-20 15:06:32,829 - mmseg - INFO - Iter [13900/20000]\tlr: 4.092e-04, eta: 0:17:10, time: 0.237, data_time: 0.003, memory: 1552, decode.loss_seg: 0.7092, decode.acc_seg: 50.2997, loss: 0.7092\n",
            "2022-07-20 15:06:44,416 - mmseg - INFO - Iter [13950/20000]\tlr: 4.069e-04, eta: 0:17:03, time: 0.232, data_time: 0.003, memory: 1552, decode.loss_seg: 0.7088, decode.acc_seg: 53.5968, loss: 0.7088\n",
            "2022-07-20 15:06:56,202 - mmseg - INFO - Saving checkpoint at 14000 iterations\n"
          ]
        },
        {
          "output_type": "stream",
          "name": "stdout",
          "text": [
            "[>>>>>>>>>>>>>>>>>>>>>>>>>>>>>>>>>>>] 3/3, 4.2 task/s, elapsed: 1s, ETA:     0s"
          ]
        },
        {
          "output_type": "stream",
          "name": "stderr",
          "text": [
            "2022-07-20 15:07:00,137 - mmseg - INFO - per class results:\n",
            "Class                  IoU       Dice        Acc\n",
            "background           38.82      55.93     100.00\n",
            "powerline             0.00       0.00       0.00\n",
            "Summary:\n",
            "Scope                 mIoU      mDice       mAcc       Powerline Dice      Background Dice       aAcc        TPR        TNR        FDR  Precision\n",
            "global               19.41      27.96      50.00                 0.00                55.93      38.82       0.00     100.00       0.00       0.00\n",
            "\n",
            "2022-07-20 15:07:00,142 - mmseg - INFO - Exp name: fcn_vanilla_unet_s5-d16_256x256_40k_hrf.py\n",
            "2022-07-20 15:07:00,146 - mmseg - INFO - Iter(val) [14000]\tmIoU: 0.1941, mDice: 0.2796, mAcc: 0.5000, plDice: 0.0000, bgDice: 55.9288, aAcc: 0.3882, TPR: 0.0000, TNR: 1.0000, FDR: 0, Precision: 0\n",
            "2022-07-20 15:07:12,001 - mmseg - INFO - Iter [14050/20000]\tlr: 4.023e-04, eta: 0:16:45, time: 0.290, data_time: 0.056, memory: 1552, decode.loss_seg: 0.7095, decode.acc_seg: 51.8727, loss: 0.7095\n",
            "2022-07-20 15:07:23,590 - mmseg - INFO - Iter [14100/20000]\tlr: 4.000e-04, eta: 0:16:38, time: 0.232, data_time: 0.003, memory: 1552, decode.loss_seg: 0.7094, decode.acc_seg: 53.7493, loss: 0.7094\n",
            "2022-07-20 15:07:35,556 - mmseg - INFO - Iter [14150/20000]\tlr: 3.977e-04, eta: 0:16:31, time: 0.239, data_time: 0.003, memory: 1552, decode.loss_seg: 0.7078, decode.acc_seg: 49.8691, loss: 0.7078\n",
            "2022-07-20 15:07:47,451 - mmseg - INFO - Saving checkpoint at 14200 iterations\n"
          ]
        },
        {
          "output_type": "stream",
          "name": "stdout",
          "text": [
            "[>>>>>>>>>>>>>>>>>>>>>>>>>>>>>>>>>>>] 3/3, 4.4 task/s, elapsed: 1s, ETA:     0s"
          ]
        },
        {
          "output_type": "stream",
          "name": "stderr",
          "text": [
            "2022-07-20 15:07:51,373 - mmseg - INFO - per class results:\n",
            "Class                  IoU       Dice        Acc\n",
            "background           38.82      55.93     100.00\n",
            "powerline             0.00       0.00       0.00\n",
            "Summary:\n",
            "Scope                 mIoU      mDice       mAcc       Powerline Dice      Background Dice       aAcc        TPR        TNR        FDR  Precision\n",
            "global               19.41      27.96      50.00                 0.00                55.93      38.82       0.00     100.00       0.00       0.00\n",
            "\n",
            "2022-07-20 15:07:51,380 - mmseg - INFO - Iter(val) [14200]\tmIoU: 0.1941, mDice: 0.2796, mAcc: 0.5000, plDice: 0.0000, bgDice: 55.9288, aAcc: 0.3882, TPR: 0.0000, TNR: 1.0000, FDR: 0, Precision: 0\n",
            "2022-07-20 15:08:03,045 - mmseg - INFO - Iter [14250/20000]\tlr: 3.931e-04, eta: 0:16:13, time: 0.285, data_time: 0.055, memory: 1552, decode.loss_seg: 0.7085, decode.acc_seg: 50.3473, loss: 0.7085\n",
            "2022-07-20 15:08:15,008 - mmseg - INFO - Iter [14300/20000]\tlr: 3.909e-04, eta: 0:16:06, time: 0.239, data_time: 0.003, memory: 1552, decode.loss_seg: 0.7085, decode.acc_seg: 48.1217, loss: 0.7085\n",
            "2022-07-20 15:08:27,004 - mmseg - INFO - Iter [14350/20000]\tlr: 3.886e-04, eta: 0:15:59, time: 0.240, data_time: 0.003, memory: 1552, decode.loss_seg: 0.7098, decode.acc_seg: 53.1370, loss: 0.7098\n",
            "2022-07-20 15:08:38,629 - mmseg - INFO - Saving checkpoint at 14400 iterations\n"
          ]
        },
        {
          "output_type": "stream",
          "name": "stdout",
          "text": [
            "[>>>>>>>>>>>>>>>>>>>>>>>>>>>>>>>>>>>] 3/3, 4.3 task/s, elapsed: 1s, ETA:     0s"
          ]
        },
        {
          "output_type": "stream",
          "name": "stderr",
          "text": [
            "2022-07-20 15:08:42,580 - mmseg - INFO - per class results:\n",
            "Class                  IoU       Dice        Acc\n",
            "background           38.82      55.93     100.00\n",
            "powerline             0.00       0.00       0.00\n",
            "Summary:\n",
            "Scope                 mIoU      mDice       mAcc       Powerline Dice      Background Dice       aAcc        TPR        TNR        FDR  Precision\n",
            "global               19.41      27.96      50.00                 0.00                55.93      38.82       0.00     100.00       0.00       0.00\n",
            "\n",
            "2022-07-20 15:08:42,586 - mmseg - INFO - Iter(val) [14400]\tmIoU: 0.1941, mDice: 0.2796, mAcc: 0.5000, plDice: 0.0000, bgDice: 55.9288, aAcc: 0.3882, TPR: 0.0000, TNR: 1.0000, FDR: 0, Precision: 0\n",
            "2022-07-20 15:08:54,851 - mmseg - INFO - Iter [14450/20000]\tlr: 3.840e-04, eta: 0:15:41, time: 0.298, data_time: 0.055, memory: 1552, decode.loss_seg: 0.7087, decode.acc_seg: 53.3112, loss: 0.7087\n",
            "2022-07-20 15:09:06,739 - mmseg - INFO - Iter [14500/20000]\tlr: 3.817e-04, eta: 0:15:34, time: 0.238, data_time: 0.003, memory: 1552, decode.loss_seg: 0.7080, decode.acc_seg: 48.5470, loss: 0.7080\n",
            "2022-07-20 15:09:18,471 - mmseg - INFO - Iter [14550/20000]\tlr: 3.793e-04, eta: 0:15:27, time: 0.234, data_time: 0.003, memory: 1552, decode.loss_seg: 0.7077, decode.acc_seg: 50.4651, loss: 0.7077\n",
            "2022-07-20 15:09:30,458 - mmseg - INFO - Saving checkpoint at 14600 iterations\n"
          ]
        },
        {
          "output_type": "stream",
          "name": "stdout",
          "text": [
            "[>>>>>>>>>>>>>>>>>>>>>>>>>>>>>>>>>>>] 3/3, 4.4 task/s, elapsed: 1s, ETA:     0s"
          ]
        },
        {
          "output_type": "stream",
          "name": "stderr",
          "text": [
            "2022-07-20 15:09:34,371 - mmseg - INFO - per class results:\n",
            "Class                  IoU       Dice        Acc\n",
            "background           38.82      55.93     100.00\n",
            "powerline             0.00       0.00       0.00\n",
            "Summary:\n",
            "Scope                 mIoU      mDice       mAcc       Powerline Dice      Background Dice       aAcc        TPR        TNR        FDR  Precision\n",
            "global               19.41      27.96      50.00                 0.00                55.93      38.82       0.00     100.00       0.00       0.00\n",
            "\n",
            "2022-07-20 15:09:34,377 - mmseg - INFO - Iter(val) [14600]\tmIoU: 0.1941, mDice: 0.2796, mAcc: 0.5000, plDice: 0.0000, bgDice: 55.9288, aAcc: 0.3882, TPR: 0.0000, TNR: 1.0000, FDR: 0, Precision: 0\n",
            "2022-07-20 15:09:46,390 - mmseg - INFO - Iter [14650/20000]\tlr: 3.747e-04, eta: 0:15:09, time: 0.294, data_time: 0.056, memory: 1552, decode.loss_seg: 0.7085, decode.acc_seg: 48.3687, loss: 0.7085\n",
            "2022-07-20 15:09:57,941 - mmseg - INFO - Iter [14700/20000]\tlr: 3.724e-04, eta: 0:15:01, time: 0.231, data_time: 0.003, memory: 1552, decode.loss_seg: 0.7083, decode.acc_seg: 50.8235, loss: 0.7083\n",
            "2022-07-20 15:10:10,013 - mmseg - INFO - Iter [14750/20000]\tlr: 3.701e-04, eta: 0:14:54, time: 0.241, data_time: 0.003, memory: 1552, decode.loss_seg: 0.7096, decode.acc_seg: 52.2325, loss: 0.7096\n",
            "2022-07-20 15:10:21,906 - mmseg - INFO - Saving checkpoint at 14800 iterations\n"
          ]
        },
        {
          "output_type": "stream",
          "name": "stdout",
          "text": [
            "[>>>>>>>>>>>>>>>>>>>>>>>>>>>>>>>>>>>] 3/3, 4.1 task/s, elapsed: 1s, ETA:     0s"
          ]
        },
        {
          "output_type": "stream",
          "name": "stderr",
          "text": [
            "2022-07-20 15:10:25,881 - mmseg - INFO - per class results:\n",
            "Class                  IoU       Dice        Acc\n",
            "background           38.82      55.93     100.00\n",
            "powerline             0.00       0.00       0.00\n",
            "Summary:\n",
            "Scope                 mIoU      mDice       mAcc       Powerline Dice      Background Dice       aAcc        TPR        TNR        FDR  Precision\n",
            "global               19.41      27.96      50.00                 0.00                55.93      38.82       0.00     100.00       0.00       0.00\n",
            "\n",
            "2022-07-20 15:10:25,886 - mmseg - INFO - Iter(val) [14800]\tmIoU: 0.1941, mDice: 0.2796, mAcc: 0.5000, plDice: 0.0000, bgDice: 55.9288, aAcc: 0.3882, TPR: 0.0000, TNR: 1.0000, FDR: 0, Precision: 0\n",
            "2022-07-20 15:10:37,666 - mmseg - INFO - Iter [14850/20000]\tlr: 3.655e-04, eta: 0:14:36, time: 0.289, data_time: 0.057, memory: 1552, decode.loss_seg: 0.7091, decode.acc_seg: 53.5115, loss: 0.7091\n",
            "2022-07-20 15:10:49,796 - mmseg - INFO - Iter [14900/20000]\tlr: 3.632e-04, eta: 0:14:29, time: 0.243, data_time: 0.003, memory: 1552, decode.loss_seg: 0.7093, decode.acc_seg: 53.3046, loss: 0.7093\n",
            "2022-07-20 15:11:01,676 - mmseg - INFO - Iter [14950/20000]\tlr: 3.608e-04, eta: 0:14:22, time: 0.238, data_time: 0.003, memory: 1552, decode.loss_seg: 0.7085, decode.acc_seg: 53.0488, loss: 0.7085\n",
            "2022-07-20 15:11:13,281 - mmseg - INFO - Saving checkpoint at 15000 iterations\n"
          ]
        },
        {
          "output_type": "stream",
          "name": "stdout",
          "text": [
            "[>>>>>>>>>>>>>>>>>>>>>>>>>>>>>>>>>>>] 3/3, 3.7 task/s, elapsed: 1s, ETA:     0s"
          ]
        },
        {
          "output_type": "stream",
          "name": "stderr",
          "text": [
            "2022-07-20 15:11:17,374 - mmseg - INFO - per class results:\n",
            "Class                  IoU       Dice        Acc\n",
            "background           38.82      55.93     100.00\n",
            "powerline             0.00       0.00       0.00\n",
            "Summary:\n",
            "Scope                 mIoU      mDice       mAcc       Powerline Dice      Background Dice       aAcc        TPR        TNR        FDR  Precision\n",
            "global               19.41      27.96      50.00                 0.00                55.93      38.82       0.00     100.00       0.00       0.00\n",
            "\n",
            "2022-07-20 15:11:17,378 - mmseg - INFO - Exp name: fcn_vanilla_unet_s5-d16_256x256_40k_hrf.py\n",
            "2022-07-20 15:11:17,385 - mmseg - INFO - Iter(val) [15000]\tmIoU: 0.1941, mDice: 0.2796, mAcc: 0.5000, plDice: 0.0000, bgDice: 55.9288, aAcc: 0.3882, TPR: 0.0000, TNR: 1.0000, FDR: 0, Precision: 0\n",
            "2022-07-20 15:11:29,661 - mmseg - INFO - Iter [15050/20000]\tlr: 3.562e-04, eta: 0:14:04, time: 0.301, data_time: 0.059, memory: 1552, decode.loss_seg: 0.7088, decode.acc_seg: 48.2935, loss: 0.7088\n",
            "2022-07-20 15:11:41,642 - mmseg - INFO - Iter [15100/20000]\tlr: 3.538e-04, eta: 0:13:56, time: 0.240, data_time: 0.003, memory: 1552, decode.loss_seg: 0.7083, decode.acc_seg: 52.2809, loss: 0.7083\n",
            "2022-07-20 15:11:53,433 - mmseg - INFO - Iter [15150/20000]\tlr: 3.515e-04, eta: 0:13:49, time: 0.236, data_time: 0.003, memory: 1552, decode.loss_seg: 0.7087, decode.acc_seg: 47.1651, loss: 0.7087\n",
            "2022-07-20 15:12:05,537 - mmseg - INFO - Saving checkpoint at 15200 iterations\n"
          ]
        },
        {
          "output_type": "stream",
          "name": "stdout",
          "text": [
            "[>>>>>>>>>>>>>>>>>>>>>>>>>>>>>>>>>>>] 3/3, 4.0 task/s, elapsed: 1s, ETA:     0s"
          ]
        },
        {
          "output_type": "stream",
          "name": "stderr",
          "text": [
            "2022-07-20 15:12:09,546 - mmseg - INFO - per class results:\n",
            "Class                  IoU       Dice        Acc\n",
            "background           38.82      55.93     100.00\n",
            "powerline             0.00       0.00       0.00\n",
            "Summary:\n",
            "Scope                 mIoU      mDice       mAcc       Powerline Dice      Background Dice       aAcc        TPR        TNR        FDR  Precision\n",
            "global               19.41      27.96      50.00                 0.00                55.93      38.82       0.00     100.00       0.00       0.00\n",
            "\n",
            "2022-07-20 15:12:09,554 - mmseg - INFO - Iter(val) [15200]\tmIoU: 0.1941, mDice: 0.2796, mAcc: 0.5000, plDice: 0.0000, bgDice: 55.9288, aAcc: 0.3882, TPR: 0.0000, TNR: 1.0000, FDR: 0, Precision: 0\n",
            "2022-07-20 15:12:21,715 - mmseg - INFO - Iter [15250/20000]\tlr: 3.468e-04, eta: 0:13:31, time: 0.297, data_time: 0.057, memory: 1552, decode.loss_seg: 0.7077, decode.acc_seg: 52.9227, loss: 0.7077\n",
            "2022-07-20 15:12:33,538 - mmseg - INFO - Iter [15300/20000]\tlr: 3.445e-04, eta: 0:13:24, time: 0.236, data_time: 0.003, memory: 1552, decode.loss_seg: 0.7074, decode.acc_seg: 49.2152, loss: 0.7074\n",
            "2022-07-20 15:12:45,670 - mmseg - INFO - Iter [15350/20000]\tlr: 3.422e-04, eta: 0:13:16, time: 0.243, data_time: 0.003, memory: 1552, decode.loss_seg: 0.7100, decode.acc_seg: 51.2161, loss: 0.7100\n",
            "2022-07-20 15:12:57,661 - mmseg - INFO - Saving checkpoint at 15400 iterations\n"
          ]
        },
        {
          "output_type": "stream",
          "name": "stdout",
          "text": [
            "[>>>>>>>>>>>>>>>>>>>>>>>>>>>>>>>>>>>] 3/3, 3.8 task/s, elapsed: 1s, ETA:     0s"
          ]
        },
        {
          "output_type": "stream",
          "name": "stderr",
          "text": [
            "2022-07-20 15:13:01,771 - mmseg - INFO - per class results:\n",
            "Class                  IoU       Dice        Acc\n",
            "background           38.82      55.93     100.00\n",
            "powerline             0.00       0.00       0.00\n",
            "Summary:\n",
            "Scope                 mIoU      mDice       mAcc       Powerline Dice      Background Dice       aAcc        TPR        TNR        FDR  Precision\n",
            "global               19.41      27.96      50.00                 0.00                55.93      38.82       0.00     100.00       0.00       0.00\n",
            "\n",
            "2022-07-20 15:13:01,776 - mmseg - INFO - Iter(val) [15400]\tmIoU: 0.1941, mDice: 0.2796, mAcc: 0.5000, plDice: 0.0000, bgDice: 55.9288, aAcc: 0.3882, TPR: 0.0000, TNR: 1.0000, FDR: 0, Precision: 0\n",
            "2022-07-20 15:13:13,743 - mmseg - INFO - Iter [15450/20000]\tlr: 3.375e-04, eta: 0:12:58, time: 0.294, data_time: 0.058, memory: 1552, decode.loss_seg: 0.7085, decode.acc_seg: 52.2258, loss: 0.7085\n",
            "2022-07-20 15:13:25,949 - mmseg - INFO - Iter [15500/20000]\tlr: 3.351e-04, eta: 0:12:51, time: 0.244, data_time: 0.003, memory: 1552, decode.loss_seg: 0.7077, decode.acc_seg: 48.4143, loss: 0.7077\n",
            "2022-07-20 15:13:37,919 - mmseg - INFO - Iter [15550/20000]\tlr: 3.328e-04, eta: 0:12:43, time: 0.239, data_time: 0.003, memory: 1552, decode.loss_seg: 0.7077, decode.acc_seg: 50.3774, loss: 0.7077\n",
            "2022-07-20 15:13:49,682 - mmseg - INFO - Saving checkpoint at 15600 iterations\n"
          ]
        },
        {
          "output_type": "stream",
          "name": "stdout",
          "text": [
            "[>>>>>>>>>>>>>>>>>>>>>>>>>>>>>>>>>>>] 3/3, 4.3 task/s, elapsed: 1s, ETA:     0s"
          ]
        },
        {
          "output_type": "stream",
          "name": "stderr",
          "text": [
            "2022-07-20 15:13:53,582 - mmseg - INFO - per class results:\n",
            "Class                  IoU       Dice        Acc\n",
            "background           38.82      55.93     100.00\n",
            "powerline             0.00       0.00       0.00\n",
            "Summary:\n",
            "Scope                 mIoU      mDice       mAcc       Powerline Dice      Background Dice       aAcc        TPR        TNR        FDR  Precision\n",
            "global               19.41      27.96      50.00                 0.00                55.93      38.82       0.00     100.00       0.00       0.00\n",
            "\n",
            "2022-07-20 15:13:53,585 - mmseg - INFO - Iter(val) [15600]\tmIoU: 0.1941, mDice: 0.2796, mAcc: 0.5000, plDice: 0.0000, bgDice: 55.9288, aAcc: 0.3882, TPR: 0.0000, TNR: 1.0000, FDR: 0, Precision: 0\n",
            "2022-07-20 15:14:05,999 - mmseg - INFO - Iter [15650/20000]\tlr: 3.281e-04, eta: 0:12:25, time: 0.300, data_time: 0.055, memory: 1552, decode.loss_seg: 0.7080, decode.acc_seg: 51.2343, loss: 0.7080\n",
            "2022-07-20 15:14:18,112 - mmseg - INFO - Iter [15700/20000]\tlr: 3.257e-04, eta: 0:12:18, time: 0.242, data_time: 0.003, memory: 1552, decode.loss_seg: 0.7089, decode.acc_seg: 53.3679, loss: 0.7089\n",
            "2022-07-20 15:14:29,850 - mmseg - INFO - Iter [15750/20000]\tlr: 3.233e-04, eta: 0:12:10, time: 0.235, data_time: 0.003, memory: 1552, decode.loss_seg: 0.7085, decode.acc_seg: 52.4929, loss: 0.7085\n",
            "2022-07-20 15:14:41,808 - mmseg - INFO - Saving checkpoint at 15800 iterations\n"
          ]
        },
        {
          "output_type": "stream",
          "name": "stdout",
          "text": [
            "[>>>>>>>>>>>>>>>>>>>>>>>>>>>>>>>>>>>] 3/3, 4.1 task/s, elapsed: 1s, ETA:     0s"
          ]
        },
        {
          "output_type": "stream",
          "name": "stderr",
          "text": [
            "2022-07-20 15:14:45,347 - mmseg - INFO - per class results:\n",
            "Class                  IoU       Dice        Acc\n",
            "background            0.00       0.00       0.00\n",
            "powerline            53.72      69.89      92.06\n",
            "Summary:\n",
            "Scope                 mIoU      mDice       mAcc       Powerline Dice      Background Dice       aAcc        TPR        TNR        FDR  Precision\n",
            "global               26.86      34.95      46.03                69.89                 0.00      56.32     100.00       0.00      40.80      59.20\n",
            "\n",
            "2022-07-20 15:14:45,354 - mmseg - INFO - Iter(val) [15800]\tmIoU: 0.2686, mDice: 0.3495, mAcc: 0.4603, plDice: 69.8903, bgDice: 0.0000, aAcc: 0.5632, TPR: 1.0000, TNR: 0.0000, FDR: 0.4080, Precision: 0.5920\n",
            "2022-07-20 15:14:57,511 - mmseg - INFO - Iter [15850/20000]\tlr: 3.186e-04, eta: 0:11:52, time: 0.287, data_time: 0.047, memory: 1552, decode.loss_seg: 0.7083, decode.acc_seg: 50.3595, loss: 0.7083\n",
            "2022-07-20 15:15:09,254 - mmseg - INFO - Iter [15900/20000]\tlr: 3.162e-04, eta: 0:11:44, time: 0.235, data_time: 0.003, memory: 1552, decode.loss_seg: 0.7080, decode.acc_seg: 49.0029, loss: 0.7080\n",
            "2022-07-20 15:15:21,502 - mmseg - INFO - Iter [15950/20000]\tlr: 3.139e-04, eta: 0:11:37, time: 0.245, data_time: 0.003, memory: 1552, decode.loss_seg: 0.7087, decode.acc_seg: 53.6534, loss: 0.7087\n",
            "2022-07-20 15:15:33,598 - mmseg - INFO - Saving checkpoint at 16000 iterations\n"
          ]
        },
        {
          "output_type": "stream",
          "name": "stdout",
          "text": [
            "[>>>>>>>>>>>>>>>>>>>>>>>>>>>>>>>>>>>] 3/3, 4.3 task/s, elapsed: 1s, ETA:     0s"
          ]
        },
        {
          "output_type": "stream",
          "name": "stderr",
          "text": [
            "2022-07-20 15:15:37,132 - mmseg - INFO - per class results:\n",
            "Class                  IoU       Dice        Acc\n",
            "background            0.00       0.00       0.00\n",
            "powerline            53.72      69.89      92.06\n",
            "Summary:\n",
            "Scope                 mIoU      mDice       mAcc       Powerline Dice      Background Dice       aAcc        TPR        TNR        FDR  Precision\n",
            "global               26.86      34.95      46.03                69.89                 0.00      56.32     100.00       0.00      40.80      59.20\n",
            "\n",
            "2022-07-20 15:15:37,138 - mmseg - INFO - Exp name: fcn_vanilla_unet_s5-d16_256x256_40k_hrf.py\n",
            "2022-07-20 15:15:37,141 - mmseg - INFO - Iter(val) [16000]\tmIoU: 0.2686, mDice: 0.3495, mAcc: 0.4603, plDice: 69.8903, bgDice: 0.0000, aAcc: 0.5632, TPR: 1.0000, TNR: 0.0000, FDR: 0.4080, Precision: 0.5920\n",
            "2022-07-20 15:15:49,056 - mmseg - INFO - Iter [16050/20000]\tlr: 3.091e-04, eta: 0:11:19, time: 0.283, data_time: 0.047, memory: 1552, decode.loss_seg: 0.7085, decode.acc_seg: 51.3668, loss: 0.7085\n",
            "2022-07-20 15:16:01,349 - mmseg - INFO - Iter [16100/20000]\tlr: 3.067e-04, eta: 0:11:11, time: 0.246, data_time: 0.003, memory: 1552, decode.loss_seg: 0.7083, decode.acc_seg: 50.4142, loss: 0.7083\n",
            "2022-07-20 15:16:13,592 - mmseg - INFO - Iter [16150/20000]\tlr: 3.043e-04, eta: 0:11:03, time: 0.245, data_time: 0.003, memory: 1552, decode.loss_seg: 0.7080, decode.acc_seg: 54.3307, loss: 0.7080\n",
            "2022-07-20 15:16:25,500 - mmseg - INFO - Saving checkpoint at 16200 iterations\n"
          ]
        },
        {
          "output_type": "stream",
          "name": "stdout",
          "text": [
            "[>>>>>>>>>>>>>>>>>>>>>>>>>>>>>>>>>>>] 3/3, 4.2 task/s, elapsed: 1s, ETA:     0s"
          ]
        },
        {
          "output_type": "stream",
          "name": "stderr",
          "text": [
            "2022-07-20 15:16:29,428 - mmseg - INFO - per class results:\n",
            "Class                  IoU       Dice        Acc\n",
            "background           38.82      55.93     100.00\n",
            "powerline             0.00       0.00       0.00\n",
            "Summary:\n",
            "Scope                 mIoU      mDice       mAcc       Powerline Dice      Background Dice       aAcc        TPR        TNR        FDR  Precision\n",
            "global               19.41      27.96      50.00                 0.00                55.93      38.82       0.00     100.00       0.00       0.00\n",
            "\n",
            "2022-07-20 15:16:29,439 - mmseg - INFO - Iter(val) [16200]\tmIoU: 0.1941, mDice: 0.2796, mAcc: 0.5000, plDice: 0.0000, bgDice: 55.9288, aAcc: 0.3882, TPR: 0.0000, TNR: 1.0000, FDR: 0, Precision: 0\n",
            "2022-07-20 15:16:41,803 - mmseg - INFO - Iter [16250/20000]\tlr: 2.995e-04, eta: 0:10:46, time: 0.299, data_time: 0.055, memory: 1552, decode.loss_seg: 0.7088, decode.acc_seg: 49.4588, loss: 0.7088\n",
            "2022-07-20 15:16:54,125 - mmseg - INFO - Iter [16300/20000]\tlr: 2.972e-04, eta: 0:10:38, time: 0.247, data_time: 0.003, memory: 1552, decode.loss_seg: 0.7090, decode.acc_seg: 50.9066, loss: 0.7090\n",
            "2022-07-20 15:17:06,025 - mmseg - INFO - Iter [16350/20000]\tlr: 2.948e-04, eta: 0:10:30, time: 0.238, data_time: 0.003, memory: 1552, decode.loss_seg: 0.7082, decode.acc_seg: 53.6988, loss: 0.7082\n",
            "2022-07-20 15:17:18,317 - mmseg - INFO - Saving checkpoint at 16400 iterations\n"
          ]
        },
        {
          "output_type": "stream",
          "name": "stdout",
          "text": [
            "[>>>>>>>>>>>>>>>>>>>>>>>>>>>>>>>>>>>] 3/3, 4.0 task/s, elapsed: 1s, ETA:     0s"
          ]
        },
        {
          "output_type": "stream",
          "name": "stderr",
          "text": [
            "2022-07-20 15:17:22,261 - mmseg - INFO - per class results:\n",
            "Class                  IoU       Dice        Acc\n",
            "background           38.82      55.93     100.00\n",
            "powerline             0.00       0.00       0.00\n",
            "Summary:\n",
            "Scope                 mIoU      mDice       mAcc       Powerline Dice      Background Dice       aAcc        TPR        TNR        FDR  Precision\n",
            "global               19.41      27.96      50.00                 0.00                55.93      38.82       0.00     100.00       0.00       0.00\n",
            "\n",
            "2022-07-20 15:17:22,268 - mmseg - INFO - Iter(val) [16400]\tmIoU: 0.1941, mDice: 0.2796, mAcc: 0.5000, plDice: 0.0000, bgDice: 55.9288, aAcc: 0.3882, TPR: 0.0000, TNR: 1.0000, FDR: 0, Precision: 0\n",
            "2022-07-20 15:17:34,543 - mmseg - INFO - Iter [16450/20000]\tlr: 2.899e-04, eta: 0:10:12, time: 0.299, data_time: 0.056, memory: 1552, decode.loss_seg: 0.7088, decode.acc_seg: 52.6419, loss: 0.7088\n",
            "2022-07-20 15:17:46,453 - mmseg - INFO - Iter [16500/20000]\tlr: 2.875e-04, eta: 0:10:04, time: 0.238, data_time: 0.003, memory: 1552, decode.loss_seg: 0.7081, decode.acc_seg: 50.4310, loss: 0.7081\n",
            "2022-07-20 15:17:58,822 - mmseg - INFO - Iter [16550/20000]\tlr: 2.851e-04, eta: 0:09:56, time: 0.247, data_time: 0.003, memory: 1552, decode.loss_seg: 0.7083, decode.acc_seg: 50.2627, loss: 0.7083\n",
            "2022-07-20 15:18:11,045 - mmseg - INFO - Saving checkpoint at 16600 iterations\n"
          ]
        },
        {
          "output_type": "stream",
          "name": "stdout",
          "text": [
            "[>>>>>>>>>>>>>>>>>>>>>>>>>>>>>>>>>>>] 3/3, 4.2 task/s, elapsed: 1s, ETA:     0s"
          ]
        },
        {
          "output_type": "stream",
          "name": "stderr",
          "text": [
            "2022-07-20 15:18:15,044 - mmseg - INFO - per class results:\n",
            "Class                  IoU       Dice        Acc\n",
            "background           38.82      55.93     100.00\n",
            "powerline             0.00       0.00       0.00\n",
            "Summary:\n",
            "Scope                 mIoU      mDice       mAcc       Powerline Dice      Background Dice       aAcc        TPR        TNR        FDR  Precision\n",
            "global               19.41      27.96      50.00                 0.00                55.93      38.82       0.00     100.00       0.00       0.00\n",
            "\n",
            "2022-07-20 15:18:15,048 - mmseg - INFO - Iter(val) [16600]\tmIoU: 0.1941, mDice: 0.2796, mAcc: 0.5000, plDice: 0.0000, bgDice: 55.9288, aAcc: 0.3882, TPR: 0.0000, TNR: 1.0000, FDR: 0, Precision: 0\n",
            "2022-07-20 15:18:27,177 - mmseg - INFO - Iter [16650/20000]\tlr: 2.803e-04, eta: 0:09:39, time: 0.296, data_time: 0.057, memory: 1552, decode.loss_seg: 0.7086, decode.acc_seg: 55.2387, loss: 0.7086\n",
            "2022-07-20 15:18:39,552 - mmseg - INFO - Iter [16700/20000]\tlr: 2.779e-04, eta: 0:09:31, time: 0.247, data_time: 0.003, memory: 1552, decode.loss_seg: 0.7086, decode.acc_seg: 51.1546, loss: 0.7086\n",
            "2022-07-20 15:18:51,821 - mmseg - INFO - Iter [16750/20000]\tlr: 2.754e-04, eta: 0:09:23, time: 0.246, data_time: 0.003, memory: 1552, decode.loss_seg: 0.7079, decode.acc_seg: 49.6349, loss: 0.7079\n",
            "2022-07-20 15:19:03,707 - mmseg - INFO - Saving checkpoint at 16800 iterations\n"
          ]
        },
        {
          "output_type": "stream",
          "name": "stdout",
          "text": [
            "[>>>>>>>>>>>>>>>>>>>>>>>>>>>>>>>>>>>] 3/3, 3.9 task/s, elapsed: 1s, ETA:     0s"
          ]
        },
        {
          "output_type": "stream",
          "name": "stderr",
          "text": [
            "2022-07-20 15:19:07,657 - mmseg - INFO - per class results:\n",
            "Class                  IoU       Dice        Acc\n",
            "background           38.82      55.93     100.00\n",
            "powerline             0.00       0.00       0.00\n",
            "Summary:\n",
            "Scope                 mIoU      mDice       mAcc       Powerline Dice      Background Dice       aAcc        TPR        TNR        FDR  Precision\n",
            "global               19.41      27.96      50.00                 0.00                55.93      38.82       0.00     100.00       0.00       0.00\n",
            "\n",
            "2022-07-20 15:19:07,662 - mmseg - INFO - Iter(val) [16800]\tmIoU: 0.1941, mDice: 0.2796, mAcc: 0.5000, plDice: 0.0000, bgDice: 55.9288, aAcc: 0.3882, TPR: 0.0000, TNR: 1.0000, FDR: 0, Precision: 0\n",
            "2022-07-20 15:19:20,258 - mmseg - INFO - Iter [16850/20000]\tlr: 2.706e-04, eta: 0:09:05, time: 0.305, data_time: 0.056, memory: 1552, decode.loss_seg: 0.7090, decode.acc_seg: 54.6217, loss: 0.7090\n",
            "2022-07-20 15:19:32,680 - mmseg - INFO - Iter [16900/20000]\tlr: 2.681e-04, eta: 0:08:57, time: 0.248, data_time: 0.003, memory: 1552, decode.loss_seg: 0.7082, decode.acc_seg: 51.4249, loss: 0.7082\n",
            "2022-07-20 15:19:44,800 - mmseg - INFO - Iter [16950/20000]\tlr: 2.657e-04, eta: 0:08:49, time: 0.242, data_time: 0.003, memory: 1552, decode.loss_seg: 0.7093, decode.acc_seg: 51.0337, loss: 0.7093\n",
            "2022-07-20 15:19:57,168 - mmseg - INFO - Saving checkpoint at 17000 iterations\n"
          ]
        },
        {
          "output_type": "stream",
          "name": "stdout",
          "text": [
            "[>>>>>>>>>>>>>>>>>>>>>>>>>>>>>>>>>>>] 3/3, 3.9 task/s, elapsed: 1s, ETA:     0s"
          ]
        },
        {
          "output_type": "stream",
          "name": "stderr",
          "text": [
            "2022-07-20 15:20:01,098 - mmseg - INFO - per class results:\n",
            "Class                  IoU       Dice        Acc\n",
            "background           38.82      55.93     100.00\n",
            "powerline             0.00       0.00       0.00\n",
            "Summary:\n",
            "Scope                 mIoU      mDice       mAcc       Powerline Dice      Background Dice       aAcc        TPR        TNR        FDR  Precision\n",
            "global               19.41      27.96      50.00                 0.00                55.93      38.82       0.00     100.00       0.00       0.00\n",
            "\n",
            "2022-07-20 15:20:01,103 - mmseg - INFO - Exp name: fcn_vanilla_unet_s5-d16_256x256_40k_hrf.py\n",
            "2022-07-20 15:20:01,106 - mmseg - INFO - Iter(val) [17000]\tmIoU: 0.1941, mDice: 0.2796, mAcc: 0.5000, plDice: 0.0000, bgDice: 55.9288, aAcc: 0.3882, TPR: 0.0000, TNR: 1.0000, FDR: 0, Precision: 0\n",
            "2022-07-20 15:20:13,531 - mmseg - INFO - Iter [17050/20000]\tlr: 2.608e-04, eta: 0:08:31, time: 0.302, data_time: 0.056, memory: 1552, decode.loss_seg: 0.7078, decode.acc_seg: 51.8053, loss: 0.7078\n",
            "2022-07-20 15:20:25,640 - mmseg - INFO - Iter [17100/20000]\tlr: 2.583e-04, eta: 0:08:23, time: 0.242, data_time: 0.003, memory: 1552, decode.loss_seg: 0.7092, decode.acc_seg: 52.8821, loss: 0.7092\n",
            "2022-07-20 15:20:37,999 - mmseg - INFO - Iter [17150/20000]\tlr: 2.559e-04, eta: 0:08:15, time: 0.247, data_time: 0.003, memory: 1552, decode.loss_seg: 0.7093, decode.acc_seg: 52.3134, loss: 0.7093\n",
            "2022-07-20 15:20:50,260 - mmseg - INFO - Saving checkpoint at 17200 iterations\n"
          ]
        },
        {
          "output_type": "stream",
          "name": "stdout",
          "text": [
            "[>>>>>>>>>>>>>>>>>>>>>>>>>>>>>>>>>>>] 3/3, 3.6 task/s, elapsed: 1s, ETA:     0s"
          ]
        },
        {
          "output_type": "stream",
          "name": "stderr",
          "text": [
            "2022-07-20 15:20:54,744 - mmseg - INFO - per class results:\n",
            "Class                  IoU       Dice        Acc\n",
            "background           38.82      55.93     100.00\n",
            "powerline             0.00       0.00       0.00\n",
            "Summary:\n",
            "Scope                 mIoU      mDice       mAcc       Powerline Dice      Background Dice       aAcc        TPR        TNR        FDR  Precision\n",
            "global               19.41      27.96      50.00                 0.00                55.93      38.82       0.00     100.00       0.00       0.00\n",
            "\n",
            "2022-07-20 15:20:54,751 - mmseg - INFO - Iter(val) [17200]\tmIoU: 0.1941, mDice: 0.2796, mAcc: 0.5000, plDice: 0.0000, bgDice: 55.9288, aAcc: 0.3882, TPR: 0.0000, TNR: 1.0000, FDR: 0, Precision: 0\n",
            "2022-07-20 15:21:06,949 - mmseg - INFO - Iter [17250/20000]\tlr: 2.510e-04, eta: 0:07:57, time: 0.299, data_time: 0.058, memory: 1552, decode.loss_seg: 0.7093, decode.acc_seg: 53.7534, loss: 0.7093\n",
            "2022-07-20 15:21:19,502 - mmseg - INFO - Iter [17300/20000]\tlr: 2.485e-04, eta: 0:07:49, time: 0.251, data_time: 0.003, memory: 1552, decode.loss_seg: 0.7082, decode.acc_seg: 50.3034, loss: 0.7082\n",
            "2022-07-20 15:21:31,936 - mmseg - INFO - Iter [17350/20000]\tlr: 2.460e-04, eta: 0:07:41, time: 0.249, data_time: 0.003, memory: 1552, decode.loss_seg: 0.7092, decode.acc_seg: 52.7369, loss: 0.7092\n",
            "2022-07-20 15:21:43,990 - mmseg - INFO - Saving checkpoint at 17400 iterations\n"
          ]
        },
        {
          "output_type": "stream",
          "name": "stdout",
          "text": [
            "[>>>>>>>>>>>>>>>>>>>>>>>>>>>>>>>>>>>] 3/3, 4.1 task/s, elapsed: 1s, ETA:     0s"
          ]
        },
        {
          "output_type": "stream",
          "name": "stderr",
          "text": [
            "2022-07-20 15:21:48,035 - mmseg - INFO - per class results:\n",
            "Class                  IoU       Dice        Acc\n",
            "background           38.82      55.93     100.00\n",
            "powerline             0.00       0.00       0.00\n",
            "Summary:\n",
            "Scope                 mIoU      mDice       mAcc       Powerline Dice      Background Dice       aAcc        TPR        TNR        FDR  Precision\n",
            "global               19.41      27.96      50.00                 0.00                55.93      38.82       0.00     100.00       0.00       0.00\n",
            "\n",
            "2022-07-20 15:21:48,041 - mmseg - INFO - Iter(val) [17400]\tmIoU: 0.1941, mDice: 0.2796, mAcc: 0.5000, plDice: 0.0000, bgDice: 55.9288, aAcc: 0.3882, TPR: 0.0000, TNR: 1.0000, FDR: 0, Precision: 0\n",
            "2022-07-20 15:22:00,566 - mmseg - INFO - Iter [17450/20000]\tlr: 2.410e-04, eta: 0:07:23, time: 0.305, data_time: 0.057, memory: 1552, decode.loss_seg: 0.7096, decode.acc_seg: 47.8133, loss: 0.7096\n",
            "2022-07-20 15:22:13,093 - mmseg - INFO - Iter [17500/20000]\tlr: 2.386e-04, eta: 0:07:15, time: 0.251, data_time: 0.003, memory: 1552, decode.loss_seg: 0.7091, decode.acc_seg: 53.5257, loss: 0.7091\n",
            "2022-07-20 15:22:25,238 - mmseg - INFO - Iter [17550/20000]\tlr: 2.361e-04, eta: 0:07:07, time: 0.243, data_time: 0.003, memory: 1552, decode.loss_seg: 0.7081, decode.acc_seg: 50.5564, loss: 0.7081\n",
            "2022-07-20 15:22:37,765 - mmseg - INFO - Saving checkpoint at 17600 iterations\n"
          ]
        },
        {
          "output_type": "stream",
          "name": "stdout",
          "text": [
            "[>>>>>>>>>>>>>>>>>>>>>>>>>>>>>>>>>>>] 3/3, 4.0 task/s, elapsed: 1s, ETA:     0s"
          ]
        },
        {
          "output_type": "stream",
          "name": "stderr",
          "text": [
            "2022-07-20 15:22:41,727 - mmseg - INFO - per class results:\n",
            "Class                  IoU       Dice        Acc\n",
            "background           38.82      55.93     100.00\n",
            "powerline             0.00       0.00       0.00\n",
            "Summary:\n",
            "Scope                 mIoU      mDice       mAcc       Powerline Dice      Background Dice       aAcc        TPR        TNR        FDR  Precision\n",
            "global               19.41      27.96      50.00                 0.00                55.93      38.82       0.00     100.00       0.00       0.00\n",
            "\n",
            "2022-07-20 15:22:41,734 - mmseg - INFO - Iter(val) [17600]\tmIoU: 0.1941, mDice: 0.2796, mAcc: 0.5000, plDice: 0.0000, bgDice: 55.9288, aAcc: 0.3882, TPR: 0.0000, TNR: 1.0000, FDR: 0, Precision: 0\n",
            "2022-07-20 15:22:54,281 - mmseg - INFO - Iter [17650/20000]\tlr: 2.311e-04, eta: 0:06:49, time: 0.304, data_time: 0.056, memory: 1552, decode.loss_seg: 0.7083, decode.acc_seg: 52.9762, loss: 0.7083\n",
            "2022-07-20 15:23:06,467 - mmseg - INFO - Iter [17700/20000]\tlr: 2.285e-04, eta: 0:06:41, time: 0.244, data_time: 0.003, memory: 1552, decode.loss_seg: 0.7084, decode.acc_seg: 52.0512, loss: 0.7084\n",
            "2022-07-20 15:23:19,067 - mmseg - INFO - Iter [17750/20000]\tlr: 2.260e-04, eta: 0:06:33, time: 0.252, data_time: 0.003, memory: 1552, decode.loss_seg: 0.7085, decode.acc_seg: 49.2665, loss: 0.7085\n",
            "2022-07-20 15:23:31,710 - mmseg - INFO - Saving checkpoint at 17800 iterations\n"
          ]
        },
        {
          "output_type": "stream",
          "name": "stdout",
          "text": [
            "[>>>>>>>>>>>>>>>>>>>>>>>>>>>>>>>>>>>] 3/3, 3.7 task/s, elapsed: 1s, ETA:     0s"
          ]
        },
        {
          "output_type": "stream",
          "name": "stderr",
          "text": [
            "2022-07-20 15:23:36,166 - mmseg - INFO - per class results:\n",
            "Class                  IoU       Dice        Acc\n",
            "background           38.82      55.93     100.00\n",
            "powerline             0.00       0.00       0.00\n",
            "Summary:\n",
            "Scope                 mIoU      mDice       mAcc       Powerline Dice      Background Dice       aAcc        TPR        TNR        FDR  Precision\n",
            "global               19.41      27.96      50.00                 0.00                55.93      38.82       0.00     100.00       0.00       0.00\n",
            "\n",
            "2022-07-20 15:23:36,172 - mmseg - INFO - Iter(val) [17800]\tmIoU: 0.1941, mDice: 0.2796, mAcc: 0.5000, plDice: 0.0000, bgDice: 55.9288, aAcc: 0.3882, TPR: 0.0000, TNR: 1.0000, FDR: 0, Precision: 0\n",
            "2022-07-20 15:23:48,542 - mmseg - INFO - Iter [17850/20000]\tlr: 2.210e-04, eta: 0:06:15, time: 0.302, data_time: 0.057, memory: 1552, decode.loss_seg: 0.7099, decode.acc_seg: 53.9512, loss: 0.7099\n",
            "2022-07-20 15:24:01,205 - mmseg - INFO - Iter [17900/20000]\tlr: 2.184e-04, eta: 0:06:07, time: 0.253, data_time: 0.003, memory: 1552, decode.loss_seg: 0.7086, decode.acc_seg: 50.1107, loss: 0.7086\n",
            "2022-07-20 15:24:13,737 - mmseg - INFO - Iter [17950/20000]\tlr: 2.159e-04, eta: 0:05:58, time: 0.251, data_time: 0.003, memory: 1552, decode.loss_seg: 0.7093, decode.acc_seg: 51.2314, loss: 0.7093\n",
            "2022-07-20 15:24:25,885 - mmseg - INFO - Saving checkpoint at 18000 iterations\n"
          ]
        },
        {
          "output_type": "stream",
          "name": "stdout",
          "text": [
            "[>>>>>>>>>>>>>>>>>>>>>>>>>>>>>>>>>>>] 3/3, 3.9 task/s, elapsed: 1s, ETA:     0s"
          ]
        },
        {
          "output_type": "stream",
          "name": "stderr",
          "text": [
            "2022-07-20 15:24:29,844 - mmseg - INFO - per class results:\n",
            "Class                  IoU       Dice        Acc\n",
            "background           38.82      55.93     100.00\n",
            "powerline             0.00       0.00       0.00\n",
            "Summary:\n",
            "Scope                 mIoU      mDice       mAcc       Powerline Dice      Background Dice       aAcc        TPR        TNR        FDR  Precision\n",
            "global               19.41      27.96      50.00                 0.00                55.93      38.82       0.00     100.00       0.00       0.00\n",
            "\n",
            "2022-07-20 15:24:29,850 - mmseg - INFO - Exp name: fcn_vanilla_unet_s5-d16_256x256_40k_hrf.py\n",
            "2022-07-20 15:24:29,854 - mmseg - INFO - Iter(val) [18000]\tmIoU: 0.1941, mDice: 0.2796, mAcc: 0.5000, plDice: 0.0000, bgDice: 55.9288, aAcc: 0.3882, TPR: 0.0000, TNR: 1.0000, FDR: 0, Precision: 0\n",
            "2022-07-20 15:24:42,542 - mmseg - INFO - Iter [18050/20000]\tlr: 2.108e-04, eta: 0:05:41, time: 0.308, data_time: 0.057, memory: 1552, decode.loss_seg: 0.7085, decode.acc_seg: 50.9754, loss: 0.7085\n",
            "2022-07-20 15:24:55,243 - mmseg - INFO - Iter [18100/20000]\tlr: 2.082e-04, eta: 0:05:32, time: 0.254, data_time: 0.003, memory: 1552, decode.loss_seg: 0.7082, decode.acc_seg: 52.1116, loss: 0.7082\n",
            "2022-07-20 15:25:07,551 - mmseg - INFO - Iter [18150/20000]\tlr: 2.057e-04, eta: 0:05:24, time: 0.246, data_time: 0.002, memory: 1552, decode.loss_seg: 0.7079, decode.acc_seg: 52.3343, loss: 0.7079\n",
            "2022-07-20 15:25:20,135 - mmseg - INFO - Saving checkpoint at 18200 iterations\n"
          ]
        },
        {
          "output_type": "stream",
          "name": "stdout",
          "text": [
            "[>>>>>>>>>>>>>>>>>>>>>>>>>>>>>>>>>>>] 3/3, 3.9 task/s, elapsed: 1s, ETA:     0s"
          ]
        },
        {
          "output_type": "stream",
          "name": "stderr",
          "text": [
            "2022-07-20 15:25:24,055 - mmseg - INFO - per class results:\n",
            "Class                  IoU       Dice        Acc\n",
            "background           38.82      55.93     100.00\n",
            "powerline             0.00       0.00       0.00\n",
            "Summary:\n",
            "Scope                 mIoU      mDice       mAcc       Powerline Dice      Background Dice       aAcc        TPR        TNR        FDR  Precision\n",
            "global               19.41      27.96      50.00                 0.00                55.93      38.82       0.00     100.00       0.00       0.00\n",
            "\n",
            "2022-07-20 15:25:24,060 - mmseg - INFO - Iter(val) [18200]\tmIoU: 0.1941, mDice: 0.2796, mAcc: 0.5000, plDice: 0.0000, bgDice: 55.9288, aAcc: 0.3882, TPR: 0.0000, TNR: 1.0000, FDR: 0, Precision: 0\n",
            "2022-07-20 15:25:36,708 - mmseg - INFO - Iter [18250/20000]\tlr: 2.005e-04, eta: 0:05:06, time: 0.306, data_time: 0.056, memory: 1552, decode.loss_seg: 0.7084, decode.acc_seg: 52.5917, loss: 0.7084\n",
            "2022-07-20 15:25:49,014 - mmseg - INFO - Iter [18300/20000]\tlr: 1.979e-04, eta: 0:04:58, time: 0.246, data_time: 0.003, memory: 1552, decode.loss_seg: 0.7089, decode.acc_seg: 54.8790, loss: 0.7089\n",
            "2022-07-20 15:26:01,743 - mmseg - INFO - Iter [18350/20000]\tlr: 1.953e-04, eta: 0:04:49, time: 0.255, data_time: 0.003, memory: 1552, decode.loss_seg: 0.7088, decode.acc_seg: 53.1244, loss: 0.7088\n",
            "2022-07-20 15:26:14,232 - mmseg - INFO - Saving checkpoint at 18400 iterations\n"
          ]
        },
        {
          "output_type": "stream",
          "name": "stdout",
          "text": [
            "[>>>>>>>>>>>>>>>>>>>>>>>>>>>>>>>>>>>] 3/3, 4.0 task/s, elapsed: 1s, ETA:     0s"
          ]
        },
        {
          "output_type": "stream",
          "name": "stderr",
          "text": [
            "2022-07-20 15:26:17,832 - mmseg - INFO - per class results:\n",
            "Class                  IoU       Dice        Acc\n",
            "background            0.00       0.00       0.00\n",
            "powerline            53.72      69.89      92.06\n",
            "Summary:\n",
            "Scope                 mIoU      mDice       mAcc       Powerline Dice      Background Dice       aAcc        TPR        TNR        FDR  Precision\n",
            "global               26.86      34.95      46.03                69.89                 0.00      56.32     100.00       0.00      40.80      59.20\n",
            "\n",
            "2022-07-20 15:26:17,836 - mmseg - INFO - Iter(val) [18400]\tmIoU: 0.2686, mDice: 0.3495, mAcc: 0.4603, plDice: 69.8903, bgDice: 0.0000, aAcc: 0.5632, TPR: 1.0000, TNR: 0.0000, FDR: 0.4080, Precision: 0.5920\n",
            "2022-07-20 15:26:30,247 - mmseg - INFO - Iter [18450/20000]\tlr: 1.901e-04, eta: 0:04:31, time: 0.293, data_time: 0.048, memory: 1552, decode.loss_seg: 0.7082, decode.acc_seg: 51.3296, loss: 0.7082\n",
            "2022-07-20 15:26:43,068 - mmseg - INFO - Iter [18500/20000]\tlr: 1.875e-04, eta: 0:04:23, time: 0.256, data_time: 0.003, memory: 1552, decode.loss_seg: 0.7094, decode.acc_seg: 53.3319, loss: 0.7094\n",
            "2022-07-20 15:26:55,802 - mmseg - INFO - Iter [18550/20000]\tlr: 1.849e-04, eta: 0:04:15, time: 0.255, data_time: 0.003, memory: 1552, decode.loss_seg: 0.7082, decode.acc_seg: 52.8678, loss: 0.7082\n",
            "2022-07-20 15:27:08,122 - mmseg - INFO - Saving checkpoint at 18600 iterations\n"
          ]
        },
        {
          "output_type": "stream",
          "name": "stdout",
          "text": [
            "[>>>>>>>>>>>>>>>>>>>>>>>>>>>>>>>>>>>] 3/3, 4.1 task/s, elapsed: 1s, ETA:     0s"
          ]
        },
        {
          "output_type": "stream",
          "name": "stderr",
          "text": [
            "2022-07-20 15:27:12,031 - mmseg - INFO - per class results:\n",
            "Class                  IoU       Dice        Acc\n",
            "background           38.82      55.93     100.00\n",
            "powerline             0.00       0.00       0.00\n",
            "Summary:\n",
            "Scope                 mIoU      mDice       mAcc       Powerline Dice      Background Dice       aAcc        TPR        TNR        FDR  Precision\n",
            "global               19.41      27.96      50.00                 0.00                55.93      38.82       0.00     100.00       0.00       0.00\n",
            "\n",
            "2022-07-20 15:27:12,035 - mmseg - INFO - Iter(val) [18600]\tmIoU: 0.1941, mDice: 0.2796, mAcc: 0.5000, plDice: 0.0000, bgDice: 55.9288, aAcc: 0.3882, TPR: 0.0000, TNR: 1.0000, FDR: 0, Precision: 0\n",
            "2022-07-20 15:27:24,882 - mmseg - INFO - Iter [18650/20000]\tlr: 1.796e-04, eta: 0:03:57, time: 0.310, data_time: 0.056, memory: 1552, decode.loss_seg: 0.7085, decode.acc_seg: 52.1690, loss: 0.7085\n",
            "2022-07-20 15:27:37,720 - mmseg - INFO - Iter [18700/20000]\tlr: 1.769e-04, eta: 0:03:48, time: 0.257, data_time: 0.003, memory: 1552, decode.loss_seg: 0.7088, decode.acc_seg: 52.0604, loss: 0.7088\n",
            "2022-07-20 15:27:50,077 - mmseg - INFO - Iter [18750/20000]\tlr: 1.743e-04, eta: 0:03:40, time: 0.247, data_time: 0.003, memory: 1552, decode.loss_seg: 0.7102, decode.acc_seg: 50.9930, loss: 0.7102\n",
            "2022-07-20 15:28:02,846 - mmseg - INFO - Saving checkpoint at 18800 iterations\n"
          ]
        },
        {
          "output_type": "stream",
          "name": "stdout",
          "text": [
            "[>>>>>>>>>>>>>>>>>>>>>>>>>>>>>>>>>>>] 3/3, 4.0 task/s, elapsed: 1s, ETA:     0s"
          ]
        },
        {
          "output_type": "stream",
          "name": "stderr",
          "text": [
            "2022-07-20 15:28:06,814 - mmseg - INFO - per class results:\n",
            "Class                  IoU       Dice        Acc\n",
            "background           38.82      55.93     100.00\n",
            "powerline             0.00       0.00       0.00\n",
            "Summary:\n",
            "Scope                 mIoU      mDice       mAcc       Powerline Dice      Background Dice       aAcc        TPR        TNR        FDR  Precision\n",
            "global               19.41      27.96      50.00                 0.00                55.93      38.82       0.00     100.00       0.00       0.00\n",
            "\n",
            "2022-07-20 15:28:06,822 - mmseg - INFO - Iter(val) [18800]\tmIoU: 0.1941, mDice: 0.2796, mAcc: 0.5000, plDice: 0.0000, bgDice: 55.9288, aAcc: 0.3882, TPR: 0.0000, TNR: 1.0000, FDR: 0, Precision: 0\n",
            "2022-07-20 15:28:19,619 - mmseg - INFO - Iter [18850/20000]\tlr: 1.689e-04, eta: 0:03:22, time: 0.310, data_time: 0.057, memory: 1552, decode.loss_seg: 0.7086, decode.acc_seg: 52.9449, loss: 0.7086\n",
            "2022-07-20 15:28:31,991 - mmseg - INFO - Iter [18900/20000]\tlr: 1.662e-04, eta: 0:03:13, time: 0.247, data_time: 0.003, memory: 1552, decode.loss_seg: 0.7081, decode.acc_seg: 48.9510, loss: 0.7081\n",
            "2022-07-20 15:28:44,904 - mmseg - INFO - Iter [18950/20000]\tlr: 1.635e-04, eta: 0:03:05, time: 0.258, data_time: 0.003, memory: 1552, decode.loss_seg: 0.7084, decode.acc_seg: 50.7067, loss: 0.7084\n",
            "2022-07-20 15:28:57,577 - mmseg - INFO - Saving checkpoint at 19000 iterations\n"
          ]
        },
        {
          "output_type": "stream",
          "name": "stdout",
          "text": [
            "[>>>>>>>>>>>>>>>>>>>>>>>>>>>>>>>>>>>] 3/3, 3.9 task/s, elapsed: 1s, ETA:     0s"
          ]
        },
        {
          "output_type": "stream",
          "name": "stderr",
          "text": [
            "2022-07-20 15:29:01,571 - mmseg - INFO - per class results:\n",
            "Class                  IoU       Dice        Acc\n",
            "background           38.82      55.93     100.00\n",
            "powerline             0.00       0.00       0.00\n",
            "Summary:\n",
            "Scope                 mIoU      mDice       mAcc       Powerline Dice      Background Dice       aAcc        TPR        TNR        FDR  Precision\n",
            "global               19.41      27.96      50.00                 0.00                55.93      38.82       0.00     100.00       0.00       0.00\n",
            "\n",
            "2022-07-20 15:29:01,579 - mmseg - INFO - Exp name: fcn_vanilla_unet_s5-d16_256x256_40k_hrf.py\n",
            "2022-07-20 15:29:01,581 - mmseg - INFO - Iter(val) [19000]\tmIoU: 0.1941, mDice: 0.2796, mAcc: 0.5000, plDice: 0.0000, bgDice: 55.9288, aAcc: 0.3882, TPR: 0.0000, TNR: 1.0000, FDR: 0, Precision: 0\n",
            "2022-07-20 15:29:14,053 - mmseg - INFO - Iter [19050/20000]\tlr: 1.580e-04, eta: 0:02:47, time: 0.304, data_time: 0.057, memory: 1552, decode.loss_seg: 0.7080, decode.acc_seg: 53.0367, loss: 0.7080\n",
            "2022-07-20 15:29:26,958 - mmseg - INFO - Iter [19100/20000]\tlr: 1.553e-04, eta: 0:02:38, time: 0.258, data_time: 0.003, memory: 1552, decode.loss_seg: 0.7083, decode.acc_seg: 53.6921, loss: 0.7083\n",
            "2022-07-20 15:29:39,699 - mmseg - INFO - Iter [19150/20000]\tlr: 1.525e-04, eta: 0:02:30, time: 0.255, data_time: 0.003, memory: 1552, decode.loss_seg: 0.7093, decode.acc_seg: 51.5445, loss: 0.7093\n",
            "2022-07-20 15:29:52,002 - mmseg - INFO - Saving checkpoint at 19200 iterations\n"
          ]
        },
        {
          "output_type": "stream",
          "name": "stdout",
          "text": [
            "[>>>>>>>>>>>>>>>>>>>>>>>>>>>>>>>>>>>] 3/3, 3.9 task/s, elapsed: 1s, ETA:     0s"
          ]
        },
        {
          "output_type": "stream",
          "name": "stderr",
          "text": [
            "2022-07-20 15:29:56,062 - mmseg - INFO - per class results:\n",
            "Class                  IoU       Dice        Acc\n",
            "background           38.82      55.93     100.00\n",
            "powerline             0.00       0.00       0.00\n",
            "Summary:\n",
            "Scope                 mIoU      mDice       mAcc       Powerline Dice      Background Dice       aAcc        TPR        TNR        FDR  Precision\n",
            "global               19.41      27.96      50.00                 0.00                55.93      38.82       0.00     100.00       0.00       0.00\n",
            "\n",
            "2022-07-20 15:29:56,072 - mmseg - INFO - Iter(val) [19200]\tmIoU: 0.1941, mDice: 0.2796, mAcc: 0.5000, plDice: 0.0000, bgDice: 55.9288, aAcc: 0.3882, TPR: 0.0000, TNR: 1.0000, FDR: 0, Precision: 0\n",
            "2022-07-20 15:30:09,075 - mmseg - INFO - Iter [19250/20000]\tlr: 1.469e-04, eta: 0:02:12, time: 0.313, data_time: 0.056, memory: 1552, decode.loss_seg: 0.7088, decode.acc_seg: 49.9660, loss: 0.7088\n",
            "2022-07-20 15:30:22,004 - mmseg - INFO - Iter [19300/20000]\tlr: 1.441e-04, eta: 0:02:03, time: 0.259, data_time: 0.003, memory: 1552, decode.loss_seg: 0.7080, decode.acc_seg: 52.9582, loss: 0.7080\n",
            "2022-07-20 15:30:34,523 - mmseg - INFO - Iter [19350/20000]\tlr: 1.413e-04, eta: 0:01:55, time: 0.250, data_time: 0.003, memory: 1552, decode.loss_seg: 0.7093, decode.acc_seg: 53.5679, loss: 0.7093\n",
            "2022-07-20 15:30:47,289 - mmseg - INFO - Saving checkpoint at 19400 iterations\n"
          ]
        },
        {
          "output_type": "stream",
          "name": "stdout",
          "text": [
            "[>>>>>>>>>>>>>>>>>>>>>>>>>>>>>>>>>>>] 3/3, 4.0 task/s, elapsed: 1s, ETA:     0s"
          ]
        },
        {
          "output_type": "stream",
          "name": "stderr",
          "text": [
            "2022-07-20 15:30:51,302 - mmseg - INFO - per class results:\n",
            "Class                  IoU       Dice        Acc\n",
            "background           38.82      55.93     100.00\n",
            "powerline             0.00       0.00       0.00\n",
            "Summary:\n",
            "Scope                 mIoU      mDice       mAcc       Powerline Dice      Background Dice       aAcc        TPR        TNR        FDR  Precision\n",
            "global               19.41      27.96      50.00                 0.00                55.93      38.82       0.00     100.00       0.00       0.00\n",
            "\n",
            "2022-07-20 15:30:51,308 - mmseg - INFO - Iter(val) [19400]\tmIoU: 0.1941, mDice: 0.2796, mAcc: 0.5000, plDice: 0.0000, bgDice: 55.9288, aAcc: 0.3882, TPR: 0.0000, TNR: 1.0000, FDR: 0, Precision: 0\n",
            "2022-07-20 15:31:04,240 - mmseg - INFO - Iter [19450/20000]\tlr: 1.355e-04, eta: 0:01:37, time: 0.313, data_time: 0.057, memory: 1552, decode.loss_seg: 0.7089, decode.acc_seg: 51.1803, loss: 0.7089\n",
            "2022-07-20 15:31:16,699 - mmseg - INFO - Iter [19500/20000]\tlr: 1.326e-04, eta: 0:01:28, time: 0.249, data_time: 0.002, memory: 1552, decode.loss_seg: 0.7081, decode.acc_seg: 50.3465, loss: 0.7081\n",
            "2022-07-20 15:31:29,685 - mmseg - INFO - Iter [19550/20000]\tlr: 1.297e-04, eta: 0:01:19, time: 0.260, data_time: 0.003, memory: 1552, decode.loss_seg: 0.7082, decode.acc_seg: 50.6565, loss: 0.7082\n",
            "2022-07-20 15:31:42,727 - mmseg - INFO - Saving checkpoint at 19600 iterations\n"
          ]
        },
        {
          "output_type": "stream",
          "name": "stdout",
          "text": [
            "[>>>>>>>>>>>>>>>>>>>>>>>>>>>>>>>>>>>] 3/3, 3.8 task/s, elapsed: 1s, ETA:     0s"
          ]
        },
        {
          "output_type": "stream",
          "name": "stderr",
          "text": [
            "2022-07-20 15:31:46,791 - mmseg - INFO - per class results:\n",
            "Class                  IoU       Dice        Acc\n",
            "background           38.82      55.93     100.00\n",
            "powerline             0.00       0.00       0.00\n",
            "Summary:\n",
            "Scope                 mIoU      mDice       mAcc       Powerline Dice      Background Dice       aAcc        TPR        TNR        FDR  Precision\n",
            "global               19.41      27.96      50.00                 0.00                55.93      38.82       0.00     100.00       0.00       0.00\n",
            "\n",
            "2022-07-20 15:31:46,797 - mmseg - INFO - Iter(val) [19600]\tmIoU: 0.1941, mDice: 0.2796, mAcc: 0.5000, plDice: 0.0000, bgDice: 55.9288, aAcc: 0.3882, TPR: 0.0000, TNR: 1.0000, FDR: 0, Precision: 0\n",
            "2022-07-20 15:31:59,527 - mmseg - INFO - Iter [19650/20000]\tlr: 1.237e-04, eta: 0:01:02, time: 0.309, data_time: 0.057, memory: 1552, decode.loss_seg: 0.7091, decode.acc_seg: 52.4598, loss: 0.7091\n",
            "2022-07-20 15:32:12,445 - mmseg - INFO - Iter [19700/20000]\tlr: 1.206e-04, eta: 0:00:53, time: 0.258, data_time: 0.003, memory: 1552, decode.loss_seg: 0.7092, decode.acc_seg: 52.9615, loss: 0.7092\n",
            "2022-07-20 15:32:25,408 - mmseg - INFO - Iter [19750/20000]\tlr: 1.175e-04, eta: 0:00:44, time: 0.259, data_time: 0.003, memory: 1552, decode.loss_seg: 0.7087, decode.acc_seg: 51.3566, loss: 0.7087\n",
            "2022-07-20 15:32:37,847 - mmseg - INFO - Saving checkpoint at 19800 iterations\n"
          ]
        },
        {
          "output_type": "stream",
          "name": "stdout",
          "text": [
            "[>>>>>>>>>>>>>>>>>>>>>>>>>>>>>>>>>>>] 3/3, 3.8 task/s, elapsed: 1s, ETA:     0s"
          ]
        },
        {
          "output_type": "stream",
          "name": "stderr",
          "text": [
            "2022-07-20 15:32:41,925 - mmseg - INFO - per class results:\n",
            "Class                  IoU       Dice        Acc\n",
            "background           38.82      55.93     100.00\n",
            "powerline             0.00       0.00       0.00\n",
            "Summary:\n",
            "Scope                 mIoU      mDice       mAcc       Powerline Dice      Background Dice       aAcc        TPR        TNR        FDR  Precision\n",
            "global               19.41      27.96      50.00                 0.00                55.93      38.82       0.00     100.00       0.00       0.00\n",
            "\n",
            "2022-07-20 15:32:41,931 - mmseg - INFO - Iter(val) [19800]\tmIoU: 0.1941, mDice: 0.2796, mAcc: 0.5000, plDice: 0.0000, bgDice: 55.9288, aAcc: 0.3882, TPR: 0.0000, TNR: 1.0000, FDR: 0, Precision: 0\n",
            "2022-07-20 15:32:55,073 - mmseg - INFO - Iter [19850/20000]\tlr: 1.111e-04, eta: 0:00:26, time: 0.318, data_time: 0.058, memory: 1552, decode.loss_seg: 0.7079, decode.acc_seg: 51.1483, loss: 0.7079\n",
            "2022-07-20 15:33:08,040 - mmseg - INFO - Iter [19900/20000]\tlr: 1.077e-04, eta: 0:00:17, time: 0.259, data_time: 0.003, memory: 1552, decode.loss_seg: 0.7097, decode.acc_seg: 52.4520, loss: 0.7097\n",
            "2022-07-20 15:33:20,586 - mmseg - INFO - Iter [19950/20000]\tlr: 1.042e-04, eta: 0:00:08, time: 0.251, data_time: 0.003, memory: 1552, decode.loss_seg: 0.7098, decode.acc_seg: 53.1582, loss: 0.7098\n",
            "2022-07-20 15:33:33,550 - mmseg - INFO - Saving checkpoint at 20000 iterations\n"
          ]
        },
        {
          "output_type": "stream",
          "name": "stdout",
          "text": [
            "[>>>>>>>>>>>>>>>>>>>>>>>>>>>>>>>>>>>] 3/3, 3.9 task/s, elapsed: 1s, ETA:     0s"
          ]
        },
        {
          "output_type": "stream",
          "name": "stderr",
          "text": [
            "2022-07-20 15:33:37,620 - mmseg - INFO - per class results:\n",
            "Class                  IoU       Dice        Acc\n",
            "background           38.82      55.93     100.00\n",
            "powerline             0.00       0.00       0.00\n",
            "Summary:\n",
            "Scope                 mIoU      mDice       mAcc       Powerline Dice      Background Dice       aAcc        TPR        TNR        FDR  Precision\n",
            "global               19.41      27.96      50.00                 0.00                55.93      38.82       0.00     100.00       0.00       0.00\n",
            "\n",
            "2022-07-20 15:33:37,632 - mmseg - INFO - Exp name: fcn_vanilla_unet_s5-d16_256x256_40k_hrf.py\n",
            "2022-07-20 15:33:37,636 - mmseg - INFO - Iter(val) [20000]\tmIoU: 0.1941, mDice: 0.2796, mAcc: 0.5000, plDice: 0.0000, bgDice: 55.9288, aAcc: 0.3882, TPR: 0.0000, TNR: 1.0000, FDR: 0, Precision: 0\n"
          ]
        }
      ]
    },
    {
      "cell_type": "markdown",
      "source": [
        "#Inference with Trained Model"
      ],
      "metadata": {
        "id": "dQvA7EJWotN6"
      }
    },
    {
      "cell_type": "code",
      "source": [
        "#create direcrtory for storing results\n",
        "!mkdir /content/focal_phi_loss_mmsegmentation/data/work_dirs/results\n",
        "!mkdir /content/focal_phi_loss_mmsegmentation/data/work_dirs/results/masks\n",
        "!mkdir /content/focal_phi_loss_mmsegmentation/data/work_dirs/results/overlays"
      ],
      "metadata": {
        "id": "bjCH1IUXzIY0"
      },
      "execution_count": 12,
      "outputs": []
    },
    {
      "cell_type": "code",
      "source": [
        "from mmseg.apis import inference_segmentor, init_segmentor, show_result_pyplot\n",
        "import mmcv\n",
        "import matplotlib.pyplot as plt\n",
        "from google.colab.patches import cv2_imshow\n",
        "import numpy as np\n",
        "import os\n",
        "import glob\n",
        "import zipfile\n",
        "\n",
        "PATH_TO_TEST_IMAGES_DIR= data_root+dataset+\"/img_dir/val\"\n",
        "PATH_TO_LABEL_IMAGES_DIR= data_root+dataset+\"/ann_dir/val\"\n",
        "TEST_IMAGE_PATHS = glob.glob(os.path.join(PATH_TO_TEST_IMAGES_DIR, \"*.jpg\"))\n",
        "LABEL_PATHS= glob.glob(os.path.join(PATH_TO_LABEL_IMAGES_DIR, \"*.png\"))\n",
        "\n",
        "TEST_IMAGE_PATHS.sort()\n",
        "LABEL_PATHS.sort()\n",
        "\n",
        "checkpoint= root_dir+'/work_dirs/tutorial/iter_19200.pth' #checkpoint path\n",
        "model = init_segmentor(cfg, checkpoint, device='cuda:0')\n",
        "palette = [[120, 120, 120], [6, 230, 230]] #dataset palette\n",
        "print(len(TEST_IMAGE_PATHS))\n",
        "\n",
        "for i in range(0, len(TEST_IMAGE_PATHS)):\n",
        "  img = mmcv.imread(TEST_IMAGE_PATHS[i])\n",
        "  label = mmcv.imread(LABEL_PATHS[i])\n",
        "  result = inference_segmentor(model, img)\n",
        "  img_name= LABEL_PATHS[i].split(\"/\")[7] #FOR MASK\n",
        "  # img_name= TEST_IMAGE_PATHS[i].split(\"/\")[7] #for overlay\n",
        "\n",
        "  #prediction mask\n",
        "  arr= np.array(result)\n",
        "  arr=np.squeeze(arr)\n",
        "\n",
        "  #overlay image\n",
        "  # overlay = model.show_result(img, result, palette=palette, show=False)\n",
        "\n",
        "  # plt.subplot(1, 7 , 1)\n",
        "  # plt.imshow(img)\n",
        "  # plt.title(\"Input image\")\n",
        "\n",
        "  # plt.subplot(1, 7,  3)\n",
        "  # plt.imshow(label)\n",
        "  # plt.title(\"Ground Truth\")\n",
        "\n",
        "  # plt.subplot(1, 7,  5)\n",
        "  plt.imshow(arr)\n",
        "  plt.title(\"Prediction\")\n",
        "\n",
        "  # plt.subplot(1, 7,  7)\n",
        "  # plt.imshow(mmcv.bgr2rgb(overlay))\n",
        "  # plt.title(\"Overlay\")\n",
        "\n",
        "  # show_result_pyplot(model, img, result,palette)\n",
        "\n",
        "  image_file_name= root_dir+\"/work_dirs/results/masks/\"+img_name\n",
        "  plt.savefig(image_file_name)\n",
        "  print(\"saving \"+img_name)\n",
        "  i= i+1\n",
        "\n",
        "# plt.figure(figsize=(8, 6))\n",
        "# show_result_pyplot(model, img, result,palette)"
      ],
      "metadata": {
        "colab": {
          "base_uri": "https://localhost:8080/",
          "height": 350
        },
        "id": "1uWuUs-to_eK",
        "outputId": "edd6dfed-190d-454a-8311-846ff2386fd7"
      },
      "execution_count": 13,
      "outputs": [
        {
          "output_type": "stream",
          "name": "stdout",
          "text": [
            "3\n",
            "saving val\n",
            "saving val\n",
            "saving val\n"
          ]
        },
        {
          "output_type": "display_data",
          "data": {
            "text/plain": [
              "<Figure size 432x288 with 1 Axes>"
            ],
            "image/png": "[encoded data removed]"
          },
          "metadata": {
            "needs_background": "light"
          }
        }
      ]
    },
    {
      "cell_type": "code",
      "source": [
        ""
      ],
      "metadata": {
        "id": "sODJn-1tqZvH"
      },
      "execution_count": null,
      "outputs": []
    }
  ]
}